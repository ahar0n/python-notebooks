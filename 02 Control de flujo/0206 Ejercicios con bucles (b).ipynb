{
 "cells": [
  {
   "cell_type": "markdown",
   "source": [
    "# Ejercicios: diseño de algoritmos con bucles"
   ],
   "metadata": {}
  },
  {
   "metadata": {},
   "cell_type": "markdown",
   "source": [
    "E1. Diseñe un programa que calcule la suma de números ingresados por el usuario. Cada vez que el programa solicite un nuevo valor debe mostrar la suma acumulada. Por ejemplo,\n",
    "\n",
    "```\n",
    "n: 1\n",
    "n: 2\n",
    "suma = 3\n",
    "n: 54\n",
    "suma = 58\n",
    "n: 0\n",
    "suma: 58\n",
    "```\n"
   ]
  },
  {
   "cell_type": "markdown",
   "source": [
    "E2. Diseñe una versión alternativa del programa anterior utilizando la instrucción `break`. Además, considerando que el usuario podría ingresar números reales, agregue las validaciones necesarias para que el programa calculé la sumatoria solo de los valores enteros. Por ejemplo,\n",
    "\n",
    "```\n",
    "n: 1\n",
    "n: 2\n",
    "suma = 3\n",
    "n: 23.2\n",
    "n: 5\n",
    "suma = 8\n",
    "n: 14\n",
    "suma: 22\n",
    "```\n",
    "\n"
   ],
   "metadata": {}
  },
  {
   "cell_type": "markdown",
   "source": [
    "E3. Los primos gemelos son una pareja de números primos cuya diferencia entre el mayor y el menor es igual a 2. Por ejemplo, 5 y 7 son primos gemelos. Diseñar un programa que muestre todos los números primos gemelos que existen entre dos números naturales positivos ingresados.\n",
    "\n",
    "<pre>\n",
    "<code><strong>Número menor: </strong> 1\n",
    "<strong>Número mayor: </strong> 50\n",
    "(3,5)\n",
    "(5,7)\n",
    "(11,13)\n",
    "(17,19)\n",
    "(29,31)\n",
    "(41,43)\n",
    "</code></pre>\n"
   ],
   "metadata": {}
  },
  {
   "metadata": {},
   "cell_type": "markdown",
   "source": [
    "E4. El procedimiento para encontrar la representación binaria de un número entero positivo (decimal), se describe a continuación:\n",
    "* Divida el número decimal por 2 y registre el resto.\n",
    "* Si el cociente de la división no es cero (0), vuelva al paso anterior. De lo contrario, la reresentación binaria del número decimal estará conformada por todos los restos de las divisiones sucesivas, escritos orden inverso al que fueron registrados.\n",
    "\n",
    "Por ejemplo, a continuación se muestra el proceso aplicado para obtener la representación binaria del número 130:\n",
    "\n",
    "\\begin{arrange}\n",
    "    130 &\\div 2 = 65 &\\longrightarrow r = 0\\\\\n",
    "    65 &\\div 2 = 32 &\\longrightarrow r = 1\\\\\n",
    "    32 &\\div 2 = 16 &\\longrightarrow r = 0\\\\\n",
    "    16 &\\div 2 = 8 &\\longrightarrow r = 0\\\\\n",
    "    8 &\\div 2 = 4 &\\longrightarrow r = 0\\\\\n",
    "    4 &\\div 2 = 2 &\\longrightarrow r = 0\\\\\n",
    "    2 &\\div 2 = 1 &\\longrightarrow r = 0\\\\\n",
    "    1 &\\div 2 = 0 &\\longrightarrow r = 1\\\\\n",
    "\\end{arrange}\n",
    "\n",
    "En consecuencia, la representación binaria de 130 es `10000010`.\n",
    "\n",
    "Diseñe un programa muestre la representación binaria de un número entero positivo, ingresado por el usuario.\n"
   ]
  }
 ],
 "metadata": {
  "kernelspec": {
   "display_name": "Python 3",
   "language": "python",
   "name": "python3"
  },
  "language_info": {
   "codemirror_mode": {
    "name": "ipython",
    "version": 3
   },
   "file_extension": ".py",
   "mimetype": "text/x-python",
   "name": "python",
   "nbconvert_exporter": "python",
   "pygments_lexer": "ipython3",
   "version": "3.7.6-final"
  }
 },
 "nbformat": 4,
 "nbformat_minor": 2
}
