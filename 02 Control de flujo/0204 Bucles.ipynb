{
 "cells": [
  {
   "attachments": {},
   "cell_type": "markdown",
   "metadata": {},
   "source": [
    "# Bucles"
   ]
  },
  {
   "attachments": {},
   "cell_type": "markdown",
   "metadata": {},
   "source": [
    "Un bucle es una __secuencia de sentencias que se especifican una vez pero que puede ejecutarse repetidas veces__. \n",
    "\n",
    "El código del cuerpo del bucle se ejecuta...\n",
    "- un número específico de veces\n",
    "- una vez para cada uno de una colección de elementos\n",
    "- hasta que se cumpla alguna condición\n",
    "- indefinidamente\n",
    "\n",
    "En Python, se pueden implementar los bucles: <code>while</code> y <code>for</code>."
   ]
  },
  {
   "attachments": {},
   "cell_type": "markdown",
   "metadata": {},
   "source": [
    "## Bucle `while`"
   ]
  },
  {
   "attachments": {},
   "cell_type": "markdown",
   "metadata": {},
   "source": [
    "Ejecuta una secuencia de acciones __mientras la evaluación de una condición sea verdadera__. \n",
    "- __La condición es evaluada antes de cada vez__ que se ejecuta el cuerpo del ciclo o iteración."
   ]
  },
  {
   "metadata": {
    "ExecuteTime": {
     "end_time": "2024-06-17T05:49:45.199116Z",
     "start_time": "2024-06-17T05:49:45.192228Z"
    }
   },
   "cell_type": "code",
   "source": [
    "from IPython.display import Image\n",
    "Image(url=\"./img/while.svg\", height=250)"
   ],
   "outputs": [
    {
     "data": {
      "text/html": [
       "<img src=\"./img/while.svg\" height=\"250\"/>"
      ],
      "text/plain": [
       "<IPython.core.display.Image object>"
      ]
     },
     "execution_count": 1,
     "metadata": {},
     "output_type": "execute_result"
    }
   ],
   "execution_count": 1
  },
  {
   "attachments": {},
   "cell_type": "markdown",
   "metadata": {},
   "source": [
    "En el siguiente ejemplo, el programa muestra todos los numeros enteros menores que 10."
   ]
  },
  {
   "cell_type": "code",
   "metadata": {
    "scrolled": true,
    "ExecuteTime": {
     "end_time": "2024-06-17T05:49:45.202523Z",
     "start_time": "2024-06-17T05:49:45.200327Z"
    }
   },
   "source": [
    "n = 1 \n",
    "while n < 10:\n",
    "    print(n)\n",
    "    n += 1"
   ],
   "outputs": [
    {
     "name": "stdout",
     "output_type": "stream",
     "text": [
      "1\n",
      "2\n",
      "3\n",
      "4\n",
      "5\n",
      "6\n",
      "7\n",
      "8\n",
      "9\n"
     ]
    }
   ],
   "execution_count": 2
  },
  {
   "attachments": {},
   "cell_type": "markdown",
   "metadata": {},
   "source": [
    "## Bucle `for`"
   ]
  },
  {
   "attachments": {},
   "cell_type": "markdown",
   "metadata": {},
   "source": [
    "Sentencia de control de flujo que __permite especificar la cantidad de veces que se realiza una iteración__.\n",
    "\n",
    "- Repite una porción código para todo elemento de una serie de valores, por ejemplo, <code>0, 1, 2,..., n</code>.\n",
    "- Cada valor de la serie es asignado a la __variable de control__, para cada una de las iteraciones, por medio del operador `in`.\n",
    "\n",
    "__NOTA:__ El operador `in` comprueba si un valor o variable pertenece a una secuencia."
   ]
  },
  {
   "metadata": {
    "ExecuteTime": {
     "end_time": "2024-06-17T05:49:45.205603Z",
     "start_time": "2024-06-17T05:49:45.203261Z"
    }
   },
   "cell_type": "code",
   "source": [
    "from IPython.display import Image\n",
    "Image(url=\"./img/for.svg\", height=400)"
   ],
   "outputs": [
    {
     "data": {
      "text/html": [
       "<img src=\"./img/for.svg\" height=\"400\"/>"
      ],
      "text/plain": [
       "<IPython.core.display.Image object>"
      ]
     },
     "execution_count": 3,
     "metadata": {},
     "output_type": "execute_result"
    }
   ],
   "execution_count": 3
  },
  {
   "metadata": {},
   "cell_type": "markdown",
   "source": "A continuación se utiliza un bucle `for` para mostrar la secuencia de números enteros que existen entre 0 y 10. "
  },
  {
   "cell_type": "code",
   "metadata": {
    "scrolled": true,
    "ExecuteTime": {
     "end_time": "2024-06-17T05:49:45.209072Z",
     "start_time": "2024-06-17T05:49:45.207171Z"
    }
   },
   "source": [
    "for i in range(1,10):\n",
    "    print(i) "
   ],
   "outputs": [
    {
     "name": "stdout",
     "output_type": "stream",
     "text": [
      "1\n",
      "2\n",
      "3\n",
      "4\n",
      "5\n",
      "6\n",
      "7\n",
      "8\n",
      "9\n"
     ]
    }
   ],
   "execution_count": 4
  },
  {
   "attachments": {},
   "cell_type": "markdown",
   "metadata": {},
   "source": [
    "### Tipo ```range```\n",
    "\n",
    "El objeto ```range``` ([...](https://docs.python.org/3/library/stdtypes.html#range)), al igual que las tuplas, es un tipo de dato que representa una __secuencia inmutable de números__, usada comúnmente para definir bucles ```for```.\n",
    "\n",
    "La función ```range(start, stop, step)``` recibe como argumento el valor inicial <code>start</code>, el valor final <code>stop</code> y el incremento <code>step</code>, de la serie respectivamente."
   ]
  },
  {
   "cell_type": "code",
   "metadata": {
    "scrolled": true,
    "ExecuteTime": {
     "end_time": "2024-06-17T05:49:45.212026Z",
     "start_time": "2024-06-17T05:49:45.209735Z"
    }
   },
   "source": [
    "range(1,10,2)"
   ],
   "outputs": [
    {
     "data": {
      "text/plain": [
       "range(1, 10, 2)"
      ]
     },
     "execution_count": 5,
     "metadata": {},
     "output_type": "execute_result"
    }
   ],
   "execution_count": 5
  },
  {
   "attachments": {},
   "cell_type": "markdown",
   "metadata": {},
   "source": [
    "El contenido del objeto ```range``` es determinado por ```r[i] = start + step*i```, con la condición ```i >= 0``` y\n",
    "\n",
    "- ```r[i] < stop``` para incrementos positivos, y\n",
    "- ```r[i] > stop``` para incrementos negativos.\n",
    "\n",
    "Los valores por defecto son ```start = 0``` y ```step = 1```. Por lo tanto, también puede definirse de la forma ```range(stop)```:"
   ]
  },
  {
   "cell_type": "code",
   "metadata": {
    "ExecuteTime": {
     "end_time": "2024-06-17T05:49:45.214804Z",
     "start_time": "2024-06-17T05:49:45.212572Z"
    }
   },
   "source": [
    "range(10)"
   ],
   "outputs": [
    {
     "data": {
      "text/plain": [
       "range(0, 10)"
      ]
     },
     "execution_count": 6,
     "metadata": {},
     "output_type": "execute_result"
    }
   ],
   "execution_count": 6
  },
  {
   "attachments": {},
   "cell_type": "markdown",
   "metadata": {},
   "source": [
    "En consecuencia, la definición de la sentencia de control ```for```, para la ejecución de 5 pasos, se puede definir como:"
   ]
  },
  {
   "cell_type": "code",
   "metadata": {
    "ExecuteTime": {
     "end_time": "2024-06-17T05:49:45.217056Z",
     "start_time": "2024-06-17T05:49:45.215441Z"
    }
   },
   "source": [
    "for i in range(5):\n",
    "    print(i)"
   ],
   "outputs": [
    {
     "name": "stdout",
     "output_type": "stream",
     "text": [
      "0\n",
      "1\n",
      "2\n",
      "3\n",
      "4\n"
     ]
    }
   ],
   "execution_count": 7
  },
  {
   "attachments": {},
   "cell_type": "markdown",
   "metadata": {},
   "source": "o, para definir una cuenta regresiva desde el 10 al 0,"
  },
  {
   "cell_type": "code",
   "metadata": {
    "ExecuteTime": {
     "end_time": "2024-06-17T05:49:45.219657Z",
     "start_time": "2024-06-17T05:49:45.217740Z"
    }
   },
   "source": [
    "for i in range(10,0,-1):\n",
    "    print(i)"
   ],
   "outputs": [
    {
     "name": "stdout",
     "output_type": "stream",
     "text": [
      "10\n",
      "9\n",
      "8\n",
      "7\n",
      "6\n",
      "5\n",
      "4\n",
      "3\n",
      "2\n",
      "1\n"
     ]
    }
   ],
   "execution_count": 8
  }
 ],
 "metadata": {
  "kernelspec": {
   "display_name": "Python 3.7.11 ('eda37')",
   "language": "python",
   "name": "python3"
  },
  "language_info": {
   "codemirror_mode": {
    "name": "ipython",
    "version": 3
   },
   "file_extension": ".py",
   "mimetype": "text/x-python",
   "name": "python",
   "nbconvert_exporter": "python",
   "pygments_lexer": "ipython3",
   "version": "3.10.10"
  },
  "vscode": {
   "interpreter": {
    "hash": "03da1727eb179e6d4206a53fc7edf92cda963bd1ce89117d747d91e0da58e345"
   }
  }
 },
 "nbformat": 4,
 "nbformat_minor": 2
}
