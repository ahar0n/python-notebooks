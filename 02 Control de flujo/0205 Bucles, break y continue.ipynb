{
 "cells": [
  {
   "cell_type": "markdown",
   "metadata": {},
   "source": [
    "# Bucles, break y continue"
   ]
  },
  {
   "cell_type": "markdown",
   "metadata": {},
   "source": [
    "Un bucle es una __secuencia de sentencias que se especifican una vez pero que puede ejecutarse repetidas veces__. \n",
    "\n",
    "El código del cuerpo del bucle se ejecuta...\n",
    "- un número específico de veces\n",
    "- una vez para cada uno de una colección de elementos\n",
    "- hasta que se cumpla alguna condición\n",
    "- indefinidamente\n",
    "\n",
    "En Python, se pueden implementar los bucles: <code>while</code> y <code>for</code>."
   ]
  },
  {
   "cell_type": "markdown",
   "metadata": {},
   "source": [
    "## Bucle `while`\n",
    "\n",
    "Ejecuta una secuencia de acciones __mientras la evaluación de una condición sea verdadera__. \n",
    "- __La condición es evaluada antes de cada vez__ que se ejecuta el cuerpo del ciclo o iteración."
   ]
  },
  {
   "cell_type": "markdown",
   "metadata": {},
   "source": [
    "![Diagrama bucle while](img/while.svg)"
   ]
  },
  {
   "cell_type": "markdown",
   "metadata": {},
   "source": [
    "En el siguiente ejemplo, el programa muestra todos los numeros enteros menores que 10."
   ]
  },
  {
   "cell_type": "code",
   "execution_count": null,
   "metadata": {},
   "outputs": [],
   "source": [
    "n = 0\n",
    "while n < 10:\n",
    "    print(n)\n",
    "    n += 1"
   ]
  },
  {
   "cell_type": "code",
   "execution_count": null,
   "metadata": {},
   "outputs": [],
   "source": [
    "# Diseñar un algoritmo que muestre los elementos de una secuencia\n",
    "secuencia = 'Hola'\n",
    "contador = 0\n",
    "while contador < len(secuencia):\n",
    "    print(secuencia[contador])\n",
    "    contador += 1"
   ]
  },
  {
   "cell_type": "code",
   "execution_count": null,
   "metadata": {},
   "outputs": [],
   "source": [
    "# Diseñar un algoritmo que muestre los indices de una secuencia\n"
   ]
  },
  {
   "cell_type": "markdown",
   "metadata": {},
   "source": [
    "## Bucle `for`\n",
    "\n",
    "Sentencia de control de flujo que __permite especificar la cantidad de veces que se realiza una iteración__.\n",
    "\n",
    "- Repite una porción código para todo elemento de una serie de valores, por ejemplo, <code>0, 1, 2,..., n</code>.\n",
    "- Cada valor de la serie es asignado a la __variable de control__, para cada una de las iteraciones, por medio del operador `in`.\n",
    "\n",
    "__NOTA:__ El operador `in` permite comprobar si un valor o variable se pertenece en una secuencia (e.g. tuplas, listas, cadenas)."
   ]
  },
  {
   "cell_type": "markdown",
   "metadata": {},
   "source": [
    "![Diagrama bucle for](img/for.svg)"
   ]
  },
  {
   "cell_type": "markdown",
   "metadata": {},
   "source": [
    "El siguiente ejemplo muestra los elementos de una lista."
   ]
  },
  {
   "cell_type": "code",
   "execution_count": null,
   "metadata": {},
   "outputs": [],
   "source": [
    "milista = [1, 2, 3, 4]\n",
    "for elemento in milista:\n",
    "    print(elemento)"
   ]
  },
  {
   "cell_type": "markdown",
   "metadata": {},
   "source": [
    "__EJERCICIO.__ Diseñe un programa que muestre los índices de los elementos de una secuencia. "
   ]
  },
  {
   "cell_type": "code",
   "execution_count": null,
   "metadata": {},
   "outputs": [],
   "source": [
    "# Solución.\n",
    "misecuencia = 'Hola'\n",
    "i = 0\n",
    "for elemento in misecuencia:\n",
    "    print(i)\n",
    "    i += 1"
   ]
  },
  {
   "cell_type": "code",
   "execution_count": null,
   "metadata": {},
   "outputs": [],
   "source": [
    "for i in range(len(misecuencia)):\n",
    "    print(i)"
   ]
  },
  {
   "cell_type": "markdown",
   "metadata": {},
   "source": [
    "### Tipo ```range```\n",
    "\n",
    "El objeto ```range``` ([...](https://docs.python.org/3/library/stdtypes.html#range)), al igual que las tuplas, es un tipo de dato que representa una __secuencia inmutable de números__, usada comúnmente para definir bucles ```for```.\n",
    "\n",
    "La función ```range(start, stop, step)``` recibe como argumento el valor inicial <code>start</code>, el valor final <code>stop</code> y el incremento <code>step</code>, de la serie respectivamente."
   ]
  },
  {
   "cell_type": "code",
   "execution_count": null,
   "metadata": {},
   "outputs": [],
   "source": [
    "range(1,10,2)"
   ]
  },
  {
   "cell_type": "markdown",
   "metadata": {},
   "source": [
    "El contenido del objeto ```range``` es determinado por ```r[i] = start + step*i```, con la condición ```i >= 0``` y\n",
    "\n",
    "- ```r[i] < stop``` para incrementos positivos, y\n",
    "- ```r[i] > stop``` para incrementos negativos.\n",
    "\n",
    "Los valores por defecto son ```start = 0``` y ```step = 1```. Por lo tanto, también puede definirse de la forma ```range(stop)```:"
   ]
  },
  {
   "cell_type": "code",
   "execution_count": null,
   "metadata": {},
   "outputs": [],
   "source": [
    "range(10)"
   ]
  },
  {
   "cell_type": "markdown",
   "metadata": {},
   "source": [
    "La función ```list()``` permite representar el objeto ```range``` como una lista:"
   ]
  },
  {
   "cell_type": "code",
   "execution_count": null,
   "metadata": {},
   "outputs": [],
   "source": [
    "list(range(10))"
   ]
  },
  {
   "cell_type": "markdown",
   "metadata": {},
   "source": [
    "En consecuencia, la definición de la sentencia de control ```for```, para la ejecución de 5 pasos, se puede definir como:"
   ]
  },
  {
   "cell_type": "code",
   "execution_count": null,
   "metadata": {},
   "outputs": [],
   "source": [
    "for i in range(5):\n",
    "    print(i)"
   ]
  },
  {
   "cell_type": "markdown",
   "metadata": {},
   "source": [
    "y para definir una cuenta regresiva hasta 1 desde 10,"
   ]
  },
  {
   "cell_type": "code",
   "execution_count": null,
   "metadata": {},
   "outputs": [],
   "source": [
    "for i in range(10,0,-1):\n",
    "    print(i)"
   ]
  },
  {
   "cell_type": "markdown",
   "metadata": {},
   "source": [
    "## Finalizar bucle ```break```\n",
    "\n",
    "La sentencia `break` termina el bucle que lo contiene.\n",
    "\n",
    "- El flujo de ejecución del programa continúa en la sentencia inmediatamente después del cuerpo del bucle. \n",
    "- Lo lógico es que sea usada dentro de un condicional `if`, esto, para evitar que el ciclo termine prematuramente en la primera iteración."
   ]
  },
  {
   "cell_type": "markdown",
   "metadata": {},
   "source": [
    "![Diagrama break](img/break.svg)"
   ]
  },
  {
   "cell_type": "markdown",
   "metadata": {},
   "source": [
    "En el siguiente ejemplo, el algoritmo imprime la suma de los números ingresados, mientras sean pares:"
   ]
  },
  {
   "cell_type": "code",
   "execution_count": null,
   "metadata": {},
   "outputs": [],
   "source": [
    "suma = 0\n",
    "while True:\n",
    "    n = int(input('numero: '))\n",
    "    if n % 2:\n",
    "        break\n",
    "    suma += n\n",
    "    print('Valor acumulado = ', suma)"
   ]
  },
  {
   "cell_type": "markdown",
   "metadata": {},
   "source": [
    "## Continuar la siguiente iteración `continue`\n",
    "\n",
    "La sentencia `continue` es usada para __omitir el resto del código dentro de un iterador__. \n",
    "- El iterador no termina pero continúa con la siguiente iteración."
   ]
  },
  {
   "cell_type": "markdown",
   "metadata": {},
   "source": [
    "![Diagrama continue](img/continue.svg)"
   ]
  },
  {
   "cell_type": "markdown",
   "metadata": {},
   "source": [
    "El siguiente código imprime los números multiplo de 3 menores que 30, partiendo desde un número ingresado por el usuario:"
   ]
  },
  {
   "cell_type": "code",
   "execution_count": null,
   "metadata": {
    "scrolled": true
   },
   "outputs": [],
   "source": [
    "n = int(input('Numero: '))\n",
    "for i in range(n+1, 30):\n",
    "    if i % 3 != 0:\n",
    "        continue\n",
    "    print(i)"
   ]
  },
  {
   "cell_type": "markdown",
   "metadata": {},
   "source": [
    "## Actividades\n",
    "\n",
    "1. Escriba un algoritmo que muestre todos los números enteros múltiplos de 2 que existen entre dos números ingresados por el usuario.\n",
    "2. Modifique el algoritmo anterior de forma tal que no exitan restricciones con el orden de los datos de entrada."
   ]
  },
  {
   "cell_type": "code",
   "execution_count": null,
   "outputs": [],
   "source": [
    "# Sol. 1\n",
    "mayor = int(input('Ingrese el numero mayor: '))\n",
    "menor = int(input('Ingrese el numero menor: '))\n",
    "\n",
    "siguiente = menor + 1\n",
    "while siguiente < mayor:\n",
    "    resto = siguiente % 2\n",
    "    if resto == 0:\n",
    "        print(siguiente)\n",
    "    siguiente += 1"
   ],
   "metadata": {
    "collapsed": false
   }
  },
  {
   "cell_type": "code",
   "execution_count": null,
   "outputs": [],
   "source": [
    "# Sol. 2\n",
    "\n",
    "if menor > mayor:\n",
    "    aux = mayor\n",
    "    menor = mayor\n",
    "    mayor = aux"
   ],
   "metadata": {
    "collapsed": false
   }
  },
  {
   "cell_type": "code",
   "execution_count": null,
   "outputs": [],
   "source": [],
   "metadata": {
    "collapsed": false
   }
  }
 ],
 "metadata": {
  "interpreter": {
   "hash": "682885c2bb1436e84d3ea108a79f98b0de56a9363b340e0d2aef3ca8d1559c07"
  },
  "kernelspec": {
   "display_name": "Python 3 (ipykernel)",
   "language": "python",
   "name": "python3"
  },
  "language_info": {
   "codemirror_mode": {
    "name": "ipython",
    "version": 3
   },
   "file_extension": ".py",
   "mimetype": "text/x-python",
   "name": "python",
   "nbconvert_exporter": "python",
   "pygments_lexer": "ipython3",
   "version": "3.10.10"
  }
 },
 "nbformat": 4,
 "nbformat_minor": 2
}
