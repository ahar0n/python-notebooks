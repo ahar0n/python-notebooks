{
 "cells": [
  {
   "cell_type": "markdown",
   "source": [
    "# Ejercicios: diseño de algoritmos con condicionales"
   ],
   "metadata": {}
  },
  {
   "cell_type": "markdown",
   "source": [
    "E1. Diseñar un programa que, a partir de tres números ingresados por el usuario, muestre los tres números ordenados de menor a mayor. Por ejemplo,\n",
    "\n",
    "```\n",
    "a: 4\n",
    "b: 8\n",
    "c: 2\n",
    "Numeros ordenados 2 - 4 - 8 \n",
    "```  "
   ],
   "metadata": {}
  },
  {
   "cell_type": "markdown",
   "source": [
    "E2. Diseñe dos versiones de algoritmos alternativos para deducir cuál es el número central. Considere diseñar un algoritmo utilizando comparaciones dobles (utilizando operadores lógico) y el otro, utilizando comparaciones simples. Independiente de la versión, el programa debe presentar el siguiente comportamiento,\n",
    "\n",
    "```\n",
    "numero 1: 2\n",
    "numero 2: 1\n",
    "numero 3: 4\n",
    "El numero central es 2\n",
    "```"
   ],
   "metadata": {}
  },
  {
   "cell_type": "markdown",
   "source": [
    "E3. Diseñar un programa que muestre el nombre y la cantidad de días que contiene un mes del año, a partir del número de mes ingresada por el usuario. Por ejemplo,\n",
    "\n",
    "```\n",
    "Ingrese el mes: 7\n",
    "Julio tiene 31 días\n",
    "```"
   ],
   "metadata": {}
  },
  {
   "cell_type": "markdown",
   "source": [
    "E4. De acuerdo con el calendario gregoriano, un año bisiesto corresponde al año en el que se le agrega un día al final del mes de febrero. Este día, se añade para corregir la diferencia entre un año trópico (365,242198 días) y un año calendario (365 días). Esta diferencia es aproximadamente 1/4 día.\n",
    "\t\n",
    "El calendario juliano consideraba bisiesto los años divisibles entre cuatro. Sin embargo, bajo esta regla queda un desfase de aproximadamente 3/400 de día. Para corregir esta diferencia, el calendario gregoriano introduce que el último año de cada siglo deja de ser bisiesto, a no ser que fuera divisible por 400.\n",
    "\n",
    "Escriba un programa que, a partir del año ingresado, indique si es bisiesto o no. Considere además, que el usuario puede ingresar año enteros o años decimales, sin embagro, el programa debe operar con años enteros, mientras que si se ingresan años decimales, el programa debe mostrar un mensaje indicando esta situación. Por ejemplo,\n",
    "\n",
    "```\n",
    "Ingrese año: 2016\n",
    "Es bisiesto\n",
    "```\n",
    "\n",
    "```\n",
    "Ingrese año: 2018\n",
    "Es normal\n",
    "```\n",
    "\n",
    "```\n",
    "Año: 2000.23\n",
    "Debe ingresar un número entero\n",
    "```"
   ],
   "metadata": {}
  },
  {
   "cell_type": "markdown",
   "source": [
    "E5. Diseñar un programa que determine, a partir de los lados de un triángulo, si este es un triángulo equilatero, isosceles, o escaleno. Por otra parte, si los lados ingresados no correspone a un triángulo, el programa deberá mostrar el mensaje _trinángulo no válido_.\n",
    "\n",
    "Como ayuda para la resolución del problema, considere que, la desigualdad de Minkowski es un teorema de geometría euclidiana que establece que en todo triángulo la suma de las longitudes de dos lados cualquiera es siempre mayor a la longitud del lado restante.   \n",
    "\n",
    "\n",
    "Por ejemplo,\n",
    "\n",
    "```\n",
    "lado a: 4\n",
    "lado b: 4\n",
    "lado c: 2\n",
    "El triangulo es isosceles\n",
    "```\n",
    "```\n",
    "lado a: 1\n",
    "lado b: 2\n",
    "lado c: 8\n",
    "Los lados no pertenecen a un triángulo\n",
    "```"
   ],
   "metadata": {}
  },
  {
   "cell_type": "markdown",
   "source": [
    "E6. Un jugador de tenis obtiene el set si gana 6 juegos, pero además debe haber ganado por lo menos dos juegos más que su rival. Si el set está empatado a 5 juegos, el ganador es el primero que llegue a 7. Si el set está empatado a 6 juegos, el set se define en un _Tie break_, en cuyo caso el resultado final es 7-6.\n",
    "\t\n",
    "Desarrollar un programa que, a partir de los juegos ganados por los jugadores A y B, muestre:\n",
    "\n",
    "- el jugador que ganó el set\n",
    "- si el set esta aún juego\n",
    "- si el set se va _Tie break_\n",
    "- si el marcador es inválido\n",
    "\n",
    "Por ejemplo, \n",
    "\n",
    "```\n",
    "Jugador A: 4\n",
    "Jugador B: 6\n",
    "Jugador B gana el set\n",
    "```\n",
    "\n",
    "```\n",
    "Jugador A: 4\n",
    "Jugador B: 3\n",
    "El set está en juego\n",
    "```\n",
    "\n",
    "```\n",
    "Jugador A: 9\n",
    "Jugador B: 1\n",
    "Marcador inválido\n",
    "```"
   ],
   "metadata": {}
  }
 ],
 "metadata": {
  "kernelspec": {
   "display_name": "Python 3",
   "language": "python",
   "name": "python3"
  },
  "language_info": {
   "codemirror_mode": {
    "name": "ipython",
    "version": 3
   },
   "file_extension": ".py",
   "mimetype": "text/x-python",
   "name": "python",
   "nbconvert_exporter": "python",
   "pygments_lexer": "ipython3",
   "version": "3.7.6-final"
  }
 },
 "nbformat": 4,
 "nbformat_minor": 2
}