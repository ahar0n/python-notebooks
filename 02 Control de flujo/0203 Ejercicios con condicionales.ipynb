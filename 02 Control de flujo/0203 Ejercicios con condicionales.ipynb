{
 "cells": [
  {
   "attachments": {},
   "cell_type": "markdown",
   "metadata": {},
   "source": "# Ejercicios. Diseño de algoritmos con condicionales"
  },
  {
   "attachments": {},
   "cell_type": "markdown",
   "metadata": {},
   "source": [
    "(*) _Ejercicios opcionales_"
   ]
  },
  {
   "metadata": {},
   "cell_type": "markdown",
   "source": [
    "E1. Para una ecuación cuadrática,\n",
    "\n",
    "$$ ax^2 + bx + c = 0,\\quad a<> 0, $$\n",
    "\n",
    "con coeficientes reales o complejos existen siempre dos soluciones, no necesariamente distintas, llamadas raíces, que pueden ser reales o complejas. Si los coeficientes son reales y existen dos soluciones no reales, entonces deben ser complejas conjugadas. La formula general:\n",
    "\n",
    "$$ x = \\frac{-b \\pm \\sqrt{b^2 - 4ac}}{2a} $$\n",
    "\n",
    "\n",
    "Considerando coeficientes reales, la ecuación tiene dos soluciones reales distintas o una sola solución real de multiplicidad 2, o bien dos raíces complejas. El discriminante $\\Delta = b^2 - 4ac$, permite determinar la cantidad de raíces de acuerdo a los siguientes criterios.\n",
    "\n",
    "- Si $\\Delta > 0$, hay dos soluciones reales:\n",
    "\n",
    "$$ x_1 = \\frac{-b + \\sqrt{\\Delta}}{2a}; \\quad x_2 = \\frac{-b - \\sqrt{\\Delta}}{2a} $$\n",
    "\n",
    "- Si $\\Delta = 0$, hay una solución real:</li>\n",
    "\n",
    "$$ x_1 = x_2 = \\frac{-b}{2a} $$\n",
    "\n",
    "- Si $\\Delta < 0$, hay dos soluciones complejas.\n",
    "\n",
    "Diseñar un programa que resuelva ecuaciones cuadráticas en el dominio de los reales. Considere que los datos de entrada son los coeficientes."
   ]
  },
  {
   "attachments": {},
   "cell_type": "markdown",
   "metadata": {},
   "source": [
    "E2. Diseñar un programa que, a partir de tres números ingresados por el usuario, muestre los números ordenados de menor a mayor. Por ejemplo,\n",
    "\n",
    "```\n",
    "a: 4\n",
    "b: 8\n",
    "c: 2\n",
    "Números ordenados 2 - 4 - 8 \n",
    "```  "
   ]
  },
  {
   "metadata": {},
   "cell_type": "markdown",
   "source": "Solución."
  },
  {
   "metadata": {
    "ExecuteTime": {
     "end_time": "2024-06-17T04:10:17.780976Z",
     "start_time": "2024-06-17T04:10:12.001853Z"
    }
   },
   "cell_type": "code",
   "source": [
    "a = int(input('a: '))\n",
    "b = int(input('b: '))\n",
    "c = int(input('c: '))\n",
    "\n",
    "if a > b:\n",
    "    if a > c:\n",
    "        mayor = a\n",
    "        if b > c:\n",
    "            medio = b\n",
    "            menor = c           # a-b-c\n",
    "        else:\n",
    "            medio = c\n",
    "            menor = b           # a-c-b\n",
    "    else:\n",
    "        mayor = c\n",
    "        medio = a\n",
    "        menor = b               # c-a-b\n",
    "else:\n",
    "    if b > c:\n",
    "        mayor = b\n",
    "        if a > c:\n",
    "            medio = a\n",
    "            menor = c           # b-a-c\n",
    "        else:\n",
    "            medio = c\n",
    "            menor = a           # b-c-a\n",
    "    else:\n",
    "        mayor = c\n",
    "        medio = b\n",
    "        menor = a               # c-b-a\n",
    "\n",
    "print('Números ordenados: {} - {} - {}'.format(menor, medio, mayor))"
   ],
   "outputs": [
    {
     "name": "stdout",
     "output_type": "stream",
     "text": [
      "Números ordenados: 0 - 2 - 23\n"
     ]
    }
   ],
   "execution_count": 5
  },
  {
   "attachments": {},
   "cell_type": "markdown",
   "metadata": {},
   "source": [
    "E3. Diseñe dos algoritmos alternativos para deducir el número central, de un conjunto de tres. Considere diseñar un algoritmo utilizando comparaciones dobles (utilizando operadores lógico) y el otro, utilizando comparaciones simples. Independiente de la versión, el programa debe presentar el siguiente comportamiento,\n",
    "\n",
    "```\n",
    "n1: 2\n",
    "n2: 1\n",
    "n3: 4\n",
    "El número central es 2\n",
    "```"
   ]
  },
  {
   "attachments": {},
   "cell_type": "markdown",
   "metadata": {},
   "source": [
    "E4. Diseñar un programa que muestre el nombre y la cantidad de días que contiene un mes del año, a partir del número de mes ingresada por el usuario. Por ejemplo,\n",
    "\n",
    "```\n",
    "Ingrese número de mes: 7\n",
    "Julio tiene 31 días\n",
    "```"
   ]
  },
  {
   "attachments": {},
   "cell_type": "markdown",
   "metadata": {},
   "source": [
    "E5. De acuerdo con el calendario gregoriano, un año bisiesto corresponde al año en el que se le agrega un día al final del mes de febrero. Este día, se añade para corregir la diferencia entre un año trópico (365,242198 días) y un año calendario (365 días). Esta diferencia es aproximadamente 1/4 día.\n",
    "\t\n",
    "El calendario juliano consideraba bisiesto los años divisibles entre cuatro. Sin embargo, bajo esta regla queda un desfase de aproximadamente 3/400 de día. Para corregir esta diferencia, el calendario gregoriano introduce que el último año de cada siglo deja de ser bisiesto, a no ser que fuera divisible por 400.\n",
    "\n",
    "Escriba un programa que, a partir del año ingresado, indique si es bisiesto o no. Por ejemplo,\n",
    "\n",
    "```\n",
    "Ingrese año: 2016\n",
    "Es bisiesto\n",
    "```\n",
    "\n",
    "```\n",
    "Ingrese año: 2018\n",
    "Es normal\n",
    "```"
   ]
  },
  {
   "metadata": {},
   "cell_type": "markdown",
   "source": "Solución:"
  },
  {
   "metadata": {
    "ExecuteTime": {
     "end_time": "2024-06-17T06:08:55.198608Z",
     "start_time": "2024-06-17T06:08:55.194081Z"
    }
   },
   "cell_type": "code",
   "source": [
    "from IPython.display import Image\n",
    "Image(url=\"./img/bisiesto.svg\", width=700)"
   ],
   "outputs": [
    {
     "data": {
      "text/html": [
       "<img src=\"./img/bisiesto.svg\" width=\"700\"/>"
      ],
      "text/plain": [
       "<IPython.core.display.Image object>"
      ]
     },
     "execution_count": 14,
     "metadata": {},
     "output_type": "execute_result"
    }
   ],
   "execution_count": 14
  },
  {
   "attachments": {},
   "cell_type": "markdown",
   "metadata": {},
   "source": [
    "E6(*). Suponga ahora que el usuario puede ingresar tanto números enterio y decimales, sin embagro, el programa debe operar solo con valores enteros (años), mientras que si se ingresan decimales, el programa debe mostrar un mensaje indicando esta situación. \n",
    "\n",
    "Presente una versión mejorada del ejercicio anterior que valide esta situación. Por ejemplo,\n",
    "\n",
    "```\n",
    "Año: 2000.23\n",
    "Debe ingresar un número entero\n",
    "```"
   ]
  },
  {
   "attachments": {},
   "cell_type": "markdown",
   "metadata": {},
   "source": [
    "E7. Diseñar un programa que determine, a partir de los lados de un triángulo, si este es un triángulo equilatero, isosceles, o escaleno. Por otra parte, si los lados ingresados no correspone a un triángulo, el programa deberá mostrar el mensaje _trinángulo no válido_.\n",
    "\n",
    "Como ayuda para la resolución del problema, considere que, la desigualdad triangular es un teorema de geometría euclidiana que establece que en todo triángulo la suma de las longitudes de dos lados cualesquiera es siempre mayor a la longitud del lado restante.   \n",
    "\n",
    "\n",
    "Por ejemplo,\n",
    "\n",
    "```\n",
    "lado a: 4\n",
    "lado b: 4\n",
    "lado c: 2\n",
    "El triangulo es isosceles\n",
    "```\n",
    "```\n",
    "lado a: 1\n",
    "lado b: 2\n",
    "lado c: 8\n",
    "Los lados no pertenecen a un triángulo\n",
    "```"
   ]
  },
  {
   "attachments": {},
   "cell_type": "markdown",
   "metadata": {},
   "source": [
    "E8(*). Un jugador de tenis obtiene el set si gana 6 juegos, pero además debe haber ganado por lo menos dos juegos más que su rival. Si el set está empatado a 5 juegos, el ganador es el primero que llegue a 7. Si el set está empatado a 6 juegos, el set se define en un _Tie break_, en cuyo caso el resultado final es 7-6.\n",
    "\t\n",
    "Desarrollar un programa que, a partir de los juegos ganados por los jugadores A y B, muestre:\n",
    "\n",
    "- el jugador que ganó el set\n",
    "- si el set esta aún juego\n",
    "- si el set se va _Tie break_\n",
    "- si el marcador es inválido\n",
    "\n",
    "Por ejemplo, \n",
    "\n",
    "```\n",
    "Jugador A: 4\n",
    "Jugador B: 6\n",
    "Jugador B gana el set\n",
    "```\n",
    "\n",
    "```\n",
    "Jugador A: 4\n",
    "Jugador B: 3\n",
    "El set está en juego\n",
    "```\n",
    "\n",
    "```\n",
    "Jugador A: 9\n",
    "Jugador B: 1\n",
    "Marcador inválido\n",
    "```"
   ]
  }
 ],
 "metadata": {
  "kernelspec": {
   "display_name": "Python 3",
   "language": "python",
   "name": "python3"
  },
  "language_info": {
   "codemirror_mode": {
    "name": "ipython",
    "version": 3
   },
   "file_extension": ".py",
   "mimetype": "text/x-python",
   "name": "python",
   "nbconvert_exporter": "python",
   "pygments_lexer": "ipython3",
   "version": "3.10.10"
  }
 },
 "nbformat": 4,
 "nbformat_minor": 2
}
