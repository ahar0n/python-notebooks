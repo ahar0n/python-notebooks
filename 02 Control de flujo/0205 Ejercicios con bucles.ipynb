{
 "cells": [
  {
   "attachments": {},
   "cell_type": "markdown",
   "metadata": {},
   "source": [
    "# Ejercicios: diseño de algoritmos con bucles\n",
    "(*) _Ejercicios opcionales_"
   ]
  },
  {
   "attachments": {},
   "cell_type": "markdown",
   "metadata": {},
   "source": [
    "E1. Diseñar un programa que muestra la tabla de multiplicar (del 1 hasta el 10) de cualquier número ingresado por el usuario, por ejemplo,\n",
    "\n",
    "```\n",
    "Ingrese un numero: 4\n",
    "Tabla del 4\n",
    "4 x 1 = 4\n",
    "4 x 2 = 8\n",
    "4 x 3 = 12\n",
    ":\n",
    ".\n",
    "4 x 10 = 40\n",
    "```\n",
    "\n",
    "Otro ejemplo,\n",
    "\n",
    "```\n",
    "Ingrese un numero: 7\n",
    "Tabla del 7\n",
    "7 x 1 = 7\n",
    "7 x 2 = 14\n",
    "7 x 3 = 21\n",
    ":\n",
    ".\n",
    "7 x 10 = 70\n",
    "```"
   ]
  },
  {
   "attachments": {},
   "cell_type": "markdown",
   "metadata": {},
   "source": [
    "E2. Diseñar un programa que muestre las 12 primeras tablas de multiplar (1 al 12)."
   ]
  },
  {
   "attachments": {},
   "cell_type": "markdown",
   "metadata": {},
   "source": [
    "E3. Se requiere un programa que muestre los números múltiplos de dos que existen entre dos números ingresados por el usuario.\n",
    "- Diseñar el programa `multiplos_de_dos.py` que muestre todos los números enteros múltiplos de 2 que existen entre dos números ingresados por el usuario.\n",
    "- Modifique el programa anterior de forma tal que no exitan restricciones con el orden de los datos de entrada."
   ]
  },
  {
   "attachments": {},
   "cell_type": "markdown",
   "metadata": {},
   "source": [
    "E4. Diseñe un programa que calcule la suma de números ingresados por el usuario. Cada vez que el programa solicite un nuevo valor debe mostrar la suma acumulada. Por ejemplo,\n",
    "\n",
    "```\n",
    "n: 1\n",
    "n: 2\n",
    "suma = 3\n",
    "n: 54\n",
    "suma = 58\n",
    "n: 0\n",
    "suma: 58\n",
    "```"
   ]
  },
  {
   "attachments": {},
   "cell_type": "markdown",
   "metadata": {},
   "source": [
    "E5. Diseñe un programa que muestre los números primos que existen entre dos números ingresados.\n",
    "\n",
    "```\n",
    "Número menor: 1\n",
    "Número mayor: 20\n",
    "2\n",
    "3\n",
    "5\n",
    "7\n",
    "11\n",
    "13\n",
    "17\n",
    "19\n",
    "```"
   ]
  },
  {
   "attachments": {},
   "cell_type": "markdown",
   "metadata": {},
   "source": [
    "E6(*). Los primos gemelos son una pareja de números primos cuya diferencia entre el mayor y el menor es igual a 2. Por ejemplo, 5 y 7 son primos gemelos. Diseñar un programa que muestre todos los números primos gemelos que existen entre dos números naturales positivos ingresados.\n",
    "\n",
    "Por ejemplo,\n",
    "\n",
    "```\n",
    "Número menor: 1\n",
    "Número mayor: 50\n",
    "(3,5)\n",
    "(5,7)\n",
    "(11,13)\n",
    "(17,19)\n",
    "(29,31)\n",
    "(41,43)\n",
    "```"
   ]
  },
  {
   "attachments": {},
   "cell_type": "markdown",
   "metadata": {},
   "source": [
    "E7. Diseñe un programa que clasifique los negativos y positivos de una secuencia de números enteros ingresada por el usuario. Por ejemplo,\n",
    "\n",
    "```\n",
    "Cuántos números tiene la lista? 5\n",
    "Ingrese n1: 1 \n",
    "Ingrese n2: -3\n",
    "Ingrese n3: 4\n",
    "Ingrese n4: 6\n",
    "Ingrese n5: 9\n",
    "Positivos: 1,4,6,9\n",
    "Negativos: -3\n",
    "```\n",
    "\n",
    "Otro ejemplo,\n",
    "```\n",
    "Cuántos números tiene la lista? 7\n",
    "Ingrese n1: 24 \n",
    "Ingrese n2: -2.5\n",
    "Ingrese n3: 80\n",
    "Ingrese n4: -54\n",
    "Ingrese n5: -1\n",
    "Ingrese n6: -20\n",
    "Ingrese n7: 13\n",
    "Positivos: 24,80,13\n",
    "Negativos: -2.5,-54,-1,-20\n",
    "```"
   ]
  }
 ],
 "metadata": {
  "kernelspec": {
   "display_name": "Python 3.7.11 ('eda37')",
   "language": "python",
   "name": "python3"
  },
  "language_info": {
   "codemirror_mode": {
    "name": "ipython",
    "version": 3
   },
   "file_extension": ".py",
   "mimetype": "text/x-python",
   "name": "python",
   "nbconvert_exporter": "python",
   "pygments_lexer": "ipython3",
   "version": "3.10.10"
  },
  "vscode": {
   "interpreter": {
    "hash": "03da1727eb179e6d4206a53fc7edf92cda963bd1ce89117d747d91e0da58e345"
   }
  }
 },
 "nbformat": 4,
 "nbformat_minor": 2
}
