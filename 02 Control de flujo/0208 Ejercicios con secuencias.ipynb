{
 "cells": [
  {
   "cell_type": "markdown",
   "source": "# Ejercicios: tratamiento de secuencias",
   "metadata": {}
  },
  {
   "metadata": {},
   "cell_type": "markdown",
   "source": "Para uno de los ejercicios, presentar el análisis del problema, la formulación del algoritmo (descomposición), el diagrama de flujo y el código fuente."
  },
  {
   "metadata": {},
   "cell_type": "markdown",
   "source": [
    "E1. Diseñe un programa que separe los números negativos de los positivos, de una secuencia de números enteros (separados por coma) ingresado por el usuario.\n",
    "\n",
    "Ejemplo:\n",
    "<pre><code>Ingrese una secuencia de numeros: <strong> 1,2,-3,4,-5,6,7</strong>\n",
    "Positivos: 1,2,4,6,7\n",
    "Negativos: -3,-5</code></pre>"
   ]
  },
  {
   "cell_type": "markdown",
   "source": [
    "E2. Diseñe un programa que, a partir de una secuencia de números ingresada por el usuario, resuelva cada uno de los siguientes problemas:\n",
    "\n",
    "- Almacenar las cifras en una lista.\n",
    "- Identificar el menor y el mayor de las cifras y almacenarlos en una tupla.\n",
    "- Mostrar los valores mínimo y máximo.\n",
    "\n",
    "Ejemplo:\n",
    "<pre><code>Ingrese lista de numeros: <strong> 92,21,88,0,5,622,7</strong>\n",
    "Mín: 0\n",
    "Max: 622</code></pre>"
   ],
   "metadata": {}
  },
  {
   "metadata": {},
   "cell_type": "markdown",
   "source": "E3. Diseñe un programa que permita muestre la cantidad de ocurrencias de una letra en una palabra."
  },
  {
   "metadata": {},
   "cell_type": "markdown",
   "source": "E4. Diseñe un programa que verifique si una palabra contiene las 5 vocales."
  },
  {
   "metadata": {},
   "cell_type": "markdown",
   "source": "E5. Diseñe una versión mejorada del programa que muestre las vocales que no aparecen."
  },
  {
   "metadata": {},
   "cell_type": "markdown",
   "source": "E6. Diseñe un programa que identifique si un caracter ingresado por el usuario, es una letra, un número o ninguno de los dos. En el caso que sea una letra, indique si es mayúscula o minúscula."
  },
  {
   "metadata": {},
   "cell_type": "markdown",
   "source": "E7. Según la [definición de la RAE](https://dle.rae.es/anagrama), un anagrama corresponde a la transposición de las letras de una palabra o sentencia, de la que resulta otra palabra o sentencia distinta. Diseñe un programa que, a partir de dos palabras, identifique si son anagrama."
  },
  {
   "metadata": {},
   "cell_type": "markdown",
   "source": "E8. Diseñe un programa que identifique si en una expresión matemática están correctamente usados los paréntesis."
  },
  {
   "metadata": {},
   "cell_type": "markdown",
   "source": "E9. Diseñe un programa que cuente la cantidad de palabras que contiene una oración."
  },
  {
   "metadata": {},
   "cell_type": "markdown",
   "source": [
    "E10. Diseñar un programa que, a partir de un texto ingresado por el usuario, muestre por pantalla una lista con todas las palabras repetidas.\n",
    "\n",
    "Ejemplo:\n",
    "<pre><code>Escriba un texto: <strong> puede que en esta oraciones no se repita una palabra, o puede que si.</strong>\n",
    "Existen 2 palabras repetidas: puede, que</code></pre>"
   ]
  },
  {
   "metadata": {},
   "cell_type": "markdown",
   "source": [
    "\n",
    "E11. Describa el uso de las siguientes funciones:\n",
    "\n",
    "- [`capitalize()`](https://docs.python.org/3/library/stdtypes.html#str.capitalize)\n",
    "- [`lower()`](https://docs.python.org/3/library/stdtypes.html#str.lower)\n",
    "- [`upper()`](https://docs.python.org/3/library/stdtypes.html#str.upper)\n",
    "- [`isupper()`](https://docs.python.org/3/library/stdtypes.html#str.isupper)\n",
    "- [`islower()`](https://docs.python.org/3/library/stdtypes.html#str.islower)"
   ]
  }
 ],
 "metadata": {
  "kernelspec": {
   "display_name": "Python 3",
   "language": "python",
   "name": "python3"
  },
  "language_info": {
   "codemirror_mode": {
    "name": "ipython",
    "version": 3
   },
   "file_extension": ".py",
   "mimetype": "text/x-python",
   "name": "python",
   "nbconvert_exporter": "python",
   "pygments_lexer": "ipython3",
   "version": "3.7.6-final"
  }
 },
 "nbformat": 4,
 "nbformat_minor": 2
}
