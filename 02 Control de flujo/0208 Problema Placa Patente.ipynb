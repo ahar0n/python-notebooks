{
 "cells": [
  {
   "cell_type": "markdown",
   "metadata": {},
   "source": [
    "# Placa Patente Unica"
   ]
  },
  {
   "cell_type": "markdown",
   "metadata": {},
   "source": [
    "En Chile, las matrículas vehiculares (automóviles) son conocidas como Placa Patente Única (PPU). "
   ]
  },
  {
   "cell_type": "markdown",
   "metadata": {},
   "source": [
    "<img src=\"./img/ppu.jpg\" style=\"width:300px\">"
   ]
  },
  {
   "cell_type": "markdown",
   "metadata": {},
   "source": [
    "En septiembre de 2007 se comenzó a utilizar el formato conformado por 4 letras y 2 números (BB-BB·NN). Este sistema,\n",
    "\n",
    "- Utiliza 18 letras: B, C, D, F, G, H, J, K, L, P, R, S, T, V, W, X, Y, Z.\n",
    "- No se emplean las letras M, N, Ñ, Q y las vocales.\n",
    "- Los números (NN) comienzan en 10 por cada serie de letras, hasta llegar a 99.\n",
    "\n",
    "La validación de una PPU se realiza por medio del cálculo del dígito verificador  $DV$, el cuál se obtiene de acuerdo con el procedimiento presentado a continuación."
   ]
  },
  {
   "cell_type": "markdown",
   "metadata": {},
   "source": [
    "### Cálculo del Número del Dígito Verificador $NDV$\n",
    "\n",
    "El $NDV$ se obtiene a partir de la siguiente expresión,\n",
    "\n",
    "$$ NDV = ND \\cdot 100 + NN$$\n",
    "\n",
    "El número $ND$ viene dado por,\n",
    "\n",
    "$$ ND = \\sum^{n}_{i=0} nd_{i} \\cdot 10^{(i)} $$ \n",
    "\n",
    "donde, $nd_{i}$ es el número asignado a la letra $i$ de la serie (leyendo BB-BB de derecha a izquierda) según la siguiente tabla:"
   ]
  },
  {
   "cell_type": "markdown",
   "metadata": {},
   "source": [
    "| B | C | D | F | G | H | j | K | L | P | R | S | T | V | W | X | Y | Z |\n",
    "|---|---|---|---|---|---|---|---|---|---|---|---|---|---|---|---|---|---|\n",
    "| 1 | 2 | 3 | 4 | 5 | 6 | 7 | 8 | 9 | 0 | 2 | 3 | 4 | 5 | 6 | 7 | 8 | 9 |"
   ]
  },
  {
   "cell_type": "markdown",
   "metadata": {},
   "source": [
    "### Obtención del Dígito Verificador\n",
    "\n",
    "El dígito verificador $DV$ se obtiene de acuerdo con el siguiente algoritmo.\n",
    "\n",
    "Primero, se calcula la suma ponderada de los dígitos del $NDV$, $SP$:\n",
    "\\begin{equation*}\n",
    "SP = \\sum_{i=0}^{5} D_i \\cdot (i + 2),\n",
    "\\end{equation*}\n",
    "\n",
    "donde $D_0$ es el dígito menos significativo de $NDV$ y $D_5$ el más significativo.\n",
    "\n",
    "A continuación, se calcula el residuo ($R$) de la división de la suma ponderada ($SP$) por 11. Si $R=0$, entonces $DV=0$, de lo contrario, $DV=11-R$. En este último caso, si $DV=10$, debe ser reemplazado por el caracter $K$."
   ]
  },
  {
   "cell_type": "markdown",
   "metadata": {},
   "source": [
    "Diseñar un programa que calcule el dígito verificador de la placa patente de un automóvil.\n",
    "\n",
    "A continuación se muestran algunos ejemplos del comportamiento del programa:"
   ]
  },
  {
   "cell_type": "markdown",
   "metadata": {},
   "source": [
    "<pre>\n",
    "<code>Ingrese placa patente: <strong> SVBF36 </strong>\n",
    "El digito verificador es 6</code> \n",
    "</pre>"
   ]
  },
  {
   "cell_type": "markdown",
   "metadata": {},
   "source": [
    "<pre>\n",
    "<code>Ingrese placa patente: <strong> SVB136 </strong>\n",
    "PPU inválida</code>\n",
    "</pre>"
   ]
  },
  {
   "cell_type": "markdown",
   "metadata": {},
   "source": [
    "Para diseñar el programa, se permite el uso de los siguientes elementos de Python:\n",
    "\n",
    "- Tipos de datos: `int`, `float`, `str`, `bool`.\n",
    "- Operadores: aritméticos, de asignación, tratamiento de secuencias (`*`, `+`, `[]`, `in`).\n",
    "- Comparadores.\n",
    "- Control de flujo: condicionales (`if`, `if-else`, `if-elif-else`) y bucles (`for-in`, `while`), `break`, `continue`.\n",
    "- Tratamiento de excepciones (debe identificar la excepción a tratar): `try-except`.\n",
    "- Funciones: `str()`, `int()`, `float()`, `type()`, `index()`, `print()`, `input()`, `range()`."
   ]
  }
 ],
 "metadata": {
  "kernelspec": {
   "display_name": "Python 3 (ipykernel)",
   "language": "python",
   "name": "python3"
  },
  "language_info": {
   "codemirror_mode": {
    "name": "ipython",
    "version": 3
   },
   "file_extension": ".py",
   "mimetype": "text/x-python",
   "name": "python",
   "nbconvert_exporter": "python",
   "pygments_lexer": "ipython3",
   "version": "3.10.10"
  }
 },
 "nbformat": 4,
 "nbformat_minor": 2
}
