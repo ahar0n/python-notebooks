{
 "cells": [
  {
   "cell_type": "markdown",
   "source": [
    "# Ejercicios: diseño de algoritmos con bucles"
   ],
   "metadata": {}
  },
  {
   "metadata": {},
   "cell_type": "markdown",
   "source": [
    "E1. Diseñe un programa que calcule la suma de números ingresados por el usuario. Cada vez que el programa solicite un nuevo valor debe mostrar la suma acumulada. Por ejemplo,\n",
    "\n",
    "```\n",
    "n: 1\n",
    "n: 2\n",
    "suma = 3\n",
    "n: 54\n",
    "suma = 58\n",
    "n: 0\n",
    "suma: 58\n",
    "```"
   ]
  },
  {
   "cell_type": "markdown",
   "source": [
    "E2. Diseñe una versión alternativa del programa anterior utilizando la instrucción `break`. Además, considerando que el usuario podría ingresar números reales, agregue las validaciones necesarias para que el programa calculé la sumatoria solo de los valores enteros. Por ejemplo,\n",
    "\n",
    "```\n",
    "n: 1\n",
    "n: 2\n",
    "suma = 3\n",
    "n: 23.2\n",
    "n: 5\n",
    "suma = 8\n",
    "n: 14\n",
    "suma: 22\n",
    "```\n",
    "\n"
   ],
   "metadata": {}
  },
  {
   "cell_type": "markdown",
   "source": [
    "E3. Los primos gemelos son una pareja de números primos cuya diferencia entre el mayor y el menor es igual a 2. Por ejemplo, 5 y 7 son primos gemelos. Diseñar un programa que muestre todos los números primos gemelos que existen entre dos números naturales positivos ingresados.\n",
    "\n",
    "<pre>\n",
    "<code><strong>Número menor: </strong> 1\n",
    "<strong>Número mayor: </strong> 50\n",
    "(3,5)\n",
    "(5,7)\n",
    "(11,13)\n",
    "(17,19)\n",
    "(29,31)\n",
    "(41,43)\n",
    "</code></pre>\n"
   ],
   "metadata": {}
  },
  {
   "cell_type": "markdown",
   "source": [
    "E4. Diseñe un programa que, a partir de una secuencia de números ingresada por el usuario, resuelva cada uno de los siguientes problemas:\n",
    "\n",
    "- Almacenar los dígitos como una lista (<code>list</code>) de números.\n",
    "- Almacenar en una tupla (<code>tuple</code>) el mayor y el menor de los valores de la secuencia.\n",
    "- Mostrar los valores mínimo y máximo.\n",
    "\n",
    "Ejemplo:\n",
    "<pre><code><strong>Ingrese lista de numeros: </strong> 92,21,88,0,5,622,7\n",
    "<strong>Mayor: 622, Menor: 0</strong></code></pre>"
   ],
   "metadata": {}
  },
  {
   "cell_type": "markdown",
   "source": [
    "E5. Diseñar un programa que, a partir de una texto ingresada por el usuario, muestre por pantalla una lista con todas las palabras repetidas.\n",
    "\n",
    "Ejemplo:\n",
    "<pre><code><strong>Texto: </strong> puede que en esta oraciones no se repita una palabra, o puede que si.\n",
    "<strong>Existen 2 palabras repetidas: puede, que</strong></code></pre>"
   ],
   "metadata": {}
  },
  {
   "cell_type": "markdown",
   "source": [
    "E6. Diseñe un programa que separe los negativos de los positivos de una secuencia de números enteros ingresa por el usuario.\n",
    "\n",
    "Ejemplo:\n",
    "<pre><code><strong>Numeros: </strong> 1,2,-3,4,-5,6,7\n",
    "<strong>Positivos: 1,2,4,6,7</strong>\n",
    "<strong>Negativos: -3,-5</strong></code></pre>"
   ],
   "metadata": {}
  }
 ],
 "metadata": {
  "kernelspec": {
   "display_name": "Python 3",
   "language": "python",
   "name": "python3"
  },
  "language_info": {
   "codemirror_mode": {
    "name": "ipython",
    "version": 3
   },
   "file_extension": ".py",
   "mimetype": "text/x-python",
   "name": "python",
   "nbconvert_exporter": "python",
   "pygments_lexer": "ipython3",
   "version": "3.7.6-final"
  }
 },
 "nbformat": 4,
 "nbformat_minor": 2
}
