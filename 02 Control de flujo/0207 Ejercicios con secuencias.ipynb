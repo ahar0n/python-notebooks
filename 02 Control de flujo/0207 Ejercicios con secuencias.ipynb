{
 "cells": [
  {
   "cell_type": "markdown",
   "source": "# Ejercicios: tratamiento de secuencias",
   "metadata": {}
  },
  {
   "metadata": {},
   "cell_type": "markdown",
   "source": [
    "E1. Diseñe un programa que separe los números negativos de los positivos, de una secuencia de números enteros (separados por coma) ingresado por el usuario.\n",
    "\n",
    "Ejemplo:\n",
    "<pre><code><strong>Ingrese una secuencia de numeros: </strong> 1,2,-3,4,-5,6,7\n",
    "<strong>Positivos: 1,2,4,6,7</strong>\n",
    "<strong>Negativos: -3,-5</strong></code></pre>"
   ]
  },
  {
   "cell_type": "markdown",
   "source": [
    "E2. Diseñe un programa que, a partir de una secuencia de números ingresada por el usuario, resuelva cada uno de los siguientes problemas:\n",
    "\n",
    "- Almacenar las cifras en una lista (`list`).\n",
    "- Identificar el menor y el mayor de las cifras y almacenarlos en una (`tuple`).\n",
    "- Mostrar los valores mínimo y máximo.\n",
    "\n",
    "Ejemplo:\n",
    "<pre><code><strong>Ingrese lista de numeros: </strong> 92,21,88,0,5,622,7\n",
    "<strong>Mín: 0 \n",
    "Max: 622</strong></code></pre>"
   ],
   "metadata": {}
  },
  {
   "metadata": {},
   "cell_type": "markdown",
   "source": "E3. Diseñe un programa que permita identificar la cantidad de ocurrencias de una letra en una palabra."
  },
  {
   "metadata": {},
   "cell_type": "markdown",
   "source": "E4. Diseñe un programa que verifique si una palabra contiene las 5 vocales."
  },
  {
   "metadata": {},
   "cell_type": "markdown",
   "source": "E5. Diseñe un programa que identifique si un caracter ingresado por el usuario, es una letra, un número o ninguno de los dos. En el caso que sea una letra, indique si es mayúscula o minúscula."
  },
  {
   "metadata": {},
   "cell_type": "markdown",
   "source": "E6. Según la [definición de la RAE](https://dle.rae.es/anagrama), un anagrama corresponde a la transposición de las letras de una palabra o sentencia, de la que resulta otra palabra o sentencia distinta. Diseñe un programa que, a partir de dos palabras, identifique si son anagrama."
  },
  {
   "metadata": {},
   "cell_type": "markdown",
   "source": "E7. Diseñe un programa que identifique si en una expresión matemática están correctamente usados los paréntesis."
  },
  {
   "metadata": {},
   "cell_type": "markdown",
   "source": "E9. Diseñe un programa que cuente la cantidad de palabras que contiene una oración."
  },
  {
   "metadata": {},
   "cell_type": "markdown",
   "source": [
    "E10. Diseñar un programa que, a partir de un texto ingresado por el usuario, muestre por pantalla una lista con todas las palabras repetidas.\n",
    "\n",
    "Ejemplo:\n",
    "<pre><code><strong>Escriba un texto: </strong> puede que en esta oraciones no se repita una palabra, o puede que si.\n",
    "<strong>Existen 2 palabras repetidas: puede, que</strong></code></pre>\n",
    "\n",
    "Investigue el uso de las siguientes funciones y mejore la funcionalidad del programa anterior:\n",
    "\n",
    "- [`capitalize()`](https://docs.python.org/3/library/stdtypes.html#str.capitalize)\n",
    "- [`lower()`](https://docs.python.org/3/library/stdtypes.html#str.lower)\n",
    "- [`upper()`](https://docs.python.org/3/library/stdtypes.html#str.upper)\n",
    "- [`isupper()`](https://docs.python.org/3/library/stdtypes.html#str.isupper)\n",
    "- [`islower()`](https://docs.python.org/3/library/stdtypes.html#str.islower)\n",
    "- [`islower()`](https://docs.python.org/3/library/stdtypes.html#str.islower)"
   ]
  }
 ],
 "metadata": {
  "kernelspec": {
   "display_name": "Python 3",
   "language": "python",
   "name": "python3"
  },
  "language_info": {
   "codemirror_mode": {
    "name": "ipython",
    "version": 3
   },
   "file_extension": ".py",
   "mimetype": "text/x-python",
   "name": "python",
   "nbconvert_exporter": "python",
   "pygments_lexer": "ipython3",
   "version": "3.7.6-final"
  }
 },
 "nbformat": 4,
 "nbformat_minor": 2
}
