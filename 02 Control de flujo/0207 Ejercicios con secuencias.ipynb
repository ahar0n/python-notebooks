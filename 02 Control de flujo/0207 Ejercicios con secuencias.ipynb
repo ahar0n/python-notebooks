{
 "cells": [
  {
   "cell_type": "markdown",
   "source": "# Ejercicios: tratamiento de secuencias",
   "metadata": {}
  },
  {
   "metadata": {},
   "cell_type": "markdown",
   "source": [
    "E1. Diseñe un programa que calcule la suma de números ingresados por el usuario. Cada vez que el programa solicite un nuevo valor debe mostrar la suma acumulada. El programa deberá finalizar cuando el usuario presione la tecla `ENTER` sin haber ingresado valores, y deberá mostrar los números ingresados ordenados de menor a mayor. \n",
    "\n",
    "Por ejemplo,\n",
    "\n",
    "```\n",
    "n: 5\n",
    "n: 2\n",
    "suma = 7\n",
    "n: 54\n",
    "suma = 61\n",
    "n: -34\n",
    "suma = 27\n",
    "n: \n",
    "Se ingresaron los siguientes valores: -34, 2, 5, 54\n",
    "```"
   ]
  },
  {
   "cell_type": "markdown",
   "source": "E2. Diseñe una versión alternativa del programa anterior utilizando la instrucción `break`. Además, considerando que el usuario también puede ingresar números reales, el programa debe calcular la sumatoria solo de los valores enteros.",
   "metadata": {}
  },
  {
   "metadata": {},
   "cell_type": "markdown",
   "source": [
    "E3. Diseñe un programa que separe los números negativos de los positivos, de una secuencia de números enteros (separados por coma) ingresado por el usuario.\n",
    "\n",
    "Ejemplo:\n",
    "<pre><code><strong>Ingrese una secuencia de numeros: </strong> 1,2,-3,4,-5,6,7\n",
    "<strong>Positivos: 1,2,4,6,7</strong>\n",
    "<strong>Negativos: -3,-5</strong></code></pre>"
   ]
  },
  {
   "cell_type": "markdown",
   "source": [
    "E4. Diseñe un programa que, a partir de una secuencia de números ingresada por el usuario, resuelva cada uno de los siguientes problemas:\n",
    "\n",
    "- Almacenar las cifras en una lista (`list`).\n",
    "- Identificar el menor y el mayor de las cifras y almacenarlos en una (`tuple`).\n",
    "- Mostrar los valores mínimo y máximo.\n",
    "\n",
    "Ejemplo:\n",
    "<pre><code><strong>Ingrese lista de numeros: </strong> 92,21,88,0,5,622,7\n",
    "<strong>Mayor: 622, Menor: 0</strong></code></pre>"
   ],
   "metadata": {}
  },
  {
   "cell_type": "markdown",
   "source": [
    "E5. Diseñar un programa que, a partir de un texto ingresado por el usuario, muestre por pantalla una lista con todas las palabras repetidas.\n",
    "\n",
    "Ejemplo:\n",
    "<pre><code><strong>Escriba un texto: </strong> puede que en esta oraciones no se repita una palabra, o puede que si.\n",
    "<strong>Existen 2 palabras repetidas: puede, que</strong></code></pre>\n",
    "\n",
    "E6. Investigar el uso de las siguientes funciones y mejorar la funcionalidad del programa anterior:\n",
    "\n",
    "- [`capitalize()`](https://docs.python.org/3/library/stdtypes.html#str.capitalize)\n",
    "- [`lower()`](https://docs.python.org/3/library/stdtypes.html#str.lower)\n",
    "- [`upper()`](https://docs.python.org/3/library/stdtypes.html#str.upper)\n",
    "- [`isupper()`](https://docs.python.org/3/library/stdtypes.html#str.isupper)\n",
    "- [`islower()`](https://docs.python.org/3/library/stdtypes.html#str.islower)"
   ],
   "metadata": {}
  }
 ],
 "metadata": {
  "kernelspec": {
   "display_name": "Python 3",
   "language": "python",
   "name": "python3"
  },
  "language_info": {
   "codemirror_mode": {
    "name": "ipython",
    "version": 3
   },
   "file_extension": ".py",
   "mimetype": "text/x-python",
   "name": "python",
   "nbconvert_exporter": "python",
   "pygments_lexer": "ipython3",
   "version": "3.7.6-final"
  }
 },
 "nbformat": 4,
 "nbformat_minor": 2
}
