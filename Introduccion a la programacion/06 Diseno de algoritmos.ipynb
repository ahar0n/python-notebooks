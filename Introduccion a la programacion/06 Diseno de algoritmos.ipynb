{
 "cells": [
  {
   "cell_type": "markdown",
   "source": [
    "# Diseño de algoritmos"
   ],
   "metadata": {}
  },
  {
   "cell_type": "markdown",
   "source": [
    "## Etapas de la resolución de problemas"
   ],
   "metadata": {}
  },
  {
   "cell_type": "markdown",
   "source": [
    "<img src=\"img/diagrama-resolucion_de_problemas.svg\" width=\"500px\"/>"
   ],
   "metadata": {}
  },
  {
   "cell_type": "markdown",
   "source": [
    "El __análisis del problema__ debe dar respuesta a las siguiente interrogantes:\n",
    "\n",
    "- ¿Qué entradas se requieren? (tipo y cantidad)\n",
    "- ¿Cuál es la salida deseada? (tipo y cantidad)\n",
    "- ¿Qué método produce la salida deseada, a partir de las entradas?\n",
    "\n",
    "El __diseño del algoritmo__ debe generar como resultado:\n",
    "\n",
    "- Orden de realización de cada paso para resolver el problema.\n",
    "- Representación del algoritmo (p. ej., organigrama, código fuente).\n",
    "\n",
    "Un algoritmo es abstracto y requiere una __forma de representación__:\n",
    "\n",
    "- Organigrama (p. ej., diagrama de flujo, pseudocódigo) para comunicar la solución a otras personas.\n",
    "- Programa, código fuente que __implementa la solución en un sistema de computo__."
   ],
   "metadata": {}
  },
  {
   "cell_type": "markdown",
   "source": [
    "### Notación básica para el diseño de diagramas de flujo\n",
    "\n",
    "<img src=\"https://wcs.smartdraw.com/flowchart/img/simbolos-de-diagramas-de-flujo.png?bn=1510011165\" alt=\"Notación básica de diagramas de flujo\" width=\"350px\" title=\"Cortesia de Smartdraw.com\">"
   ],
   "metadata": {}
  },
  {
   "cell_type": "markdown",
   "source": [
    "## Diseño de programas"
   ],
   "metadata": {}
  },
  {
   "cell_type": "markdown",
   "source": [
    "Un programa está formado por una secuencia de una o más sentencias, la cual puede tener componentes internos, como por ejemplo, instrucciones, expresiones, operaciones, variables, entre otros."
   ],
   "metadata": {}
  },
  {
   "cell_type": "markdown",
   "source": [
    "### Ejemplo\n",
    "\n",
    "El siguiente algoritmo calcula el salario bruto y el salario líquido de un trabajador, a partir del número de horas trabajadas, el valor de la hora y el porcentaje de imposiciones."
   ],
   "metadata": {}
  },
  {
   "cell_type": "markdown",
   "source": [
    "__Paso 1.__ Análisis de problema.\n",
    "\n",
    "- Considerando que debe calcularse el salario, se establece como __supuesto__ que el algorimto permitirá calcular el salario mensual.\n",
    "- Se identifican que las __entradas__ son las horas trabajadas (número real), el valor de la hora (int) y el porcentaje de imposiciones (entero).\n",
    "- Se identifican como __salidas__ el salario bruto (numero entero) y el salario líquido (número entero).\n",
    "- El proceso que genera las salidas deseadas a partir de las entradas, se define como:\n",
    "\n",
    "\\begin{align}\n",
    "bruto &= horas \\cdot valor\\\\\n",
    "liquido &= bruto \\left( \\frac{100 - imposiciones}{100} \\right)\n",
    "\\end{align}"
   ],
   "metadata": {}
  },
  {
   "cell_type": "markdown",
   "source": [
    "__Paso 2.__ Organigrama (diagrama de flujo)."
   ],
   "metadata": {}
  },
  {
   "cell_type": "markdown",
   "source": [
    "<img src=\"img/flowchart_salario.svg\" width=\"230px\" />"
   ],
   "metadata": {}
  },
  {
   "cell_type": "markdown",
   "source": [
    "__Paso 3.__ Programa.\n",
    "\n",
    "El programa que es consistente con el diagrama de flujo anterior se presenta a continuación."
   ],
   "metadata": {}
  },
  {
   "cell_type": "code",
   "execution_count": null,
   "source": [
    "horas = float(input('Ingrese las horas trabajadas: '))\n",
    "valor = int(input('Ingrese el valor de la hora: '))\n",
    "imposiciones = int(input('ingrese el procentaje de imposiciones: '))\n",
    "\n",
    "bruto = horas * valor\n",
    "liquido = bruto * (100 - imposiciones) / 100\n",
    "\n",
    "print('El salario bruto es ', bruto)\n",
    "print('El salario líquido es ', liquido)"
   ],
   "outputs": [],
   "metadata": {
    "tags": []
   }
  },
  {
   "cell_type": "markdown",
   "source": [
    "Las siguientes instrucciones permitirían ejecutar el programa en su computador:\n",
    "\n",
    "1. Abrir un nuevo archivo con cualquier editor de texto.\n",
    "1. Copiar las líneas de código presentadas más arriba.\n",
    "1. Guardar el archivo con el nombre `salario.py`.\n",
    "1. Desde el interprete de comandos de Windows, situarse en la carpeta que contiene el archivo `salario.py`.\n",
    "1. Escribir la siguiente línea de comandos seguido de la tecla `Enter`:\n",
    "\n",
    "```\n",
    "    C:\\...\\> python salario.py\n",
    "```"
   ],
   "metadata": {}
  }
 ],
 "metadata": {
  "language_info": {
   "codemirror_mode": {
    "name": "ipython",
    "version": 3
   },
   "file_extension": ".py",
   "mimetype": "text/x-python",
   "name": "python",
   "nbconvert_exporter": "python",
   "pygments_lexer": "ipython3",
   "version": "3.7.6-final"
  },
  "orig_nbformat": 2,
  "kernelspec": {
   "name": "python3",
   "display_name": "Python 3"
  }
 },
 "nbformat": 4,
 "nbformat_minor": 2
}