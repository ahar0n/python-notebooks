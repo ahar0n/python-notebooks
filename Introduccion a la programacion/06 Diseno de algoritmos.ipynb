{
 "cells": [
  {
   "cell_type": "markdown",
   "source": [
    "# Diseño de algoritmos"
   ],
   "metadata": {}
  },
  {
   "cell_type": "markdown",
   "source": [
    "<img src=\"img/resolucion_de_problemas.svg\"/>"
   ],
   "metadata": {}
  },
  {
   "cell_type": "markdown",
   "source": [
    "## Representación gráfica de algoritmos"
   ],
   "metadata": {}
  },
  {
   "cell_type": "markdown",
   "source": [
    "Un __diagrama de flujo__ es una representación gráfica de un algoritmo, flujo de trabajo o proceso para de un determinado problema.\n",
    "\n",
    "- Son usado en el análisis diseño y documentación de sistemas.\n",
    "- Ayudan a los desarrolladores a visualizar los pasos involucrados en una solución, así como también ayudan a comprender un proceso o algoritmos."
   ],
   "metadata": {}
  },
  {
   "cell_type": "markdown",
   "source": [
    "<img src=\"img/flowchart.svg\">"
   ],
   "metadata": {}
  },
  {
   "cell_type": "markdown",
   "source": [
    "- Terminal: representa el inicio o final de un proceso o subproceso.\n",
    "- Proceso: representa una o mas operaciones (sentencias o expresiones), comportamiento o cambio de estado del sistema.\n",
    "- Decisión: representa un punto de decisión en el algoritmo, que puede alterar el flujo normal del algoritmo.\n",
    "- Entrada/salida: representa entradas o salidas de datos.\n",
    "- Flujo: flechas que representan el orden de ejecución de los bloques (navegabilidad)."
   ],
   "metadata": {}
  },
  {
   "cell_type": "markdown",
   "source": [
    "## Diseño de programas"
   ],
   "metadata": {}
  },
  {
   "cell_type": "markdown",
   "source": [
    "Un __programa__ está formado por una secuencia de una o más sentencias, la cual puede tener componentes internos, como por ejemplo, instrucciones, expresiones, operaciones, variables, entre otros.\n",
    "\n",
    "En el siguiente ejemplo, el programa calcula y muestra la distancia entre dos puntos partir de las coordenadas cartesianas $(x,y)$ de estos."
   ],
   "metadata": {}
  },
  {
   "cell_type": "markdown",
   "source": [
    "__Paso 1__. Análisis del problema.\n",
    "\n",
    "- Se identifican como __entradas__ del programa las coordenadas de los dos puntos Ay B ($x_a, y_a, x_b, y_b$).\n",
    "- Se identifican como __salida__ la distancia gométrica entre A y B. \n",
    "- La distancia entre dos puntos A y B puede calcularse a partir de sus coordenadas ($x, y$) utilizando la siguiente expresión:\n",
    "\n",
    "$$ d_{\\overline{AB}} = \\sqrt{(x_B - x_A)^2 + (y_B - y_A)^2} $$"
   ],
   "metadata": {}
  },
  {
   "cell_type": "markdown",
   "source": [
    "__Paso 2.__ Diseño del algortimo (organigrama)."
   ],
   "metadata": {}
  },
  {
   "cell_type": "markdown",
   "source": [
    "<img src=\"img/flowchart-distancia_ab.svg\"/>"
   ],
   "metadata": {}
  },
  {
   "cell_type": "markdown",
   "source": [
    "__Paso 3__. Código fuente.\n",
    "\n",
    "El programa que es consistente con el diagrama de flujo anterior se presenta a continuación."
   ],
   "metadata": {}
  },
  {
   "cell_type": "code",
   "execution_count": 1,
   "source": [
    "xa = int(input('Ingrese xa: '))\n",
    "ya = int(input('Ingrese ya: '))\n",
    "xb = int(input('Ingrese xb: '))\n",
    "yb = int(input('Ingrese yb: '))\n",
    "\n",
    "d = ((xb-xa)**2 + (yb-ya)**2)**(1/2)\n",
    "\n",
    "print(d)"
   ],
   "outputs": [
    {
     "output_type": "stream",
     "name": "stdout",
     "text": [
      "1.4142135623730951\n"
     ]
    }
   ],
   "metadata": {
    "tags": []
   }
  },
  {
   "cell_type": "markdown",
   "source": [
    "Las siguientes instrucciones permiten ejecutar el programa:\n",
    "\n",
    "1. Abrir un nuevo archivo con cualquier editor de texto.\n",
    "1. Copiar las líneas de código presentadas más arriba.\n",
    "1. Guardar el archivo con el nombre `distancia.py`.\n",
    "1. Desde el interprete de comandos de Windows, situarse en la carpeta que contiene el archivo `distancia.py`.\n",
    "1. Escribir la siguiente línea de comandos seguido de la tecla `Enter`:\n",
    "\n",
    "```\n",
    "    C:\\...\\> python distancia.py\n",
    "```"
   ],
   "metadata": {}
  }
 ],
 "metadata": {
  "language_info": {
   "codemirror_mode": {
    "name": "ipython",
    "version": 3
   },
   "file_extension": ".py",
   "mimetype": "text/x-python",
   "name": "python",
   "nbconvert_exporter": "python",
   "pygments_lexer": "ipython3",
   "version": "3.8.8"
  },
  "orig_nbformat": 2,
  "kernelspec": {
   "name": "python3",
   "display_name": "Python 3.8.8 64-bit ('edaenv': conda)"
  },
  "interpreter": {
   "hash": "202d1d44df6c15928d09411a0b718e4d5217eaa1aee5fa2339bd60bdd09bd4e9"
  }
 },
 "nbformat": 4,
 "nbformat_minor": 2
}