{
 "cells": [
  {
   "cell_type": "markdown",
   "source": [
    "# Tuplas y listas"
   ],
   "metadata": {}
  },
  {
   "cell_type": "markdown",
   "source": [
    "<img src='img/tipos_secuencias.svg'>"
   ],
   "metadata": {}
  },
  {
   "cell_type": "markdown",
   "source": [
    "Las secuencias en Python son __estructuras de datos que representan conjuntos finitos ordenados e indexados__:\n",
    "\n",
    "- Tuplas\n",
    "- Listas\n",
    "- Cadenas"
   ],
   "metadata": {}
  },
  {
   "cell_type": "markdown",
   "source": [
    "## Tuplas (```tuple```)"
   ],
   "metadata": {}
  },
  {
   "cell_type": "markdown",
   "source": [
    "- Es una secuencia ordenada, e [inmutable](https://en.wikibooks.org/wiki/Python_Programming/Data_Types#Mutable_vs_Immutable_Objects), de elementos. \n",
    "- Funcionalmente, son utilizada para representar heterogéneas secuencias de elementos (p. ej., fecha, dirección). \n",
    "- Sintácticamente, para crear una tupla los elementos se escriben como una secuencia separada por comas."
   ],
   "metadata": {}
  },
  {
   "cell_type": "code",
   "execution_count": 5,
   "source": [
    "aniversario = ('Dic', 25, 1983)"
   ],
   "outputs": [],
   "metadata": {}
  },
  {
   "cell_type": "code",
   "execution_count": 6,
   "source": [
    "type(aniversario)"
   ],
   "outputs": [
    {
     "output_type": "execute_result",
     "data": {
      "text/plain": [
       "tuple"
      ]
     },
     "metadata": {},
     "execution_count": 6
    }
   ],
   "metadata": {}
  },
  {
   "cell_type": "markdown",
   "source": [
    "Opcionalmente, la secuencia puede ser escrita entre paréntesis `()`. Las tuplas soportan datos de distintos tipos."
   ],
   "metadata": {}
  },
  {
   "cell_type": "code",
   "execution_count": 7,
   "source": [
    "'a', 'b', 'c', 'd'"
   ],
   "outputs": [
    {
     "output_type": "execute_result",
     "data": {
      "text/plain": [
       "('a', 'b', 'c', 'd')"
      ]
     },
     "metadata": {},
     "execution_count": 7
    }
   ],
   "metadata": {}
  },
  {
   "cell_type": "markdown",
   "source": [
    "En general, el acceso a los elementos de una tupla se hace por medio del desempaquetado (_unpacking_) de una tupla. Para una tupla de `k` elementos, `k` variables puedes ser asignadas a cada uno de dichos elementos."
   ],
   "metadata": {}
  },
  {
   "cell_type": "code",
   "execution_count": 8,
   "source": [
    "mm, dd, yy = aniversario"
   ],
   "outputs": [],
   "metadata": {}
  },
  {
   "cell_type": "code",
   "execution_count": 9,
   "source": [
    "print(yy)"
   ],
   "outputs": [
    {
     "output_type": "stream",
     "name": "stdout",
     "text": [
      "1983\n"
     ]
    }
   ],
   "metadata": {
    "tags": []
   }
  },
  {
   "cell_type": "markdown",
   "source": [
    "## Listas (```list```)"
   ],
   "metadata": {}
  },
  {
   "cell_type": "markdown",
   "source": [
    "- Es una secuencia [mutable](https://en.wikibooks.org/wiki/Python_Programming/Data_Types#Mutable_vs_Immutable_Objects) (o cambiable) ordenada de valores, que puede contener constantes o variables. \n",
    "- Cada valor que se encuentra dentro de una lista se denomina elemento y se definen  entre corchetes `[]`, donde los elementos son separados por una coma."
   ],
   "metadata": {}
  },
  {
   "cell_type": "code",
   "execution_count": 10,
   "source": [
    "[1, 2.1, 0.9764, -4, 5]"
   ],
   "outputs": [
    {
     "output_type": "execute_result",
     "data": {
      "text/plain": [
       "[1, 2.1, 0.9764, -4, 5]"
      ]
     },
     "metadata": {},
     "execution_count": 10
    }
   ],
   "metadata": {}
  },
  {
   "cell_type": "code",
   "execution_count": 11,
   "source": [
    "fruta = ['manzana', 'platano', 'naranja', 'pomelo']"
   ],
   "outputs": [],
   "metadata": {}
  },
  {
   "cell_type": "code",
   "execution_count": 12,
   "source": [
    "type(fruta)"
   ],
   "outputs": [
    {
     "output_type": "execute_result",
     "data": {
      "text/plain": [
       "list"
      ]
     },
     "metadata": {},
     "execution_count": 12
    }
   ],
   "metadata": {}
  },
  {
   "cell_type": "markdown",
   "source": [
    "## Operadores de secuencias"
   ],
   "metadata": {}
  },
  {
   "cell_type": "markdown",
   "source": [
    "- Los operadores de secuencias permite realizar algunas operaciones entre secuencias. Algunos operadores básicos:"
   ],
   "metadata": {}
  },
  {
   "cell_type": "markdown",
   "source": [
    "| Operación | Símbolo |\n",
    "| :--       | :--:|\n",
    "| Anidar    | + |\n",
    "| Repetir   |  ∗ |\n",
    "| Pertenencia  | in |"
   ],
   "metadata": {}
  },
  {
   "cell_type": "markdown",
   "source": [
    "La operación anidar `+` permite __concatenar secuencias__:"
   ],
   "metadata": {}
  },
  {
   "cell_type": "code",
   "execution_count": 13,
   "source": [
    "['manzana'] + ['repollo', 'zapallo']"
   ],
   "outputs": [
    {
     "output_type": "execute_result",
     "data": {
      "text/plain": [
       "['manzana', 'repollo', 'zapallo']"
      ]
     },
     "metadata": {},
     "execution_count": 13
    }
   ],
   "metadata": {}
  },
  {
   "cell_type": "code",
   "execution_count": 14,
   "source": [
    "'radio' + 'taxi'"
   ],
   "outputs": [
    {
     "output_type": "execute_result",
     "data": {
      "text/plain": [
       "'radiotaxi'"
      ]
     },
     "metadata": {},
     "execution_count": 14
    }
   ],
   "metadata": {}
  },
  {
   "cell_type": "markdown",
   "source": [
    "La operación repetir `*` __permite concatenar copias de la misma secuencias__:"
   ],
   "metadata": {}
  },
  {
   "cell_type": "code",
   "execution_count": 15,
   "source": [
    "['manzana'] * 3"
   ],
   "outputs": [
    {
     "output_type": "execute_result",
     "data": {
      "text/plain": [
       "['manzana', 'manzana', 'manzana']"
      ]
     },
     "metadata": {},
     "execution_count": 15
    }
   ],
   "metadata": {}
  },
  {
   "cell_type": "markdown",
   "source": [
    "Notar que el tipo de dato derivado de una operación de secuencia, es del mismo tipo de la secuencia que se está operando:"
   ],
   "metadata": {}
  },
  {
   "cell_type": "code",
   "execution_count": 16,
   "source": [
    "type('auto' + 'movil')"
   ],
   "outputs": [
    {
     "output_type": "execute_result",
     "data": {
      "text/plain": [
       "str"
      ]
     },
     "metadata": {},
     "execution_count": 16
    }
   ],
   "metadata": {}
  },
  {
   "cell_type": "markdown",
   "source": [
    "El operador `in` permite __comprobar si un valor o variable pertenece a una secuencia__. Es un operador binario con asociatividad por la derecha. Además, puede ser utilizado en conjunto con el operador `not` lo que permite comprobar si elemento no pertenece a una secuencia."
   ],
   "metadata": {}
  },
  {
   "cell_type": "code",
   "execution_count": 18,
   "source": [
    "'limon' in fruta"
   ],
   "outputs": [
    {
     "output_type": "execute_result",
     "data": {
      "text/plain": [
       "False"
      ]
     },
     "metadata": {},
     "execution_count": 18
    }
   ],
   "metadata": {}
  },
  {
   "cell_type": "markdown",
   "source": [
    "### Longitud y posición de elementos\n",
    "\n",
    "Cuando la longitud de una secuencia es `n`, cada elemento tiene como índice los números `0, 1, ..., n-1`. \n",
    "\n",
    "La __longitud de una secuencia__, se puede obtener por medio de la función `len()` que devuelve el número de elementos de una secuencia:"
   ],
   "metadata": {}
  },
  {
   "cell_type": "code",
   "execution_count": 19,
   "source": [
    "print(fruta)"
   ],
   "outputs": [
    {
     "output_type": "stream",
     "name": "stdout",
     "text": [
      "['manzana', 'platano', 'naranja', 'pomelo']\n"
     ]
    }
   ],
   "metadata": {
    "tags": []
   }
  },
  {
   "cell_type": "code",
   "execution_count": 20,
   "source": [
    "longitud = len(fruta)"
   ],
   "outputs": [],
   "metadata": {}
  },
  {
   "cell_type": "code",
   "execution_count": 21,
   "source": [
    "print(longitud)"
   ],
   "outputs": [
    {
     "output_type": "stream",
     "name": "stdout",
     "text": [
      "4\n"
     ]
    }
   ],
   "metadata": {
    "tags": []
   }
  },
  {
   "cell_type": "markdown",
   "source": [
    "El ítem `i` de la secuencia es seleccionado de la forma `[i]`."
   ],
   "metadata": {}
  },
  {
   "cell_type": "code",
   "execution_count": 22,
   "source": [
    "print(fruta[0])"
   ],
   "outputs": [
    {
     "output_type": "stream",
     "name": "stdout",
     "text": [
      "manzana\n"
     ]
    }
   ],
   "metadata": {
    "tags": []
   }
  },
  {
   "cell_type": "code",
   "execution_count": 23,
   "source": [
    "fruta[len(fruta)-1]"
   ],
   "outputs": [
    {
     "output_type": "execute_result",
     "data": {
      "text/plain": [
       "'pomelo'"
      ]
     },
     "metadata": {},
     "execution_count": 23
    }
   ],
   "metadata": {}
  },
  {
   "cell_type": "markdown",
   "source": [
    "Para conocer la __posición de un valor__ que existe en una secuencia, la función `index()` devuelve el índice del valor que pertenece a una secuencia:"
   ],
   "metadata": {}
  },
  {
   "cell_type": "code",
   "execution_count": 24,
   "source": [
    "fruta.index('platano')"
   ],
   "outputs": [
    {
     "output_type": "execute_result",
     "data": {
      "text/plain": [
       "1"
      ]
     },
     "metadata": {},
     "execution_count": 24
    }
   ],
   "metadata": {}
  },
  {
   "cell_type": "code",
   "execution_count": 25,
   "source": [
    "'platano'.index('a')"
   ],
   "outputs": [
    {
     "output_type": "execute_result",
     "data": {
      "text/plain": [
       "2"
      ]
     },
     "metadata": {},
     "execution_count": 25
    }
   ],
   "metadata": {}
  },
  {
   "cell_type": "markdown",
   "source": [
    "Si el valor está duplicado, la función entrega la primera ocurrencia. Además, la función `index()` permite indicar la posición de ínicio de búsqueda de la ocurrencia del valor sobre una secuencia.</p>\n",
    "\n",
    "En el siguiente ejemplo, la función devuelve la ocurrencia del valor `'o'` desde la quinta posición en la secuencia `'automovil'`:"
   ],
   "metadata": {}
  },
  {
   "cell_type": "code",
   "execution_count": 26,
   "source": [
    "cadena = 'automovil'\n",
    "cadena.index('o', 5)"
   ],
   "outputs": [
    {
     "output_type": "execute_result",
     "data": {
      "text/plain": [
       "5"
      ]
     },
     "metadata": {},
     "execution_count": 26
    }
   ],
   "metadata": {}
  },
  {
   "cell_type": "markdown",
   "source": [
    "A continuación se presenta una sentencia que identifica la segunda ocurrencia del caracter <code>'o'</code> sobre la secuencia `cadena`:"
   ],
   "metadata": {}
  },
  {
   "cell_type": "code",
   "execution_count": 27,
   "source": [
    "cadena.index('o', cadena.index('o') + 1)"
   ],
   "outputs": [
    {
     "output_type": "execute_result",
     "data": {
      "text/plain": [
       "5"
      ]
     },
     "metadata": {},
     "execution_count": 27
    }
   ],
   "metadata": {}
  },
  {
   "cell_type": "markdown",
   "source": [
    "## Segmentación"
   ],
   "metadata": {}
  },
  {
   "cell_type": "markdown",
   "source": [
    "Las secuencias también soportan la __segmentación__ `[i:j]`, que selecciona todos los elementos con índice `k` tal que `i <= k < j`. Cuando se utiliza como una expresión, el segmento es una secuencia del mismo tipo, lo que implica que el conjunto de índices se vuelve a numerar para que comience en `0`.\n",
    "\n",
    "Por ejemplo, aplicando segmentación sobre un `str`:"
   ],
   "metadata": {}
  },
  {
   "cell_type": "code",
   "execution_count": 28,
   "source": [
    "print(cadena)"
   ],
   "outputs": [
    {
     "output_type": "stream",
     "name": "stdout",
     "text": [
      "automovil\n"
     ]
    }
   ],
   "metadata": {
    "tags": []
   }
  },
  {
   "cell_type": "code",
   "execution_count": 32,
   "source": [
    "cadena[:4]"
   ],
   "outputs": [
    {
     "output_type": "execute_result",
     "data": {
      "text/plain": [
       "'auto'"
      ]
     },
     "metadata": {},
     "execution_count": 32
    }
   ],
   "metadata": {}
  },
  {
   "cell_type": "markdown",
   "source": [
    "Otro ejemplo, utilizando la ocurrencia de elementos:"
   ],
   "metadata": {}
  },
  {
   "cell_type": "code",
   "execution_count": 33,
   "source": [
    "cadena = 'automovil'\n",
    "cadena[0: cadena.index('o') + 1]"
   ],
   "outputs": [
    {
     "output_type": "execute_result",
     "data": {
      "text/plain": [
       "'auto'"
      ]
     },
     "metadata": {},
     "execution_count": 33
    }
   ],
   "metadata": {}
  },
  {
   "cell_type": "markdown",
   "source": [
    "Aplicando la segmentación sobre una `list`:"
   ],
   "metadata": {}
  },
  {
   "cell_type": "code",
   "execution_count": 34,
   "source": [
    "fruta[:2]"
   ],
   "outputs": [
    {
     "output_type": "execute_result",
     "data": {
      "text/plain": [
       "['manzana', 'platano']"
      ]
     },
     "metadata": {},
     "execution_count": 34
    }
   ],
   "metadata": {
    "scrolled": true
   }
  },
  {
   "cell_type": "markdown",
   "source": [
    "## Mutación de secuencias"
   ],
   "metadata": {}
  },
  {
   "cell_type": "markdown",
   "source": [
    "- Python proporciona un conjunto operaciones que permiten __modificar__, __agregar__ y __eliminar__ valores de una secuencia mutable.\n",
    "- Para modificar elementos de una secuencia, __se selecciona dicho elemento mediante su índice__ y se le asigna el nuevo valor."
   ],
   "metadata": {}
  },
  {
   "cell_type": "markdown",
   "source": [
    "Para __agregar elementos la final de una secuencia__, se emplea la función `append()`:"
   ],
   "metadata": {}
  },
  {
   "cell_type": "code",
   "execution_count": 35,
   "source": [
    "fruta"
   ],
   "outputs": [
    {
     "output_type": "execute_result",
     "data": {
      "text/plain": [
       "['manzana', 'platano', 'naranja', 'pomelo']"
      ]
     },
     "metadata": {},
     "execution_count": 35
    }
   ],
   "metadata": {}
  },
  {
   "cell_type": "code",
   "execution_count": 36,
   "source": [
    "fruta.append('melon')\n",
    "fruta"
   ],
   "outputs": [
    {
     "output_type": "execute_result",
     "data": {
      "text/plain": [
       "['manzana', 'platano', 'naranja', 'pomelo', 'melon']"
      ]
     },
     "metadata": {},
     "execution_count": 36
    }
   ],
   "metadata": {}
  },
  {
   "cell_type": "markdown",
   "source": [
    "Para __insertar un nuevo valor__ en la posición cuyo índice es `k` se utiliza la operación `insert()`. Por ejemplo, para insertar un elemento en la cuarta posición:"
   ],
   "metadata": {}
  },
  {
   "cell_type": "code",
   "execution_count": 37,
   "source": [
    "fruta.insert(3, 'sandia')\n",
    "fruta"
   ],
   "outputs": [
    {
     "output_type": "execute_result",
     "data": {
      "text/plain": [
       "['manzana', 'platano', 'naranja', 'sandia', 'pomelo', 'melon']"
      ]
     },
     "metadata": {},
     "execution_count": 37
    }
   ],
   "metadata": {}
  },
  {
   "cell_type": "markdown",
   "source": [
    "Para __eliminar un valor__ de una lista se utiliza la función `remove()`. Si el valor a eliminar está repetido, se elimina sólo su primera aparición:"
   ],
   "metadata": {}
  },
  {
   "cell_type": "code",
   "execution_count": 38,
   "source": [
    "fruta.remove('platano')\n",
    "fruta"
   ],
   "outputs": [
    {
     "output_type": "execute_result",
     "data": {
      "text/plain": [
       "['manzana', 'naranja', 'sandia', 'pomelo', 'melon']"
      ]
     },
     "metadata": {},
     "execution_count": 38
    }
   ],
   "metadata": {}
  },
  {
   "cell_type": "markdown",
   "source": [
    "## Asignación de referencias"
   ],
   "metadata": {}
  },
  {
   "cell_type": "markdown",
   "source": [
    "- En Python, __las listas son almacenadas mediante referencias a las secuencias de elementos__.\n",
    "- La asignación del contenido de una variable que almacena una lista, supone la copia de la referencia hacia dichos elementos de la lista, almacenados en una zona de memoria. Una interpretación gráfica:"
   ],
   "metadata": {}
  },
  {
   "cell_type": "markdown",
   "source": [
    "![Asignación de listas](img/list_assignment.svg)"
   ],
   "metadata": {}
  },
  {
   "cell_type": "code",
   "execution_count": 39,
   "source": [
    "a = [1, 4, 5]\n",
    "b = [1, 4, 5]\n",
    "c = a"
   ],
   "outputs": [],
   "metadata": {}
  },
  {
   "cell_type": "code",
   "execution_count": 40,
   "source": [
    "a"
   ],
   "outputs": [
    {
     "output_type": "execute_result",
     "data": {
      "text/plain": [
       "[1, 4, 5]"
      ]
     },
     "metadata": {},
     "execution_count": 40
    }
   ],
   "metadata": {}
  },
  {
   "cell_type": "code",
   "execution_count": 41,
   "source": [
    "b"
   ],
   "outputs": [
    {
     "output_type": "execute_result",
     "data": {
      "text/plain": [
       "[1, 4, 5]"
      ]
     },
     "metadata": {},
     "execution_count": 41
    }
   ],
   "metadata": {}
  },
  {
   "cell_type": "code",
   "execution_count": 42,
   "source": [
    "c"
   ],
   "outputs": [
    {
     "output_type": "execute_result",
     "data": {
      "text/plain": [
       "[1, 4, 5]"
      ]
     },
     "metadata": {},
     "execution_count": 42
    }
   ],
   "metadata": {}
  },
  {
   "cell_type": "markdown",
   "source": [
    "Notar que la comparación entre las distintas variables entrega como resultado que son iguales:"
   ],
   "metadata": {}
  },
  {
   "cell_type": "code",
   "execution_count": 43,
   "source": [
    "(a == b) and (a == c) and (b == c)"
   ],
   "outputs": [
    {
     "output_type": "execute_result",
     "data": {
      "text/plain": [
       "True"
      ]
     },
     "metadata": {},
     "execution_count": 43
    }
   ],
   "metadata": {}
  },
  {
   "cell_type": "markdown",
   "source": [
    "Para estos casos, cuando dos (o más) variables hacen referencia a la misma zona en memoria, el operador `is` __permite identificar si dos (o más) objetos residen en la misma zona de memoria__."
   ],
   "metadata": {}
  },
  {
   "cell_type": "code",
   "execution_count": 44,
   "source": [
    "b is a"
   ],
   "outputs": [
    {
     "output_type": "execute_result",
     "data": {
      "text/plain": [
       "False"
      ]
     },
     "metadata": {},
     "execution_count": 44
    }
   ],
   "metadata": {}
  },
  {
   "cell_type": "code",
   "execution_count": 45,
   "source": [
    "c is a"
   ],
   "outputs": [
    {
     "output_type": "execute_result",
     "data": {
      "text/plain": [
       "True"
      ]
     },
     "metadata": {},
     "execution_count": 45
    }
   ],
   "metadata": {}
  },
  {
   "cell_type": "markdown",
   "source": [
    "Notar que, al realizar una __asignación de una variable a partir de referencias, los elementos de dicha variable no son independientes__. Esto es, si se modifica la variable, entonces se modifican los elementos a los cuales hacen referencia."
   ],
   "metadata": {}
  },
  {
   "cell_type": "code",
   "execution_count": 46,
   "source": [
    "a.append(8)\n",
    "print(c)"
   ],
   "outputs": [
    {
     "output_type": "stream",
     "name": "stdout",
     "text": [
      "[1, 4, 5, 8]\n"
     ]
    }
   ],
   "metadata": {
    "scrolled": true,
    "tags": []
   }
  }
 ],
 "metadata": {
  "kernelspec": {
   "display_name": "Python 3",
   "language": "python",
   "name": "python3"
  },
  "language_info": {
   "codemirror_mode": {
    "name": "ipython",
    "version": 3
   },
   "file_extension": ".py",
   "mimetype": "text/x-python",
   "name": "python",
   "nbconvert_exporter": "python",
   "pygments_lexer": "ipython3",
   "version": "3.7.6-final"
  }
 },
 "nbformat": 4,
 "nbformat_minor": 2
}