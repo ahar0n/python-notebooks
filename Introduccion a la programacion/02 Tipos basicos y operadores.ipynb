{
 "cells": [
  {
   "cell_type": "markdown",
   "source": [
    "# Tipos básicos y operadores"
   ],
   "metadata": {}
  },
  {
   "cell_type": "markdown",
   "source": [
    "El tipo de dato es la propiedad de un valor que determina su dominio, que operaciones soportan y como se representan. En Python se pueden distinguir los siguientes __tipos básicos__ de datos: \n",
    "\n",
    "- Números\n",
    "- Lógicos\n",
    "- Nulos\n",
    "- Cadenas"
   ],
   "metadata": {}
  },
  {
   "cell_type": "markdown",
   "source": [
    "## Números"
   ],
   "metadata": {}
  },
  {
   "cell_type": "markdown",
   "source": [
    "- Los __números enteros__ en Python son de tipo `int`. \n",
    "- No tienen componente fraccionaria y pueden ser positivos o negativos. \n",
    "- Para distinguir entre positivos y negativos pueden ser precedidos de su signo."
   ],
   "metadata": {}
  },
  {
   "cell_type": "code",
   "execution_count": 3,
   "source": [
    "type(3) # La función type() retorna el tipo de dato de su argumento."
   ],
   "outputs": [
    {
     "output_type": "execute_result",
     "data": {
      "text/plain": [
       "int"
      ]
     },
     "metadata": {},
     "execution_count": 3
    }
   ],
   "metadata": {}
  },
  {
   "cell_type": "markdown",
   "source": [
    "- Los __números reales__ en Python son de tipo `float`. \n",
    "- Proviene del término <em><a href=\"https://es.wikipedia.org/wiki/Coma_flotante\">floating point</a></em> que es la forma en que el computador representa internamente los números reales."
   ],
   "metadata": {}
  },
  {
   "cell_type": "code",
   "execution_count": 6,
   "source": [
    "type(-0.765) # Este tipo de dato en otro lenguajes se denomina double"
   ],
   "outputs": [
    {
     "output_type": "execute_result",
     "data": {
      "text/plain": [
       "float"
      ]
     },
     "metadata": {},
     "execution_count": 6
    }
   ],
   "metadata": {}
  },
  {
   "cell_type": "markdown",
   "source": [
    "- Los __números complejos__ son de tipo `complex`. \n",
    "- Se componen de una parte real y una imaginaria, esta última es acompañada del caracter <code>j</code>."
   ],
   "metadata": {}
  },
  {
   "cell_type": "code",
   "execution_count": 7,
   "source": [
    "type(2+9j)"
   ],
   "outputs": [
    {
     "output_type": "execute_result",
     "data": {
      "text/plain": [
       "complex"
      ]
     },
     "metadata": {},
     "execution_count": 7
    }
   ],
   "metadata": {}
  },
  {
   "cell_type": "markdown",
   "source": [
    "### Operadores aritméticos\n",
    "- Operan valores numéricos y retornan valores númericos. \n",
    "- El tipo de dato del resultado obtenido de una operación aritmética dependerá del tipo de valor operado."
   ],
   "metadata": {}
  },
  {
   "cell_type": "markdown",
   "source": [
    "| Operación | Símbolo | Aridad | Asociatividad | Prioridad |\n",
    "|   :--     | :--:    |:--     | :--           | :--:      |\n",
    "|Exponenciación | **  |\tBinario |\tDerecha |\t1|\n",
    "|Identidad      | +   |\tUnario  |\t-   |\t2|\n",
    "|Cambio de signo| -   |\tUnario  |\t-   |\t2|\n",
    "|Multiplicación | *     |\tBinario |\tIzquierda   |\t3|\n",
    "|División       | /     |\tBinario |\tIzquierda   |\t3|\n",
    "|Módulo\t        | %     |   Binario |\tIzquierda   |\t3|\n",
    "|Suma           | +     |\tBinario |\tIzquierda   |\t4|\n",
    "|Resta          | -     |\tBinario |\tIzquierda   |\t4|\n",
    "|División entera| //    |\tBinario |\tIzquierda   |\t4|\n"
   ],
   "metadata": {}
  },
  {
   "cell_type": "markdown",
   "source": [
    "Cuando se operan datos cuyo resultado es de tipo ```float```, estos __no se representan de forma exacta__. Por ejemplo, el resultado de la siguiente operación expresada a partir de dos expresiones distintas:"
   ],
   "metadata": {}
  },
  {
   "cell_type": "code",
   "execution_count": 8,
   "source": [
    "2 * 3 / 5"
   ],
   "outputs": [
    {
     "output_type": "execute_result",
     "data": {
      "text/plain": [
       "1.2"
      ]
     },
     "metadata": {},
     "execution_count": 8
    }
   ],
   "metadata": {}
  },
  {
   "cell_type": "code",
   "execution_count": 9,
   "source": [
    "2 / 5 * 3"
   ],
   "outputs": [
    {
     "output_type": "execute_result",
     "data": {
      "text/plain": [
       "1.2000000000000002"
      ]
     },
     "metadata": {},
     "execution_count": 9
    }
   ],
   "metadata": {}
  },
  {
   "cell_type": "markdown",
   "source": [
    "## Lógicos (```bool```)"
   ],
   "metadata": {}
  },
  {
   "cell_type": "markdown",
   "source": [
    "- Permite representar valores de la lógica binaria: ```True``` y ```False```. "
   ],
   "metadata": {}
  },
  {
   "cell_type": "code",
   "execution_count": 11,
   "source": [
    "type(True)"
   ],
   "outputs": [
    {
     "output_type": "execute_result",
     "data": {
      "text/plain": [
       "bool"
      ]
     },
     "metadata": {},
     "execution_count": 11
    }
   ],
   "metadata": {}
  },
  {
   "cell_type": "markdown",
   "source": [
    "### Operadores lógicos\n",
    "- Estos operadores retornan como resultado valores de tipo ```bool```. \n",
    "- En Python hay tres operaciones lógicas:"
   ],
   "metadata": {}
  },
  {
   "cell_type": "markdown",
   "source": [
    "| Operación | Símbolo   | Aridad    | Asociatividad | Prioridad |\n",
    "|   :--     | :--:      | :--       | :--           | :--:      |\n",
    "|Negación   | not       | Unario    | -             | 6 |\n",
    "|Conjunción | and       | Binario   | Izquierda     | 7 |\n",
    "|Disyunción | or        | Binario   | Izquierda     | 8 |"
   ],
   "metadata": {}
  },
  {
   "cell_type": "code",
   "execution_count": 14,
   "source": [
    "type(not False and True or False)"
   ],
   "outputs": [
    {
     "output_type": "execute_result",
     "data": {
      "text/plain": [
       "bool"
      ]
     },
     "metadata": {},
     "execution_count": 14
    }
   ],
   "metadata": {}
  },
  {
   "cell_type": "markdown",
   "source": [
    "### Operadores relacionales\n",
    "- Son utilizados para comparar valores. \n",
    "- El operando puede ser de cualquier tipo que pueda ser comparado y el resultado siempre son de tipo <code>bool</code>."
   ],
   "metadata": {}
  },
  {
   "cell_type": "markdown",
   "source": [
    "| Operación | Símbolo   | Aridad    | Asociatividad | Prioridad |\n",
    "|   :--     | :--:      | :--       | :--           | :--:      |\n",
    "|Igual que\t| ==\t| Binario\t| -\t| 5|\n",
    "|Distinto que\t| !=\t| Binario\t| -\t| 5|\n",
    "|Menor que\t| <\t| Binario\t| -\t| 5|\n",
    "|Menor o igual que\t| <=\t| Binario\t| -\t| 5|\n",
    "|Mayor que\t| >\t| Binario\t| -\t| 5|\n",
    "|Mayor o igual que\t| >=\t| Binario\t| -\t| 5|"
   ],
   "metadata": {}
  },
  {
   "cell_type": "markdown",
   "source": [
    "<p>Cuando aparece una sucesión de comparadores, por ejemplo:</p>"
   ],
   "metadata": {}
  },
  {
   "cell_type": "code",
   "execution_count": 15,
   "source": [
    "2 > 4 < 7"
   ],
   "outputs": [
    {
     "output_type": "execute_result",
     "data": {
      "text/plain": [
       "False"
      ]
     },
     "metadata": {},
     "execution_count": 15
    }
   ],
   "metadata": {}
  },
  {
   "cell_type": "markdown",
   "source": [
    "Python lo evalúa como si se tratasen de comparadores operados por el operador lógico ```and```:"
   ],
   "metadata": {}
  },
  {
   "cell_type": "code",
   "execution_count": null,
   "source": [
    "2 > 4 and 4 < 7"
   ],
   "outputs": [],
   "metadata": {}
  },
  {
   "cell_type": "markdown",
   "source": [
    "## Nulo (`NoneType`)"
   ],
   "metadata": {}
  },
  {
   "cell_type": "markdown",
   "source": [
    "- El valor ```None``` es utilizado para __representar casos en que ningún valor es válido__ o para indicar que una variable __no tiene valor__.\n",
    "- El ```None```, tiene su propio tipo ```NoneType```."
   ],
   "metadata": {}
  },
  {
   "cell_type": "code",
   "execution_count": 2,
   "source": [
    "type(None)"
   ],
   "outputs": [
    {
     "output_type": "execute_result",
     "data": {
      "text/plain": [
       "NoneType"
      ]
     },
     "metadata": {},
     "execution_count": 2
    }
   ],
   "metadata": {}
  },
  {
   "cell_type": "markdown",
   "source": [
    "## Cadenas (```str```)\n",
    "- Es una secuencia <a href=\"https://en.wikibooks.org/wiki/Python_Programming/Data_Types#Mutable_vs_Immutable_Objects\">inmutable</a> de uno o más caracteres (letras, números, símbolos). \n",
    "- Pueden ser representados por medio de comillas simples o dobles."
   ],
   "metadata": {}
  },
  {
   "cell_type": "code",
   "execution_count": null,
   "source": [
    "type('Esto es una cadena de texto entre comillas simples!')"
   ],
   "outputs": [
    {
     "data": {
      "text/plain": [
       "str"
      ]
     },
     "metadata": {},
     "output_type": "display_data"
    }
   ],
   "metadata": {}
  },
  {
   "cell_type": "code",
   "execution_count": null,
   "source": [
    "type(\"Esto es una cadena de texto entre comillas dobles!\")"
   ],
   "outputs": [
    {
     "data": {
      "text/plain": [
       "str"
      ]
     },
     "metadata": {},
     "output_type": "display_data"
    }
   ],
   "metadata": {}
  },
  {
   "cell_type": "markdown",
   "source": [
    "Las cadenas de texto no son lo mismo que los valores representan. Además difieren de mayúsculas y minúsculas o en espacios:"
   ],
   "metadata": {}
  },
  {
   "cell_type": "code",
   "execution_count": null,
   "source": [
    "1 == '1'"
   ],
   "outputs": [
    {
     "data": {
      "text/plain": [
       "False"
      ]
     },
     "metadata": {},
     "output_type": "display_data"
    }
   ],
   "metadata": {}
  },
  {
   "cell_type": "code",
   "execution_count": null,
   "source": [
    "'casa' == 'Casa'"
   ],
   "outputs": [
    {
     "data": {
      "text/plain": [
       "False"
      ]
     },
     "metadata": {},
     "output_type": "display_data"
    }
   ],
   "metadata": {}
  }
 ],
 "metadata": {
  "kernelspec": {
   "display_name": "Python 3",
   "language": "python",
   "name": "python3"
  },
  "language_info": {
   "codemirror_mode": {
    "name": "ipython",
    "version": 3
   },
   "file_extension": ".py",
   "mimetype": "text/x-python",
   "name": "python",
   "nbconvert_exporter": "python",
   "pygments_lexer": "ipython3",
   "version": "3.7.6-final"
  }
 },
 "nbformat": 4,
 "nbformat_minor": 2
}