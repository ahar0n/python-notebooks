{
 "cells": [
  {
   "cell_type": "markdown",
   "metadata": {},
   "source": [
    "# Descripción de los datos"
   ]
  },
  {
   "cell_type": "markdown",
   "metadata": {},
   "source": [
    "## Atributos y categorías"
   ]
  },
  {
   "cell_type": "markdown",
   "metadata": {},
   "source": [
    "> Una __atributo__ representa una característica o rasgo representativo de un objeto.\n",
    ">\n",
    "> -_Han, J., Kamber, M. & Pei, J. Data mining: concepts and techniques. Elsevier Science, 2012._\n",
    "  "
   ]
  },
  {
   "cell_type": "markdown",
   "metadata": {},
   "source": [
    "En general, los términos __atributo__, __característica__, __dimensión__ y __variable__ son usados indistintamente."
   ]
  },
  {
   "cell_type": "markdown",
   "metadata": {},
   "source": [
    "- En _data warehousing_ es comunmente usado _dimensión_.\n",
    "- En _data mining_ (_Machine Learning/IA_) es usado el término _característica_.\n",
    "- En estadística, se prefiere el término _variable_.\n"
   ]
  },
  {
   "cell_type": "markdown",
   "metadata": {},
   "source": [
    "El __tipo__ de un atributo está determinado por el conjunto de valores posibles que puede tener el atributo."
   ]
  },
  {
   "cell_type": "markdown",
   "metadata": {},
   "source": [
    "### Nominales"
   ]
  },
  {
   "cell_type": "markdown",
   "metadata": {},
   "source": [
    "Un atributo puede considerarse nominal (o categórico) cuando sus valores representan categorías sin clasificación intrínseca. Por ejemplo, género, región, afiliación religiosa.\n",
    "\n",
    "- No cuenta con un orden lógico.\n",
    "- No tiene sentido aplicar operaciones aritméticas o compararlos.\n",
    "- Un atributo __binario__ es un atributo nominal con dos categorías o estados: `0` o `1`. También son denominados _booleans_: `True` o `False`."
   ]
  },
  {
   "cell_type": "markdown",
   "metadata": {},
   "source": [
    "### Ordinales"
   ]
  },
  {
   "cell_type": "markdown",
   "metadata": {},
   "source": [
    "Un atributo puede considerarse ordinal cuando sus valores representan categorías con alguna clasificación intrínseca. Por ejemplo, nivel de satisfacción, nivel educacional.\n",
    "\n",
    "- Posee un orden lógico.\n",
    "- Permite establecer comparaciones.\n",
    "- Pueden ser obtenidos desde la discretización de cantidades numéricas, dividiendo en rangos de números finitos o categorías ordenadas. Por ejemplo, tallas de ropa (_small_, _medium_, _large_).\n"
   ]
  },
  {
   "cell_type": "markdown",
   "metadata": {},
   "source": [
    "### Atributos numéricos"
   ]
  },
  {
   "cell_type": "markdown",
   "metadata": {},
   "source": [
    "Los atributos numéricos son cantidades medibles (cuantitativo).\n",
    "\n",
    "- Soporta todas las operaciones aritméticas.\n",
    "- Es posible realizar comparaciones.\n",
    "- Tienen orden y pueden ser positivos, 0 o negativos.\n",
    "- Proporcionar una clasificación de valores, dichos atributos nos permiten comparar y cuantificar la diferencia entre valores."
   ]
  },
  {
   "cell_type": "markdown",
   "metadata": {},
   "source": [
    "Los __atributos de escala de intervalo__ se miden en una escala de unidades de igual tamaño. Por ejemplo, la temperatura."
   ]
  },
  {
   "cell_type": "markdown",
   "metadata": {},
   "source": [
    "Un __atributo en escala de relación__ (_ratio_) poseen las mismas características que las de tipo intervalo, con la distinción que poseen con un cero absoluto (ausencia de la medida). Este tipo de variables están destinadas a no ser negativas. Por ejemplo, edad, peso, distancia, etc. "
   ]
  },
  {
   "cell_type": "markdown",
   "metadata": {},
   "source": [
    "## Estadísticos descriptivos"
   ]
  },
  {
   "cell_type": "markdown",
   "metadata": {},
   "source": [
    "Para el preprocesamiento de datos es esencial tener una representación general de los datos. Para esto, se pueden utilizar descripciones estadísticas básicas para __identificar las propiedades de los datos e identificar si los valores de datos deben tratarse como ruido o valores atípicos (_outliers_)__."
   ]
  },
  {
   "cell_type": "markdown",
   "metadata": {},
   "source": [
    "### Estadísticos de tendencia central\n",
    "Representan un _centro_  en torno al cual se encuentra un conjunto de datos: __media__, __mediana__ y __moda__."
   ]
  },
  {
   "cell_type": "markdown",
   "metadata": {},
   "source": [
    "#### Media\n",
    "\n",
    "La __media__ (aritmética) es la suma arítmetica de los valores de la población, dividia por la cantidad de valores. Usualmente, se aplica sobre las categorías de tipo intervalo y ratio.\n",
    "\n",
    "\\begin{equation*}\n",
    "\\mu = \\frac{1}{N} \\sum_{i=1}^{N} x_i\n",
    "\\end{equation*}"
   ]
  },
  {
   "cell_type": "code",
   "execution_count": 1,
   "metadata": {},
   "outputs": [
    {
     "data": {
      "text/plain": [
       "146.2"
      ]
     },
     "execution_count": 1,
     "metadata": {},
     "output_type": "execute_result"
    }
   ],
   "source": [
    "import pandas as pd\n",
    "import numpy as np\n",
    "\n",
    "df_personas = pd.read_excel('dataset/personas.xlsx')    # datos\n",
    "alturas = np.array(df_personas['Altura'])               # atributo \n",
    "alturas.mean()"
   ]
  },
  {
   "cell_type": "code",
   "execution_count": 2,
   "metadata": {},
   "outputs": [
    {
     "data": {
      "text/plain": [
       "Altura    146.2\n",
       "Peso      109.8\n",
       "dtype: float64"
      ]
     },
     "execution_count": 2,
     "metadata": {},
     "output_type": "execute_result"
    }
   ],
   "source": [
    "df_personas[['Altura', 'Peso']].mean()  # usando Pandas"
   ]
  },
  {
   "cell_type": "markdown",
   "metadata": {},
   "source": [
    "La __media ponderada__, usada cuando cada valor valor ($x_i$) tiene asociado un peso ($w_i$) o significancia,\n",
    "\n",
    "\\begin{equation*}\n",
    "\\overline{x} = \\frac{\\frac{1}{N} \\sum_{i=1}^{N} w_i x_i}{\\sum_{i=1}^{N}w_i}\n",
    "\\end{equation*}\n",
    "\n",
    "puede ser obtenida con la función `numpy.average()`."
   ]
  },
  {
   "cell_type": "code",
   "execution_count": 3,
   "metadata": {},
   "outputs": [
    {
     "data": {
      "text/plain": [
       "5.090000000000001"
      ]
     },
     "execution_count": 3,
     "metadata": {},
     "output_type": "execute_result"
    }
   ],
   "source": [
    "notas = np.array([3.5, 6.1, 4.2, 5.0])\n",
    "pesos = np.array([0.2, 0.5, 0.2, 0.1])\n",
    "np.average(notas, weights= pesos)"
   ]
  },
  {
   "cell_type": "markdown",
   "metadata": {},
   "source": [
    "#### Mediana \n",
    "Representa el valor de la variable de posición central de un conjunto ordenado de datos. Tiene sentido aplicar la madiana sobre las categoría de tipo __ordinal__.\n",
    "\n",
    "\\begin{equation*}\n",
    "median = L_1 + \\left( \\frac{\\frac{N}{2} - (\\sum freq)_{l} }{ freq_{median}} \\right) width\n",
    "\\end{equation*}\n",
    "\n",
    "donde, $L_1$ es el límite inferior del intervalo de la mediana, $N$ es el número de valores del conjunto de datos, $(\\sum freq)_{l}$ es la suma de las frecuencias de todos los intervalos que estan bajo el intervalo de la media, $freq_{median}$ es la frecuencia del intervalo de la media, y $width$ es el ancho del intervalo de la mediana"
   ]
  },
  {
   "cell_type": "code",
   "execution_count": 4,
   "metadata": {},
   "outputs": [
    {
     "data": {
      "text/plain": [
       "4.5"
      ]
     },
     "execution_count": 4,
     "metadata": {},
     "output_type": "execute_result"
    }
   ],
   "source": [
    "datos = np.array([1, 2, 3, 4, 5, 6, 7, 8])  #  (4 + 5)/2\n",
    "np.median(datos)"
   ]
  },
  {
   "cell_type": "code",
   "execution_count": 5,
   "metadata": {},
   "outputs": [
    {
     "data": {
      "text/plain": [
       "148.5"
      ]
     },
     "execution_count": 5,
     "metadata": {},
     "output_type": "execute_result"
    }
   ],
   "source": [
    "np.median(alturas)"
   ]
  },
  {
   "cell_type": "markdown",
   "metadata": {},
   "source": [
    "#### Moda\n",
    "Corresponde al valor más frecuente. Para valores de tipo __nominal__ sólo tiene sentido calcular la __moda__."
   ]
  },
  {
   "cell_type": "markdown",
   "metadata": {},
   "source": [
    "La función `scipy.stats.mode()` de la `scipy.stats`, obntiene el valor de la moda y su frecuencia."
   ]
  },
  {
   "cell_type": "code",
   "execution_count": 6,
   "metadata": {},
   "outputs": [
    {
     "data": {
      "text/plain": [
       "ModeResult(mode=array([[122, 'Masculino']], dtype=object), count=array([[2, 6]]))"
      ]
     },
     "execution_count": 6,
     "metadata": {},
     "output_type": "execute_result"
    }
   ],
   "source": [
    "import scipy.stats as stats\n",
    "\n",
    "stats.mode(df_personas[['Altura', 'Genero']])"
   ]
  },
  {
   "cell_type": "markdown",
   "metadata": {},
   "source": [
    "### Estadísticos de dispersión"
   ]
  },
  {
   "cell_type": "markdown",
   "metadata": {},
   "source": [
    "Los __estadísticos de dispersión__ proporcionan información sobre la variación de una variable: __rango__, __rango intercuartil (IQR)__, __desviación típica__ y __varianza__."
   ]
  },
  {
   "cell_type": "markdown",
   "metadata": {},
   "source": [
    "#### Desviación estándar \n",
    "La desviación estándar de la media es una medida que cuantifica la variación o la dispersión de un conjunto de valores numéricos.\n",
    "\n",
    "\n",
    "\\begin{equation}\n",
    "\\sigma = \\sqrt{ \\frac{1}{N} \\sum_{i=1}^{N} \\left( x_i - \\mu \\right)^{2} }\n",
    "\\end{equation}\n",
    "\n",
    "- Valores bajos indican que los datos tienden a estar agrupados cerca de la media.\n",
    "- Valores altos indican que los datos se extienden sobre un rango más amplio."
   ]
  },
  {
   "cell_type": "code",
   "execution_count": 7,
   "metadata": {},
   "outputs": [
    {
     "data": {
      "text/plain": [
       "17.039953051578518"
      ]
     },
     "execution_count": 7,
     "metadata": {},
     "output_type": "execute_result"
    }
   ],
   "source": [
    "np.std(alturas)     # población completa"
   ]
  },
  {
   "cell_type": "code",
   "execution_count": null,
   "metadata": {},
   "outputs": [],
   "source": [
    "# muestra de una población\n",
    "def desviacion_estandar(serie):\n",
    "    suma = 0\n",
    "    for xi in serie:\n",
    "        suma += (xi - alturas.mean()) ** 2\n",
    "    return ( suma / (len(serie) -1) ) ** 0.5\n",
    "\n",
    "desviacion_estandar(alturas)"
   ]
  },
  {
   "cell_type": "markdown",
   "metadata": {},
   "source": [
    "#### Rango\n",
    "\n",
    "El __rango__ de un conjunto de valores se define como la la diferencia entre el valor mayor y el valor menor."
   ]
  },
  {
   "cell_type": "code",
   "execution_count": 8,
   "metadata": {},
   "outputs": [
    {
     "data": {
      "text/plain": [
       "49"
      ]
     },
     "execution_count": 8,
     "metadata": {},
     "output_type": "execute_result"
    }
   ],
   "source": [
    "np.max(alturas) - np.min(alturas)"
   ]
  },
  {
   "cell_type": "markdown",
   "metadata": {},
   "source": [
    "#### Rango intercuartil (IQR) \n",
    "\n",
    "Se define como la distancia entre el primer cuartil (25%) y el tercer cuartil (75%). Es una medida que proporciona el rango cubierto por la __mitad central de los datos__.\n",
    "\n",
    "\\begin{equation*}\n",
    "IQR = Q_{75\\%} - Q_{25\\%}\n",
    "\\end{equation*}\n",
    "\n",
    "\n",
    "\n",
    "- Un __cuartil__ es un cuantil (puntos a intervalos regulares de la función de distribución) multiplicado por un cuarto de un conjunto de datos.\n",
    "- El primer cuartil (Q1) corresponde con la mediana de la primera mitad de valores.\n",
    "- El segundo cuartil (Q2) corresponde con la mediana de la serie.\n",
    "- El tercer cuartil (Q3) corresponde con la mediana de la segunda mitad de valores.\n",
    "\n",
    "La función `pandas.qcut()` convierte una serie en una lista de N cuantiles. Esta función retorna una serie categórica nueva con los cuartiles como categorías.\n",
    "\n",
    "- Para `n=4`, retorna los cuartiles."
   ]
  },
  {
   "cell_type": "code",
   "execution_count": 9,
   "metadata": {},
   "outputs": [
    {
     "data": {
      "text/plain": [
       "IntervalIndex([(121.999, 131.25], (131.25, 148.5], (148.5, 155.25], (155.25, 171.0]], dtype='interval[float64, right]')"
      ]
     },
     "execution_count": 9,
     "metadata": {},
     "output_type": "execute_result"
    }
   ],
   "source": [
    "cuartiles_alturas = pd.qcut(alturas, 4)\n",
    "cuartiles_alturas.categories"
   ]
  },
  {
   "cell_type": "code",
   "execution_count": 10,
   "metadata": {},
   "outputs": [
    {
     "data": {
      "text/plain": [
       "Interval(121.999, 131.25, closed='right')"
      ]
     },
     "execution_count": 10,
     "metadata": {},
     "output_type": "execute_result"
    }
   ],
   "source": [
    "cuartiles_alturas.categories[0] # Q1"
   ]
  },
  {
   "cell_type": "code",
   "execution_count": 11,
   "metadata": {},
   "outputs": [
    {
     "data": {
      "text/plain": [
       "Interval(148.5, 155.25, closed='right')"
      ]
     },
     "execution_count": 11,
     "metadata": {},
     "output_type": "execute_result"
    }
   ],
   "source": [
    "cuartiles_alturas.categories[2] # Q3"
   ]
  },
  {
   "cell_type": "code",
   "execution_count": 12,
   "metadata": {},
   "outputs": [
    {
     "data": {
      "text/plain": [
       "24.0"
      ]
     },
     "execution_count": 12,
     "metadata": {},
     "output_type": "execute_result"
    }
   ],
   "source": [
    "IQR = 155.25 - 131.25\n",
    "IQR"
   ]
  },
  {
   "cell_type": "markdown",
   "metadata": {},
   "source": [
    "### Estadísticos de forma\n",
    "Los __estadísticos de forma__: simetría y curtosis"
   ]
  },
  {
   "cell_type": "markdown",
   "metadata": {},
   "source": [
    "#### Skewness\n",
    "\n",
    "El parámetro __skewness__ mide la asimetría de una distribución de probabilidad de una variable aleatoria:\n",
    "\n",
    "\\begin{equation}\n",
    "C = \\frac{1}{N} \\sum_{n=1}^{N} \\left( \\frac{ x_i - \\overline{x} }{ \\sigma } \\right)^3\n",
    "\\end{equation}\n",
    "\n",
    "donde $\\overline{x}$, $\\sigma$ y $N$ son la media, la desviación estándar y el número ejemplos."
   ]
  },
  {
   "cell_type": "markdown",
   "metadata": {},
   "source": [
    "<img src=\"img/skewness.jpg\" width=\"400px\">"
   ]
  },
  {
   "cell_type": "markdown",
   "metadata": {},
   "source": [
    "- Si una distribución es simétrica, existe el mismo número de valores a la derecha que a la izquierda de la media, por lo tanto, el mismo numéro de desviaciones a cada lado.\n",
    "- Se dice __asimetría negativa__ cuando la cola más larga es hacia la izquierda.\n",
    "- Se dice __asimetría positiva__ cuando la cola más larga es hacia la derecha."
   ]
  },
  {
   "cell_type": "code",
   "execution_count": 13,
   "metadata": {},
   "outputs": [
    {
     "data": {
      "text/plain": [
       "-0.10611431497704359"
      ]
     },
     "execution_count": 13,
     "metadata": {},
     "output_type": "execute_result"
    }
   ],
   "source": [
    "def skewness(serie):\n",
    "    x = np.mean(serie)\n",
    "    sigma = np.std(serie)\n",
    "    suma = 0\n",
    "    for xi in serie:\n",
    "        suma += ( (xi - x) / sigma ) ** 3\n",
    "    return 1 / len(serie) * suma\n",
    "\n",
    "skewness(alturas)"
   ]
  },
  {
   "cell_type": "code",
   "execution_count": 14,
   "metadata": {},
   "outputs": [
    {
     "data": {
      "text/plain": [
       "-0.10611431497704359"
      ]
     },
     "execution_count": 14,
     "metadata": {},
     "output_type": "execute_result"
    }
   ],
   "source": [
    "stats.skew(alturas)"
   ]
  },
  {
   "cell_type": "markdown",
   "metadata": {},
   "source": [
    "#### Kurtosis\n",
    "\n",
    "La kurtosis es el parámetros que mide la forma de una distribución:\n",
    "\n",
    "\\begin{equation}\n",
    "D = \\frac{1}{N} \\sum_{n=1}^{N} \\left( \\frac{ x_i - \\overline{x} }{ \\sigma } \\right)^4 - 3\n",
    "\\end{equation}\n",
    "\n",
    "donde $\\overline{x}$, $\\sigma$ y $N$ son la media, la desviación estándar y el número ejemplos.\n",
    "\n",
    "__NOTA__: El coeficiente de kurtosis para una distribución normal (perfecta) es igual a 3. Esto permite obtener kurotisis positiva y negativa desde la distribución normal."
   ]
  },
  {
   "cell_type": "markdown",
   "metadata": {},
   "source": [
    "<img src=\"img/kurtosis.jpg\" width=\"400px\">"
   ]
  },
  {
   "cell_type": "code",
   "execution_count": 15,
   "metadata": {},
   "outputs": [
    {
     "data": {
      "text/plain": [
       "-1.1811045173084498"
      ]
     },
     "execution_count": 15,
     "metadata": {},
     "output_type": "execute_result"
    }
   ],
   "source": [
    "def kurtosis(serie):\n",
    "    x = np.mean(serie)\n",
    "    sigma = np.std(serie)\n",
    "    suma = 0\n",
    "    for xi in serie:\n",
    "        suma += ( (xi - x) / sigma ) ** 4\n",
    "    return (suma / len(serie)) - 3\n",
    "\n",
    "kurtosis(alturas)"
   ]
  },
  {
   "cell_type": "code",
   "execution_count": 16,
   "metadata": {},
   "outputs": [
    {
     "data": {
      "text/plain": [
       "-1.1811045173084493"
      ]
     },
     "execution_count": 16,
     "metadata": {},
     "output_type": "execute_result"
    }
   ],
   "source": [
    "stats.kurtosis(alturas)"
   ]
  },
  {
   "cell_type": "markdown",
   "metadata": {},
   "source": [
    "#### Resumen de las estadísticas de las variables"
   ]
  },
  {
   "cell_type": "code",
   "execution_count": 17,
   "metadata": {},
   "outputs": [
    {
     "data": {
      "text/html": [
       "<div>\n",
       "<style scoped>\n",
       "    .dataframe tbody tr th:only-of-type {\n",
       "        vertical-align: middle;\n",
       "    }\n",
       "\n",
       "    .dataframe tbody tr th {\n",
       "        vertical-align: top;\n",
       "    }\n",
       "\n",
       "    .dataframe thead th {\n",
       "        text-align: right;\n",
       "    }\n",
       "</style>\n",
       "<table border=\"1\" class=\"dataframe\">\n",
       "  <thead>\n",
       "    <tr style=\"text-align: right;\">\n",
       "      <th></th>\n",
       "      <th>Numero</th>\n",
       "      <th>Altura</th>\n",
       "      <th>Peso</th>\n",
       "    </tr>\n",
       "  </thead>\n",
       "  <tbody>\n",
       "    <tr>\n",
       "      <th>count</th>\n",
       "      <td>10.00000</td>\n",
       "      <td>10.000000</td>\n",
       "      <td>10.000000</td>\n",
       "    </tr>\n",
       "    <tr>\n",
       "      <th>mean</th>\n",
       "      <td>5.50000</td>\n",
       "      <td>146.200000</td>\n",
       "      <td>109.800000</td>\n",
       "    </tr>\n",
       "    <tr>\n",
       "      <th>std</th>\n",
       "      <td>3.02765</td>\n",
       "      <td>17.961688</td>\n",
       "      <td>15.411395</td>\n",
       "    </tr>\n",
       "    <tr>\n",
       "      <th>min</th>\n",
       "      <td>1.00000</td>\n",
       "      <td>122.000000</td>\n",
       "      <td>98.000000</td>\n",
       "    </tr>\n",
       "    <tr>\n",
       "      <th>25%</th>\n",
       "      <td>3.25000</td>\n",
       "      <td>131.250000</td>\n",
       "      <td>98.000000</td>\n",
       "    </tr>\n",
       "    <tr>\n",
       "      <th>50%</th>\n",
       "      <td>5.50000</td>\n",
       "      <td>148.500000</td>\n",
       "      <td>100.500000</td>\n",
       "    </tr>\n",
       "    <tr>\n",
       "      <th>75%</th>\n",
       "      <td>7.75000</td>\n",
       "      <td>155.250000</td>\n",
       "      <td>118.750000</td>\n",
       "    </tr>\n",
       "    <tr>\n",
       "      <th>max</th>\n",
       "      <td>10.00000</td>\n",
       "      <td>171.000000</td>\n",
       "      <td>136.000000</td>\n",
       "    </tr>\n",
       "  </tbody>\n",
       "</table>\n",
       "</div>"
      ],
      "text/plain": [
       "         Numero      Altura        Peso\n",
       "count  10.00000   10.000000   10.000000\n",
       "mean    5.50000  146.200000  109.800000\n",
       "std     3.02765   17.961688   15.411395\n",
       "min     1.00000  122.000000   98.000000\n",
       "25%     3.25000  131.250000   98.000000\n",
       "50%     5.50000  148.500000  100.500000\n",
       "75%     7.75000  155.250000  118.750000\n",
       "max    10.00000  171.000000  136.000000"
      ]
     },
     "execution_count": 17,
     "metadata": {},
     "output_type": "execute_result"
    }
   ],
   "source": [
    "df_personas.describe()  # usando Pandas, solo var. numéricas"
   ]
  },
  {
   "cell_type": "markdown",
   "metadata": {},
   "source": [
    "#### Coeficiente de correlación (Pearson)\n",
    "\n",
    "Es una medida que determina el grado en que se asocian los movimientos de dos variables.\n",
    "\n",
    "\\begin{equation*}\n",
    "\\rho_{X,Y} = \\frac{\\sigma_{XY}}{\\sigma_{X} \\sigma_{Y}}\n",
    "\\end{equation*}\n",
    "\n",
    "donde, $\\sigma_{XY}$ es la covarianza de $XY$, $\\sigma_{X}$ es la desviación estandar de la variable $X$ y $\\sigma_{Y}$ es la desviación estandar de la variable $Y$.\n",
    "\n",
    "El valor varía en el intervalo $[-1,1]$, indicando el signo el sentido de la relación:\n",
    "\n",
    "- Si $\\rho = 1$, existe una correlación positiva perfecta, indica dependencia total entre las dos variables.\n",
    "- Si $0 < \\rho < 1$ es una corelación positiva.\n",
    "- Si $\\rho = 0$, indica que no existe relación lineal entre las dos variables.\n",
    "- Si $-1 < \\rho < 0$ es una corelación negativa.\n",
    "- Si $\\rho = -1$, existe una correlación negativa perfecta, indica dependencia total (relación inversa) entre las dos variables."
   ]
  },
  {
   "cell_type": "code",
   "execution_count": 18,
   "metadata": {},
   "outputs": [
    {
     "data": {
      "text/html": [
       "<div>\n",
       "<style scoped>\n",
       "    .dataframe tbody tr th:only-of-type {\n",
       "        vertical-align: middle;\n",
       "    }\n",
       "\n",
       "    .dataframe tbody tr th {\n",
       "        vertical-align: top;\n",
       "    }\n",
       "\n",
       "    .dataframe thead th {\n",
       "        text-align: right;\n",
       "    }\n",
       "</style>\n",
       "<table border=\"1\" class=\"dataframe\">\n",
       "  <thead>\n",
       "    <tr style=\"text-align: right;\">\n",
       "      <th></th>\n",
       "      <th>Altura</th>\n",
       "      <th>Peso</th>\n",
       "    </tr>\n",
       "  </thead>\n",
       "  <tbody>\n",
       "    <tr>\n",
       "      <th>Altura</th>\n",
       "      <td>1.000000</td>\n",
       "      <td>-0.823495</td>\n",
       "    </tr>\n",
       "    <tr>\n",
       "      <th>Peso</th>\n",
       "      <td>-0.823495</td>\n",
       "      <td>1.000000</td>\n",
       "    </tr>\n",
       "  </tbody>\n",
       "</table>\n",
       "</div>"
      ],
      "text/plain": [
       "          Altura      Peso\n",
       "Altura  1.000000 -0.823495\n",
       "Peso   -0.823495  1.000000"
      ]
     },
     "execution_count": 18,
     "metadata": {},
     "output_type": "execute_result"
    }
   ],
   "source": [
    "df_personas[['Altura', 'Peso']].corr()"
   ]
  }
 ],
 "metadata": {
  "kernelspec": {
   "display_name": "Python 3",
   "language": "python",
   "name": "python3"
  },
  "language_info": {
   "codemirror_mode": {
    "name": "ipython",
    "version": 3
   },
   "file_extension": ".py",
   "mimetype": "text/x-python",
   "name": "python",
   "nbconvert_exporter": "python",
   "pygments_lexer": "ipython3",
   "version": "3.7.11"
  },
  "orig_nbformat": 2
 },
 "nbformat": 4,
 "nbformat_minor": 2
}
