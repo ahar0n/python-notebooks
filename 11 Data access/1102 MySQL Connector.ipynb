{
 "cells": [
  {
   "metadata": {},
   "cell_type": "markdown",
   "source": "# Acceso a bases de datos"
  },
  {
   "metadata": {},
   "cell_type": "markdown",
   "source": [
    "## Open Database Connectivity (ODBC)\n",
    "\n",
    "Es un estándar de acceso a bases de datos que permite que aplicaciones puedan conectarse a diferentes SGBD independientes (interoperabilidad), reduciendo las dependencias del proveedor.\n",
    "\n",
    "* Proporciona una __interfaz común__ para que las aplicaciones accedan a diferentes tipos de bases de datos.\n",
    "* Actúa como un ___puente___ entre la aplicación y el SGBD.\n",
    "* Permite cambiar el motor de base de datos sin modificar la lógica de la aplicación, siempre que se mantenga la estructura de datos.\n",
    "* Su uso requiere configuración del driver y del DSN."
   ]
  },
  {
   "metadata": {},
   "cell_type": "markdown",
   "source": [
    "## Funcionamiento general\n",
    "\n",
    "1. El cliente realiza las peticiones en SQL.\n",
    "2. El driver ODBC traduce las peticiones al lenguaje específico del SGBD.\n",
    "3. El SGBD procesa la consulta y devuelve el resultado.\n"
   ]
  },
  {
   "metadata": {
    "ExecuteTime": {
     "end_time": "2025-05-29T14:24:35.880541Z",
     "start_time": "2025-05-29T14:24:35.871713Z"
    }
   },
   "cell_type": "code",
   "source": [
    "from IPython.display import Image\n",
    "Image(url=\"https://dev.mysql.com/doc/connectors/en/images/myarchitecture.png\", width=400, retina=True)"
   ],
   "outputs": [
    {
     "data": {
      "text/html": [
       "<img src=\"https://dev.mysql.com/doc/connectors/en/images/myarchitecture.png\" width=\"400\"/>"
      ],
      "text/plain": [
       "<IPython.core.display.Image object>"
      ]
     },
     "execution_count": 4,
     "metadata": {},
     "output_type": "execute_result"
    }
   ],
   "execution_count": 4
  },
  {
   "metadata": {},
   "cell_type": "markdown",
   "source": [
    "_Arquitectura de conector ODBC.\n",
    "Fuente: [MySQL.com](https://dev.mysql.com/doc/connector-odbc/en/connector-odbc-architecture.html)_"
   ]
  },
  {
   "metadata": {},
   "cell_type": "markdown",
   "source": [
    "### Aplicaciones\n",
    "\n",
    "- Aplicaciones utilizan la API ODBC para acceder a los datos en el servidor MySQL.\n",
    "- La API ODBC a su vez se comunica con el Administrador de Controladores.\n",
    "- La Aplicación se comunica con el Administrador de Controladores utilizando las llamadas ODBC."
   ]
  },
  {
   "metadata": {},
   "cell_type": "markdown",
   "source": [
    "### Administrador de Controladores\n",
    "Es una biblioteca que gestiona la comunicación entre las aplicaciones y los controladores. Realiza las siguientes tareas:\n",
    "\n",
    "- Resuelve nombres de fuentes de datos (DSN).\n",
    "- Requiere cargar y descargar el controlador específico para acceder a una base de datos según se define en el DSN.\n",
    "- Procesa llamadas a funciones ODBC o las pasa al controlador para su procesamiento."
   ]
  },
  {
   "metadata": {},
   "cell_type": "markdown",
   "source": [
    "### Controlador Connector/ODBC\n",
    "\n",
    "Es una biblioteca que implementa las funciones admitidas por la API ODBC.\n",
    "- Procesa llamadas a funciones ODBC,\n",
    "- Envía solicitudes SQL al servidor MySQL y devuelve los resultados a la aplicación.\n",
    "- Si es necesario, el controlador modifica la solicitud de una aplicación para que la solicitud se ajuste a la sintaxis compatible con MySQL."
   ]
  },
  {
   "metadata": {},
   "cell_type": "markdown",
   "source": [
    "### Servidor MySQL\n",
    "\n",
    "- Corresponde a la base de datos MySQL donde se almacena la información."
   ]
  },
  {
   "metadata": {},
   "cell_type": "markdown",
   "source": [
    "### Configuración de DSN\n",
    "\n",
    "- El archivo de configuración ODBC almacena la información del controlador y la base de datos necesaria para conectarse al servidor.\n",
    "- El Administrador de Controladores lo utiliza para determinar qué controlador se debe cargar de acuerdo con la definición en el DSN.\n",
    "- La configuración de conexión (DSN - *Data Source Name*) [[1](https://support.microsoft.com/en-us/help/966849/what-is-a-dsn-data-source-name)][[2](https://en.wikipedia.org/wiki/Data_source_name)] permite establecer la comunicación con la fuente de datos ODBC, es decir, establece los detalles de conexión: el nombre de la base de datos, el directorio, el controlador de la base de datos, identificación de usuario y contraseña la contraseña, entre otros."
   ]
  },
  {
   "metadata": {},
   "cell_type": "markdown",
   "source": [
    "## Instalación del driver ODBC y configuración de la conexión\n",
    "\n",
    "__IMPORTANTE__: Para establecer una concexión, debe conocer los parámetros de conexión. Si trabaja con un servidor en su propia máquina (local), debe contar con una instalación del motor de base de datos, de lo contrario, puede instalar MySQL a partir de una de las siguientes alternativas,\n",
    "\n",
    "- Instalar [MySQL](https://dev.mysql.com/downloads/workbench/).\n",
    "- Instalar MySQL por medio del paquete [XAMPP](https://www.apachefriends.org/es/index.html).\n",
    "\n",
    "Para instalar el conector ODBC y configuración de la conexión,\n",
    "\n",
    "1. Descargar e instalar el [Connector/ODBC de MySQL para Windows](https://dev.mysql.com/downloads/connector/odbc/).\n",
    "2. Configurar conexión a una base de datos existente en MySQL ([instrucciones](https://dev.mysql.com/doc/connector-odbc/en/connector-odbc-configuration-dsn-windows-5-2.html)). Para esto debe conocer los parámetros de configuración de su servidor de base de datos.\n",
    "    - **Server**: Nombre del Host o dirección IP del servidor MySQL. Por defecto es `localhost`.\n",
    "    - **User**: Nombre de usuario de MySQL para conectarse al servidor MySQL. Habitualmente es `root`.\n",
    "    - **Password**: Contraseña asociada al usuario __User__.\n",
    "    - **Database**: Nombre de la base de datos a la cual se conectará una vez que se inicie la conexión. Se puede selección desde el menú desplegable."
   ]
  },
  {
   "metadata": {},
   "cell_type": "markdown",
   "source": [
    "## Conexión ODBC desde Python\n",
    "\n",
    "[Pyodbc](https://pypi.org/project/pyodbc/#description) es un módulo Python de código abierto que simplifica el acceso a las bases de datos ODBC. Implementa la especificación DB API 2.0.\n",
    "\n",
    "* Debe tener instalado un administrador de controladores ODBC antes de instalar pyodbc.\n",
    "* En Windows, el [administrador de controladores](https://learn.microsoft.com/en-us/sql/database-engine/configure-windows/open-the-odbc-data-source-administrator?view=sql-server-ver17) ODBC está integrado."
   ]
  },
  {
   "cell_type": "markdown",
   "metadata": {},
   "source": "## MySQL connector para Python"
  },
  {
   "cell_type": "markdown",
   "metadata": {},
   "source": [
    "- [`MySQL connector`](https://dev.mysql.com/doc/connector-python/en/) es una API que cumple con especificación Python Database API (PEP 249).\n",
    "- [PEP 249](https://www.python.org/dev/peps/pep-0249/) fomenta la similitud entre los módulos de Python que se utilizan para acceder a las bases de datos... \n",
    "- Escrito en Python puro y no tiene dependencia excepto la Python Standard Library.\n",
    "\n",
    "[Descargar MySQL connector](https://dev.mysql.com/downloads/connector/python/)\n",
    "\n",
    "[Instalar MySQL connector mediante pip](https://pypi.org/project/mysql-connector-python/)"
   ]
  },
  {
   "cell_type": "markdown",
   "metadata": {},
   "source": "### Conexión con el servidor"
  },
  {
   "cell_type": "markdown",
   "metadata": {},
   "source": [
    "El constructor ```connect()``` crea una conexión al servidor MySQL y retorna un objeto ```MySQLConnection```.\n",
    "\n",
    "- [Argumentos de la conexión](https://dev.mysql.com/doc/connector-python/en/connector-python-connectargs.html).\n",
    "\n",
    "Para tratar los errores de conexión, es posible utilizar la sentencia ```try-except``` y detectar todos los errores utilizando las excepciones [```errors.Error```](https://dev.mysql.com/doc/connector-python/en/connector-python-api-errors-error.html).\n",
    "\n",
    "En el siguiente ejemplo, se realiza una conexión al servidor local (`localhost`) y a la base de datos `universidad`. Si la conexión se logra establecer, entonces, se procede a cerrar dicha conexión."
   ]
  },
  {
   "cell_type": "code",
   "metadata": {},
   "source": [
    "from mysql.connector import connect\n",
    "from mysql.connector import Error\n",
    "from mysql.connector import errorcode\n",
    "\n",
    "try:\n",
    "    cnx = connect(user='root', password='mysqlroot', host='localhost', database='universidad')\n",
    "    print('Conexión establecida con exito!')\n",
    "\n",
    "    # logica SQL\n",
    "\n",
    "    cnx.close()\n",
    "    print('Conexión cerrada!')\n",
    "\n",
    "except Error as e:\n",
    "    if e.errno == errorcode.ER_ACCESS_DENIED_ERROR:\n",
    "        print('Algo anda mal con tu usuario o contraseña.')\n",
    "    elif e.errno == errorcode.ER_BAD_DB_ERROR:\n",
    "        print('La base de datos no existe.')\n",
    "    else:\n",
    "        print(e)"
   ],
   "outputs": [],
   "execution_count": null
  },
  {
   "cell_type": "markdown",
   "metadata": {},
   "source": "### Consultar datos"
  },
  {
   "cell_type": "markdown",
   "metadata": {},
   "source": [
    "La clase `MySQLCursor` instancia un __objeto que ejecuta operaciones utilizando sentencias `SQL`__, este, interactua con el servidor utilizando un objeto `MySQLConnection`.\n",
    "\n",
    "Para crear un cursor, se utiliza el método ```cursor()``` del objeto ```MySQLConnection```. \n",
    "- Por defecto, __el cursor es un objeto iterable de filas como tuplas__.\n",
    "- Opcionalmente, pasando como argumento, el parámetro ```dictionary=True```, el objeto se convierte en un iterador de diccionarios, que utiliza como claves los nombres de los campos de la base de datos.\n",
    "\n",
    "Para los parámetros,\n",
    "- `dictionary=True` retorna filas como diccionario.\n",
    "- `tuple=True`, retorna filas como tuplas."
   ]
  },
  {
   "cell_type": "code",
   "metadata": {
    "scrolled": true
   },
   "source": [
    "# abre una conección al servidor MySQL y la almacena en la variable cnx\n",
    "cnx = connect(user='root', password='mysqlroot', host='localhost', database='universidad')\n",
    "\n",
    "# crea un cursor MySQLCursor\n",
    "cursor = cnx.cursor()\n",
    "\n",
    "# prepara la consulta\n",
    "query = ('SELECT * from alumno')\n",
    "\n",
    "# ejecuta la consulta y retorna los valores\n",
    "cursor.execute(query)\n",
    "\n",
    "for rut, nombre in cursor:\n",
    "    print('{} : {}'.format(rut, nombre))\n",
    "\n",
    "cursor.close()\n",
    "cnx.close()"
   ],
   "outputs": [],
   "execution_count": null
  },
  {
   "cell_type": "markdown",
   "metadata": {},
   "source": [
    "En el siguiente ejemplo, se ejecuta la calusula [`INNER JOIN`](https://www.w3schools.com/sql/sql_join_inner.asp) para extraer los profesores que actualmente dictan las asignaturas registradas:"
   ]
  },
  {
   "cell_type": "code",
   "metadata": {
    "scrolled": true
   },
   "source": [
    "cnx = connect(user='root', password='mysqlroot', host='localhost', database='universidad')\n",
    "\n",
    "cursor = cnx.cursor()\n",
    "\n",
    "query = (\"\"\"SELECT asignatura.nombre, profesor.nombre\n",
    "            FROM asignatura INNER JOIN profesor ON asignatura.rutProf = profesor.rutProf\"\"\")\n",
    "\n",
    "# ejecuta la consulta y retorna los valores\n",
    "cursor.execute(query)\n",
    "\n",
    "for asignatura, profesor in cursor:\n",
    "    espacio = profesor.index(' ')\n",
    "    nombre = profesor[:espacio]\n",
    "    apellido = profesor[espacio+1:]\n",
    "    print('{:11}: {} {}'.format(asignatura.upper(), nombre.capitalize(), apellido.capitalize()))\n",
    "\n",
    "cursor.close()\n",
    "cnx.close()"
   ],
   "outputs": [],
   "execution_count": null
  },
  {
   "cell_type": "markdown",
   "metadata": {},
   "source": "### Crear tablas"
  },
  {
   "cell_type": "markdown",
   "metadata": {},
   "source": [
    "Por lo general, las tablas de una base de datos son objetos permanentes y es posible trabajar con tablas ya creadas, en lugar de crearlas. No obstante, sentecias DDL (*Data Definition Language*) se pueden ejecutar a partir de un objetos cursor.\n",
    "\n",
    "**NOTA: Se recomienda evitar la continua creación de tablas, ya que es una operación costosa.**\n",
    "\n",
    "En el siguiente ejemplo se crea la base de datos `empleados`."
   ]
  },
  {
   "cell_type": "code",
   "metadata": {},
   "source": [
    "DB_NAME = 'employees'\n",
    "TABLES = {}\n",
    "TABLES['employees'] = (\n",
    "    \"CREATE TABLE `employees` (\"\n",
    "    \"`emp_no` int(11) NOT NULL AUTO_INCREMENT,\"\n",
    "    \"`birth_date` date NOT NULL,\"\n",
    "    \"`first_name` varchar(14) NOT NULL,\"\n",
    "    \"`last_name` varchar(16) NOT NULL,\"\n",
    "    \"`gender` enum('M','F') NOT NULL,\"\n",
    "    \"`hire_date` date NOT NULL,\"\n",
    "    \"PRIMARY KEY (`emp_no`)\"\n",
    "    \") ENGINE=InnoDB\")\n",
    "\n",
    "TABLES['departments'] = (\n",
    "    \"CREATE TABLE `departments` (\"\n",
    "    \"`dept_no` char(4) NOT NULL,\"\n",
    "    \"`dept_name` varchar(40) NOT NULL,\"\n",
    "    \"PRIMARY KEY (`dept_no`), UNIQUE KEY `dept_name` (`dept_name`)\"\n",
    "    \") ENGINE=InnoDB\")\n",
    "\n",
    "TABLES['dept_emp'] = (\n",
    "    \"CREATE TABLE `dept_emp` (\"\n",
    "    \"`emp_no` int(11) NOT NULL,\"\n",
    "    \"`dept_no` char(4) NOT NULL,\"\n",
    "    \"`from_date` date NOT NULL,\"\n",
    "    \"`to_date` date NOT NULL,\"\n",
    "    \"PRIMARY KEY (`emp_no`,`dept_no`), KEY `emp_no` (`emp_no`),\"\n",
    "    \"KEY `dept_no` (`dept_no`),\"\n",
    "    \"CONSTRAINT `dept_emp_ibfk_1` FOREIGN KEY (`emp_no`) \"\n",
    "    \"REFERENCES `employees` (`emp_no`) ON DELETE CASCADE,\"\n",
    "    \"CONSTRAINT `dept_emp_ibfk_2` FOREIGN KEY (`dept_no`) \"\n",
    "    \"REFERENCES `departments` (`dept_no`) ON DELETE CASCADE\"\n",
    "    \") ENGINE=InnoDB\")"
   ],
   "outputs": [],
   "execution_count": null
  },
  {
   "cell_type": "markdown",
   "metadata": {},
   "source": [
    "La función ```create_database(cursor, db)``` que se define a continuación, crea una base de datos a partir de un cursor `MySQLCursor`.\n",
    "- Recibe como argumentos __el cursor__ que contiene la sentencia `SQL` (DDL) y el __nombre de la base de datos__.\n",
    "- Incluye manejo de excepciones para la ejecución de lenguaje `SQL`."
   ]
  },
  {
   "cell_type": "code",
   "metadata": {},
   "source": [
    "def create_database(cursor, db_name):\n",
    "    try:\n",
    "        cursor.execute(\"CREATE DATABASE {} DEFAULT CHARACTER SET 'utf8'\".format(db_name))\n",
    "    except Error as e:\n",
    "        print('Error al crear la base de datos: {}'.format(e))"
   ],
   "outputs": [],
   "execution_count": null
  },
  {
   "cell_type": "markdown",
   "metadata": {},
   "source": [
    "En el siguiente código, se emplea la sentencia `try-except` que intenta conectarse a la base de datos de nombre `DB_NAME`. \n",
    "- Es el caso que suceda un error de código [`ER_BAD_DB_ERROR`](https://dev.mysql.com/doc/refman/5.7/en/error-messages-server.html#error_er_bad_db_error) (`ERROR 1049 (42000): Unknown database`), es decir, que no existe, se ejecuta la función `create_database()` que crea la dabe de datos."
   ]
  },
  {
   "cell_type": "code",
   "metadata": {},
   "source": [
    "cnx = connect(user='root', password='mysqlroot', host='localhost')\n",
    "cursor = cnx.cursor()\n",
    "\n",
    "# conectándose a la base de datos\n",
    "try:\n",
    "    cursor.execute(\"USE {}\".format(DB_NAME))\n",
    "    print(\"Base de datos {} seleccionada.\".format(DB_NAME))\n",
    "except Error as e:\n",
    "    if e.errno == errorcode.ER_BAD_DB_ERROR:\n",
    "        print(\"La base de datos {} no existe.\".format(DB_NAME))\n",
    "        create_database(cursor, DB_NAME)\n",
    "        print(\"Base de datos {} fue creada exitosamente.\".format(DB_NAME))\n",
    "    elif e.errno == errorcode.ER_DB_EXISTS_ERROR:\n",
    "        print('ya existe.')\n",
    "    else:\n",
    "        print(e)"
   ],
   "outputs": [],
   "execution_count": null
  },
  {
   "cell_type": "markdown",
   "metadata": {},
   "source": [
    "Una vez que se crea la base de datos, o si existe, se cambia a la base de datos objetivo, se crean las tablas iterando sobre los items del diccionario `TABLES`."
   ]
  },
  {
   "cell_type": "code",
   "metadata": {},
   "source": [
    "cursor.execute(\"USE {}\".format(DB_NAME))\n",
    "for tablename, ddlcode in TABLES.items():\n",
    "    try:\n",
    "        print('Creando tabla {}: '.format(tablename), end='')\n",
    "        cursor.execute(ddlcode)\n",
    "        print('OK')\n",
    "    except Error as e:\n",
    "        if e.errno == errorcode.ER_TABLE_EXISTS_ERROR:\n",
    "            print('Tabla {} ya existe.'.format(tablename))\n",
    "        else:\n",
    "            print(e.msg)"
   ],
   "outputs": [],
   "execution_count": null
  },
  {
   "cell_type": "markdown",
   "metadata": {},
   "source": "### Insertar datos"
  },
  {
   "cell_type": "markdown",
   "metadata": {},
   "source": [
    "En el siguiente ejemplo se insertan nuevos datos en la tabla `employees`."
   ]
  },
  {
   "cell_type": "code",
   "metadata": {},
   "source": [
    "from datetime import date, datetime, timedelta\n",
    "\n",
    "cnx = connect(user='root', password='mysqlroot', host='localhost', database='employees')\n",
    "cursor = cnx.cursor()\n",
    "\n",
    "tomorrow = datetime.now().date() + timedelta(days=1)\n",
    "add_employee = (\"INSERT INTO employees \"\n",
    "               \"(first_name, last_name, hire_date, gender, birth_date) \"\n",
    "               \"VALUES (%s, %s, %s, %s, %s)\")\n",
    "data_employee = ('Juan', 'Perez', tomorrow, 'M', date(1977, 6, 14))\n",
    "\n",
    "# insertar nuevo registro\n",
    "cursor.execute(add_employee, data_employee)\n",
    "\n",
    "# asegurarse que los datos estén ingresados en la base de datos\n",
    "cnx.commit()\n",
    "\n",
    "cursor.close()\n",
    "cnx.close()"
   ],
   "outputs": [],
   "execution_count": null
  },
  {
   "cell_type": "markdown",
   "metadata": {},
   "source": [
    "## Actividad"
   ]
  },
  {
   "cell_type": "markdown",
   "metadata": {},
   "source": [
    "1. Diseñe la función <code>conexionMySQL()</code> que reciba como argumento, el usuario y su contraseña, el <em>host</em> y el nombre de la base de datos. La función debe devolver el objeto <code>MySQLConnection</code>, si la conexión fue realizada con éxito, de lo contrario, debe devolver el valor <code>None</code>.\n",
    "2. A partir de la base de datos diseñada para la gestión de instrumento del laboratorio de geodesia y topografía del DCGG, generar 3 funciones de Python para abordar los siguientes requerimientos,\n",
    "    - Realizar un préstamo (o reserva) de instrumento\n",
    "    - Registrar la devolución de instrumentos\n",
    "    - Verificar el estado de un instrumento, i.e., si esta disponible para préstamo."
   ]
  },
  {
   "metadata": {},
   "cell_type": "markdown",
   "source": [
    "## Actividades complementarias\n",
    "\n",
    "1. Investigar la extracción de datos desde una base de datos en MySQL desde Microsoft Excel.\n",
    "2. Investigar el uso de la librería Python [pyodbc](https://pypi.org/project/pyodbc/#description)."
   ]
  }
 ],
 "metadata": {
  "kernelspec": {
   "display_name": "Python 3",
   "language": "python",
   "name": "python3"
  },
  "language_info": {
   "codemirror_mode": {
    "name": "ipython",
    "version": 3
   },
   "file_extension": ".py",
   "mimetype": "text/x-python",
   "name": "python",
   "nbconvert_exporter": "python",
   "pygments_lexer": "ipython3",
   "version": "3.7.11"
  }
 },
 "nbformat": 4,
 "nbformat_minor": 2
}
