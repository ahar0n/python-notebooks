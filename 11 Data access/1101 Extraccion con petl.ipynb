{
 "cells": [
  {
   "cell_type": "markdown",
   "metadata": {},
   "source": [
    "# Extracción con petl"
   ]
  },
  {
   "cell_type": "markdown",
   "metadata": {},
   "source": [
    "![Actividades ETL](./img/etl_actividades.svg)"
   ]
  },
  {
   "cell_type": "markdown",
   "metadata": {},
   "source": [
    "## Librería petl\n",
    "\n",
    "- [petl](https://petl.readthedocs.io/en/stable/index.html) es un paquete de propósito general para la extracción, transformación y carga de tablas de datos.\n",
    "- Diseñado especialmente para trabajar __datos desconocidos, heterogéneos y/o de calidad mixta__.\n",
    "- __No tiene dependencias__ que no sean módulos propios del nucleo de Python.\n",
    "- Las _pipelines_ (transformaciones de flujo de datos en un proceso comprendido por varias fases secuenciales) hacen __uso mínimo de la memoria del sistema__ y pueden __escalar a millones de filas si la velocidad no es una prioridad__.\n",
    "- En general, __los flujos de trabajo no se ejecutan hasta que se soliciten los datos__.\n",
    "- Soporta programación funcional y orientada a objetos.\n",
    "-  [Otras alternativas para diseñar procesos ETL](https://petl.readthedocs.io/en/stable/related_work.html)\n",
    "\n",
    "[Instalación de la librería petl](https://petl.readthedocs.io/en/stable/intro.html#installation)"
   ]
  },
  {
   "cell_type": "markdown",
   "metadata": {},
   "source": [
    "## Contenedores de datos (tablas)"
   ]
  },
  {
   "cell_type": "markdown",
   "metadata": {},
   "source": [
    "Los contenedores de datos son __objetos de datos tabulares__ que sorportan __iteración orientada a filas de datos__.\n",
    "\n",
    "Un iterador sobre un contenedor,\n",
    "- Retorna un item como una __secuencia__.\n",
    "- El primer item, con índice `0`, es el encabezado, tipicamente de tipo `str`.\n",
    "- Cada item subsiguiente es una secuencia de valores."
   ]
  },
  {
   "cell_type": "markdown",
   "metadata": {},
   "source": [
    "Un __contenedor desde una lista__, puede ser definida a partir de:\n",
    "- `list` una lista de listas, donde cada lista es una columna.\n",
    "- `header` una lista con los nombres de los campos.\n",
    "- `missing` valor para celdas vacías."
   ]
  },
  {
   "cell_type": "code",
   "execution_count": 3,
   "metadata": {
    "scrolled": true
   },
   "outputs": [
    {
     "name": "stdout",
     "output_type": "stream",
     "text": [
      "+-----+--------+--------+\n",
      "| num | minus. | mayus. |\n",
      "+=====+========+========+\n",
      "|   0 | a      | A      |\n",
      "+-----+--------+--------+\n",
      "|   1 | b      | B      |\n",
      "+-----+--------+--------+\n",
      "|   2 | c      | C      |\n",
      "+-----+--------+--------+\n",
      "|   3 | a      | None   |\n",
      "+-----+--------+--------+\n",
      "\n"
     ]
    }
   ],
   "source": [
    "import petl as etl\n",
    "\n",
    "cols = [[0, 1, 2, 3], ['a', 'b', 'c', 'a'], ['A', 'B', 'C']]  # lista python\n",
    "tabla = etl.fromcolumns(cols, header=['num', 'minus.', 'mayus.'], missing=None)\n",
    "print(tabla)"
   ]
  },
  {
   "cell_type": "markdown",
   "metadata": {},
   "source": [
    "## Operaciones básicas sobre filas y columnas de contenedores"
   ]
  },
  {
   "cell_type": "markdown",
   "metadata": {},
   "source": [
    "Para __seleccionar un rango de filas__ (*slice*), la función `.rowslice(table, from, to, step)` recibe como argumento,\n",
    "- `table` la tabla objetivo.\n",
    "- `start, end` rango de celdas exluyendo la primera e incluyendo el último.\n",
    "- `step` valor incremental de avance del índice, por defecto es `1`."
   ]
  },
  {
   "cell_type": "code",
   "execution_count": 5,
   "metadata": {
    "scrolled": true
   },
   "outputs": [
    {
     "name": "stdout",
     "output_type": "stream",
     "text": [
      "+-----+--------+--------+\n",
      "| num | minus. | mayus. |\n",
      "+=====+========+========+\n",
      "|   1 | b      | B      |\n",
      "+-----+--------+--------+\n",
      "|   3 | a      | None   |\n",
      "+-----+--------+--------+\n",
      "\n"
     ]
    }
   ],
   "source": [
    "tabla1 = etl.rowslice(tabla, 1, 4, 2)\n",
    "print(tabla1)"
   ]
  },
  {
   "cell_type": "markdown",
   "metadata": {},
   "source": [
    "Para la __selección de columnas__, la función `.cut(table, col1, col2,..., coln)` permite seleccionarlas a partir de:\n",
    "- `int` índice de columna. \n",
    "- `str` nombre del campo.\n",
    "- `range` rango de columnas."
   ]
  },
  {
   "cell_type": "code",
   "execution_count": 5,
   "metadata": {
    "scrolled": true
   },
   "outputs": [
    {
     "data": {
      "text/html": [
       "<table class='petl'>\n",
       "<thead>\n",
       "<tr>\n",
       "<th>num</th>\n",
       "<th>minus.</th>\n",
       "</tr>\n",
       "</thead>\n",
       "<tbody>\n",
       "<tr>\n",
       "<td style='text-align: right'>0</td>\n",
       "<td>a</td>\n",
       "</tr>\n",
       "<tr>\n",
       "<td style='text-align: right'>1</td>\n",
       "<td>b</td>\n",
       "</tr>\n",
       "<tr>\n",
       "<td style='text-align: right'>2</td>\n",
       "<td>c</td>\n",
       "</tr>\n",
       "<tr>\n",
       "<td style='text-align: right'>3</td>\n",
       "<td>a</td>\n",
       "</tr>\n",
       "</tbody>\n",
       "</table>\n"
      ],
      "text/plain": [
       "+-----+--------+\n",
       "| num | minus. |\n",
       "+=====+========+\n",
       "|   0 | 'a'    |\n",
       "+-----+--------+\n",
       "|   1 | 'b'    |\n",
       "+-----+--------+\n",
       "|   2 | 'c'    |\n",
       "+-----+--------+\n",
       "|   3 | 'a'    |\n",
       "+-----+--------+"
      ]
     },
     "execution_count": 5,
     "metadata": {},
     "output_type": "execute_result"
    }
   ],
   "source": [
    "tabla2 = etl.cut(tabla, 0, 'minus.')\n",
    "tabla2"
   ]
  },
  {
   "cell_type": "markdown",
   "metadata": {},
   "source": [
    "Para __remover columnas__ a partir de la identificación de cada una de ellas en el argumento de la función `.cutout(table, col#)`."
   ]
  },
  {
   "cell_type": "code",
   "execution_count": 17,
   "metadata": {
    "scrolled": true
   },
   "outputs": [
    {
     "data": {
      "text/html": [
       "<table class='petl'>\n",
       "<thead>\n",
       "<tr>\n",
       "<th>num</th>\n",
       "<th>mayus.</th>\n",
       "</tr>\n",
       "</thead>\n",
       "<tbody>\n",
       "<tr>\n",
       "<td style='text-align: right'>0</td>\n",
       "<td>A</td>\n",
       "</tr>\n",
       "<tr>\n",
       "<td style='text-align: right'>1</td>\n",
       "<td>B</td>\n",
       "</tr>\n",
       "<tr>\n",
       "<td style='text-align: right'>2</td>\n",
       "<td>C</td>\n",
       "</tr>\n",
       "<tr>\n",
       "<td style='text-align: right'>3</td>\n",
       "<td>None</td>\n",
       "</tr>\n",
       "</tbody>\n",
       "</table>\n"
      ],
      "text/plain": [
       "+-----+--------+\n",
       "| num | mayus. |\n",
       "+=====+========+\n",
       "|   0 | 'A'    |\n",
       "+-----+--------+\n",
       "|   1 | 'B'    |\n",
       "+-----+--------+\n",
       "|   2 | 'C'    |\n",
       "+-----+--------+\n",
       "|   3 | None   |\n",
       "+-----+--------+"
      ]
     },
     "execution_count": 17,
     "metadata": {},
     "output_type": "execute_result"
    }
   ],
   "source": [
    "tabla3 = etl.cutout(tabla, 'minus.')\n",
    "tabla3"
   ]
  },
  {
   "cell_type": "markdown",
   "metadata": {},
   "source": [
    "Otras [operaciones básicas](https://petl.readthedocs.io/en/stable/transform.html#basic-transformations):\n",
    "- `.movefield` cambiar posición de columnas.\n",
    "- `.cat` concatenar tablas.\n",
    "- `.stack` Apilar tablas.\n",
    "- `.addfield` agregar campos con datos derivados.\n",
    "- `.addcolumn` agregar columna con nuevos datos.\n",
    "- `.addrownumbers` agregar columna con número de filas.\n",
    "- ..."
   ]
  },
  {
   "cell_type": "markdown",
   "metadata": {},
   "source": [
    "## Manipulación de encabezados\n",
    "\n",
    "La función `.rename(table, origen, destino)` __renombra columnas__ apartir del nombre `origen` por `destino`."
   ]
  },
  {
   "cell_type": "code",
   "execution_count": 6,
   "metadata": {
    "scrolled": true
   },
   "outputs": [
    {
     "data": {
      "text/html": [
       "<table class='petl'>\n",
       "<thead>\n",
       "<tr>\n",
       "<th>num</th>\n",
       "<th>minusculas</th>\n",
       "<th>mayus.</th>\n",
       "</tr>\n",
       "</thead>\n",
       "<tbody>\n",
       "<tr>\n",
       "<td style='text-align: right'>0</td>\n",
       "<td>a</td>\n",
       "<td>A</td>\n",
       "</tr>\n",
       "<tr>\n",
       "<td style='text-align: right'>1</td>\n",
       "<td>b</td>\n",
       "<td>B</td>\n",
       "</tr>\n",
       "<tr>\n",
       "<td style='text-align: right'>2</td>\n",
       "<td>c</td>\n",
       "<td>C</td>\n",
       "</tr>\n",
       "<tr>\n",
       "<td style='text-align: right'>3</td>\n",
       "<td>a</td>\n",
       "<td>None</td>\n",
       "</tr>\n",
       "</tbody>\n",
       "</table>\n"
      ],
      "text/plain": [
       "+-----+------------+--------+\n",
       "| num | minusculas | mayus. |\n",
       "+=====+============+========+\n",
       "|   0 | 'a'        | 'A'    |\n",
       "+-----+------------+--------+\n",
       "|   1 | 'b'        | 'B'    |\n",
       "+-----+------------+--------+\n",
       "|   2 | 'c'        | 'C'    |\n",
       "+-----+------------+--------+\n",
       "|   3 | 'a'        | None   |\n",
       "+-----+------------+--------+"
      ]
     },
     "execution_count": 6,
     "metadata": {},
     "output_type": "execute_result"
    }
   ],
   "source": [
    "tabla4 = etl.rename(tabla, 'minus.', 'minusculas')\n",
    "tabla4"
   ]
  },
  {
   "cell_type": "markdown",
   "metadata": {},
   "source": [
    "De otra forma, permite __renombrar un conjunto de columnas__ pasando como argumento un diccionario donde el conjunto `key:value` corresponde al conjunto `origen:destino`."
   ]
  },
  {
   "cell_type": "code",
   "execution_count": 7,
   "metadata": {
    "scrolled": false
   },
   "outputs": [
    {
     "data": {
      "text/html": [
       "<table class='petl'>\n",
       "<thead>\n",
       "<tr>\n",
       "<th>num</th>\n",
       "<th>minusculas</th>\n",
       "<th>mayusculas</th>\n",
       "</tr>\n",
       "</thead>\n",
       "<tbody>\n",
       "<tr>\n",
       "<td style='text-align: right'>0</td>\n",
       "<td>a</td>\n",
       "<td>A</td>\n",
       "</tr>\n",
       "<tr>\n",
       "<td style='text-align: right'>1</td>\n",
       "<td>b</td>\n",
       "<td>B</td>\n",
       "</tr>\n",
       "<tr>\n",
       "<td style='text-align: right'>2</td>\n",
       "<td>c</td>\n",
       "<td>C</td>\n",
       "</tr>\n",
       "<tr>\n",
       "<td style='text-align: right'>3</td>\n",
       "<td>a</td>\n",
       "<td>None</td>\n",
       "</tr>\n",
       "</tbody>\n",
       "</table>\n"
      ],
      "text/plain": [
       "+-----+------------+------------+\n",
       "| num | minusculas | mayusculas |\n",
       "+=====+============+============+\n",
       "|   0 | 'a'        | 'A'        |\n",
       "+-----+------------+------------+\n",
       "|   1 | 'b'        | 'B'        |\n",
       "+-----+------------+------------+\n",
       "|   2 | 'c'        | 'C'        |\n",
       "+-----+------------+------------+\n",
       "|   3 | 'a'        | None       |\n",
       "+-----+------------+------------+"
      ]
     },
     "execution_count": 7,
     "metadata": {},
     "output_type": "execute_result"
    }
   ],
   "source": [
    "tabla5 = etl.rename(tabla, {'minus.': 'minusculas', 'mayus.': 'mayusculas'})\n",
    "tabla5"
   ]
  },
  {
   "cell_type": "markdown",
   "metadata": {},
   "source": [
    "La función `.setheader(table, headers)` __reemplaza los nombres de columnas__ actuales por nuevos nombres pasados como `list`."
   ]
  },
  {
   "cell_type": "code",
   "execution_count": 8,
   "metadata": {},
   "outputs": [
    {
     "data": {
      "text/html": [
       "<table class='petl'>\n",
       "<thead>\n",
       "<tr>\n",
       "<th>NUM</th>\n",
       "<th>LOWER</th>\n",
       "<th>UPPER</th>\n",
       "</tr>\n",
       "</thead>\n",
       "<tbody>\n",
       "<tr>\n",
       "<td style='text-align: right'>0</td>\n",
       "<td>a</td>\n",
       "<td>A</td>\n",
       "</tr>\n",
       "<tr>\n",
       "<td style='text-align: right'>1</td>\n",
       "<td>b</td>\n",
       "<td>B</td>\n",
       "</tr>\n",
       "<tr>\n",
       "<td style='text-align: right'>2</td>\n",
       "<td>c</td>\n",
       "<td>C</td>\n",
       "</tr>\n",
       "<tr>\n",
       "<td style='text-align: right'>3</td>\n",
       "<td>a</td>\n",
       "<td>None</td>\n",
       "</tr>\n",
       "</tbody>\n",
       "</table>\n"
      ],
      "text/plain": [
       "+-----+-------+-------+\n",
       "| NUM | LOWER | UPPER |\n",
       "+=====+=======+=======+\n",
       "|   0 | 'a'   | 'A'   |\n",
       "+-----+-------+-------+\n",
       "|   1 | 'b'   | 'B'   |\n",
       "+-----+-------+-------+\n",
       "|   2 | 'c'   | 'C'   |\n",
       "+-----+-------+-------+\n",
       "|   3 | 'a'   | None  |\n",
       "+-----+-------+-------+"
      ]
     },
     "execution_count": 8,
     "metadata": {},
     "output_type": "execute_result"
    }
   ],
   "source": [
    "tabla6 = etl.setheader(tabla, ['NUM', 'LOWER', 'UPPER'])\n",
    "tabla6"
   ]
  },
  {
   "cell_type": "markdown",
   "metadata": {},
   "source": [
    "Otras [operaciones con encabezados](https://petl.readthedocs.io/en/stable/transform.html#header-manipulations) de contenedores:\n",
    "- `.sortheader` ordenar columnas\n",
    "- `.prefixheader` y `sufixheader` agregar prefijos y sufijos todos los nombres de columnas.\n",
    "- ..."
   ]
  },
  {
   "cell_type": "markdown",
   "metadata": {},
   "source": [
    "## Extracción desde fuentes\n",
    "\n",
    "Funciones de tipo `.from...`"
   ]
  },
  {
   "cell_type": "markdown",
   "metadata": {},
   "source": [
    "### Archivos de texto en formato plano\n",
    "\n",
    "- Archivos compuestos de __bytes que representan caracteres__ (letras, números, símbolos, de control).\n",
    "- Los caracteres pueden estar __codificados en distintos modos__ (e.g. ASCII, UTF-8, Unicode).\n",
    "- Este tipo de archivo __es legible por el usuario__ y pueden ser editados por medio de editores de texto.\n",
    "- Extensiones habituales: `txt`, `asc`, `xyz`, `dat`, etc,..."
   ]
  },
  {
   "cell_type": "markdown",
   "metadata": {},
   "source": [
    "__Para extraer datos desde un archivo de texto__, la función `fromtext()` construye un contenedor con filas para cada línea del archivo."
   ]
  },
  {
   "cell_type": "code",
   "execution_count": 9,
   "metadata": {
    "scrolled": false
   },
   "outputs": [
    {
     "name": "stdout",
     "output_type": "stream",
     "text": [
      "+--------------------+\n",
      "| lines              |\n",
      "+====================+\n",
      "| María Perez,18,F   |\n",
      "+--------------------+\n",
      "| Juan Pino,25,M     |\n",
      "+--------------------+\n",
      "| Roberto Pinto,17,M |\n",
      "+--------------------+\n",
      "\n"
     ]
    }
   ],
   "source": [
    "personas = etl.fromtext('./dataset/personas.txt')\n",
    "print(personas)"
   ]
  },
  {
   "cell_type": "markdown",
   "metadata": {},
   "source": [
    "Para tratar con la estructura del archivo, puede posprocesarse la tabla por medio de __expresiones regulares__."
   ]
  },
  {
   "cell_type": "code",
   "execution_count": 10,
   "metadata": {},
   "outputs": [
    {
     "data": {
      "text/html": [
       "<table class='petl'>\n",
       "<thead>\n",
       "<tr>\n",
       "<th>nombre</th>\n",
       "<th>edad</th>\n",
       "<th>genero</th>\n",
       "</tr>\n",
       "</thead>\n",
       "<tbody>\n",
       "<tr>\n",
       "<td>María Perez</td>\n",
       "<td>18</td>\n",
       "<td>F</td>\n",
       "</tr>\n",
       "<tr>\n",
       "<td>Juan Pino</td>\n",
       "<td>25</td>\n",
       "<td>M</td>\n",
       "</tr>\n",
       "<tr>\n",
       "<td>Roberto Pinto</td>\n",
       "<td>17</td>\n",
       "<td>M</td>\n",
       "</tr>\n",
       "</tbody>\n",
       "</table>\n"
      ],
      "text/plain": [
       "+-----------------+------+--------+\n",
       "| nombre          | edad | genero |\n",
       "+=================+======+========+\n",
       "| 'María Perez'   | '18' | 'F'    |\n",
       "+-----------------+------+--------+\n",
       "| 'Juan Pino'     | '25' | 'M'    |\n",
       "+-----------------+------+--------+\n",
       "| 'Roberto Pinto' | '17' | 'M'    |\n",
       "+-----------------+------+--------+"
      ]
     },
     "execution_count": 10,
     "metadata": {},
     "output_type": "execute_result"
    }
   ],
   "source": [
    "tabla_personas = etl.capture(personas, 'lines', '(.*),(.*),(.*)', ['nombre', 'edad', 'genero'])\n",
    "tabla_personas"
   ]
  },
  {
   "cell_type": "markdown",
   "metadata": {},
   "source": [
    "### Archivos CSV\n",
    "De acuerdo a su especificación [RFC 4180](https://tools.ietf.org/html/rfc4180), el formato:\n",
    "\n",
    "- Es un __archivo de texto en formato plano__.\n",
    "- Almacena datos como en __registros__, cada uno de los cuales está localizado en una línea separada por un salto de línea.\n",
    "- Cada registro almacena datos tabulares __con valores separados por coma__, aunque también pueden estar separados por otro símbolo, como el punto y coma `;`, espacios, tabulaciones (`\\t`), etc.\n",
    "- Comunmente se utiliza para el __intercambio de datos__."
   ]
  },
  {
   "cell_type": "markdown",
   "metadata": {},
   "source": [
    "![Dato](./img/almacenamiento_dato.svg)"
   ]
  },
  {
   "cell_type": "markdown",
   "metadata": {},
   "source": [
    "<dl class=\"row dl-horizontal\">\n",
    "    <dt class=\"text-right\">Registro:</dt>\n",
    "    <dd>colección de campos logicamente relacionados que pueden ser tratados en un programa como una unidad.</dd>\n",
    "    <dt class=\"text-right\">Campo:</dt>\n",
    "    <dd>item o elemento de datos, considerado la unidad mínima de información de un registro. Generalmente se caracterizan por su tipo (e.g. entero, lógico).</dd>\n",
    "</dl>"
   ]
  },
  {
   "cell_type": "markdown",
   "metadata": {},
   "source": [
    "__Para extraer datos desde archivos CSV__ se permite incluir los siguientes parámetros como _keywords_:\n",
    "- `header` encabezados de columnas como una lista.\n",
    "- `delimiter` símbolo delimitador de campos."
   ]
  },
  {
   "cell_type": "code",
   "execution_count": 12,
   "metadata": {
    "scrolled": true
   },
   "outputs": [
    {
     "data": {
      "text/html": [
       "<table class='petl'>\n",
       "<thead>\n",
       "<tr>\n",
       "<th>Fecha</th>\n",
       "<th>Nivel (m)</th>\n",
       "</tr>\n",
       "</thead>\n",
       "<tbody>\n",
       "<tr>\n",
       "<td>2012-01-23</td>\n",
       "<td>64.59</td>\n",
       "</tr>\n",
       "<tr>\n",
       "<td>2012-05-23</td>\n",
       "<td>64.79</td>\n",
       "</tr>\n",
       "<tr>\n",
       "<td>2012-07-30</td>\n",
       "<td>64.35</td>\n",
       "</tr>\n",
       "<tr>\n",
       "<td>2012-09-10</td>\n",
       "<td>64.77</td>\n",
       "</tr>\n",
       "<tr>\n",
       "<td>2012-11-15</td>\n",
       "<td>68.05</td>\n",
       "</tr>\n",
       "</tbody>\n",
       "</table>\n",
       "<p><strong>...</strong></p>"
      ],
      "text/plain": [
       "+--------------+-----------+\n",
       "| Fecha        | Nivel (m) |\n",
       "+==============+===========+\n",
       "| '2012-01-23' | '64.59'   |\n",
       "+--------------+-----------+\n",
       "| '2012-05-23' | '64.79'   |\n",
       "+--------------+-----------+\n",
       "| '2012-07-30' | '64.35'   |\n",
       "+--------------+-----------+\n",
       "| '2012-09-10' | '64.77'   |\n",
       "+--------------+-----------+\n",
       "| '2012-11-15' | '68.05'   |\n",
       "+--------------+-----------+\n",
       "..."
      ]
     },
     "execution_count": 12,
     "metadata": {},
     "output_type": "execute_result"
    }
   ],
   "source": [
    "niveles = etl.fromcsv('./dataset/niveles.csv', delimiter=',')\n",
    "niveles"
   ]
  },
  {
   "cell_type": "markdown",
   "metadata": {},
   "source": [
    "### Archivos Hyper Text Markup Language (HTML)\n",
    "\n",
    "[HTML](https://www.w3schools.com/html/html_intro.asp) es un medio para describir la __estructura y el código__ para la definición del contenido de una página web (e.g. texto, imágenes, videos).\n",
    "\n",
    "El [_Document Object Model_ (DOM)](https://www.w3schools.com/whatis/whatis_htmldom.asp) define la estructura básica de un documento HTML a partir de la cual se puede construir un documento, navegar sobre este, añadir, modificar o eliminar elementos."
   ]
  },
  {
   "cell_type": "markdown",
   "metadata": {},
   "source": [
    "```html\n",
    "<html>\n",
    "    <head>\n",
    "        <title>Título de la página</title>\n",
    "    </head>\n",
    "    <body>\n",
    "        <h1>Encabezado</h1>\n",
    "        <p>Este es un párrafo.</p>\n",
    "        <p>Este es otro párrafo.</p>\n",
    "        <table>\n",
    "            <tr>\n",
    "                <td>Celda</td>\n",
    "            </tr>\n",
    "        </table>\n",
    "    </body>\n",
    "</html>\n",
    "```"
   ]
  },
  {
   "cell_type": "markdown",
   "metadata": {},
   "source": [
    "Un _browser_ (e.g. IE, Firefox, Google Chrome) lee e interpreta los componentes y los interpreta para representarlos al usuario en un formato legible."
   ]
  },
  {
   "cell_type": "markdown",
   "metadata": {},
   "source": [
    "La __librería [Pandas](https://pandas.pydata.org)__ es una biblioteca de código de abierto que proporciona estructuras de datos de alto rendimiento y herramientas para el análisis de datos."
   ]
  },
  {
   "cell_type": "markdown",
   "metadata": {},
   "source": [
    "La función `.read_html(url)` __lee tablas en lenguaje HTML__ y retorna un objeto `dataframe`. En el siguiente ejemplo se muestra la extracción de la tabla de sismos de Centro Sismológico Nacional de la Universidad de Chile en la Red Sismológica Mundial publicada en su [portal web](http://www.sismologia.cl/links/ultimos_sismos.html)."
   ]
  },
  {
   "cell_type": "code",
   "execution_count": 13,
   "metadata": {
    "scrolled": true
   },
   "outputs": [
    {
     "data": {
      "text/html": [
       "<div>\n",
       "<style scoped>\n",
       "    .dataframe tbody tr th:only-of-type {\n",
       "        vertical-align: middle;\n",
       "    }\n",
       "\n",
       "    .dataframe tbody tr th {\n",
       "        vertical-align: top;\n",
       "    }\n",
       "\n",
       "    .dataframe thead th {\n",
       "        text-align: right;\n",
       "    }\n",
       "</style>\n",
       "<table border=\"1\" class=\"dataframe\">\n",
       "  <thead>\n",
       "    <tr style=\"text-align: right;\">\n",
       "      <th></th>\n",
       "      <th>Fecha Local</th>\n",
       "      <th>Fecha UTC</th>\n",
       "      <th>Latitud</th>\n",
       "      <th>Longitud</th>\n",
       "      <th>Profundidad [Km]</th>\n",
       "      <th>Magnitud</th>\n",
       "      <th>Referencia Geográfica</th>\n",
       "    </tr>\n",
       "  </thead>\n",
       "  <tbody>\n",
       "    <tr>\n",
       "      <th>0</th>\n",
       "      <td>2021-10-20 17:56:08</td>\n",
       "      <td>2021-10-20 20:56:08</td>\n",
       "      <td>-34.421</td>\n",
       "      <td>-73.750</td>\n",
       "      <td>25.3</td>\n",
       "      <td>2.7 Ml</td>\n",
       "      <td>159 km al NO de Constitución</td>\n",
       "    </tr>\n",
       "    <tr>\n",
       "      <th>1</th>\n",
       "      <td>2021-10-20 17:20:20</td>\n",
       "      <td>2021-10-20 20:20:20</td>\n",
       "      <td>-21.989</td>\n",
       "      <td>-69.797</td>\n",
       "      <td>81.4</td>\n",
       "      <td>3.1 Ml</td>\n",
       "      <td>42 km al N de María Elena</td>\n",
       "    </tr>\n",
       "    <tr>\n",
       "      <th>2</th>\n",
       "      <td>2021-10-20 17:16:46</td>\n",
       "      <td>2021-10-20 20:16:46</td>\n",
       "      <td>-29.776</td>\n",
       "      <td>-72.044</td>\n",
       "      <td>37.0</td>\n",
       "      <td>3.3 Ml</td>\n",
       "      <td>75 km al NO de Tongoy</td>\n",
       "    </tr>\n",
       "    <tr>\n",
       "      <th>3</th>\n",
       "      <td>2021-10-20 17:07:09</td>\n",
       "      <td>2021-10-20 20:07:09</td>\n",
       "      <td>-20.594</td>\n",
       "      <td>-69.192</td>\n",
       "      <td>111.7</td>\n",
       "      <td>2.7 Ml</td>\n",
       "      <td>18 km al SE de Pica</td>\n",
       "    </tr>\n",
       "    <tr>\n",
       "      <th>4</th>\n",
       "      <td>2021-10-20 16:53:17</td>\n",
       "      <td>2021-10-20 19:53:17</td>\n",
       "      <td>-29.778</td>\n",
       "      <td>-72.006</td>\n",
       "      <td>31.4</td>\n",
       "      <td>2.6 Ml</td>\n",
       "      <td>72 km al NO de Tongoy</td>\n",
       "    </tr>\n",
       "    <tr>\n",
       "      <th>5</th>\n",
       "      <td>2021-10-20 14:59:50</td>\n",
       "      <td>2021-10-20 17:59:50</td>\n",
       "      <td>-22.112</td>\n",
       "      <td>-68.721</td>\n",
       "      <td>116.5</td>\n",
       "      <td>3.1 Ml</td>\n",
       "      <td>45 km al NE de Calama</td>\n",
       "    </tr>\n",
       "    <tr>\n",
       "      <th>6</th>\n",
       "      <td>2021-10-20 11:36:34</td>\n",
       "      <td>2021-10-20 14:36:34</td>\n",
       "      <td>-31.111</td>\n",
       "      <td>-72.472</td>\n",
       "      <td>33.0</td>\n",
       "      <td>2.9 Ml</td>\n",
       "      <td>102 km al O de Canela Baja</td>\n",
       "    </tr>\n",
       "    <tr>\n",
       "      <th>7</th>\n",
       "      <td>2021-10-20 11:12:48</td>\n",
       "      <td>2021-10-20 14:12:48</td>\n",
       "      <td>-24.111</td>\n",
       "      <td>-67.564</td>\n",
       "      <td>198.3</td>\n",
       "      <td>3.2 Ml</td>\n",
       "      <td>67 km al SE de Socaire</td>\n",
       "    </tr>\n",
       "    <tr>\n",
       "      <th>8</th>\n",
       "      <td>2021-10-20 10:15:03</td>\n",
       "      <td>2021-10-20 13:15:03</td>\n",
       "      <td>-29.629</td>\n",
       "      <td>-71.352</td>\n",
       "      <td>58.1</td>\n",
       "      <td>3.2 Ml</td>\n",
       "      <td>20 km al SO de La Higuera</td>\n",
       "    </tr>\n",
       "    <tr>\n",
       "      <th>9</th>\n",
       "      <td>2021-10-20 08:37:21</td>\n",
       "      <td>2021-10-20 11:37:21</td>\n",
       "      <td>-22.419</td>\n",
       "      <td>-67.818</td>\n",
       "      <td>191.8</td>\n",
       "      <td>2.9 Ml</td>\n",
       "      <td>68 km al NE de San Pedro de Atacama</td>\n",
       "    </tr>\n",
       "    <tr>\n",
       "      <th>10</th>\n",
       "      <td>2021-10-20 07:18:13</td>\n",
       "      <td>2021-10-20 10:18:13</td>\n",
       "      <td>-22.237</td>\n",
       "      <td>-68.630</td>\n",
       "      <td>108.5</td>\n",
       "      <td>2.8 Ml</td>\n",
       "      <td>40 km al NE de Calama</td>\n",
       "    </tr>\n",
       "    <tr>\n",
       "      <th>11</th>\n",
       "      <td>2021-10-20 06:20:40</td>\n",
       "      <td>2021-10-20 09:20:40</td>\n",
       "      <td>-18.690</td>\n",
       "      <td>-69.414</td>\n",
       "      <td>102.4</td>\n",
       "      <td>3.1 Ml</td>\n",
       "      <td>57 km al S de Putre</td>\n",
       "    </tr>\n",
       "    <tr>\n",
       "      <th>12</th>\n",
       "      <td>2021-10-20 05:09:16</td>\n",
       "      <td>2021-10-20 08:09:16</td>\n",
       "      <td>-34.517</td>\n",
       "      <td>-70.765</td>\n",
       "      <td>94.2</td>\n",
       "      <td>2.5 Ml</td>\n",
       "      <td>22 km al E de San Fernando</td>\n",
       "    </tr>\n",
       "    <tr>\n",
       "      <th>13</th>\n",
       "      <td>2021-10-20 04:15:00</td>\n",
       "      <td>2021-10-20 07:15:00</td>\n",
       "      <td>-22.171</td>\n",
       "      <td>-68.686</td>\n",
       "      <td>119.5</td>\n",
       "      <td>2.5 Ml</td>\n",
       "      <td>42 km al NE de Calama</td>\n",
       "    </tr>\n",
       "    <tr>\n",
       "      <th>14</th>\n",
       "      <td>2021-10-20 03:11:53</td>\n",
       "      <td>2021-10-20 06:11:53</td>\n",
       "      <td>-29.833</td>\n",
       "      <td>-71.599</td>\n",
       "      <td>28.6</td>\n",
       "      <td>2.6 Ml</td>\n",
       "      <td>34 km al O de La Serena</td>\n",
       "    </tr>\n",
       "  </tbody>\n",
       "</table>\n",
       "</div>"
      ],
      "text/plain": [
       "            Fecha Local            Fecha UTC  Latitud  Longitud  \\\n",
       "0   2021-10-20 17:56:08  2021-10-20 20:56:08  -34.421   -73.750   \n",
       "1   2021-10-20 17:20:20  2021-10-20 20:20:20  -21.989   -69.797   \n",
       "2   2021-10-20 17:16:46  2021-10-20 20:16:46  -29.776   -72.044   \n",
       "3   2021-10-20 17:07:09  2021-10-20 20:07:09  -20.594   -69.192   \n",
       "4   2021-10-20 16:53:17  2021-10-20 19:53:17  -29.778   -72.006   \n",
       "5   2021-10-20 14:59:50  2021-10-20 17:59:50  -22.112   -68.721   \n",
       "6   2021-10-20 11:36:34  2021-10-20 14:36:34  -31.111   -72.472   \n",
       "7   2021-10-20 11:12:48  2021-10-20 14:12:48  -24.111   -67.564   \n",
       "8   2021-10-20 10:15:03  2021-10-20 13:15:03  -29.629   -71.352   \n",
       "9   2021-10-20 08:37:21  2021-10-20 11:37:21  -22.419   -67.818   \n",
       "10  2021-10-20 07:18:13  2021-10-20 10:18:13  -22.237   -68.630   \n",
       "11  2021-10-20 06:20:40  2021-10-20 09:20:40  -18.690   -69.414   \n",
       "12  2021-10-20 05:09:16  2021-10-20 08:09:16  -34.517   -70.765   \n",
       "13  2021-10-20 04:15:00  2021-10-20 07:15:00  -22.171   -68.686   \n",
       "14  2021-10-20 03:11:53  2021-10-20 06:11:53  -29.833   -71.599   \n",
       "\n",
       "    Profundidad [Km] Magnitud                Referencia Geográfica  \n",
       "0               25.3   2.7 Ml         159 km al NO de Constitución  \n",
       "1               81.4   3.1 Ml            42 km al N de María Elena  \n",
       "2               37.0   3.3 Ml                75 km al NO de Tongoy  \n",
       "3              111.7   2.7 Ml                  18 km al SE de Pica  \n",
       "4               31.4   2.6 Ml                72 km al NO de Tongoy  \n",
       "5              116.5   3.1 Ml                45 km al NE de Calama  \n",
       "6               33.0   2.9 Ml           102 km al O de Canela Baja  \n",
       "7              198.3   3.2 Ml               67 km al SE de Socaire  \n",
       "8               58.1   3.2 Ml            20 km al SO de La Higuera  \n",
       "9              191.8   2.9 Ml  68 km al NE de San Pedro de Atacama  \n",
       "10             108.5   2.8 Ml                40 km al NE de Calama  \n",
       "11             102.4   3.1 Ml                  57 km al S de Putre  \n",
       "12              94.2   2.5 Ml           22 km al E de San Fernando  \n",
       "13             119.5   2.5 Ml                42 km al NE de Calama  \n",
       "14              28.6   2.6 Ml              34 km al O de La Serena  "
      ]
     },
     "execution_count": 13,
     "metadata": {},
     "output_type": "execute_result"
    }
   ],
   "source": [
    "import pandas as pd\n",
    "\n",
    "url = 'http://www.sismologia.cl/ultimos_sismos.html'\n",
    "tablas = pd.read_html(url)\n",
    "sismos_df = tablas[0]\n",
    "\n",
    "sismos_df"
   ]
  },
  {
   "cell_type": "markdown",
   "metadata": {},
   "source": [
    "Por medio de la función `.fromdataframe()` el objeto __`dataframe` es convertido en un cotenedor__ (tabla). "
   ]
  },
  {
   "cell_type": "code",
   "execution_count": 15,
   "metadata": {},
   "outputs": [
    {
     "name": "stdout",
     "output_type": "stream",
     "text": [
      "+---------------------+---------------------+---------+----------+------------------+----------+------------------------------+\n",
      "| Fecha Local         | Fecha UTC           | Latitud | Longitud | Profundidad [Km] | Magnitud | Referencia Geográfica        |\n",
      "+=====================+=====================+=========+==========+==================+==========+==============================+\n",
      "| 2021-10-20 17:56:08 | 2021-10-20 20:56:08 | -34.421 |   -73.75 |             25.3 | 2.7 Ml   | 159 km al NO de Constitución |\n",
      "+---------------------+---------------------+---------+----------+------------------+----------+------------------------------+\n",
      "| 2021-10-20 17:20:20 | 2021-10-20 20:20:20 | -21.989 |  -69.797 |             81.4 | 3.1 Ml   | 42 km al N de María Elena    |\n",
      "+---------------------+---------------------+---------+----------+------------------+----------+------------------------------+\n",
      "| 2021-10-20 17:16:46 | 2021-10-20 20:16:46 | -29.776 |  -72.044 |             37.0 | 3.3 Ml   | 75 km al NO de Tongoy        |\n",
      "+---------------------+---------------------+---------+----------+------------------+----------+------------------------------+\n",
      "| 2021-10-20 17:07:09 | 2021-10-20 20:07:09 | -20.594 |  -69.192 |            111.7 | 2.7 Ml   | 18 km al SE de Pica          |\n",
      "+---------------------+---------------------+---------+----------+------------------+----------+------------------------------+\n",
      "| 2021-10-20 16:53:17 | 2021-10-20 19:53:17 | -29.778 |  -72.006 |             31.4 | 2.6 Ml   | 72 km al NO de Tongoy        |\n",
      "+---------------------+---------------------+---------+----------+------------------+----------+------------------------------+\n",
      "...\n",
      "\n"
     ]
    }
   ],
   "source": [
    "sismos_tabla = etl.fromdataframe(sismos_df)\n",
    "print(sismos_tabla)"
   ]
  },
  {
   "cell_type": "code",
   "execution_count": 16,
   "metadata": {},
   "outputs": [
    {
     "name": "stdout",
     "output_type": "stream",
     "text": [
      "+---------------------+----------+------------------------------+\n",
      "| Fecha Local         | Magnitud | Referencia Geográfica        |\n",
      "+=====================+==========+==============================+\n",
      "| 2021-10-20 17:56:08 | 2.7 Ml   | 159 km al NO de Constitución |\n",
      "+---------------------+----------+------------------------------+\n",
      "| 2021-10-20 17:20:20 | 3.1 Ml   | 42 km al N de María Elena    |\n",
      "+---------------------+----------+------------------------------+\n",
      "| 2021-10-20 17:16:46 | 3.3 Ml   | 75 km al NO de Tongoy        |\n",
      "+---------------------+----------+------------------------------+\n",
      "| 2021-10-20 17:07:09 | 2.7 Ml   | 18 km al SE de Pica          |\n",
      "+---------------------+----------+------------------------------+\n",
      "| 2021-10-20 16:53:17 | 2.6 Ml   | 72 km al NO de Tongoy        |\n",
      "+---------------------+----------+------------------------------+\n",
      "...\n",
      "\n"
     ]
    }
   ],
   "source": [
    "print(etl.cut(sismos_tabla, 'Fecha Local', 'Magnitud', 'Referencia Geográfica'))"
   ]
  },
  {
   "cell_type": "markdown",
   "metadata": {},
   "source": [
    "### Archivos eXtensible Markup Language (XML)\n",
    "\n",
    "[XML](https://www.w3schools.com/xml/default.asp) es un lenguaje de marcado independiente, diseñado para el almacenamiento y transporte de datos.\n",
    "\n",
    "- Almacena datos en __texto en formato plano__.\n",
    "- Es __autodescriptivo__.\n",
    "- Sólo es información etiquetada.\n",
    "- Se debe construir la lógica para __enviar, recibir, almacenar y representar__ el contenido.\n",
    "- Es extensible.\n",
    "\n",
    "El siguiente es un ejemplo del contenido de un archivo en formato XML."
   ]
  },
  {
   "cell_type": "markdown",
   "metadata": {},
   "source": [
    "```xml\n",
    "<?xml version=\"1.0\" encoding=\"UTF-8\"?>\n",
    "<CATALOG>\n",
    "\t<CD>\n",
    "\t\t<TITLE>Empire Burlesque</TITLE>\n",
    "\t\t<ARTIST>Bob Dylan</ARTIST>\n",
    "\t\t<COUNTRY>USA</COUNTRY>\n",
    "\t\t<COMPANY>Columbia</COMPANY>\n",
    "\t\t<PRICE>10.90</PRICE>\n",
    "\t\t<YEAR>1985</YEAR>\n",
    "\t</CD>\n",
    "\t<CD>\n",
    "\t\t<TITLE>Hide your heart</TITLE>\n",
    "\t\t<ARTIST>Bonnie Tyler</ARTIST>\n",
    "\t\t<COUNTRY>UK</COUNTRY>\n",
    "\t\t<COMPANY>CBS Records</COMPANY>\n",
    "\t\t<PRICE>9.90</PRICE>\n",
    "\t\t<YEAR>1988</YEAR>\n",
    "\t</CD>\n",
    "    :\n",
    "    .\n",
    "</CATALOG>\n",
    "```"
   ]
  },
  {
   "cell_type": "markdown",
   "metadata": {},
   "source": [
    "__La extracción de datos desde un archivo XML__ pueden realizarse proporcionando una asignación de nombres de campo a rutas de los elementos."
   ]
  },
  {
   "cell_type": "code",
   "execution_count": 19,
   "metadata": {},
   "outputs": [
    {
     "name": "stdout",
     "output_type": "stream",
     "text": [
      "+-----------------+----------------+------+---------------------+\n",
      "| artista         | cia            | pais | titulo              |\n",
      "+=================+================+======+=====================+\n",
      "| Bob Dylan       | Columbia       | USA  | Empire Burlesque    |\n",
      "+-----------------+----------------+------+---------------------+\n",
      "| Bonnie Tyler    | CBS Records    | UK   | Hide your heart     |\n",
      "+-----------------+----------------+------+---------------------+\n",
      "| Dolly Parton    | RCA            | USA  | Greatest Hits       |\n",
      "+-----------------+----------------+------+---------------------+\n",
      "| Gary Moore      | Virgin records | UK   | Still got the blues |\n",
      "+-----------------+----------------+------+---------------------+\n",
      "| Eros Ramazzotti | BMG            | EU   | Eros                |\n",
      "+-----------------+----------------+------+---------------------+\n",
      "...\n",
      "\n"
     ]
    }
   ],
   "source": [
    "catalogo = etl.fromxml('./dataset/cd_catalog.xml', 'CD', \n",
    "                       {'cia': 'COMPANY', 'artista': 'ARTIST', 'pais': 'COUNTRY', 'titulo': 'TITLE'})\n",
    "print(catalogo)"
   ]
  },
  {
   "cell_type": "markdown",
   "metadata": {},
   "source": [
    "### Archivos JavaScript Object Notation (JSON)\n",
    "\n",
    "[JSON](https://www.json.org) es un format ligero para el intercambio de datos.\n",
    "\n",
    "- Almacena __datos en formato de texto__.\n",
    "- Es __independiente__, pero utiliza convenciones familiares para los desarrolladores de distintos lenguajes de programación.\n",
    "- Es __entendible por las personas__ y __facil de interpretar por las máquinas__.\n",
    "\n",
    "La estructura se basa en:\n",
    "\n",
    "- Una __colección de pares__ `name:value`. En lenguajes es realizado en un `object`, `record`, `struct`, `dictionary`, `associative array`, etc.\n",
    "- Una __lista ordenada de valores__. En lenguajes de programación en realizado una matriz, vector, lista o secuencia.\n",
    "- __Tipos de datos__: cadenas de texto, números, arreglos, lógicos, nulos."
   ]
  },
  {
   "cell_type": "markdown",
   "metadata": {},
   "source": [
    "```json\n",
    "[\n",
    "    {\n",
    "    \"nombre\": \"Juan\",\n",
    "    \"segundo_nombre\": null,\n",
    "    \"edad\": 30,\n",
    "    \"ciudad\": \"Santiago\",\n",
    "    \"casado\": true\n",
    "    },\n",
    "    {\n",
    "    \"nombre\": \"Sandra\",\n",
    "    \"segundo_nombre\": \"Ariel\",\n",
    "    \"edad\": 24,\n",
    "    \"ciudad\": \"Concepción\",\n",
    "    \"casado\": false\n",
    "    }\n",
    "]\n",
    "```"
   ]
  },
  {
   "cell_type": "markdown",
   "metadata": {},
   "source": [
    "La función `.fromjson()` __extrae datos desde un archivo JSON__. \n",
    "- El archivo debe contener un arreglo como objeto de nivel superior.\n",
    "- Cada miembro del arreglo serña tratado como una fila de datos en el contenedor."
   ]
  },
  {
   "cell_type": "code",
   "execution_count": 21,
   "metadata": {
    "scrolled": true
   },
   "outputs": [
    {
     "data": {
      "text/html": [
       "<table class='petl'>\n",
       "<thead>\n",
       "<tr>\n",
       "<th>nombre</th>\n",
       "<th>segundo_nombre</th>\n",
       "<th>edad</th>\n",
       "<th>ciudad</th>\n",
       "<th>casado</th>\n",
       "<th>telefono</th>\n",
       "</tr>\n",
       "</thead>\n",
       "<tbody>\n",
       "<tr>\n",
       "<td>Juan</td>\n",
       "<td>None</td>\n",
       "<td style='text-align: right'>30</td>\n",
       "<td>Santiago</td>\n",
       "<td>True</td>\n",
       "<td>987654321</td>\n",
       "</tr>\n",
       "<tr>\n",
       "<td>Sandra</td>\n",
       "<td>Ariel</td>\n",
       "<td style='text-align: right'>24</td>\n",
       "<td>Concepción</td>\n",
       "<td>False</td>\n",
       "<td>123456789</td>\n",
       "</tr>\n",
       "</tbody>\n",
       "</table>\n"
      ],
      "text/plain": [
       "+----------+----------------+------+--------------+--------+-------------+\n",
       "| nombre   | segundo_nombre | edad | ciudad       | casado | telefono    |\n",
       "+==========+================+======+==============+========+=============+\n",
       "| 'Juan'   | None           |   30 | 'Santiago'   | True   | '987654321' |\n",
       "+----------+----------------+------+--------------+--------+-------------+\n",
       "| 'Sandra' | 'Ariel'        |   24 | 'Concepción' | False  | '123456789' |\n",
       "+----------+----------------+------+--------------+--------+-------------+"
      ]
     },
     "execution_count": 21,
     "metadata": {},
     "output_type": "execute_result"
    }
   ],
   "source": [
    "empleados = etl.fromjson('./dataset/empleados.json')\n",
    "empleados"
   ]
  },
  {
   "cell_type": "markdown",
   "metadata": {},
   "source": [
    "### Archivos Microsoft Excel (XLS, XLSX)\n",
    "\n",
    "XLS es un formato de archivo binario llamado Excel Binary File Format usado por Microsoft Excel hasta la versión 2007. Almacena, \n",
    "\n",
    "- Archivos de hojas de cálculo.\n",
    "- Tablas de filas y columnas.\n",
    "\n",
    "XLSX es el formato Microsoft Excel Open XML para el almacenamiento de hojas de cálculo usado por por Microsoft Excel desde la versión 2007."
   ]
  },
  {
   "cell_type": "markdown",
   "metadata": {},
   "source": [
    "__La extracción de datos desde archivos XLS o XLSX__, permite incluir los siguientes parámetros como _keywords_:\n",
    "\n",
    "- `sheet` hoja del libro.\n",
    "- `row_offset` fila inicial de la extracción.\n",
    "- `column_offset`columna inicial de la extracción."
   ]
  },
  {
   "cell_type": "code",
   "execution_count": 22,
   "metadata": {
    "scrolled": true
   },
   "outputs": [
    {
     "data": {
      "text/html": [
       "<table class='petl'>\n",
       "<thead>\n",
       "<tr>\n",
       "<th>Fecha</th>\n",
       "<th>Nivel (m)</th>\n",
       "</tr>\n",
       "</thead>\n",
       "<tbody>\n",
       "<tr>\n",
       "<td>2012-01-23</td>\n",
       "<td style='text-align: right'>64.59</td>\n",
       "</tr>\n",
       "<tr>\n",
       "<td>2012-05-23</td>\n",
       "<td style='text-align: right'>64.79</td>\n",
       "</tr>\n",
       "<tr>\n",
       "<td>2012-07-30</td>\n",
       "<td style='text-align: right'>64.35</td>\n",
       "</tr>\n",
       "<tr>\n",
       "<td>2012-09-10</td>\n",
       "<td style='text-align: right'>64.77</td>\n",
       "</tr>\n",
       "<tr>\n",
       "<td>2012-11-15</td>\n",
       "<td style='text-align: right'>68.05</td>\n",
       "</tr>\n",
       "</tbody>\n",
       "</table>\n",
       "<p><strong>...</strong></p>"
      ],
      "text/plain": [
       "+--------------+-----------+\n",
       "| Fecha        | Nivel (m) |\n",
       "+==============+===========+\n",
       "| '2012-01-23' |     64.59 |\n",
       "+--------------+-----------+\n",
       "| '2012-05-23' |     64.79 |\n",
       "+--------------+-----------+\n",
       "| '2012-07-30' |     64.35 |\n",
       "+--------------+-----------+\n",
       "| '2012-09-10' |     64.77 |\n",
       "+--------------+-----------+\n",
       "| '2012-11-15' |     68.05 |\n",
       "+--------------+-----------+\n",
       "..."
      ]
     },
     "execution_count": 22,
     "metadata": {},
     "output_type": "execute_result"
    }
   ],
   "source": [
    "niveles = etl.fromxlsx('./dataset/niveles.xlsx')\n",
    "niveles"
   ]
  }
 ],
 "metadata": {
  "kernelspec": {
   "display_name": "Python 3",
   "language": "python",
   "name": "python3"
  },
  "language_info": {
   "codemirror_mode": {
    "name": "ipython",
    "version": 3
   },
   "file_extension": ".py",
   "mimetype": "text/x-python",
   "name": "python",
   "nbconvert_exporter": "python",
   "pygments_lexer": "ipython3",
   "version": "3.7.11"
  }
 },
 "nbformat": 4,
 "nbformat_minor": 2
}
