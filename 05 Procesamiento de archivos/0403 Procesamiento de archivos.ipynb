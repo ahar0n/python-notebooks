{
 "cells": [
  {
   "cell_type": "markdown",
   "metadata": {},
   "source": [
    "# Procesamiento de archivos"
   ]
  },
  {
   "cell_type": "markdown",
   "metadata": {},
   "source": [
    "El uso de datos y su procesamiento plantea algunas de las siguientes limitaciones:\n",
    "\n",
    "- __Limitada capacidad de almacenamiento__ en la memoria central del ordenador.\n",
    "- El almacenamiento de datos en la __memoria central es volatil__.\n",
    "\n",
    "Estas limitaciones se pueden superar __almacenando los datos en archivos__ organizados de forma jerárquica en dispositivos de almacenamiento secundario.\n",
    "Un archivo:\n",
    "\n",
    "- Es un flujo de _bits_ tratado por el OS como una unidad lógica. \n",
    "- Su __tamaño__ puede ser cualquier número entero no negativo de ___bytes___. \n",
    "- La interpretación de su estructura básica (e.g. programa, texto, imagen), depende del software con el cual se procesa."
   ]
  },
  {
   "cell_type": "markdown",
   "metadata": {},
   "source": [
    "### Gestión de archivos\n",
    "La gestión de archivos que tratan con la propia estructura del archivo son:\n",
    "\n",
    "- __Create__: Crear una archivo mediante su nombre u atributos.\n",
    "- __Open__: Establece la comunicación de la CPU con el soporte físico del archivo, de forma que los registros se vuelven accesibles para su lectura y/o escritura.\n",
    "- __Append__: Incrementar, ampliar el tamaño del archivo.\n",
    "- __Delete__: Eliminar el archivo del soporte físico.\n",
    "- __Read/Write__: Transferencia de datos entre el archivo y la memoria central."
   ]
  },
  {
   "cell_type": "markdown",
   "metadata": {},
   "source": [
    "En el tratamiento de archivos, es una buena práctica seguir siguiente secuencia de pasos:\n",
    "\n",
    "1. __Apertura del archivo__, indicando su ubicación (_path_) y modo de tratamiento de la información (e.g. leer, escribir)\n",
    "2. __Transferencia de datos__ desde o hacia el archivo.\n",
    "3. __Cerrar archivo__."
   ]
  },
  {
   "cell_type": "markdown",
   "metadata": {},
   "source": [
    "### Apertura de archivos\n",
    "\n",
    "La función [`open()`](https://docs.python.org/3/library/functions.html#open), recibe como arguento dos parámetros: \n",
    "\n",
    "- Un valor de tipo `str` con el nombre (o ubicación del archivo), y\n",
    "- El modo de apertura del archivo, que puede ser, `r`: leer, `w`: escribir y `a`: añadir. Por defecto es `'rt'`: `read` `text`.\n",
    "\n",
    "Esta funció, retorna un objeto de tipo [_file object_](https://docs.python.org/3/glossary.html#term-file-object) a través del cual se pude manipular el contenido del archivo."
   ]
  },
  {
   "cell_type": "code",
   "metadata": {
    "ExecuteTime": {
     "end_time": "2024-11-11T19:04:25.736304Z",
     "start_time": "2024-11-11T19:04:25.732557Z"
    }
   },
   "source": [
    "fid = open('data/lorem_ipsum.txt')\n",
    "print(type(fid))"
   ],
   "outputs": [
    {
     "name": "stdout",
     "output_type": "stream",
     "text": [
      "<class '_io.TextIOWrapper'>\n"
     ]
    }
   ],
   "execution_count": 1
  },
  {
   "cell_type": "markdown",
   "metadata": {},
   "source": [
    "En los casos que se intente acceder a un archivo cuya ruta no existe, se retorna una excepción de tipo `FileNotFoundError`. \n",
    "\n",
    "Dos alternativas para el tratamiento de este error, consisten en:\n",
    "\n",
    "- Validar si el archivo existe en la ruta especificada:"
   ]
  },
  {
   "cell_type": "code",
   "metadata": {
    "ExecuteTime": {
     "end_time": "2024-11-11T19:07:04.548392Z",
     "start_time": "2024-11-11T19:07:04.545152Z"
    }
   },
   "source": [
    "from os import path\n",
    "\n",
    "if path.exists('data/lorem_ipsum.txt'):\n",
    "    # tratamiento del archivo aquí!\n",
    "    print('Archivo encontrado!')\n",
    "    pass\n",
    "else:\n",
    "    print('Archivo no encontrado!')"
   ],
   "outputs": [
    {
     "name": "stdout",
     "output_type": "stream",
     "text": [
      "Archivo encontrado!\n"
     ]
    }
   ],
   "execution_count": 4
  },
  {
   "cell_type": "markdown",
   "metadata": {},
   "source": [
    "- Capturar la excepción que genera el intento de apertura del archivo:"
   ]
  },
  {
   "cell_type": "code",
   "metadata": {
    "scrolled": true,
    "ExecuteTime": {
     "end_time": "2024-11-11T19:07:37.109944Z",
     "start_time": "2024-11-11T19:07:37.107206Z"
    }
   },
   "source": [
    "try:\n",
    "    archivo = open('./data/lorem_ipsum.txt')\n",
    "    # tratamiento del archivo aqui!\n",
    "    \n",
    "except FileNotFoundError:\n",
    "    print('Archivo no encontrado!')"
   ],
   "outputs": [],
   "execution_count": 6
  },
  {
   "cell_type": "markdown",
   "metadata": {},
   "source": [
    "### Cierre de archivos\n",
    "\n",
    "El método `close()`, soportado por el objeto _file_, cierra el archivo. La ejecución de esta acción permite,\n",
    "- __después de escribir__ contenido en el archivo, que los datos sean almacenados en disco.\n",
    "- __después de leer__ el contenido, que se libere la memoria usada para manipular el archivo."
   ]
  },
  {
   "cell_type": "code",
   "execution_count": null,
   "metadata": {},
   "outputs": [],
   "source": [
    "fid.close()"
   ]
  },
  {
   "cell_type": "markdown",
   "metadata": {},
   "source": [
    "### Lectura por caracter\n",
    "\n",
    "El método `read()` que recibe como argumento un valor (expresado en _bytes_), retorna una cadena de texto equivalente a la cantidad de _bytes_ leidos. \n",
    "\n",
    "- Cuando no hay más _bytes_ por leer, el método retorna una cadena vacía `''`.\n",
    "\n",
    "En el siguiente ejemplo la función `obtener_peso()`, retorna la cantidad de bytes (o caracteres) que contiene un archivo cuyo nombre recibe como argumento, en este caso, el archivo `lorem_ipsum.txt`. Notar que la lectura del contenido del archivo se realiza de forma iterativa _byte_ por _byte_."
   ]
  },
  {
   "cell_type": "code",
   "metadata": {
    "ExecuteTime": {
     "end_time": "2024-11-11T19:13:51.940822Z",
     "start_time": "2024-11-11T19:13:51.935963Z"
    }
   },
   "source": [
    "def obtener_peso(filename):\n",
    "    \n",
    "    # 1. Abrir el archivo\n",
    "    archivo = open(filename)\n",
    "    peso = 0\n",
    "    \n",
    "    # 2. Leer el contenido\n",
    "    while archivo.read(1) != '':\n",
    "        peso += 1\n",
    "    \n",
    "    # 3. Liberar la memoria\n",
    "    archivo.close()\n",
    "    return peso\n",
    "\n",
    "peso =  obtener_peso(\"./data/lorem_ipsum.txt\")\n",
    "print(f\"{peso/1024} Mbytes\")"
   ],
   "outputs": [
    {
     "name": "stdout",
     "output_type": "stream",
     "text": [
      "0.33984375 Mbytes\n"
     ]
    }
   ],
   "execution_count": 7
  },
  {
   "cell_type": "markdown",
   "metadata": {},
   "source": [
    "### Lectura por línea\n",
    "\n",
    "El método `readline()` lee una línea del archivo, seguido de la secuencia de escape `\\n`. Cuando un valor en _bytes_ está presente como argumento de la función, retorna una cadena de texto, equivalente a la cantidad de _bytes_ (incluyendo el carácter de línea nueva).\n",
    "\n",
    "- Cuando no hay más _bytes_ por leer, el método retorna una cadena vacía `\"\"`.\n",
    "\n",
    "Por ejemplo, el siguiente algoritmo muestra el contenido del archivo de texto `lorem_ipsum.txt` con su respectivo número de línea."
   ]
  },
  {
   "cell_type": "code",
   "metadata": {
    "ExecuteTime": {
     "end_time": "2024-11-11T19:26:29.754839Z",
     "start_time": "2024-11-11T19:26:29.750751Z"
    }
   },
   "source": [
    "def imprimir(filename):\n",
    "    # 1 abrir el archivo 2\n",
    "    archivo = open(filename, \"r\")\n",
    "    i = 1\n",
    "    while True:\n",
    "        linea = archivo.readline()\n",
    "        if linea == '':\n",
    "            break\n",
    "        print(\"{0:>2}\".format(i), linea.rstrip(\"\\n\")) \n",
    "        i += 1\n",
    "    \n",
    "    # 3 cerrar el archivo\n",
    "    archivo.close()\n",
    "    return\n",
    "\n",
    "imprimir(\"data/lorem_ipsum.txt\")"
   ],
   "outputs": [
    {
     "name": "stdout",
     "output_type": "stream",
     "text": [
      " 1 Lorem Ipsum es simplemente el texto de relleno de las imprentas\n",
      " 2 y archivos de texto. Lorem Ipsum ha sido el texto de relleno\n",
      " 3 estándar de las industrias desde el año 1500, cuando un impresor\n",
      " 4 (N. del T. persona que se dedica a la imprenta) desconocido usó\n",
      " 5 una galería de textos y los mezcló de tal manera que logró hacer\n",
      " 6 un libro de textos especimen.\n"
     ]
    }
   ],
   "execution_count": 13
  },
  {
   "cell_type": "markdown",
   "source": [
    "__NOTAS:__ \n",
    "- Un __caracter de escape__, como por ejemplo la secuencia `\\n` que se interpreta como un salto de lína, es una combinación de caracteres que tienen significados específicos en el lenguaje de programación. Más información se puede consultar en la sección [Escape sequences](https://docs.python.org/3/reference/lexical_analysis.html#escape-sequences) de la documentación de Python.\n",
    "\n",
    "- La función [str.rstrip()](https://docs.python.org/3/library/stdtypes.html#str.rstrip) devuelve una copia de la cadena con los caracteres finales eliminados. Puede recibir como argumento, cadena de caracteres que especifica el conjunto de caracteres que serán eliminados. Elimina por defecto los espacios en blanco."
   ],
   "metadata": {
    "collapsed": false
   }
  },
  {
   "cell_type": "markdown",
   "metadata": {},
   "source": [
    "### Escritura de archivos\n",
    "\n",
    "El método `write()` escribe cualquier cadena de texto en un archivo abierto en modo de escritura: `\"w\"` o `\"a\"`.\n",
    "\n",
    "El siguiente ejemplo escribe en un archivo el contenido de una cadena de texto."
   ]
  },
  {
   "cell_type": "code",
   "metadata": {
    "ExecuteTime": {
     "end_time": "2024-11-11T19:29:36.067977Z",
     "start_time": "2024-11-11T19:29:36.063716Z"
    }
   },
   "source": [
    "archivo = open(\"./data/output.txt\", \"w\")\n",
    "archivo.write(\"Esta primera oración se escribe en una línea. Esta es otra, en una nueva línea.\")\n",
    "archivo.close()"
   ],
   "outputs": [],
   "execution_count": 15
  },
  {
   "cell_type": "markdown",
   "metadata": {},
   "source": [
    "## Añadir a un archivo existente\n",
    "\n",
    "Para agregar datos a un archivo, dicho archivo estar abierto en modo `\"a\"`. \n",
    "- En este caso, el método `write()`, añade al final del contenido del archivo, la cadena de caracteres que recibe como argumento.\n",
    "\n",
    "En el siguiente ejemplo, el programa solicita al usuario de forma iterativa una cadena de texto, la cual es añadida al fichero de texto `notas.txt`. Por lo tanto, el fichero crece en una línea cada vez que se ingresa texto:"
   ]
  },
  {
   "cell_type": "code",
   "metadata": {
    "ExecuteTime": {
     "end_time": "2024-11-11T19:35:38.952931Z",
     "start_time": "2024-11-11T19:35:33.807474Z"
    }
   },
   "source": [
    "def agregar_nota(nombre_archivo, nueva_nota):\n",
    "    archivo = open(nombre_archivo, 'a')\n",
    "    archivo.write(nueva_nota + '\\n')\n",
    "    archivo.close()\n",
    "    return\n",
    "\n",
    "mis_notas = \"./data/notas.txt\"\n",
    "while True:\n",
    "    nueva_nota = input('Ingrese una nota [Enter para salir]: ')\n",
    "    if nueva_nota == '':\n",
    "        break\n",
    "    agregar_nota(mis_notas, nueva_nota)"
   ],
   "outputs": [],
   "execution_count": 19
  },
  {
   "cell_type": "markdown",
   "metadata": {},
   "source": [
    "### Renombrar y eliminar archivos\n",
    "\n",
    "El método `rename()` de la libreria [`os`](https://docs.python.org/3/library/os.html), recibe como argumento dos cadenas de texto, correspondiente al nombre original del archivo y al nuevo nombre del archivo, respectivamente."
   ]
  },
  {
   "cell_type": "code",
   "execution_count": null,
   "metadata": {},
   "outputs": [],
   "source": [
    "from os import rename\n",
    "\n",
    "rename('data/notas.txt', 'data/mis_notas.txt')"
   ]
  },
  {
   "cell_type": "markdown",
   "metadata": {},
   "source": [
    "Por otra parte, la función `remove()` elimina un archivo a partir de su nombre, recibido como argumento."
   ]
  },
  {
   "cell_type": "code",
   "execution_count": null,
   "metadata": {},
   "outputs": [],
   "source": [
    "from os import remove\n",
    "\n",
    "remove('data/mis_notas.txt')"
   ]
  }
 ],
 "metadata": {
  "kernelspec": {
   "display_name": "Python 3",
   "language": "python",
   "name": "python3"
  },
  "language_info": {
   "codemirror_mode": {
    "name": "ipython",
    "version": 3
   },
   "file_extension": ".py",
   "mimetype": "text/x-python",
   "name": "python",
   "nbconvert_exporter": "python",
   "pygments_lexer": "ipython3",
   "version": "3.7.11"
  }
 },
 "nbformat": 4,
 "nbformat_minor": 2
}
