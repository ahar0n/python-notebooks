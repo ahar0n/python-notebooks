{
 "cells": [
  {
   "cell_type": "markdown",
   "metadata": {},
   "source": [
    "# Causas de muertes en EUA (1999-2015)\n",
    "\n",
    "El caso de estudio consiste en analizar las principales causas de muerte en los Estados Unidos de América entre los años 1999 y 2015.\n",
    "\n",
    "### Dataset\n",
    "El conjunto de datos son obtenidos de los datos abiertos del gobierno de EE. UU., obtenidos desde [data.gov](https://data.gov).\n",
    "\n",
    "### Requerimientos de información\n",
    "El estudio consiste en responder las siguientes preguntas:\n",
    "\n",
    "1. ¿Cuál es el número total de registros (válidos) en el dataset?\n",
    "1. ¿Cuáles fueron las causas de muerte en el _dataset_?\n",
    "1. ¿Cuál fue el número total de muertes en los EUA entre 1999 y 2015?\n",
    "1. ¿Cuál es el número de muertes por año desde 1999 hasta 2015?\n",
    "1. ¿Cuáles son los diez estados que tuvieron el mayor número de muertes?\n",
    "1. ¿Cuáles fueron las dos principales causas de muerte en los Estados Unidos durante todo el período?"
   ]
  },
  {
   "cell_type": "markdown",
   "metadata": {},
   "source": [
    "### Entrega\n",
    "\n",
    "- Notebook con el desarrollo (descripción y justificación) completo del EDA aplicado hasta obtener los resultados.\n",
    "- En el apartado __Reporte__ mostrar los resultados (sentencias, resultado y/o visualizaciones) a los requierimientos de información.\n"
   ]
  },
  {
   "cell_type": "markdown",
   "metadata": {},
   "source": [
    "## Desarrollo del EDA"
   ]
  },
  {
   "cell_type": "code",
   "execution_count": null,
   "metadata": {},
   "outputs": [],
   "source": []
  },
  {
   "cell_type": "markdown",
   "metadata": {},
   "source": [
    "## Reporte"
   ]
  },
  {
   "cell_type": "markdown",
   "metadata": {},
   "source": [
    "¿Cuál es el número total de registros (válidos) en el _dataset_?"
   ]
  },
  {
   "cell_type": "code",
   "execution_count": null,
   "metadata": {},
   "outputs": [],
   "source": []
  },
  {
   "cell_type": "markdown",
   "metadata": {},
   "source": [
    "¿Cuáles fueron las causas de muerte en el _dataset_?"
   ]
  },
  {
   "cell_type": "code",
   "execution_count": null,
   "metadata": {},
   "outputs": [],
   "source": []
  },
  {
   "cell_type": "markdown",
   "metadata": {},
   "source": [
    "¿Cuál fue el número total de muertes en los EUA entre 1999 y 2015?"
   ]
  },
  {
   "cell_type": "code",
   "execution_count": null,
   "metadata": {},
   "outputs": [],
   "source": []
  },
  {
   "cell_type": "markdown",
   "metadata": {},
   "source": [
    "¿Cuál es el número de muertes por año desde 1999 hasta 2015?"
   ]
  },
  {
   "cell_type": "code",
   "execution_count": null,
   "metadata": {},
   "outputs": [],
   "source": []
  },
  {
   "cell_type": "markdown",
   "metadata": {},
   "source": [
    "¿Cuáles son los diez estados que tuvieron el mayor número de muertes?"
   ]
  },
  {
   "cell_type": "code",
   "execution_count": null,
   "metadata": {},
   "outputs": [],
   "source": []
  },
  {
   "cell_type": "markdown",
   "metadata": {},
   "source": [
    "¿Cuáles fueron las dos principales causas de muerte en los Estados Unidos durante todo el período?"
   ]
  },
  {
   "cell_type": "code",
   "execution_count": null,
   "metadata": {},
   "outputs": [],
   "source": []
  }
 ],
 "metadata": {
  "kernelspec": {
   "display_name": "Python 3",
   "language": "python",
   "name": "python3"
  },
  "language_info": {
   "codemirror_mode": {
    "name": "ipython",
    "version": 3
   },
   "file_extension": ".py",
   "mimetype": "text/x-python",
   "name": "python",
   "nbconvert_exporter": "python",
   "pygments_lexer": "ipython3",
   "version": "3.8.3-final"
  },
  "orig_nbformat": 2
 },
 "nbformat": 4,
 "nbformat_minor": 2
}
