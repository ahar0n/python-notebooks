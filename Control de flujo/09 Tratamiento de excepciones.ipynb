{
 "cells": [
  {
   "cell_type": "markdown",
   "source": [
    "# Captura y tratamiento de excepciones"
   ],
   "metadata": {}
  },
  {
   "cell_type": "markdown",
   "source": [
    "Las excepciones o errores en tiempo de ejecución en Python pueden ser tratados por medio del mecanismo de manejo de excepciones. \n",
    "\n",
    "La estructura de control [`try-except`](https://docs.python.org/3/tutorial/errors.html#handling-exceptions) permite la capturar y tratar las excepciones."
   ],
   "metadata": {}
  },
  {
   "cell_type": "markdown",
   "source": [
    "![Diagrama try-except](./img/try-except.svg)"
   ],
   "metadata": {}
  },
  {
   "cell_type": "markdown",
   "source": [
    "- Cada excepción está asociada a un tipo que puede ser identificado.\n",
    "- Excepciones multiples, pueden ser tratadas de forma similar a la estructura condicional anidada compacta `elif`.\n",
    "- La excepción vacía (no identificada), actúa como para cuaquier excepción detectada.\n",
    "\n",
    "Las excepciones permiten proteger a los usuarios de acciones inesperadas por parte de los programas.\n"
   ],
   "metadata": {}
  },
  {
   "cell_type": "markdown",
   "source": [
    "## Ejemplo: Ecuación de segundo grado"
   ],
   "metadata": {}
  },
  {
   "cell_type": "markdown",
   "source": [
    "A continuación se presenta una nueva versión del programa diseñado para resolver una ecuación de segundo grado, incorporando el tratamiento de una excepción."
   ],
   "metadata": {}
  },
  {
   "cell_type": "code",
   "execution_count": null,
   "source": [
    "# ecuacion_segundo_grado_.py Resuelve ecuacion de segundo grado\n",
    "\n",
    "a, b, c = eval(input('Ingrese los coeficientes: '))\n",
    "\n",
    "delta = b**2 - (4*a*c)\n",
    "\n",
    "try:\n",
    "    if delta > 0:\n",
    "        x1 = (-b + delta**0.5) / (2*a)\n",
    "        x2 = (-b - delta**0.5) / (2*a)\n",
    "        print('x1 = {}, x2 = {}'.format(x1, x2))\n",
    "    elif delta == 0:\n",
    "        x = -b / (2*a)\n",
    "        print('x1 = x2 = {}'.format(x))\n",
    "    else:\n",
    "        print('Solución en los complejos!')\n",
    "except ZeroDivisionError:\n",
    "    print('No tiene solución!')"
   ],
   "outputs": [],
   "metadata": {
    "scrolled": true
   }
  },
  {
   "cell_type": "markdown",
   "source": [
    "En el programa...\n",
    "\n",
    "- Al momento que se lance una excepción en la ejecución de las líneas 11-19, la ejecución se dirigirá directamente al bloque de código que depende de la sentencia `except`.\n",
    "- En este caso particular, existe la posibilidad que suceda la excepción de tipo `ZeroDivisionError`."
   ],
   "metadata": {}
  },
  {
   "cell_type": "markdown",
   "source": [
    "## Actividad"
   ],
   "metadata": {}
  },
  {
   "cell_type": "markdown",
   "source": [
    "Analizar el programa para resolver una ecuación de segundo grado y abordar las siguientes tareas,\n",
    "\n",
    "1. Identificar todas las excepciones que podrían ocurrir a lo largo de la ejecución del programa.\n",
    "2. Verificar el programa y aplicar las correcciones respectivas para evitar la ejecución de acciones inesperadas (validaciones)."
   ],
   "metadata": {}
  }
 ],
 "metadata": {
  "kernelspec": {
   "name": "python3",
   "display_name": "Python 3.8.8 64-bit"
  },
  "language_info": {
   "codemirror_mode": {
    "name": "ipython",
    "version": 3
   },
   "file_extension": ".py",
   "mimetype": "text/x-python",
   "name": "python",
   "nbconvert_exporter": "python",
   "pygments_lexer": "ipython3",
   "version": "3.8.8"
  },
  "interpreter": {
   "hash": "202d1d44df6c15928d09411a0b718e4d5217eaa1aee5fa2339bd60bdd09bd4e9"
  }
 },
 "nbformat": 4,
 "nbformat_minor": 2
}