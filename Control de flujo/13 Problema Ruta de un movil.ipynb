{
 "cells": [
  {
   "cell_type": "markdown",
   "source": [
    "# Problema: Ruta de un móvil"
   ],
   "metadata": {}
  },
  {
   "cell_type": "markdown",
   "source": [
    "La ruta de un móvil es planificada utilizando un diagrama de localidades."
   ],
   "metadata": {}
  },
  {
   "cell_type": "markdown",
   "source": [
    "![Localidad](./img/localidades.svg)"
   ],
   "metadata": {}
  },
  {
   "cell_type": "markdown",
   "source": [
    "Cada diagrama es representado por medio de una lista de tuplas (`DIAGRAMA`) que asocia a cada localidad un conjunto de localidades vecinas almacenadas en un lista. Dos localidades son vecinas cuando existe un camino directo que las conecta."
   ],
   "metadata": {}
  },
  {
   "cell_type": "code",
   "execution_count": 1,
   "source": [
    "DIAGRAMA = [\n",
    "    ('A', ['B', 'D', 'C']),\n",
    "    ('B', ['A', 'D']),\n",
    "    ('C', ['A', 'D', 'F']),\n",
    "    ('D', ['A', 'B', 'C', 'F']),\n",
    "    ('E', ['F']),\n",
    "    ('F', ['C', 'D', 'E'])\n",
    "]"
   ],
   "outputs": [],
   "metadata": {}
  },
  {
   "cell_type": "markdown",
   "source": [
    "Diseñar el programa ```ruta_localidades.py``` con las siguientes funcionalidades:\n",
    "\n",
    "1. Solicite al usuario el ingreso de la ruta, localidad por localidad.\n",
    "2. En el caso que el usuario ingrese una entrada no válida, el programa deberá mostrar el mensaje `La entrada no es válida, ingrese nuevamente!`, y deberá seguir solicitando entradas.\n",
    "3. El programa deberá terminar cuando el usuario presione la tecla ENTER sin ingresar valores, y deberá mostrar el mensaje `La ruta existe` si la ruta ingresada es válida. De lo contrario, deberá mostrar el mensaje `La ruta no existe`.\n",
    "\n",
    "__IMPORTANTE__: Para diseñar el programa se permite el uso de:\n",
    "- Operadores: artiméticos, comparadores, booleanos, de asignacion simple y compuestos, `in`, segentación de secuencias `[]`.\n",
    "- Estructuras de control de flujo: condicionales simples y anidados, iteradores o bucles.\n",
    "- Tratamiento de excepciones.\n",
    "- Sentencias: `break`, `continue`.\n",
    "- Funciones: `input()`, `print()`, `range()`, `len()`, `format()`.\n",
    "\n",
    "A continuación se presentan algunos ejemplos de la ejecución del programa."
   ],
   "metadata": {}
  },
  {
   "cell_type": "markdown",
   "source": [
    "```\n",
    "Ingrese localidad: A\n",
    "Ingrese localidad: B\n",
    "Ingrese localidad: D\n",
    "Ingrese localidad: C\n",
    "Ingrese localidad: \n",
    "La ruta existe\n",
    "```"
   ],
   "metadata": {}
  },
  {
   "cell_type": "markdown",
   "source": [
    "```\n",
    "Ingrese localidad: A\n",
    "Ingrese localidad: Z\n",
    "La entrada no es válida, ingrese nuevamente.\n",
    "Ingrese localidad: C\n",
    "Ingrese localidad: F\n",
    "Ingrese localidad: \n",
    "La ruta existe\n",
    "```"
   ],
   "metadata": {}
  },
  {
   "cell_type": "markdown",
   "source": [
    "```\n",
    "Ingrese localidad: F\n",
    "Ingrese localidad: D\n",
    "Ingrese localidad: A\n",
    "Ingrese localidad: C\n",
    "Ingrese localidad: F\n",
    "Ingrese localidad: E\n",
    "Ingrese localidad: \n",
    "La ruta existe\n",
    "```"
   ],
   "metadata": {}
  },
  {
   "cell_type": "markdown",
   "source": [
    "```\n",
    "Ingrese localidad: A\n",
    "Ingrese localidad: B\n",
    "Ingrese localidad: C\n",
    "Ingrese localidad:  \n",
    "La ruta no existe\n",
    "```"
   ],
   "metadata": {}
  }
 ],
 "metadata": {
  "orig_nbformat": 4,
  "language_info": {
   "name": "python",
   "version": "3.8.5",
   "mimetype": "text/x-python",
   "codemirror_mode": {
    "name": "ipython",
    "version": 3
   },
   "pygments_lexer": "ipython3",
   "nbconvert_exporter": "python",
   "file_extension": ".py"
  },
  "kernelspec": {
   "name": "python3",
   "display_name": "Python 3.8.5 64-bit ('docsenv': conda)"
  },
  "interpreter": {
   "hash": "0976c98c5c3036be02fc29de4e5136c7c1d32e3ef1eead0c876861cd4304056d"
  }
 },
 "nbformat": 4,
 "nbformat_minor": 2
}