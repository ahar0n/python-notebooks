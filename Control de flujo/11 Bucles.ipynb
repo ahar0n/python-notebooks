{
 "cells": [
  {
   "cell_type": "markdown",
   "source": [
    "# Bucles"
   ],
   "metadata": {}
  },
  {
   "cell_type": "markdown",
   "source": [
    "Un bucle es una __secuencia de sentencias que se especifican una vez pero que puede ejecutarse repetidas veces__. \n",
    "\n",
    "El código del cuerpo del bucle se ejecuta...\n",
    "- un número específico de veces\n",
    "- una vez para cada uno de una colección de elementos\n",
    "- hasta que se cumpla alguna condición\n",
    "- indefinidamente\n",
    "\n",
    "En Python, se pueden implementar los bucles: <code>while</code> y <code>for</code>."
   ],
   "metadata": {}
  },
  {
   "cell_type": "markdown",
   "source": [
    "## Bucle `while`"
   ],
   "metadata": {}
  },
  {
   "cell_type": "markdown",
   "source": [
    "Ejecuta una secuencia de acciones __mientras la evaluación de una condición sea verdadera__. \n",
    "- __La condición es evaluada antes de cada vez__ que se ejecuta el cuerpo del ciclo o iteración."
   ],
   "metadata": {}
  },
  {
   "cell_type": "markdown",
   "source": [
    "![Diagrama bucle while](img/while.svg)"
   ],
   "metadata": {}
  },
  {
   "cell_type": "markdown",
   "source": [
    "En el siguiente ejemplo, el programa muestra todos los numeros enteros menores que 10."
   ],
   "metadata": {}
  },
  {
   "cell_type": "code",
   "execution_count": null,
   "source": [
    "n = 0\n",
    "while n < 10:\n",
    "    n += 1\n",
    "    print(n)"
   ],
   "outputs": [],
   "metadata": {
    "scrolled": true
   }
  },
  {
   "cell_type": "markdown",
   "source": [
    "## Bucle `for`"
   ],
   "metadata": {}
  },
  {
   "cell_type": "markdown",
   "source": [
    "Sentencia de control de flujo que __permite especificar la cantidad de veces que se realiza una iteración__.\n",
    "\n",
    "- Repite una porción código para todo elemento de una serie de valores, por ejemplo, <code>0, 1, 2,..., n</code>.\n",
    "- Cada valor de la serie es asignado a la __variable de control__, para cada una de las iteraciones, por medio del operador `in`.\n",
    "\n",
    "__NOTA:__ El operador `in` permite comprobar si un valor o variable se pertenece en una secuencia (e.g. tuplas, listas, cadenas)."
   ],
   "metadata": {}
  },
  {
   "cell_type": "markdown",
   "source": [
    "![Diagrama bucle for](img/for.svg)"
   ],
   "metadata": {}
  },
  {
   "cell_type": "code",
   "execution_count": 1,
   "source": [
    "# muestra los valores de una lista\n",
    "miLista = [1, 2, 3, 4]\n",
    "for i in miLista:\n",
    "    print(i)"
   ],
   "outputs": [
    {
     "output_type": "stream",
     "name": "stdout",
     "text": [
      "1\n",
      "2\n",
      "3\n",
      "4\n"
     ]
    }
   ],
   "metadata": {
    "scrolled": true
   }
  },
  {
   "cell_type": "code",
   "execution_count": 2,
   "source": [
    "# muestra los caracteres de un cadena de texto\n",
    "palabra = 'Hola!'\n",
    "for letra in palabra:\n",
    "    print(letra)"
   ],
   "outputs": [
    {
     "output_type": "stream",
     "name": "stdout",
     "text": [
      "H\n",
      "o\n",
      "l\n",
      "a\n",
      "!\n"
     ]
    }
   ],
   "metadata": {}
  },
  {
   "cell_type": "code",
   "execution_count": 3,
   "source": [
    "# muestra los índice de una secuencia\n",
    "for i in miLista:\n",
    "    print(miLista.index(i))"
   ],
   "outputs": [
    {
     "output_type": "stream",
     "name": "stdout",
     "text": [
      "0\n",
      "1\n",
      "2\n",
      "3\n"
     ]
    }
   ],
   "metadata": {
    "scrolled": true
   }
  },
  {
   "cell_type": "code",
   "execution_count": 4,
   "source": [
    "# muestra los índices de una cadena de texto\n",
    "for letra in palabra:\n",
    "    print(palabra.index(letra))"
   ],
   "outputs": [
    {
     "output_type": "stream",
     "name": "stdout",
     "text": [
      "0\n",
      "1\n",
      "2\n",
      "3\n",
      "4\n"
     ]
    }
   ],
   "metadata": {}
  },
  {
   "cell_type": "markdown",
   "source": [
    "### Tipo ```range```\n",
    "\n",
    "El objeto ```range``` ([...](https://docs.python.org/3/library/stdtypes.html#range)), al igual que las tuplas, es un tipo de dato que representa una __secuencia inmutable de números__, usada comúnmente para definir bucles ```for```.\n",
    "\n",
    "La función ```range(start, stop, step)``` recibe como argumento el valor inicial <code>start</code>, el valor final <code>stop</code> y el incremento <code>step</code>, de la serie respectivamente."
   ],
   "metadata": {}
  },
  {
   "cell_type": "code",
   "execution_count": null,
   "source": [
    "range(1,10,2)"
   ],
   "outputs": [],
   "metadata": {
    "scrolled": true
   }
  },
  {
   "cell_type": "markdown",
   "source": [
    "El contenido del objeto ```range``` es determinado por ```r[i] = start + step*i```, con la condición ```i >= 0``` y\n",
    "\n",
    "- ```r[i] < stop``` para incrementos positivos, y\n",
    "- ```r[i] > stop``` para incrementos negativos.\n",
    "\n",
    "Los valores por defecto son ```start = 0``` y ```step = 1```. Por lo tanto, también puede definirse de la forma ```range(stop)```:"
   ],
   "metadata": {}
  },
  {
   "cell_type": "code",
   "execution_count": null,
   "source": [
    "range(10)"
   ],
   "outputs": [],
   "metadata": {}
  },
  {
   "cell_type": "markdown",
   "source": [
    "La función ```list()``` permite representar el objeto ```range``` como una lista:"
   ],
   "metadata": {}
  },
  {
   "cell_type": "code",
   "execution_count": null,
   "source": [
    "list(range(10))"
   ],
   "outputs": [],
   "metadata": {}
  },
  {
   "cell_type": "markdown",
   "source": [
    "En consecuencia, la definición de la sentencia de control ```for```, para la ejecución de 5 pasos, se puede definir como:"
   ],
   "metadata": {}
  },
  {
   "cell_type": "code",
   "execution_count": 5,
   "source": [
    "for i in range(5):\n",
    "    print(i)"
   ],
   "outputs": [
    {
     "output_type": "stream",
     "name": "stdout",
     "text": [
      "0\n",
      "1\n",
      "2\n",
      "3\n",
      "4\n"
     ]
    }
   ],
   "metadata": {}
  },
  {
   "cell_type": "markdown",
   "source": [
    "y para definir una cuenta regresiva hasta 1 desde 10,"
   ],
   "metadata": {}
  },
  {
   "cell_type": "code",
   "execution_count": 8,
   "source": [
    "for i in range(10,0,-1):\n",
    "    print(i)"
   ],
   "outputs": [
    {
     "output_type": "stream",
     "name": "stdout",
     "text": [
      "10\n",
      "9\n",
      "8\n",
      "7\n",
      "6\n",
      "5\n",
      "4\n",
      "3\n",
      "2\n",
      "1\n"
     ]
    }
   ],
   "metadata": {}
  },
  {
   "cell_type": "markdown",
   "source": [
    "## Finalizar bucle ```break```"
   ],
   "metadata": {}
  },
  {
   "cell_type": "markdown",
   "source": [
    "La sentencia `break` termina el bucle que lo contiene.\n",
    "\n",
    "- El flujo de ejecución del programa continúa en la sentencia inmediatamente después del cuerpo del bucle. \n",
    "- Lo lógico es que sea usada dentro de un condicional `if`, esto, para evitar que el ciclo termine prematuramente en la primera iteración."
   ],
   "metadata": {
    "collapsed": true
   }
  },
  {
   "cell_type": "markdown",
   "source": [
    "![Diagrama break](img/break.svg)"
   ],
   "metadata": {}
  },
  {
   "cell_type": "markdown",
   "source": [
    "Por ejemplo, el siguiente código imprime la suma de los números ingresados, mientras sean pares:"
   ],
   "metadata": {}
  },
  {
   "cell_type": "code",
   "execution_count": null,
   "source": [
    "suma = 0\n",
    "while True:\n",
    "    n = int(input('numero: '))\n",
    "    if n % 2: # False = 0, True = 1\n",
    "        break\n",
    "    suma += n\n",
    "    print('Valor acumulado = ', suma)"
   ],
   "outputs": [],
   "metadata": {}
  },
  {
   "cell_type": "markdown",
   "source": [
    "## Continuar la siguiente iteración `continue`"
   ],
   "metadata": {}
  },
  {
   "cell_type": "markdown",
   "source": [
    "La sentencia `continue` es usada para __omitir el resto del código dentro de un iterador__. \n",
    "- El iterador no termina pero continúa con la siguiente iteración."
   ],
   "metadata": {
    "collapsed": true
   }
  },
  {
   "cell_type": "markdown",
   "source": [
    "![Diagrama continue](img/continue.svg)"
   ],
   "metadata": {}
  },
  {
   "cell_type": "markdown",
   "source": [
    "El siguiente código imprime los números multiplo de 3 menores que 30, partiendo desde un número ingresado por el usuario:"
   ],
   "metadata": {}
  },
  {
   "cell_type": "code",
   "execution_count": 9,
   "source": [
    "n = int(input('Numero: '))\n",
    "for i in range(n+1, 30):\n",
    "    if i % 3 != 0: # 16 % 3 != 0; 17 % 3 != 0; 18 % 3 = 0\n",
    "        continue\n",
    "    print(i)"
   ],
   "outputs": [
    {
     "output_type": "stream",
     "name": "stdout",
     "text": [
      "18\n",
      "21\n",
      "24\n",
      "27\n"
     ]
    }
   ],
   "metadata": {
    "scrolled": true
   }
  },
  {
   "cell_type": "markdown",
   "source": [
    "## Actividades\n",
    "\n",
    "1. Escriba un algoritmo que muestre todos los números enteros múltiplos de 2 que existen entre dos números ingresados por el usuario.\n",
    "2. Modifique el algoritmo anterior de forma tal que no exitan restricciones con el orden de los datos de entrada."
   ],
   "metadata": {}
  }
 ],
 "metadata": {
  "kernelspec": {
   "name": "python3",
   "display_name": "Python 3.8.8 64-bit ('edaenv': conda)"
  },
  "language_info": {
   "codemirror_mode": {
    "name": "ipython",
    "version": 3
   },
   "file_extension": ".py",
   "mimetype": "text/x-python",
   "name": "python",
   "nbconvert_exporter": "python",
   "pygments_lexer": "ipython3",
   "version": "3.8.8"
  },
  "interpreter": {
   "hash": "682885c2bb1436e84d3ea108a79f98b0de56a9363b340e0d2aef3ca8d1559c07"
  }
 },
 "nbformat": 4,
 "nbformat_minor": 2
}