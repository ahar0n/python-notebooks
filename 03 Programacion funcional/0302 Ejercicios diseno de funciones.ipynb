{
 "cells": [
  {
   "cell_type": "markdown",
   "metadata": {},
   "source": [
    "# Ejercicios. Diseño y uso de funciones"
   ]
  },
  {
   "cell_type": "markdown",
   "metadata": {},
   "source": "E1. A continuación se muestra el código fuente de la función `menu()`, la cual muestra un menú con tres opciones, solicita al usuario que ingrese una opción y muestra un mensaje con la opción elegida."
  },
  {
   "cell_type": "code",
   "metadata": {},
   "source": [
    "def menu():\n",
    "    print('Menú')\n",
    "    print('a) Abrir')\n",
    "    print('b) Guardar')\n",
    "    print('c) Exportar')\n",
    "    while True:\n",
    "        opcion = input('Ingrese una opción: ')\n",
    "        if opcion in ['a', 'b', 'c']:\n",
    "            break\n",
    "    print('Ha elegido la opción {}'.format(opcion))"
   ],
   "outputs": [],
   "execution_count": null
  },
  {
   "metadata": {},
   "cell_type": "markdown",
   "source": "Notar que la función `menu()`, que no recibe argumentos, es un procedimiento, es decir, no retorna valores. Diseñe una versión alternativa de la función `menu()` que muestre un menú personalizado cuyas opciones son pasadas como una lista en el argumento de la función. Esta nueva versión de la función debe ser productiva y retornar la opción escogida por el usuario."
  },
  {
   "cell_type": "markdown",
   "metadata": {},
   "source": "E2. A continuación se muestra el código fuente del módulo `geometricas.py`. Notar que las funciones del módulo utilizan funciones de la librería [`Math`](https://docs.python.org/3.9/library/math.html) (dependencia). "
  },
  {
   "cell_type": "code",
   "metadata": {},
   "source": [
    "# geometricas.py\n",
    "from math import pi, sqrt\n",
    "\n",
    "def circunferencia(radio):\n",
    "    p = 2 * pi * radio\n",
    "    a = pi * radio ** 2\n",
    "    return a, p\n",
    "\n",
    "def rectangulo(largo, ancho):\n",
    "    p = 2 * largo + 2 * ancho\n",
    "    a = largo * ancho\n",
    "    return a, p\n",
    "\n",
    "def triangulo_rectangulo(base, altura):\n",
    "    p = base + altura + sqrt(base ** 2 + altura ** 2)\n",
    "    a = base * altura / 2\n",
    "    return a, p"
   ],
   "outputs": [],
   "execution_count": null
  },
  {
   "cell_type": "markdown",
   "metadata": {},
   "source": "Diseñe las funciones necesarias para eliminar la dependencia de la librería `Math`."
  },
  {
   "cell_type": "markdown",
   "metadata": {},
   "source": [
    "E3. En el espacio euclidiano tridimensional, un vector puede ser representado a partir de sus componentes ($x,y,z$), cuyos valores son números reales.\n",
    "\n",
    "Para dos vectores $a = (x_1,y_1,z_1)$ y $b = (x_2,y_2,z_2)$, se definen las siguientes operaciones:\n",
    "\n",
    "\n",
    "La suma de vectores:\n",
    "$$\n",
    "a \\pm b = \\left( x_1 \\pm x_2, y_1 \\pm y_2, z_1 \\pm z_2 \\right)\n",
    "$$\n",
    "    \n",
    "El producto escalar:\n",
    "$$\n",
    "a \\cdot b = \\sum a_i \\cdot b_i\n",
    "$$\n",
    "\n",
    "El producto vectorial:\n",
    "$$\n",
    "a \\times b = (y_1z_2 - z_1y_2, z_1x_2 - x_1z_2, x_1y_2 - y_1x_2)\n",
    "$$\n",
    "\n",
    "La distancia euclidiana:\n",
    "$$\n",
    "d_{ab} = \\sqrt{\\Delta x^2 + \\Delta y^2 + \\Delta z^2}\n",
    "$$\n",
    "\n",
    "\n",
    "Diseñar un módulo en Python que contenga una función para cada una de las operaciones antes definidas. En la implementación de las funciones debe considerar: \n",
    "\n",
    "- Tratar las posibles excepciones, por ejemplo, divisiones por cero, raíces con argumento negativo, etc.\n",
    "- Documentación.\n",
    "- Generar un archivo con la verificación y test."
   ]
  }
 ],
 "metadata": {
  "interpreter": {
   "hash": "682885c2bb1436e84d3ea108a79f98b0de56a9363b340e0d2aef3ca8d1559c07"
  },
  "kernelspec": {
   "name": "python3",
   "language": "python",
   "display_name": "Python 3 (ipykernel)"
  },
  "language_info": {
   "codemirror_mode": {
    "name": "ipython",
    "version": 3
   },
   "file_extension": ".py",
   "mimetype": "text/x-python",
   "name": "python",
   "nbconvert_exporter": "python",
   "pygments_lexer": "ipython3",
   "version": "3.8.8"
  },
  "orig_nbformat": 4
 },
 "nbformat": 4,
 "nbformat_minor": 2
}
