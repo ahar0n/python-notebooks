{
 "cells": [
  {
   "cell_type": "markdown",
   "metadata": {},
   "source": [
    "# Ejercicios. Diseño y uso de funciones"
   ]
  },
  {
   "cell_type": "markdown",
   "metadata": {},
   "source": [
    "E1. Modifique la función `menu()` para que muestre un menú personalizado cuyas opciones son pasadas como una lista en el argumento."
   ]
  },
  {
   "cell_type": "code",
   "execution_count": null,
   "metadata": {},
   "outputs": [],
   "source": [
    "def menu():\n",
    "    print('Menú')\n",
    "    print('a) Opcion 1')\n",
    "    print('b) Opcion 2')\n",
    "    print('c) Opcion 3')\n",
    "    while True:\n",
    "        opcion = input('Ingrese una opción: ')\n",
    "        if opcion in ['a', 'b', 'c']:\n",
    "            break\n",
    "    print('Ha elegido la opción {}'.format(opcion))"
   ]
  },
  {
   "cell_type": "code",
   "execution_count": 3,
   "metadata": {},
   "outputs": [
    {
     "name": "stdout",
     "output_type": "stream",
     "text": [
      "Menú\n",
      "1. Buscar\n",
      "2. Guardar como\n",
      "3. Editar\n",
      "4. Cerrar\n",
      "Ha elegido la opción 1\n"
     ]
    }
   ],
   "source": [
    "def mi_menu(opciones):\n",
    "    print('Menú')\n",
    "    opciones_list = []\n",
    "    for opcion, descripcion in opciones:\n",
    "        opciones_list.append(opcion)\n",
    "        print('{}. {}'.format(opcion, descripcion))\n",
    "    while True:\n",
    "        entrada = input('Ingrese una opción: ')\n",
    "        if entrada in opciones_list:\n",
    "            break\n",
    "    print('Ha elegido la opción {}'.format(entrada))\n",
    "\n",
    "mis_opciones = [\n",
    "    ('1', 'Buscar'),('2', 'Guardar como'), ('3', 'Editar'), ('4', 'Cerrar')\n",
    "]\n",
    "mi_menu(mis_opciones)"
   ]
  },
  {
   "cell_type": "markdown",
   "metadata": {},
   "source": [
    "E2. Diseñe un programa con al menos 4 funciones incluidas en algunos de los siguientes módulo de Python:\n",
    "\n",
    "- [Operaciones con expresiones regulares](https://docs.python.org/3.7/library/re.html)\n",
    "- [Manipulación de tiempo y fechas](https://docs.python.org/3.7/library/datetime.html) \n",
    "\n",
    " Describa detallamente el problema y presenta su descripción especificando cada una de las funcionalidades.\n"
   ]
  },
  {
   "cell_type": "markdown",
   "metadata": {},
   "source": [
    "E3. El módulo `geometricas.py` utiliza dos funciones de la librería `Math`. "
   ]
  },
  {
   "cell_type": "code",
   "execution_count": null,
   "metadata": {},
   "outputs": [],
   "source": [
    "# geometricas.py\n",
    "from math import pi, sqrt\n",
    "\n",
    "def circunferencia(radio):\n",
    "    p = 2 * pi * radio\n",
    "    a = pi * radio ** 2\n",
    "    return (a, p)\n",
    "\n",
    "def rectangulo(largo, ancho):\n",
    "    p = 2 * largo + 2 * ancho\n",
    "    a = largo * ancho\n",
    "    return (a, p)\n",
    "\n",
    "def triangulo_rectangulo(base, altura):\n",
    "    p = base + altura + sqrt(base**2 + altura**2)\n",
    "    a = base * altura / 2\n",
    "    return (a, p)"
   ]
  },
  {
   "cell_type": "markdown",
   "metadata": {},
   "source": [
    "Diseñe dos funciones que permitan eliminar la dependencia de la librería `Math`."
   ]
  },
  {
   "cell_type": "markdown",
   "metadata": {},
   "source": [
    "E4. En el espacio euclidiano tridimensional, un vector puede ser representado a partir de sus componentes ($x,y,z$), cuyos valores son números reales.\n",
    "\n",
    "Para dos vectores $a = (x_1,y_1,z_1)$ y $b = (x_2,y_2,z_2)$, se definen las siguientes operaciones:\n",
    "\n",
    "\n",
    "La suma de vectores:\n",
    "$$\n",
    "a \\pm b = \\left( x_1 \\pm x_2, y_1 \\pm y_2, z_1 \\pm z_2 \\right)\n",
    "$$\n",
    "    \n",
    "El producto escalar:\n",
    "$$\n",
    "a \\cdot b = \\sum a_i \\cdot b_i\n",
    "$$\n",
    "\n",
    "El producto vectorial:\n",
    "$$\n",
    "a \\times b = (y_1z_2 - z_1y_2, z_1x_2 - x_1z_2, x_1y_2 - y_1x_2)\n",
    "$$\n",
    "\n",
    "La distancia euclidiana:\n",
    "$$\n",
    "d_{ab} = \\sqrt{\\Delta x^2 + \\Delta y^2 + \\Delta z^2}\n",
    "$$\n",
    "\n",
    "\n",
    "Diseñar un modulo en Python que incluya una función para cada una de las operaciones antes definidas. Además, debe incluir: \n",
    "\n",
    "- Las posibles excepciones, por ejemplo, divisiones por cero, raíces con argumento negativo, etc.\n",
    "- Documentación.\n",
    "- Verificación y test."
   ]
  }
 ],
 "metadata": {
  "interpreter": {
   "hash": "682885c2bb1436e84d3ea108a79f98b0de56a9363b340e0d2aef3ca8d1559c07"
  },
  "kernelspec": {
   "display_name": "Python 3.8.8 64-bit ('edaenv': conda)",
   "name": "python3"
  },
  "language_info": {
   "codemirror_mode": {
    "name": "ipython",
    "version": 3
   },
   "file_extension": ".py",
   "mimetype": "text/x-python",
   "name": "python",
   "nbconvert_exporter": "python",
   "pygments_lexer": "ipython3",
   "version": "3.8.8"
  },
  "orig_nbformat": 4
 },
 "nbformat": 4,
 "nbformat_minor": 2
}
