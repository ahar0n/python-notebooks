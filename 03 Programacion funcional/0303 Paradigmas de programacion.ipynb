{
 "cells": [
  {
   "cell_type": "markdown",
   "metadata": {},
   "source": [
    "# Paradigmas de programación"
   ]
  },
  {
   "cell_type": "markdown",
   "metadata": {},
   "source": [
    "<img alt=\"Evolución de los paradigmas de programacion\" height=\"700\" src=\"./img/evolution_of_programming_paradigms.png\"/>\n",
    "\n",
    "Figura. Evolución de los paradigmas de programación.\n",
    "\n",
    "\n",
    "Un __paradigma de programación__, representa un enfoque fundamental de la construcción de soluciones de problemas y, por lo tanto, afectan a todo el proceso de desarrollo de software.\n",
    "-_Brookshear, J. G., & Brylow, D. (2015). __Computer Science: An Overview__. 12th Edition. Harlow, England: Pearson._ "
   ]
  },
  {
   "cell_type": "markdown",
   "metadata": {},
   "source": [
    "La __programación imperativa__ (paradigma de procedimientos) define el proceso de programación como el desarrollo de una secuencia de instrucciones que manipulan los datos para producir el resultado deseado. \n",
    "- Se enfoca en encontrar un algoritmo para resolver el problema y luego expresarlo como una secuencia de comandos.\n",
    "\n",
    "\n",
    "En la __programación funcional__ un programa es visto como una entidad que acepta entradas y produce salidas: construir funciones como complejos anidados de funciones más simples.\n",
    "- Un programa se construye conectando unidades de programas más pequeñas.\n",
    "- Las salidas de cada unidad se usan como entradas de otra(s) unidad(es)."
   ]
  },
  {
   "cell_type": "markdown",
   "metadata": {},
   "source": [
    "### Ejemplo\n",
    "\n",
    "Suponga un bloque de texto en forma de cadena de caracteres y se quiere hacer un análisis básico de él. En específico,\n",
    "\n",
    "1. Contar la cantidad de palabras de la cadena... un recuento de palabras.\n",
    "1. Contar la ocurrencia de ciertas palabras.\n",
    "1. Intentificar y contar las que palabras comienzan con una cierta letra."
   ]
  },
  {
   "cell_type": "markdown",
   "metadata": {},
   "source": [
    "#### Solución basada en enfoque imperativo"
   ]
  },
  {
   "cell_type": "code",
   "execution_count": null,
   "metadata": {},
   "outputs": [],
   "source": [
    "# Definir los datos\n",
    "texto_original = 'Lorem Ipsum es simplemente el texto de relleno de las imprentas y archivos de texto.'\n",
    "\n",
    "# Definir los caracteres a remover\n",
    "no_deseados = [',', '.', '?', '!', '¡', '¿']\n",
    "\n",
    "# Construir una nueva cadena sin los caracteres no deseado\n",
    "texto_sin_puntuacion = ''\n",
    "for caracter in texto_original:\n",
    "    if caracter not in no_deseados:\n",
    "        texto_sin_puntuacion += caracter\n",
    "\n",
    "# Contruir una cadena en minusculas\n",
    "texto_en_minusculas = texto_sin_puntuacion.lower()\n",
    "\n",
    "# Obtener una lista de las palabras\n",
    "lista_de_palabras = texto_en_minusculas.split()"
   ]
  },
  {
   "cell_type": "markdown",
   "metadata": {},
   "source": [
    "R1. Contar la cantidad de palabras:"
   ]
  },
  {
   "cell_type": "code",
   "execution_count": null,
   "metadata": {
    "tags": []
   },
   "outputs": [],
   "source": [
    "cantidad_de_palabras = len(lista_de_palabras)\n",
    "print('Total de palabras: ', cantidad_de_palabras)"
   ]
  },
  {
   "cell_type": "markdown",
   "metadata": {},
   "source": [
    "R2. Obtener la cantidad de ocurrencias de una cierta palabra:"
   ]
  },
  {
   "cell_type": "code",
   "execution_count": null,
   "metadata": {
    "tags": []
   },
   "outputs": [],
   "source": [
    "palabra_objetivo = 'de'\n",
    "\n",
    "contador = 0\n",
    "for palabra in lista_de_palabras:\n",
    "    if palabra == palabra_objetivo:\n",
    "        contador += 1\n",
    "\n",
    "print('Cantidad de ocurrencias: ', contador)"
   ]
  },
  {
   "cell_type": "markdown",
   "metadata": {},
   "source": [
    "R3. Obtener la cantidad de palabras que comienzan con una determinada letra:"
   ]
  },
  {
   "cell_type": "code",
   "execution_count": null,
   "metadata": {
    "tags": []
   },
   "outputs": [],
   "source": [
    "letra = 'i'\n",
    "\n",
    "palabras_que_comienzan_con_letra = []\n",
    "for palabra in lista_de_palabras:\n",
    "    if palabra[0] == letra:\n",
    "        palabras_que_comienzan_con_letra.append(palabra)\n",
    "\n",
    "print('Palabras que comienzan con la letra: ', palabras_que_comienzan_con_letra)\n",
    "print('Cantidad de palabra que comienzan con la letra: ', len(palabras_que_comienzan_con_letra))"
   ]
  },
  {
   "cell_type": "markdown",
   "metadata": {},
   "source": [
    "Algunos problemas detectados al utilizar un enfoque imperativo:\n",
    "\n",
    "1. El programa hace un montón de cosas, y __no se identifica que parte este está dedicada a una determinada funcionalidad__.\n",
    "1. En el caso de ser necesario modificar el programa, existen __muchas partes que dependen de otras__, lo que implica que __aplicar un cambio requiere modificar varias secciones del programa__.\n",
    "1. __No es fácilmente reutilizable__. Para reutilizar, se tendría que copiar/pegar código y modificar variables, lo que viola el principio básico de programación: no repitar."
   ]
  },
  {
   "cell_type": "markdown",
   "metadata": {},
   "source": [
    "#### Solución basada en enfoque funcional\n",
    "\n",
    "El enfoque funcional resuelve los problemas moviendo los datos de una función a otra, lo que da lugar a una serie de transformaciones. "
   ]
  },
  {
   "cell_type": "code",
   "execution_count": null,
   "metadata": {},
   "outputs": [],
   "source": [
    "def eliminar_caracteres(texto, no_deseados):\n",
    "    \"\"\"Obtiene los caracteres no deseados de una lista y los elimina de una cadena.\n",
    "    Args:\n",
    "        cadena (str): Texto a procesar.\n",
    "        no_deseados (list): Lista de caracteres que serán eliminados del texto. \n",
    "\n",
    "    Returns:\n",
    "        (str): Texto filtrado.\n",
    "    \"\"\"\n",
    "    cadena_resultante = ''\n",
    "    for caracter in texto:\n",
    "        if caracter not in no_deseados:\n",
    "            cadena_resultante += caracter\n",
    "    return cadena_resultante\n",
    "\n",
    "def limpiar_cadena(cadena):\n",
    "    \"\"\"Elimina puntuación de un texto y lo expresa en minúscula (prepara la cadena).\n",
    "    Args:\n",
    "        cadena (str): Texto a procesar. \n",
    "\n",
    "    Returns:\n",
    "        (str): Texto sin puntuación y en minúsculas.\n",
    "    \"\"\"\n",
    "    cadena_sin_puntuacion = eliminar_caracteres(cadena, ['.', ','])\n",
    "    cadena_en_minusculas = cadena_sin_puntuacion.lower()\n",
    "    \n",
    "    return cadena_en_minusculas\n",
    "\n",
    "def listar_palabras(cadena, preproceso=False):\n",
    "    \"\"\"Obtiene una lista de palabras desde la cadena. Si preproceso==True\n",
    "    primero limpia la cadena.\n",
    "    \n",
    "    Args:\n",
    "        cadena (str): Texto a procesar. \n",
    "        preproceso (bool): Indica si debe ser preprocesado el texto antes de obtener la lista. \n",
    "        Por defecto es False.\n",
    "\n",
    "    Returns:\n",
    "        (list): Lista e palabras obtenidas del texto.\n",
    "    \"\"\"\n",
    "    if preproceso:\n",
    "        cadena = limpiar_cadena(cadena)\n",
    "    \n",
    "    lista_de_palabras = cadena.split()\n",
    "\n",
    "    return lista_de_palabras\n",
    "\n",
    "def contar_ocurrencia_de_palabra(palabras, palabra_a_buscar):\n",
    "    \"\"\"Cantidad de ocurrencias de una palabra.\n",
    "    Args:\n",
    "        palabras (list): Lista de palabras \n",
    "        palabra_a_buscar (str): Palabra a buscar\n",
    "\n",
    "    Returns:\n",
    "        (int): Cantidad de ocurrencias.\n",
    "    \"\"\"\n",
    "    contador = 0\n",
    "    for palabra in palabras:\n",
    "        if palabra == palabra_a_buscar:\n",
    "            contador += 1\n",
    "    \n",
    "    return contador\n",
    "\n",
    "def palabras_con_letra_inicial(palabras, letra_a_buscar):\n",
    "    \"\"\"Obtiene una lista de palabras que comienzan con una letra específica.\n",
    "    \n",
    "    Args:\n",
    "        palabras (list): Lista de palabras\n",
    "        letra_a_buscar (str): Letra a buscar\n",
    "\n",
    "    Returns:\n",
    "        (list): Lista de palabras que comienzan con la letra buscada.\n",
    "    \"\"\"\n",
    "    palabras_que_inician_con_letra = []\n",
    "    for palabra in lista_de_palabras:\n",
    "        if palabra[0] == letra_a_buscar:\n",
    "            palabras_que_inician_con_letra.append(palabra)\n",
    "    \n",
    "    return palabras_que_inician_con_letra"
   ]
  },
  {
   "cell_type": "markdown",
   "metadata": {},
   "source": [
    "Funciones usadas:\n",
    "- [str.lower()](https://docs.python.org/3/library/stdtypes.html#string-methods): Retorna todos los caracteres en mayúsculas y minúsculas convertidos a minúsculas.\n",
    "\n",
    "\n",
    "Notar que:\n",
    "- Las funciones no hacen suposiciones sobre qué cadena o lista se procesará, por lo tanto, pueden ser facilmente reutilizadas.\n",
    "- Considerando que cada función realiza sólo una tarea, son facílmente modificables. Siempre que se asegure el mismo tipo de salida.\n",
    "\n",
    "Finalmente, utilizando las funciones para crear las mismas salidas que el programa imperativo: "
   ]
  },
  {
   "cell_type": "code",
   "execution_count": null,
   "metadata": {
    "tags": []
   },
   "outputs": [],
   "source": [
    "texto_original = 'Lorem Ipsum es simplemente el texto de relleno de las imprentas y archivos de texto.'\n",
    "\n",
    "lista_de_palabras = listar_palabras(texto_original, True)\n",
    "\n",
    "print('Total de palabras:', len(lista_de_palabras))\n",
    "print('Cantidad de ocurrencias: ', contar_ocurrencia_de_palabra(lista_de_palabras, 'de'))\n",
    "print('Palabras que comienzan con la letra: ', palabras_con_letra_inicial(lista_de_palabras, 't'))\n",
    "print('Cantidad de palabras que comienzan con la letra: ', len(palabras_con_letra_inicial(lista_de_palabras, 't')))"
   ]
  }
 ],
 "metadata": {
  "kernelspec": {
   "name": "python3",
   "language": "python",
   "display_name": "Python 3 (ipykernel)"
  },
  "language_info": {
   "codemirror_mode": {
    "name": "ipython",
    "version": 3
   },
   "file_extension": ".py",
   "mimetype": "text/x-python",
   "name": "python",
   "nbconvert_exporter": "python",
   "pygments_lexer": "ipython3",
   "version": "3.7.6-final"
  },
  "orig_nbformat": 2
 },
 "nbformat": 4,
 "nbformat_minor": 2
}
