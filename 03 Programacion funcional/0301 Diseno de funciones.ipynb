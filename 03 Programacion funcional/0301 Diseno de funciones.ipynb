{
 "cells": [
  {
   "cell_type": "markdown",
   "metadata": {},
   "source": [
    "# Diseño de funciones"
   ]
  },
  {
   "cell_type": "markdown",
   "metadata": {},
   "source": [
    "En programación, una función __es una secuencia de instrucciones que ejecutan determinadas acciones u operaciones__. Dichas operaciones, se especifican en una __definición de función__.\n",
    "\n",
    "Algunas ventajas de definir y usar funciones son:\n",
    "\n",
    "- Dividir un programa en funciones __permite separa el código en partes, depurarlas y volver a componer el programa__.\n",
    "- Facilidad para __leer y depurar__ un programa.\n",
    "- Las funciones __facilitan la recursividad y la iteración__.\n",
    "- Las funciones diseñadas bajo buenas prácticas, __permiten ser reutilizadas__ como componente de nuevos programas."
   ]
  },
  {
   "cell_type": "markdown",
   "metadata": {},
   "source": [
    "## Sintaxis de una función\n",
    "\n",
    "Una función en Python contiene los siguientes componentes:"
   ]
  },
  {
   "cell_type": "code",
   "execution_count": null,
   "metadata": {},
   "outputs": [],
   "source": [
    "def mi_funcion():\n",
    "    pass"
   ]
  },
  {
   "cell_type": "markdown",
   "metadata": {},
   "source": [
    "1. La palabra clave ```def``` marca el comienzo del encabezado de la función.\n",
    "2. El nombre de la función es un identificador exclusivo, éste sigue las mismas reglas de escritura de identificadores en Python.\n",
    "3. El argumento de la función ```()``` , contiene los parámetros a través de los cuales se pasan los valores a una función. Son opcionales.\n",
    "4. Los dos puntos ```:``` marcan el final de la cabecera de la función.\n",
    "5. La documentación [```docstring```](https://www.python.org/dev/peps/pep-0257/) permite describir lo que hace la función.\n",
    "6. Una o más sentencias python válidas forman el cuerpo de la función. Las senencias deben tener el mismo nivel de indentación.\n",
    "7. Una sentencia de retorno (opcional) que devuelve un valor desde la función.\n",
    "\n",
    "__Una función no se ejecuta hasta que sea invocada__. Para invocar una función, se hace la llamada a partir de su identificador:"
   ]
  },
  {
   "cell_type": "code",
   "execution_count": null,
   "metadata": {
    "scrolled": true
   },
   "outputs": [],
   "source": [
    "mi_funcion()"
   ]
  },
  {
   "cell_type": "markdown",
   "metadata": {},
   "source": [
    "Entre las funciones, es posible distinguir dos tipos:\n",
    "\n",
    "1. Procedimientos\n",
    "2. Funciones productivas\n"
   ]
  },
  {
   "cell_type": "markdown",
   "metadata": {},
   "source": [
    "## Procedimientos\n",
    "\n",
    "- Un procedimiento es una parte del programa que __realiza una acción específica__ basada a menudo en una serie de parámetros o argumentos. \n",
    "- __No devuelven un valor__ una vez terminada su ejecución. \n",
    "\n",
    "Por ejemplo:"
   ]
  },
  {
   "cell_type": "code",
   "execution_count": null,
   "metadata": {},
   "outputs": [],
   "source": [
    "def saludo(nombre):\n",
    "    print('Hola ' + nombre + ', Buenos días!')"
   ]
  },
  {
   "cell_type": "markdown",
   "metadata": {},
   "source": [
    "A diferencia de las funciones productivas, no tiene sentido invocar un procedimiento en una expresión porque no vuelven un valor. Por tanto, su invocación se realiza apartir de su identificador, seguido de los parentesis y los parámetros formales, si es que tiene:"
   ]
  },
  {
   "cell_type": "code",
   "execution_count": null,
   "metadata": {
    "scrolled": false
   },
   "outputs": [],
   "source": [
    "saludo('Juan')"
   ]
  },
  {
   "cell_type": "markdown",
   "metadata": {},
   "source": [
    "### Ejemplo de procedimiento\n",
    "\n",
    "El siguiente código corresponde a una función (sin argumento) o procedimiento que imprime un menú, solicita una opción y muestra la opción elegida. Si la opción ingresada no es valida se sigue solicitando una opción."
   ]
  },
  {
   "cell_type": "code",
   "execution_count": null,
   "metadata": {},
   "outputs": [],
   "source": [
    "def menu():\n",
    "    print('Menú')\n",
    "    print('a) Opcion 1')\n",
    "    print('b) Opcion 2')\n",
    "    print('c) Opcion 3')\n",
    "    while True:\n",
    "        opcion = input('Ingrese una opción: ')\n",
    "        if opcion in ['a', 'b', 'c']:\n",
    "            break\n",
    "    print('Ha elegido la opción {}'.format(opcion))\n",
    "\n",
    "menu()"
   ]
  },
  {
   "cell_type": "markdown",
   "metadata": {},
   "source": [
    "## Funciones productivas\n",
    "\n",
    "- Una función productiva es una parte del programa que __puede manipular datos y devolver un valor__ de un cierto tipo.\n",
    "\n",
    "Por ejemplo:"
   ]
  },
  {
   "cell_type": "code",
   "execution_count": null,
   "metadata": {},
   "outputs": [],
   "source": [
    "def minmax(a, b):\n",
    "    if a > b:\n",
    "        minimo = b\n",
    "        maximo = a\n",
    "    else:\n",
    "        minimo = a\n",
    "        maximo = b\n",
    "    return (minimo, maximo)"
   ]
  },
  {
   "cell_type": "markdown",
   "metadata": {},
   "source": [
    "- La función se ejecuta al hacer una llamada a dicha función dentro de una expresión. \n",
    "- La llamada a una función puede incluirse en cualquier expresión en la que un dato del tipo que devuelve la función tenga sentido. \n",
    "\n",
    "Por ejemplo:"
   ]
  },
  {
   "cell_type": "code",
   "execution_count": null,
   "metadata": {},
   "outputs": [],
   "source": [
    "a, b = minmax(4, 1)\n",
    "print(b)"
   ]
  },
  {
   "cell_type": "markdown",
   "metadata": {},
   "source": [
    "## Sentencia ```return```\n",
    "\n",
    "- __Permite terminar la ejecución de una función antes de alcanzar su final__. \n",
    "- En una función productiva, se recomienda que, para cualquier posible recorrido del programa, se alcance una sentencia `return`.\n",
    "\n",
    "<img alt=\"Llamado a una función en Python\" src=\"./img/function_flow.png\" width=\"350\"/>"
   ]
  },
  {
   "cell_type": "markdown",
   "metadata": {},
   "source": [
    "En el siguiente ejemplo, se utiliza la sentencia ```return``` para todos los posibles caminos de una función productiva:"
   ]
  },
  {
   "cell_type": "code",
   "execution_count": null,
   "metadata": {},
   "outputs": [],
   "source": [
    "def absoluto(x):\n",
    "    \"\"\"Calcula el valor absoluto\"\"\"\n",
    "    if x > 0:\n",
    "        return x\n",
    "    elif x < 0:\n",
    "        return -x\n",
    "    else:\n",
    "        return 0"
   ]
  },
  {
   "cell_type": "markdown",
   "metadata": {},
   "source": [
    "En el siguiente ejemplo, la sentencia ```return``` es utilizada para detectar una condición de error en la definición de un procedimiento:"
   ]
  },
  {
   "cell_type": "code",
   "execution_count": null,
   "metadata": {},
   "outputs": [],
   "source": [
    "def divide(a, b):\n",
    "    \"\"\"Calcula la división a/b\"\"\"\n",
    "    if b == 0:\n",
    "        print('Error: El divisor debe ser distinto de cero!')\n",
    "        return\n",
    "    print(a, 'divido por', b, 'es' , a/b)\n",
    "\n",
    "divide(4, 3)"
   ]
  },
  {
   "cell_type": "markdown",
   "metadata": {},
   "source": [
    "Si la sentencia ```return``` no está presente dentro de una función, entonces la función devolverá el objeto ```None```."
   ]
  },
  {
   "cell_type": "code",
   "execution_count": null,
   "metadata": {
    "scrolled": true
   },
   "outputs": [],
   "source": [
    "miSaludo = saludo('Juan')\n",
    "print(miSaludo)"
   ]
  },
  {
   "cell_type": "code",
   "execution_count": null,
   "metadata": {
    "scrolled": true
   },
   "outputs": [],
   "source": [
    "saludo('Juan')"
   ]
  },
  {
   "cell_type": "markdown",
   "metadata": {},
   "source": [
    "## Docstring\n",
    "\n",
    "- La primera cadena después del encabezado de la función se denomina [```docstring```](https://www.python.org/dev/peps/pep-0257/).\n",
    "- __Es una cadena de documentación abreviada__. \n",
    "- Se utiliza para explicar en forma breve, lo que hace una función.\n",
    "\n",
    "Aunque es opcional, la documentación __es una buena práctica de programación__.\n",
    "\n",
    "En el ejemplo anterior, \n",
    "- En la función <code>saludo(nombre)</code>, se agrega el docstring inmediatamente debajo del encabezado de la función. \n",
    "- Se utiliza comillas triples ```\"\"\" \"\"\"``` para que el ```docstring``` pueda extenderse por múltiples líneas. \n",
    "- Se puede acceder a dicha cadena por medio del atributo ```__doc__``` de la función."
   ]
  },
  {
   "cell_type": "code",
   "execution_count": null,
   "metadata": {},
   "outputs": [],
   "source": [
    "print(absoluto.__doc__)"
   ]
  },
  {
   "cell_type": "markdown",
   "metadata": {},
   "source": [
    "## Parámetros de una función\n",
    "\n",
    "- Un parámetro de una función es un __valor que la función espera recibir cuando sea invocada__, para ejecutar acciones en base al mismo. \n",
    "- Una función puede esperar uno o más parámetros (separados por una coma) o ninguno. \n",
    "- Los parámetros a su vez, puden ser de distinto tipo (e.g., ```int```, ```str```, ```tuple```)."
   ]
  },
  {
   "cell_type": "markdown",
   "metadata": {},
   "source": [
    "### Parámetros por omisión\n",
    "\n",
    "En Python, es posible, __asignar valores por defecto__ a los parámetros de las funciones. En consecuencia, la función podrá ser invocada con menos argumentos de los que espera. \n",
    "\n",
    "Por ejemplo:"
   ]
  },
  {
   "cell_type": "code",
   "execution_count": null,
   "metadata": {},
   "outputs": [],
   "source": [
    "def saludo(nombre, prefijo='Sr.'):\n",
    "    print('Hola ' + prefijo + ' ' + nombre + ', Buen día!')"
   ]
  },
  {
   "cell_type": "markdown",
   "metadata": {},
   "source": [
    "La invocación de la función pasando sólo un argumto:"
   ]
  },
  {
   "cell_type": "code",
   "execution_count": null,
   "metadata": {},
   "outputs": [],
   "source": [
    "saludo('Smith')"
   ]
  },
  {
   "cell_type": "markdown",
   "metadata": {},
   "source": [
    "<p>La invocación a la función pasando los dos argumtos:</p>"
   ]
  },
  {
   "cell_type": "code",
   "execution_count": null,
   "metadata": {},
   "outputs": [],
   "source": [
    "saludo('Smith', 'Sr.')"
   ]
  },
  {
   "cell_type": "markdown",
   "metadata": {},
   "source": [
    "### Parámetros como _keywords_\n",
    "\n",
    "Al invocar una función, los parámetros se deben pasar en el mismo orden en el que los espera. Sin embargo, esto puede evitarse, haciendo uso del paso de argumentos como keywords; pasándo los argumentos esperados, como pares `key = value`. \n",
    "    \n",
    "Por ejemplo:"
   ]
  },
  {
   "cell_type": "code",
   "execution_count": null,
   "metadata": {},
   "outputs": [],
   "source": [
    "saludo(prefijo='Don', nombre='Pedro')"
   ]
  },
  {
   "cell_type": "code",
   "execution_count": null,
   "metadata": {},
   "outputs": [],
   "source": [
    "saludo('Don', 'Pedro')"
   ]
  },
  {
   "cell_type": "markdown",
   "metadata": {},
   "source": [
    "## Variables globales y locales\n",
    "\n",
    "Las variables que se crean en el cuerpo de una función, sólo existe dentro de ella, es decir, es una __variable local__. \n",
    "- Si se trata de utilizar este tipo de variables fuera de la función, el programa provoca un error de tipo ```NameError```. \n",
    "- __Los parámetros de las funciones también son consideradas variables locales.__"
   ]
  },
  {
   "cell_type": "markdown",
   "metadata": {},
   "source": [
    "Una __variable global__ es visibles desde cualquier parte del programa, incluyendo el cuerpo de las funciones. \n",
    "\n",
    "- Sin embargo, cuando se utiliza como identificador de una variable local o función, el nombre de una variable global, está ultima queda oculta y no es accesible desde el cuerpo de la función."
   ]
  },
  {
   "cell_type": "markdown",
   "metadata": {},
   "source": [
    "En el siguiente ejemplo, se presenta un algoritmo para calcular la distancia radial de un vector, a partir de sus coordenadas en el espacio euclidiano."
   ]
  },
  {
   "cell_type": "code",
   "execution_count": null,
   "metadata": {},
   "outputs": [],
   "source": [
    "def cuadrado(x):\n",
    "    return x ** 2\n",
    "\n",
    "def sumaCuadrados(vector):\n",
    "    suma = 0\n",
    "    for i in vector:\n",
    "        suma += cuadrado(i)\n",
    "    return suma\n",
    "\n",
    "posicion = []\n",
    "for i in range(3):\n",
    "    posicion.append(float(input('{} coordenada: '.format(i+1)))) \n",
    "\n",
    "distancia = sumaCuadrados(posicion) ** 0.5\n",
    "\n",
    "print('La distancia radial es {:.2f}'.format(distancia))"
   ]
  },
  {
   "cell_type": "markdown",
   "metadata": {},
   "source": [
    "En el programa:\n",
    "- Las variables `posicion` y `distancia` son globales. \n",
    "- La variable `suma`, definida en el cuerpo de la función `sumaCuadrados()`, es una variable local."
   ]
  },
  {
   "cell_type": "markdown",
   "metadata": {},
   "source": [
    "## Uso de módulos\n",
    "\n",
    "Un módulo __es una archivo que contiene definiciones y declaraciones__ de Python.\n",
    "- Los modulos __evitan que para la re-utilización de funciones se tenga que re-escribir las funciones en cada programa__.\n",
    "- Las definiciones de un módulo pueden ser importadas a otros módulos o a un programa.\n",
    "\n",
    "La carga de módulos y sus funciones, puede ser realizada de distintas formas.\n",
    "\n",
    "- __Importando el módulo__ y accediendo a la función invocando el nombre del módulo:"
   ]
  },
  {
   "cell_type": "code",
   "execution_count": null,
   "metadata": {},
   "outputs": [],
   "source": [
    "import math\n",
    "\n",
    "math.sqrt(25)"
   ]
  },
  {
   "cell_type": "markdown",
   "metadata": {},
   "source": [
    "Además, permite __importar varios módulos a la vez__:"
   ]
  },
  {
   "cell_type": "code",
   "execution_count": null,
   "metadata": {},
   "outputs": [],
   "source": [
    "import math, sys, re"
   ]
  },
  {
   "cell_type": "markdown",
   "metadata": {},
   "source": [
    "- __Importando funciones específicas__ de un módulo:"
   ]
  },
  {
   "cell_type": "code",
   "execution_count": null,
   "metadata": {},
   "outputs": [],
   "source": [
    "from math import sqrt\n",
    "\n",
    "sqrt(16)"
   ]
  },
  {
   "cell_type": "markdown",
   "metadata": {},
   "source": [
    "- __Importando todas las funciones__:"
   ]
  },
  {
   "cell_type": "code",
   "execution_count": null,
   "metadata": {},
   "outputs": [],
   "source": [
    "from math import *\n",
    "\n",
    "sqrt(9)"
   ]
  },
  {
   "cell_type": "markdown",
   "metadata": {},
   "source": [
    "Algunos módulos de Python son:\n",
    "\n",
    "- [Operaciones con expresiones regulares](https://docs.python.org/3.7/library/re.html)\n",
    "- [Manipulación de tiempo y fechas](https://docs.python.org/3.7/library/datetime.html) \n",
    "- [Funcionalidades dependientes del sistema operativo](https://docs.python.org/3/library/os.html)"
   ]
  },
  {
   "cell_type": "markdown",
   "metadata": {},
   "source": [
    "## Diseño de módulos\n",
    "\n",
    "- El nombre del archivo es el __nombre del módulo__, con el sufijo ```.py```.\n",
    "- Dentro del archivo se codifican las funciones, __manteniendo la estructura__ utilizada para crear funciones en programa.\n",
    "- Es recomendable que las __funciones se agrupen en módulos de acuerdo con su ámbito de aplicación__.\n",
    "\n",
    "\n",
    "El siguiente es un ejemplo de módulo identificado como ```geometricas.py```, que contiene funciones diseñadas para calcular el área y perímetro de distintas figuras geométricas:"
   ]
  },
  {
   "cell_type": "code",
   "execution_count": null,
   "metadata": {},
   "outputs": [],
   "source": [
    "# geometricas.py\n",
    "from math import pi, sqrt\n",
    "\n",
    "def circunferencia(radio):\n",
    "    '''docstring'''\n",
    "    p = 2 * pi * radio\n",
    "    a = pi * radio ** 2\n",
    "    return (a, p)\n",
    "\n",
    "def rectangulo(largo, ancho):\n",
    "    '''docstring'''\n",
    "    p = 2 * largo + 2 * ancho\n",
    "    a = largo * ancho\n",
    "    return (a, p)\n",
    "\n",
    "def triangulo_rectangulo(base, altura):\n",
    "    '''docstring'''\n",
    "    p = base + altura + sqrt(base**2 + altura**2)\n",
    "    a = base * altura / 2\n",
    "    return (a, p)"
   ]
  },
  {
   "cell_type": "markdown",
   "metadata": {},
   "source": [
    "El archivo ```test_geometricas.py``` invoca a la función ```circunferencia(radio)```"
   ]
  },
  {
   "cell_type": "code",
   "execution_count": null,
   "metadata": {},
   "outputs": [],
   "source": [
    "# test_geometricas.py\n",
    "from geometricas import circunferencia\n",
    "\n",
    "area, perimetro = circunferencia(25)\n",
    "print(area)"
   ]
  },
  {
   "cell_type": "markdown",
   "metadata": {},
   "source": [
    "### Módulos _compilados_\n",
    "\n",
    "Python compila su código fuente en [_byte code_](https://en.wikipedia.org/wiki/Bytecode) y, por razones de rendimiento, almacena este código de bytes en el sistema de archivos __cada vez que el archivo de origen tiene cambios__ ([PEP 3147](https://www.python.org/dev/peps/pep-3147/))\n",
    "- Hace que la __carga__ de módulos Python sea mucho __más rápida__ porque la fase de compilación se puede omitir.\n",
    "- Almacena __versiones compiladas__ de cada módulo en el directorio ```__pycache__``` bajo el nombre ```module.version.py```, justo al lado de la fuente.\n",
    "- Permite __compilar módulos__ desde diferentes _releases_ y versiones de Python para coexistir."
   ]
  }
 ],
 "metadata": {
  "interpreter": {
   "hash": "682885c2bb1436e84d3ea108a79f98b0de56a9363b340e0d2aef3ca8d1559c07"
  },
  "kernelspec": {
   "display_name": "Python 3 (ipykernel)",
   "language": "python",
   "name": "python3"
  },
  "language_info": {
   "codemirror_mode": {
    "name": "ipython",
    "version": 3
   },
   "file_extension": ".py",
   "mimetype": "text/x-python",
   "name": "python",
   "nbconvert_exporter": "python",
   "pygments_lexer": "ipython3",
   "version": "3.10.10"
  }
 },
 "nbformat": 4,
 "nbformat_minor": 2
}
