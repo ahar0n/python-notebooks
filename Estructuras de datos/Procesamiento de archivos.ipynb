{
 "cells": [
  {
   "cell_type": "markdown",
   "metadata": {},
   "source": [
    "# Procesamiento de archivos"
   ]
  },
  {
   "cell_type": "markdown",
   "metadata": {},
   "source": [
    "El uso de datos y su procesamiento plantea algunas de las siguientes limitaciones:\n",
    "\n",
    "- __Limitada capacidad de almacenamiento__ en la memoria central del ordenador.\n",
    "- El almacenamiento de datos en la __memoria central es volatil__.\n",
    "\n",
    "Estas limitaciones se pueden superar __almacenando los datos en archivos__ organizados de forma jerárquica en dispositivos de almacenamiento secundario."
   ]
  },
  {
   "cell_type": "markdown",
   "metadata": {},
   "source": [
    "Un archivo:\n",
    "\n",
    "- Es un flujo de _bits_ tratado por el OS como una unidad lógica. \n",
    "- Su __tamaño__ puede ser cualquier número entero no negativo de ___bytes___. \n",
    "- La interpretación de su estructura básica (e.g. programa, texto, imagen), depende del software con el cual se procesa."
   ]
  },
  {
   "cell_type": "code",
   "execution_count": 1,
   "metadata": {},
   "outputs": [
    {
     "name": "stdout",
     "output_type": "stream",
     "text": [
      "Lorem Ipsum is simply dummy text of the printing and typesetting industry.\n",
      "Lorem Ipsum has been the industry's standard dummy text ever since the 1500s,\n",
      "when an unknown printer took a galley of type and scrambled it to make a type\n",
      "specimen book."
     ]
    }
   ],
   "source": [
    "!cat \"./dataset/lorem_ipsum.txt\""
   ]
  },
  {
   "cell_type": "markdown",
   "metadata": {},
   "source": [
    "## Gestión de archivos"
   ]
  },
  {
   "cell_type": "markdown",
   "metadata": {},
   "source": [
    "La gestión de archivos que tratan con la propia estructura del archivo son:\n",
    "\n",
    "- __Create__: Crear una archivo mediante su nombre u atributos.\n",
    "- __Open__: Establece la comunicación de la CPU con el soporte físico del archivo, de forma que los registros se vuelven accesibles para su lectura y/o escritura.\n",
    "- __Append__: Incrementar, ampliar el tamaño del archivo.\n",
    "- __Delete__: Eliminar el archivo del soporte físico.\n",
    "- __Read/Write__: Transferencia de datos entre el archivo y la memoria central."
   ]
  },
  {
   "cell_type": "markdown",
   "metadata": {},
   "source": [
    "En el tratamiento de archivos, es una buena práctica seguir siguiente secuencia de pasos:\n",
    "\n",
    "1. __Apertura del archivo__, indicando su ubicación (_path_) y modo de tratamiento de la información (e.g. _read_, _write_)\n",
    "2. __Transferencia de datos__ desde o hacia el archivo.\n",
    "3. __Cerrar archivo__."
   ]
  },
  {
   "cell_type": "markdown",
   "metadata": {},
   "source": [
    "## Apertura de archivos"
   ]
  },
  {
   "cell_type": "markdown",
   "metadata": {},
   "source": [
    "La función [`open()`](https://docs.python.org/3/library/functions.html#open), recibe como arguento dos parámetros: \n",
    "\n",
    "- Un valor de tipo `str` con el nombre (o ubicación del archivo), y\n",
    "- El modo de apertura del archivo, que puede ser, `r`: leer, `w`: escribir y `a`: añadir. Por defecto es `'rt'`: `read` `text`."
   ]
  },
  {
   "cell_type": "code",
   "execution_count": 2,
   "metadata": {},
   "outputs": [],
   "source": [
    "mi_archivo = open('./dataset/lorem_ipsum.txt')"
   ]
  },
  {
   "cell_type": "markdown",
   "metadata": {},
   "source": [
    "La función `open()`, retorna un objeto de tipo [_file object_](https://docs.python.org/3/glossary.html#term-file-object) a través del cual se pude manipular el contenido del archivo."
   ]
  },
  {
   "cell_type": "code",
   "execution_count": 3,
   "metadata": {},
   "outputs": [
    {
     "data": {
      "text/plain": [
       "_io.TextIOWrapper"
      ]
     },
     "execution_count": 3,
     "metadata": {},
     "output_type": "execute_result"
    }
   ],
   "source": [
    "type(mi_archivo)"
   ]
  },
  {
   "cell_type": "markdown",
   "metadata": {},
   "source": [
    "En el caso que se intente leer un archivo que no existe, se retorna una excepción de tipo `FileNotFoundError`. Dos alternativas para el tratamiento de este error, consisten en:\n",
    "\n",
    "- Validar si el archivo existe en la ruta especificada:"
   ]
  },
  {
   "cell_type": "code",
   "execution_count": 4,
   "metadata": {},
   "outputs": [
    {
     "name": "stdout",
     "output_type": "stream",
     "text": [
      "Archivo no encontrado!\n"
     ]
    }
   ],
   "source": [
    "from os import path\n",
    "\n",
    "if path.exists('./dataset/lorem_ipsu.txt'):\n",
    "    # tratamiento del archivo aqui!\n",
    "    pass\n",
    "else:\n",
    "    print('Archivo no encontrado!')"
   ]
  },
  {
   "cell_type": "markdown",
   "metadata": {},
   "source": [
    "- Capturar la excepción que genera el intento de apertura del archivo:"
   ]
  },
  {
   "cell_type": "code",
   "execution_count": 5,
   "metadata": {
    "scrolled": true
   },
   "outputs": [
    {
     "name": "stdout",
     "output_type": "stream",
     "text": [
      "Archivo no encontrado!\n"
     ]
    }
   ],
   "source": [
    "try:\n",
    "    mi_archivo = open('./dataset/lorem_ipsu.txt')\n",
    "    # tratamiento del archivo aqui!\n",
    "    \n",
    "except FileNotFoundError:\n",
    "    print('Archivo no encontrado!')"
   ]
  },
  {
   "cell_type": "markdown",
   "metadata": {},
   "source": [
    "## Cierre de archivos\n",
    "\n",
    "El método `close()`, soportado por el objeto _file_, cierra el fichero. La ejecución de esta acción permite,\n",
    "- __después de escribir contenido__, que los datos sean almacenados en disco.\n",
    "- __después de leer__, que se libere la memoria usada para manipular el archivo."
   ]
  },
  {
   "cell_type": "code",
   "execution_count": 6,
   "metadata": {},
   "outputs": [],
   "source": [
    "mi_archivo.close()"
   ]
  },
  {
   "cell_type": "markdown",
   "metadata": {},
   "source": [
    "## Lectura por caracter\n",
    "\n",
    "El método `read()` que recibe como argumento un valor en _bytes_, retorna una cadena de texto equivalente a la cantidad de _bytes_ leidos. \n",
    "\n",
    "- Cuando no hay más _bytes_ por leer, el método retorna una cadena vacía `''`."
   ]
  },
  {
   "cell_type": "markdown",
   "metadata": {},
   "source": [
    "La siguiente función, imprime la cantidad de bytes (o caracteres) que contiene el archivo `lorem_ipsum.txt` de forma iterativa _byte_ por _byte_."
   ]
  },
  {
   "cell_type": "code",
   "execution_count": 7,
   "metadata": {},
   "outputs": [
    {
     "name": "stdout",
     "output_type": "stream",
     "text": [
      "245 bytes\n"
     ]
    }
   ],
   "source": [
    "def obtener_peso(filename):\n",
    "    mi_archivo = open(filename)\n",
    "    peso = 0\n",
    "    while mi_archivo.read(1) != '':\n",
    "        peso += 1\n",
    "    mi_archivo.close()\n",
    "    return peso\n",
    "\n",
    "print('{} bytes'.format(obtener_peso('./dataset/lorem_ipsum.txt')))"
   ]
  },
  {
   "cell_type": "markdown",
   "metadata": {},
   "source": [
    "## Lectura por línea"
   ]
  },
  {
   "cell_type": "markdown",
   "metadata": {},
   "source": [
    "El método `readline()` lee una línea entera del archivo, seguido del carácter de línea nueva `'\\n'`. Cuando un valor en _bytes_ esta presente como argumento, retorna una cadena de texto, equivalente a la cantidad de _bytes_ (incluyendo el carácter de línea nueva).\n",
    "\n",
    "- Cuando no hay más _bytes_ por leer, el método retorna una cadena vacía `''`.\n",
    "\n",
    "El siguiente ejemplo, imprime el contenido del archivo de texto `lorem_ipsum.txt` con su respectivo número de línea."
   ]
  },
  {
   "cell_type": "code",
   "execution_count": 8,
   "metadata": {},
   "outputs": [
    {
     "name": "stdout",
     "output_type": "stream",
     "text": [
      " 1  Lorem Ipsum is simply dummy text of the printing and typesetting industry.\n",
      " 2  Lorem Ipsum has been the industry's standard dummy text ever since the 1500s,\n",
      " 3  when an unknown printer took a galley of type and scrambled it to make a type\n",
      " 4  specimen book.\n"
     ]
    }
   ],
   "source": [
    "mi_archivo = open('./dataset/lorem_ipsum.txt')\n",
    "ln = 1\n",
    "while True:\n",
    "    linea = mi_archivo.readline()\n",
    "    if linea != '':\n",
    "        print('{0:>2} '.format(ln), linea.rstrip('\\n'))\n",
    "        ln += 1\n",
    "    else:\n",
    "        break\n",
    "mi_archivo.close()"
   ]
  },
  {
   "cell_type": "markdown",
   "metadata": {},
   "source": [
    "## Escritura de archivos"
   ]
  },
  {
   "cell_type": "markdown",
   "metadata": {},
   "source": [
    "\n",
    "\n",
    "El método `write()` escribe cualquier cadena de texto en un archivo abierto en modo de escritura: `'w'` o `'a'`.\n",
    "\n",
    "El siguiente ejemplo escribe en un archivo el contenido de una cadena de texto."
   ]
  },
  {
   "cell_type": "code",
   "execution_count": 9,
   "metadata": {},
   "outputs": [],
   "source": [
    "texto = 'Esta es una frase.\\nEsta es otra frase en una nueva línea.'\n",
    "fout = open('./dataset/output.txt', 'w')\n",
    "fout.write(texto)\n",
    "fout.close()"
   ]
  },
  {
   "cell_type": "code",
   "execution_count": 10,
   "metadata": {},
   "outputs": [
    {
     "name": "stdout",
     "output_type": "stream",
     "text": [
      "Esta es una frase.\n",
      "Esta es otra frase en una nueva línea."
     ]
    }
   ],
   "source": [
    "!cat \"./dataset/output.txt\""
   ]
  },
  {
   "cell_type": "markdown",
   "metadata": {},
   "source": [
    "## Añadir a un archivo existente\n",
    "\n",
    "Para agregar datos a un archivo, dicho archivo estar abierto en modo `'a'`. \n",
    "- En este caso, el método `write()`, añade al final del contenido del archivo, cualquier cadena de texto.\n",
    "\n",
    "El siguiente ejemplo, solicita de forma iterativa una cadena de texto que es añadida al fichero de texto `notes.txt`. Por lo tanto, el fichero crece en una línea cada vez que se ingresa texto:"
   ]
  },
  {
   "cell_type": "code",
   "execution_count": 11,
   "metadata": {},
   "outputs": [],
   "source": [
    "def agregar_nota(fichero_nombre, nota):\n",
    "    archivo = open(fichero_nombre, 'a')\n",
    "    archivo.write(nota + '\\n')\n",
    "    archivo.close()\n",
    "\n",
    "fichero = './dataset/notas.txt'\n",
    "while True:\n",
    "    nota = input('Ingresa una nota [Enter para salir]: ')\n",
    "    if nota == '':\n",
    "        break\n",
    "    else:\n",
    "        agregar_nota(fichero, nota)"
   ]
  },
  {
   "cell_type": "code",
   "execution_count": 12,
   "metadata": {},
   "outputs": [
    {
     "name": "stdout",
     "output_type": "stream",
     "text": [
      "Primera nota...\n",
      "Segunda nota...\n"
     ]
    }
   ],
   "source": [
    "!cat \"./dataset/notas.txt\""
   ]
  },
  {
   "cell_type": "markdown",
   "metadata": {},
   "source": [
    "## Renombrar y eliminar archivos"
   ]
  },
  {
   "cell_type": "markdown",
   "metadata": {},
   "source": [
    "El método `rename()` de la libreria [`os`](https://docs.python.org/3/library/os.html), recibe como argumento dos cadenas de texto, correspondiente al nombre original del archivo y al nuevo nombre del archivo, respectivamente."
   ]
  },
  {
   "cell_type": "code",
   "execution_count": 13,
   "metadata": {},
   "outputs": [],
   "source": [
    "from os import rename\n",
    "\n",
    "rename('./dataset/notas.txt', './dataset/mis_notas.txt')"
   ]
  },
  {
   "cell_type": "markdown",
   "metadata": {},
   "source": [
    "Por otra parte, la función `remove()` elimina un archivo a partir de su nombre, recibido como argumento."
   ]
  },
  {
   "cell_type": "code",
   "execution_count": 14,
   "metadata": {},
   "outputs": [],
   "source": [
    "from os import remove\n",
    "\n",
    "remove('./dataset/mis_notas.txt')"
   ]
  }
 ],
 "metadata": {
  "kernelspec": {
   "display_name": "Python 3",
   "language": "python",
   "name": "python3"
  },
  "language_info": {
   "codemirror_mode": {
    "name": "ipython",
    "version": 3
   },
   "file_extension": ".py",
   "mimetype": "text/x-python",
   "name": "python",
   "nbconvert_exporter": "python",
   "pygments_lexer": "ipython3",
   "version": "3.7.11"
  }
 },
 "nbformat": 4,
 "nbformat_minor": 2
}
