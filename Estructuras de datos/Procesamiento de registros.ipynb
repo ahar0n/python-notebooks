{
 "cells": [
  {
   "cell_type": "markdown",
   "metadata": {},
   "source": [
    "# Procesamiento de registros"
   ]
  },
  {
   "cell_type": "markdown",
   "metadata": {},
   "source": [
    "## Registros"
   ]
  },
  {
   "cell_type": "markdown",
   "metadata": {},
   "source": [
    "\n",
    "\n",
    "Registros se le denomina a un conjunto de datos tabulares, estrucrurados como una colección de entidades elementales, que son de igual tipo y que se componen a su vez de entidades mas pequeñas denominadas __campos__.\n",
    "\n",
    "- __Registro es una colección de campos__ logicamente relacionados que pueden ser tratados en un programa como una unidad.\n",
    "- __Campo es un item o elemento de datos__, considerado la unidad mínima de información de un registro. Generalmente se caracterizan por su tipo (e.g. entero, lógico)."
   ]
  },
  {
   "cell_type": "markdown",
   "metadata": {},
   "source": [
    "![Dato](./img/almacenamiento_dato.svg)"
   ]
  },
  {
   "cell_type": "markdown",
   "metadata": {},
   "source": [
    "Un archivo de registros es,\n",
    "- Un caso particular de __archivos de organización secuencial__.\n",
    "- Una __serie continua de caracteres que se pueden leer uno tras otro__.\n",
    "- Un archivo en el que __cada registro es del tipo de cadena de texto__.\n",
    "- Normalmente __consisten en paquetes pequeños de datos__ que son individualmente diferentes pero que __comparten algún rasgo en común__.\n",
    "- La forma en que __se agrupan los datos es arbitraria__. \n",
    "- __Existen estructuras estandarizadas__ para cualquier propósitos."
   ]
  },
  {
   "cell_type": "markdown",
   "metadata": {},
   "source": [
    "## Archivo CSV"
   ]
  },
  {
   "cell_type": "markdown",
   "metadata": {},
   "source": [
    "\n",
    "\n",
    "De acuerdo a su especificación [RFC 4180](https://tools.ietf.org/html/rfc4180), el formato:\n",
    "\n",
    "- Es un __archivo de texto en formato plano__.\n",
    "- Almacena datos como en __registros__, cada uno de los cuales está localizado en una línea separada por un salto de línea.\n",
    "- Cada registro almacena datos tabulares __con valores separados por coma__, aunque también pueden estar separados por otro símbolo, como el punto y coma `;`, espacios, tabulaciones (`\\t`), etc.\n",
    "- Comunmente se utiliza para el __intercambio de datos__.\n",
    "\n",
    "\n",
    "En Python, el módulo [`CSV`](https://docs.python.org/3/library/csv.html):\n",
    "- Implementa componentes para leer y escribir datos tabulares en formato CSV. \n",
    "- Permite describir los formatos CSV comprendidos por otras aplicaciones o definir formatos CSV propios. \n",
    "- Otra alternativa consiste en leer y escribir datos en forma de diccionario usando\n",
    "las clases `DictReader` y `DictWriter`."
   ]
  },
  {
   "cell_type": "markdown",
   "metadata": {},
   "source": [
    "## Lectura de registros"
   ]
  },
  {
   "cell_type": "markdown",
   "metadata": {},
   "source": [
    "La función `reader()` retorna un __objeto iterable sobre los registros del archivo CSV__. "
   ]
  },
  {
   "cell_type": "markdown",
   "metadata": {},
   "source": [
    "El siguiente código obtiene el contenido del archivo como una lista, donde cada elemento es una cadena de texto."
   ]
  },
  {
   "cell_type": "code",
   "execution_count": null,
   "metadata": {},
   "outputs": [],
   "source": [
    "from csv import reader\n",
    "\n",
    "archivo = open('./registros/pozos.csv', 'r')\n",
    "registros = reader(archivo)\n",
    "for registro in registros:\n",
    "    print(registro)\n",
    "archivo.close()"
   ]
  },
  {
   "cell_type": "markdown",
   "metadata": {},
   "source": [
    "El _keyword_ `delimiter` permite pasar como argumento el símbolo __delimitador de campos__ del registro. Por defecto, es coma  (`,`)."
   ]
  },
  {
   "cell_type": "markdown",
   "metadata": {},
   "source": [
    "Siguiendo con el ejemplo anterior, notar como cambian los elementos de la lista al definir como delimitidador de campo el símbolo `;`:"
   ]
  },
  {
   "cell_type": "code",
   "execution_count": null,
   "metadata": {},
   "outputs": [],
   "source": [
    "archivo = open('./registros/pozos.csv')\n",
    "registros = reader(archivo, delimiter=';')\n",
    "for registro in registros:\n",
    "    print(registro)\n",
    "archivo.close()"
   ]
  },
  {
   "cell_type": "markdown",
   "metadata": {},
   "source": [
    "## Lectura de registros como diccionario"
   ]
  },
  {
   "cell_type": "markdown",
   "metadata": {},
   "source": [
    "La función `DictReader()` __crea un objeto que mapea los campos de cada registro a un diccionario__. \n",
    "- Las __claves del diccionario se definen__ incluyendo como argumento el parámetro de _keyword_ `fieldnames`,  cuyo valor es una secuencia que contiene cada una de las claves del diccionario.\n",
    "\n",
    "En el siguiente ejemplo, los registros del archivo `pozos_no_header.csv` son leídos desde diccionarios de claves `date` y `height`, asociadas a cada campo, respectivamente. Además, imprime todos los valores de un campo, utilizando su respectivo nombre."
   ]
  },
  {
   "cell_type": "code",
   "execution_count": null,
   "metadata": {},
   "outputs": [],
   "source": [
    "from csv import DictReader\n",
    "\n",
    "archivo = open('./registros/pozos_no_header.csv')\n",
    "registros = DictReader(archivo, delimiter=';', fieldnames=['date', 'height'])\n",
    "for registro in registros:\n",
    "    print(registro['date'])\n",
    "archivo.close()"
   ]
  },
  {
   "cell_type": "markdown",
   "metadata": {},
   "source": [
    "El atributo `.fieldnames` __retorna una secuencia con los nombres de los campos__."
   ]
  },
  {
   "cell_type": "code",
   "execution_count": null,
   "metadata": {},
   "outputs": [],
   "source": [
    "print(registros.fieldnames)"
   ]
  },
  {
   "cell_type": "markdown",
   "metadata": {},
   "source": [
    "Si los nombres de campos no se definen al crear el objeto, el atributo `.fieldnames` __se inicializa al primer acceso o al leer el primer registro del fichero__.\n",
    "\n",
    "En el siguiente ejemplo, los nombres de campos se definen utilizando los encabezados del archivo CSV:"
   ]
  },
  {
   "cell_type": "code",
   "execution_count": null,
   "metadata": {},
   "outputs": [],
   "source": [
    "archivo = open('./registros/pozos.csv')\n",
    "registros = DictReader(archivo, delimiter=';')\n",
    "next(registros)\n",
    "archivo.close()\n",
    "print(registros.fieldnames)"
   ]
  },
  {
   "cell_type": "markdown",
   "metadata": {},
   "source": [
    "__Nota__: Si una fila tiene más campos que nombres de campo, los datos restantes se alamcenan en una lista con el nombre de campo `None`. Si una fila no vacía tiene menos campos que nombres de campo, los valores que faltan se rellenan con `None`."
   ]
  },
  {
   "cell_type": "markdown",
   "metadata": {},
   "source": [
    "## Escritura a partir de una lista"
   ]
  },
  {
   "cell_type": "markdown",
   "metadata": {},
   "source": [
    "La función `write()` retorna un objeto responsable de convertir los datos en cadenas delimitadas en el símbolo dado como argumento con el _keyword_ `delimiter`.\n",
    "\n",
    "- El método `writerow()` de la clase `write`, escribe un objeto iterable (e.g. registro), de acuerdo al formato definido al momento de crear el objeto `write`."
   ]
  },
  {
   "cell_type": "code",
   "execution_count": null,
   "metadata": {},
   "outputs": [],
   "source": [
    "from datetime import datetime as dt\n",
    "from csv import writer\n",
    "\n",
    "usuario = input('usuario: ')\n",
    "\n",
    "archivo = open('./registros/userlog.csv', 'a')\n",
    "escritor = writer(archivo, delimiter=';')\n",
    "escritor.writerow([str(dt.now()), usuario])\n",
    "archivo.close()"
   ]
  },
  {
   "cell_type": "markdown",
   "metadata": {},
   "source": [
    "El método `writerows()` escribe una lista de objetos iterables (e.g. lista de registros), de acuerdo al formato definido al momento de crear el objeto `write`."
   ]
  },
  {
   "cell_type": "code",
   "execution_count": null,
   "metadata": {
    "collapsed": true
   },
   "outputs": [],
   "source": [
    "lista_personas = [\n",
    "    ['María Perez', 18, 'F'],\n",
    "    ['Juan Pino', 25, 'M'],\n",
    "    ['Roberto Pinto', 17, 'M']\n",
    "]\n",
    "archivo = open('./registros/personas.csv', 'w')\n",
    "escritor = writer(archivo, delimiter=',')\n",
    "escritor.writerows(lista_personas)\n",
    "archivo.close()"
   ]
  },
  {
   "cell_type": "markdown",
   "metadata": {},
   "source": [
    "## Escritura a partir de un diccionario\n",
    "\n",
    "La función `DictWriter()` retorna un objeto que mapea los diccionarios en filas. Recibe como argumento dos parámetros: \n",
    "- Archivo CSV abierto en modo de escritura. \n",
    "- _Keyword_ `fieldnames` cuyo valor es una secuencia que identifica el orden de los valores del diccionario pasados al método `writerow()` para escribirlos en el archivo CSV, de acuerdo al formato definido al crear el objeto `DictWriter`.\n",
    "\n",
    "El método `writeheader()` escribe una fila (registro) en el archivo CSV con el nombre del encabezado."
   ]
  },
  {
   "cell_type": "code",
   "execution_count": null,
   "metadata": {
    "collapsed": true
   },
   "outputs": [],
   "source": [
    "from csv import DictWriter\n",
    "\n",
    "horario = {\n",
    "    '0': {'nombre': 'María Perez', 'edad': 18, 'genero': 'F'},\n",
    "    '1': {'nombre': 'Juan Pino', 'edad': 25, 'genero': 'M'},\n",
    "    '2': {'nombre': 'Roberto Pinto', 'edad': 17, 'genero': 'M'}\n",
    "}\n",
    "archivo = open('./registros/horario.csv', 'w')\n",
    "encabezado = list(horario['0'].keys()) # ['nombre', 'edad', 'genero']\n",
    "escritor = DictWriter(archivo, delimiter=';', fieldnames=encabezado)\n",
    "escritor.writeheader()\n",
    "for clave, registro in horario.items():\n",
    "    escritor.writerow(registro)\n",
    "archivo.close()"
   ]
  }
 ],
 "metadata": {
  "kernelspec": {
   "display_name": "Python 3",
   "language": "python",
   "name": "python3"
  },
  "language_info": {
   "codemirror_mode": {
    "name": "ipython",
    "version": 3
   },
   "file_extension": ".py",
   "mimetype": "text/x-python",
   "name": "python",
   "nbconvert_exporter": "python",
   "pygments_lexer": "ipython3",
   "version": "3.7.11"
  }
 },
 "nbformat": 4,
 "nbformat_minor": 2
}
