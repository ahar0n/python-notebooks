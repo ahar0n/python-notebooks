{
 "cells": [
  {
   "cell_type": "markdown",
   "metadata": {},
   "source": [
    "# Ejericios. Manipulación de diccionarios\n"
   ]
  },
  {
   "cell_type": "markdown",
   "metadata": {},
   "source": [
    "E1. Diseñe la función `caracteres(texto)` que recibe como argumento un cadena de __texto__ y retorna un diccionario. Cada clave de este diccionario corresponde a cada caracter encontrado en el texto, mientras que cada valor contiene la ocurrencia del carater en el texto. En el caso de la ocurrencia de letras, éstas deben estar asociadas mayúsculas y minúsculas; los espacios deben ser omitidos."
   ]
  },
  {
   "cell_type": "markdown",
   "metadata": {},
   "source": [
    "E2. Diseñar la función `longitud(texto)` que retorne un diccionario que asocie a cada palabra del __texto__ (claves), su cantidad de letras (valores)."
   ]
  },
  {
   "cell_type": "markdown",
   "metadata": {},
   "source": [
    "E3. Diseñar la función `cuenta_palabras(texto)` que retorne un diccionario que asocie a cada palabra (claves) la cantidad de veces (valores) que aparece en el `texto`."
   ]
  },
  {
   "cell_type": "markdown",
   "metadata": {},
   "source": [
    "E4. Diseñar la función `invertido(diccionario)` que retorne un diccionario invertido, es decir, que sustituya sus claves por sus valores y, sus valores por las respectivas claves."
   ]
  },
  {
   "cell_type": "markdown",
   "metadata": {},
   "source": [
    "E5. El diccionario __horario__ contiene asignaturas organizadas para los días de la semana."
   ]
  },
  {
   "cell_type": "code",
   "execution_count": 10,
   "metadata": {},
   "outputs": [],
   "source": [
    "horario = {\n",
    "    'Lunes': ['Cálculo I', 'Algebra I', 'Geometría y Trigonometría'],\n",
    "    'Martes': ['Algebra I', 'Topográfia I'],\n",
    "    'Miercoles': ['Calculo I', 'Algebra I'],\n",
    "    'Jueves': ['Topografía I'],\n",
    "    'Viernes': ['Geometría y Trigonometría', 'Topografía']\n",
    "}"
   ]
  },
  {
   "cell_type": "markdown",
   "metadata": {},
   "source": [
    "- Diseñe la función `registrar_asignatura(horario, dia, asignatura)` que agregue una nueva __asignatura__ al horario en el __día__ indicado."
   ]
  },
  {
   "cell_type": "markdown",
   "metadata": {},
   "source": [
    "- Diseñar la función `dias_con_clase(asignatura)` que retorne los días que se tiene clase de la __asignatura__ recibida como argumento."
   ]
  },
  {
   "cell_type": "markdown",
   "metadata": {},
   "source": [
    "- Diseñar la función `asignaturas_comunes(horario, dias)` que retorne el nombre de las asignaturas que se dictan en la lista de __días__ pasada como argumento."
   ]
  },
  {
   "cell_type": "markdown",
   "metadata": {},
   "source": [
    "- Diseñar la función `existe(asignatura)` que retorne `True` o `False` si la __asignatura__ se encuentra o no registrada en el horario."
   ]
  },
  {
   "cell_type": "markdown",
   "metadata": {},
   "source": [
    "- Diseñe la función `eliminar(horario, asignaturas)` que elimina del __horario__ las __asignaturas__ pasadas como argumento."
   ]
  }
 ],
 "metadata": {
  "kernelspec": {
   "display_name": "Python 3",
   "language": "python",
   "name": "python3"
  },
  "language_info": {
   "codemirror_mode": {
    "name": "ipython",
    "version": 3
   },
   "file_extension": ".py",
   "mimetype": "text/x-python",
   "name": "python",
   "nbconvert_exporter": "python",
   "pygments_lexer": "ipython3",
   "version": "3.7.3"
  }
 },
 "nbformat": 4,
 "nbformat_minor": 2
}
