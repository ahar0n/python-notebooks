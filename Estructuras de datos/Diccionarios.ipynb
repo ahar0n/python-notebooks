{
 "cells": [
  {
   "cell_type": "markdown",
   "metadata": {},
   "source": [
    "# Diccionarios"
   ]
  },
  {
   "cell_type": "markdown",
   "metadata": {},
   "source": [
    "- Un diccionario __es una colección no-ordenada de valores__ o, un conjunto no ordenado de pares `clave:valor`.\n",
    "- En otros lenguajes, existen estruccturas similares: e.g. _arreglos asociativos_ de PHP.\n",
    "- __Los valores se indexan mediante claves__, que pueden ser cualquier tipo inmutable: cadenas y números. \n",
    "- Las __tuplas pueden usarse como claves__ si contienen cadenas, números, tuplas, ~~listas~~.\n",
    "- Las __claves son únicas dentro de un diccionario__.\n",
    "- __No se permite acceder de forma directa a una clave a través de su valor__.\n",
    "- Un mismo valor puede ser asignado a distintas claves."
   ]
  },
  {
   "cell_type": "markdown",
   "metadata": {},
   "source": [
    "## Construcción de diccionarios\n",
    "\n"
   ]
  },
  {
   "cell_type": "markdown",
   "metadata": {},
   "source": [
    "El constructor `dict()` crea un diccionario directamente a partir de una __secuencias de pares__ `clave: valor`, separados por coma `,`:"
   ]
  },
  {
   "cell_type": "code",
   "execution_count": 1,
   "metadata": {},
   "outputs": [
    {
     "data": {
      "text/plain": [
       "{457000: 'Ingles I', 457235: 'Fisica I', 457105: 'Cálculo III'}"
      ]
     },
     "execution_count": 1,
     "metadata": {},
     "output_type": "execute_result"
    }
   ],
   "source": [
    "dict([(457000, 'Ingles I'), (457235, 'Fisica I'), (457105, 'Cálculo III')])"
   ]
  },
  {
   "cell_type": "markdown",
   "metadata": {},
   "source": [
    "Otra forma de instanciar un diccionario es definiendo elementos __entre llaves__ `{}`:"
   ]
  },
  {
   "cell_type": "code",
   "execution_count": 2,
   "metadata": {},
   "outputs": [
    {
     "data": {
      "text/plain": [
       "{457000: 'Ingles I', 457235: 'Fisica I', 457105: 'Cálculo III'}"
      ]
     },
     "execution_count": 2,
     "metadata": {},
     "output_type": "execute_result"
    }
   ],
   "source": [
    "{457000: 'Ingles I', 457235: 'Fisica I', 457105: 'Cálculo III'}"
   ]
  },
  {
   "cell_type": "markdown",
   "metadata": {},
   "source": [
    "En los casos que las claves sean cadenas simples, es posible especificar los pares usando __argumentos por palabra clave__:"
   ]
  },
  {
   "cell_type": "code",
   "execution_count": 3,
   "metadata": {},
   "outputs": [
    {
     "data": {
      "text/plain": [
       "{'Elisa': 40, 'Javiera': 26, 'Marcela': 21}"
      ]
     },
     "execution_count": 3,
     "metadata": {},
     "output_type": "execute_result"
    }
   ],
   "source": [
    "dict(Elisa=40, Javiera=26, Marcela=21)"
   ]
  },
  {
   "cell_type": "markdown",
   "metadata": {},
   "source": [
    "Para __crear un diccionario vacío__, se hace por medio de un par de llaves ```{}``` sin argumento:"
   ]
  },
  {
   "cell_type": "code",
   "execution_count": 4,
   "metadata": {},
   "outputs": [
    {
     "name": "stdout",
     "output_type": "stream",
     "text": [
      "{}\n"
     ]
    }
   ],
   "source": [
    "asignaturas = {}\n",
    "print(asignaturas)"
   ]
  },
  {
   "cell_type": "markdown",
   "metadata": {},
   "source": [
    "## Operaciones básicas con diccionarios"
   ]
  },
  {
   "cell_type": "markdown",
   "metadata": {},
   "source": [
    "Para __agregar elementos__ a un diccionario, se realiza la __asignación a un índice deseado__ entre corchetes `[]`:"
   ]
  },
  {
   "cell_type": "code",
   "execution_count": 5,
   "metadata": {},
   "outputs": [
    {
     "name": "stdout",
     "output_type": "stream",
     "text": [
      "{457000: 'Ingles III', 457235: 'Física I', 457105: 'Cálculo III'}\n"
     ]
    }
   ],
   "source": [
    "asignaturas[457000] = 'Ingles III'\n",
    "asignaturas[457235] = 'Física I'\n",
    "asignaturas[457105] = 'Cálculo III'\n",
    "print(asignaturas)"
   ]
  },
  {
   "cell_type": "markdown",
   "metadata": {},
   "source": [
    "Si se usa una __clave que __ya está en uso para almacenar un valor__, el valor que estaba asociado con esa clave __se sobreescribe__:"
   ]
  },
  {
   "cell_type": "code",
   "execution_count": 6,
   "metadata": {},
   "outputs": [
    {
     "name": "stdout",
     "output_type": "stream",
     "text": [
      "{457000: 'Ingles I', 457235: 'Física I', 457105: 'Cálculo III'}\n"
     ]
    }
   ],
   "source": [
    "asignaturas[457000] = 'Ingles I'\n",
    "print(asignaturas)"
   ]
  },
  {
   "cell_type": "markdown",
   "metadata": {},
   "source": [
    "De forma análoga, para __extraer un elemento__ debe ser consultado por medio la clave:"
   ]
  },
  {
   "cell_type": "code",
   "execution_count": 7,
   "metadata": {
    "scrolled": true
   },
   "outputs": [
    {
     "name": "stdout",
     "output_type": "stream",
     "text": [
      "Cálculo III\n"
     ]
    }
   ],
   "source": [
    "print(asignaturas[457105])"
   ]
  },
  {
   "cell_type": "markdown",
   "metadata": {},
   "source": [
    "Es importante considerar que es un error de tipo `KeyError` extraer un valor usando __una clave no existente__."
   ]
  },
  {
   "cell_type": "code",
   "execution_count": 8,
   "metadata": {},
   "outputs": [
    {
     "ename": "KeyError",
     "evalue": "457101",
     "output_type": "error",
     "traceback": [
      "\u001b[0;31m---------------------------------------------------------------------------\u001b[0m",
      "\u001b[0;31mKeyError\u001b[0m                                  Traceback (most recent call last)",
      "\u001b[0;32m/var/folders/1f/npljt0x973xg957b7qp481rm0000gn/T/ipykernel_7887/1170372146.py\u001b[0m in \u001b[0;36m<module>\u001b[0;34m\u001b[0m\n\u001b[0;32m----> 1\u001b[0;31m \u001b[0mprint\u001b[0m\u001b[0;34m(\u001b[0m\u001b[0masignaturas\u001b[0m\u001b[0;34m[\u001b[0m\u001b[0;36m457101\u001b[0m\u001b[0;34m]\u001b[0m\u001b[0;34m)\u001b[0m\u001b[0;34m\u001b[0m\u001b[0;34m\u001b[0m\u001b[0m\n\u001b[0m",
      "\u001b[0;31mKeyError\u001b[0m: 457101"
     ]
    }
   ],
   "source": [
    "print(asignaturas[457101])"
   ]
  },
  {
   "cell_type": "markdown",
   "metadata": {},
   "source": [
    "De forma análoga que para las listas, la función ```len()``` retorna la __cantidad de elementos__ de un diccionario:"
   ]
  },
  {
   "cell_type": "code",
   "execution_count": 9,
   "metadata": {},
   "outputs": [
    {
     "data": {
      "text/plain": [
       "3"
      ]
     },
     "execution_count": 9,
     "metadata": {},
     "output_type": "execute_result"
    }
   ],
   "source": [
    "len(asignaturas)"
   ]
  },
  {
   "cell_type": "markdown",
   "metadata": {},
   "source": [
    "La instrucción `del` __elimina elementos__ de un diccionario."
   ]
  },
  {
   "cell_type": "code",
   "execution_count": 10,
   "metadata": {},
   "outputs": [
    {
     "name": "stdout",
     "output_type": "stream",
     "text": [
      "{457235: 'Física I', 457105: 'Cálculo III'}\n"
     ]
    }
   ],
   "source": [
    "del asignaturas[457000]\n",
    "print(asignaturas)"
   ]
  },
  {
   "cell_type": "markdown",
   "metadata": {},
   "source": [
    "Considerando que las operaciones básicas con diccionarios requieren del conocimiento de la clave, para __verificar la existencia de una clave__ se utiliza el operador `in`.\n",
    "\n",
    "En el siguiente ejemplo, la función `registrar(asignaturas, código, nombre)` ingresa valores (asignaturas) a un diccionario existente. Si la clave existe, genera una nueva clave."
   ]
  },
  {
   "cell_type": "code",
   "execution_count": 11,
   "metadata": {},
   "outputs": [
    {
     "data": {
      "text/plain": [
       "False"
      ]
     },
     "execution_count": 11,
     "metadata": {},
     "output_type": "execute_result"
    }
   ],
   "source": [
    "457000 in asignaturas"
   ]
  },
  {
   "cell_type": "markdown",
   "metadata": {},
   "source": [
    "El método ```keys()```, retorna todas las __claves de un diccionario__. Por ejemplo, la siguiente expresión, retorna una lista con las claves del diccionario ```asignatura```:"
   ]
  },
  {
   "cell_type": "code",
   "execution_count": 12,
   "metadata": {},
   "outputs": [
    {
     "data": {
      "text/plain": [
       "[457235, 457105]"
      ]
     },
     "execution_count": 12,
     "metadata": {},
     "output_type": "execute_result"
    }
   ],
   "source": [
    "list(asignaturas.keys())"
   ]
  },
  {
   "cell_type": "markdown",
   "metadata": {},
   "source": [
    "El método ```values()``` obtiene los __valores de un diccionario__:"
   ]
  },
  {
   "cell_type": "code",
   "execution_count": 13,
   "metadata": {},
   "outputs": [
    {
     "data": {
      "text/plain": [
       "['Física I', 'Cálculo III']"
      ]
     },
     "execution_count": 13,
     "metadata": {},
     "output_type": "execute_result"
    }
   ],
   "source": [
    "list(asignaturas.values())"
   ]
  },
  {
   "cell_type": "markdown",
   "metadata": {},
   "source": [
    "La función ```copy()``` realiza la __copia de un diccionario__:"
   ]
  },
  {
   "cell_type": "code",
   "execution_count": 14,
   "metadata": {},
   "outputs": [
    {
     "name": "stdout",
     "output_type": "stream",
     "text": [
      "{457235: 'Física I', 457105: 'Cálculo III'}\n"
     ]
    }
   ],
   "source": [
    "asignaturas_2 = asignaturas.copy()\n",
    "print(asignaturas_2)"
   ]
  },
  {
   "cell_type": "markdown",
   "metadata": {},
   "source": [
    "La función ```clear()``` __elimina todos los elementos de un diccionario__."
   ]
  },
  {
   "cell_type": "code",
   "execution_count": 15,
   "metadata": {
    "scrolled": true
   },
   "outputs": [
    {
     "name": "stdout",
     "output_type": "stream",
     "text": [
      "{}\n"
     ]
    }
   ],
   "source": [
    "asignaturas_2.clear()\n",
    "print(asignaturas_2)"
   ]
  },
  {
   "cell_type": "code",
   "execution_count": 16,
   "metadata": {},
   "outputs": [
    {
     "name": "stdout",
     "output_type": "stream",
     "text": [
      "{457235: 'Física I', 457105: 'Cálculo III'}\n"
     ]
    }
   ],
   "source": [
    "asignaturas_3 = asignaturas\n",
    "print(asignaturas_3)"
   ]
  },
  {
   "cell_type": "code",
   "execution_count": 17,
   "metadata": {},
   "outputs": [
    {
     "name": "stdout",
     "output_type": "stream",
     "text": [
      "{}\n",
      "{}\n"
     ]
    }
   ],
   "source": [
    "asignaturas_3.clear()\n",
    "print(asignaturas_3)\n",
    "print(asignaturas)"
   ]
  },
  {
   "cell_type": "markdown",
   "metadata": {},
   "source": [
    "El método `update()` __concatena/sobreescribe elementos de un diccionario__:"
   ]
  },
  {
   "cell_type": "code",
   "execution_count": 18,
   "metadata": {
    "scrolled": true
   },
   "outputs": [
    {
     "name": "stdout",
     "output_type": "stream",
     "text": [
      "{'nombre': 'Javiera', 'apellido': 'Jara', 'edad': 26, 'nacionalidad': 'chilena'}\n"
     ]
    }
   ],
   "source": [
    "juan = {'nombre': 'Juan', 'apellido': 'Jara'}\n",
    "javiera = {'edad': 26, 'nacionalidad': 'chilena', 'nombre': 'Javiera'}\n",
    "juan.update(javiera)\n",
    "print(juan)"
   ]
  },
  {
   "cell_type": "markdown",
   "metadata": {},
   "source": [
    "## Iterar sobre los elementos de un diccionario"
   ]
  },
  {
   "cell_type": "markdown",
   "metadata": {},
   "source": [
    "Iterar __a través de las claves__:"
   ]
  },
  {
   "cell_type": "code",
   "execution_count": 19,
   "metadata": {
    "scrolled": false
   },
   "outputs": [
    {
     "name": "stdout",
     "output_type": "stream",
     "text": [
      "nombre : Javiera\n",
      "apellido : Jara\n",
      "edad : 26\n",
      "nacionalidad : chilena\n"
     ]
    }
   ],
   "source": [
    "for codigo in juan:\n",
    "    print('{} : {}'.format(codigo, juan[codigo]))"
   ]
  },
  {
   "cell_type": "markdown",
   "metadata": {},
   "source": [
    "Iterar __a través de las claves y obtener los valores como tuplas__, utilizando el método ```items()```:"
   ]
  },
  {
   "cell_type": "code",
   "execution_count": 20,
   "metadata": {},
   "outputs": [
    {
     "name": "stdout",
     "output_type": "stream",
     "text": [
      "nombre : Javiera\n",
      "apellido : Jara\n",
      "edad : 26\n",
      "nacionalidad : chilena\n"
     ]
    }
   ],
   "source": [
    "for (clave, valor) in juan.items():\n",
    "    print('{} : {}'.format(clave, valor))"
   ]
  }
 ],
 "metadata": {
  "kernelspec": {
   "display_name": "Python 3",
   "language": "python",
   "name": "python3"
  },
  "language_info": {
   "codemirror_mode": {
    "name": "ipython",
    "version": 3
   },
   "file_extension": ".py",
   "mimetype": "text/x-python",
   "name": "python",
   "nbconvert_exporter": "python",
   "pygments_lexer": "ipython3",
   "version": "3.7.11"
  }
 },
 "nbformat": 4,
 "nbformat_minor": 2
}
