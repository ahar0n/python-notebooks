{
 "cells": [
  {
   "cell_type": "markdown",
   "metadata": {},
   "source": [
    "# Cuentas bancarias"
   ]
  },
  {
   "cell_type": "markdown",
   "metadata": {},
   "source": [
    "Una institución bancaria dispone de una base de datos para el control de las cuentas corrientes de sus clientes. Esta base de datos se compone de tres archivos. "
   ]
  },
  {
   "cell_type": "markdown",
   "metadata": {},
   "source": [
    "El archivo `clientes.txt` registra el rut y el nombre de los clientes. Por ejemplo,"
   ]
  },
  {
   "cell_type": "markdown",
   "metadata": {},
   "source": [
    "```\n",
    "12367266K Alexis Ford\n",
    "78926919 Danny Elfman \n",
    "141117641 Rebecca Ferguson\n",
    "97662918 Nathan Fillion\n",
    ".\n",
    ":\n",
    "```"
   ]
  },
  {
   "cell_type": "markdown",
   "metadata": {},
   "source": [
    "El archivo `cuentas.txt` registra las cuentas asociadas a los clientes. Esta asociación, se realiza a partir del rut del cliente, la cuenta y el estado de esta última. Las cuentas pueden estar en uno de dos estados posibles: activa (`1`) o inactiva (`0`); si una cuenta está inactiva no se pueden realizar transacciones sobre esta cuenta. Un cliente puede tener una o más cuentas, esto es, un registro del archivo `clientes.txt` puede estar asociado a uno o más registros del archivo `cuentas.txt`. Un ejemplo de este último archivo,"
   ]
  },
  {
   "cell_type": "markdown",
   "metadata": {},
   "source": [
    "```\n",
    "12367266K:1234-5678-8765-4321:1\n",
    "97662918:0001-3456-2223-7676:1\n",
    "78926919:4321-6548-0015-4001:1\n",
    "12367266K:2231-0021-0400-1101:0\n",
    ".\n",
    ":\n",
    "```"
   ]
  },
  {
   "cell_type": "markdown",
   "metadata": {},
   "source": [
    "El archivo `movimientos.csv` mantiene un registro de las transacciones de dinero en las cuentas. Por cada transacción se registra la fecha, la cuenta, el monto y el tipo de transacción que se realiza sobre una cuenta. El campo tipo registra una de las siguientes transacción posibles: giro por caja (`GC`), giro por cajero automático (`GA`) y depósito (`DP`). Los giros sólo pueden ser realizados desde cuentas activas. Cuando los giros se realizan por caja (`GC`), no existe límite del monto. Cuando se realizan por cajero automático (`GA`), el monto no  pueden superar los &dollar;200.000 por día, ya sea por transacción o de forma acumulada."
   ]
  },
  {
   "cell_type": "markdown",
   "metadata": {},
   "source": [
    "```\n",
    "12-01-2020;1234-5678-8765-4321;25000;GA\n",
    "01-02-2020;4321-6548-0015-4001;120000;DP\n",
    ".\n",
    ":\n",
    "```"
   ]
  },
  {
   "cell_type": "markdown",
   "metadata": {},
   "source": [
    "Se requiere:\n",
    "\n",
    "E1. Diseñar la función `transaccion(cuenta, tipo, monto, fecha)` que registra un movimiento de dinero en una cuenta, a partir de la `cuenta`, el `tipo` y el `monto` de la transacción. Si la transacción es válida, esta denerá ser registrada en el archivo `movimiento.txt` y reberá retornar `True`, de lo contrario, deberá retornar `False`."
   ]
  },
  {
   "cell_type": "markdown",
   "metadata": {},
   "source": [
    "E2. Diseñar la función `saldos(rut)` que retorne un diccionario con los saldos de cada una de las cuentas asociadas a un cliente (`rut`). Cada clave de este diccionario es el número de una cuenta del cliente y su valor es el saldo asociado a dicha cuenta."
   ]
  },
  {
   "cell_type": "markdown",
   "metadata": {},
   "source": [
    "E3. Diseñar la función `cartola(cuenta, fecha_1, fecha_2)` que crea un archivo con el nombre de la cuenta y que contiene los movimientos (transacciones) realizados en una cuenta entre dos fechas. Cada linea del archivo contiene un número único (que inicia en `1`), la fecha, el monto y el tipo de transacción. Además, la ejecución de la función debe retornar el saldo de la cuenta. Un ejemplo de la ejecución de la función:"
   ]
  },
  {
   "cell_type": "markdown",
   "metadata": {
    "collapsed": true
   },
   "source": [
    "```python\n",
    ">>> cartola('1234-5678-8765-4321', '01-01-2020', '30-01-2020')\n",
    "230000\n",
    "```"
   ]
  },
  {
   "cell_type": "markdown",
   "metadata": {},
   "source": [
    "debe crear el archivo `1234-5678-8765-4321.txt` con el siguiente contenido:"
   ]
  },
  {
   "cell_type": "markdown",
   "metadata": {},
   "source": [
    "```\n",
    "1 01-01-2020 880000 DP\n",
    "2 12-01-2020 20000 GA\n",
    "3 12-01-2020 130000 GA\n",
    "4 15-01-2020 550000 GC\n",
    "5 25-01-2020 150000 DP\n",
    "6 26-01-2020 100000 GA\n",
    "```"
   ]
  }
 ],
 "metadata": {
  "kernelspec": {
   "display_name": "Python 3",
   "language": "python",
   "name": "python3"
  },
  "language_info": {
   "codemirror_mode": {
    "name": "ipython",
    "version": 3
   },
   "file_extension": ".py",
   "mimetype": "text/x-python",
   "name": "python",
   "nbconvert_exporter": "python",
   "pygments_lexer": "ipython3",
   "version": "3.7.11"
  }
 },
 "nbformat": 4,
 "nbformat_minor": 2
}
