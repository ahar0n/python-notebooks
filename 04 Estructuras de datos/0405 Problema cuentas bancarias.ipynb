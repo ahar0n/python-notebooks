{
 "cells": [
  {
   "cell_type": "markdown",
   "metadata": {},
   "source": [
    "# Problema: Cuentas Bancarias"
   ]
  },
  {
   "cell_type": "markdown",
   "source": [
    "Una institución bancaria dispone de una base de datos que utiliza para el control de las cuentas corrientes de sus clientes. Esta base de datos se compone de tres archivos. \n",
    "\n",
    "El archivo `clientes.txt` registra el RUT y el nombre de los clientes, utilizando como separador de campos el símbolo punto y coma (`;`). Por ejemplo,"
   ],
   "metadata": {
    "collapsed": false
   }
  },
  {
   "cell_type": "markdown",
   "source": [
    "```\n",
    "12367266K;Alexis Ford\n",
    "78926919;Danny Elfman \n",
    "141117641;Rebecca Ferguson\n",
    "97662918;Nathan Fillion\n",
    ".\n",
    ":\n",
    "```"
   ],
   "metadata": {
    "collapsed": false
   }
  },
  {
   "cell_type": "markdown",
   "source": [
    "El archivo `cuentas.txt` registra las cuentas de los clientes. La asociación cliente-cuente se realiza a partir del RUT del cliente, el número de la cuenta y el estado de esta última. Las cuentas pueden estar en uno de dos estados: activa (`1`) o inactiva (`0`). Si una cuenta está inactiva, no se pueden realizar transacciones desde y hacie esta. Además, un cliente puede tener una o más cuentas, es decir, un registro del archivo `clientes.txt` puede estar asociado a uno o más registros del archivo `cuentas.txt`. Por ejemplo, un el archivo `clientes.txt` puede contener los siguientes registros:"
   ],
   "metadata": {
    "collapsed": false
   }
  },
  {
   "cell_type": "markdown",
   "source": [
    "```\n",
    "12367266K:1234-5678-8765-4321:1\n",
    "97662918:0001-3456-2223-7676:1\n",
    "78926919:4321-6548-0015-4001:1\n",
    "12367266K:2231-0021-0400-1101:0\n",
    ".\n",
    ":\n",
    "```"
   ],
   "metadata": {
    "collapsed": false
   }
  },
  {
   "cell_type": "markdown",
   "metadata": {},
   "source": [
    "El archivo `movimientos.txt` mantiene un registro de las transacciones de dinero en las cuentas. Por cada transacción se registra la fecha, la cuenta, el monto y el tipo de transacción que se realiza sobre una cuenta. El campo tipo registra una de las siguientes transacción posibles: giro por caja (`GC`), giro por cajero automático (`GA`) y depósito (`DP`). Los giros sólo pueden ser realizados desde cuentas activas. Cuando los giros se realizan por caja (`GC`), no existe límite del monto. Cuando se realizan por cajero automático (`GA`), el monto no puede superar los &dollar;200.000 por día, ya sea por transacción o de forma acumulada.\n",
    "\n",
    "El siguiente corresponde a un ejemplo del archivo `movimientos.txt`."
   ]
  },
  {
   "cell_type": "markdown",
   "metadata": {},
   "source": [
    "```\n",
    "2020-01-12 1234-5678-8765-4321 25000 GA\n",
    "2020-02-01 4321-6548-0015-4001 120000 DP\n",
    ".\n",
    ":\n",
    "```"
   ]
  },
  {
   "cell_type": "markdown",
   "metadata": {},
   "source": [
    "Se requiere diseñar un archivo que contenga las siguientes funciones.\n",
    "\n",
    "A. La función `transaccion(cuenta, tipo, monto, fecha)` registra un movimiento de dinero en una cuenta, a partir del número de `cuenta`, el `tipo` de transacción y el `monto` de la transacción. Si la transacción es válida, esta deberá ser registrada en el archivo `movimientos.txt` y la función deberá devolver el valor `True`. En los casos que la transacción no sea válida, la función deberá retornar el valor `False`.\n",
    "\n",
    "A continuación se muestran algunos ejemplos de la ejecución de la función:"
   ]
  },
  {
   "cell_type": "markdown",
   "source": [
    "```\n",
    ">>> transaccion('4321-6548-0015-4001', 'GC', 10000, '2021-12-13')\n",
    "La cuenta no existe o está desactiva.\n",
    "False\n",
    "\n",
    ">>> transaccion('1321-6548-0015-4001', 'GC', 500000, '2021-03-12')\n",
    "ATM permite girar hasta 200 000 al día.\n",
    "False\n",
    "\n",
    ">>> transaccion('1234-5678-8765-4321', 'GA', 175000, '2020-01-12')\n",
    "True\n",
    "\n",
    ">>> transaccion('1234-5678-8765-4321', 'GA', 25001, '2020-01-12')\n",
    "ATM permite girar hasta 200 000 al día.\n",
    "False\n",
    "```"
   ],
   "metadata": {
    "collapsed": false
   }
  },
  {
   "cell_type": "markdown",
   "metadata": {},
   "source": [
    "B. La función `saldos(rut)` devuelve un diccionario con los saldos de cada una de las cuentas asociadas al RUT de un cliente (`rut`). Cada clave de este diccionario es el número de una cuenta del cliente y su valor es el saldo asociado a dicha cuenta."
   ]
  },
  {
   "cell_type": "markdown",
   "source": [
    "```\n",
    ">>> saldos('12367266K')\n",
    "{'1234-5678-8765-4321': 24999, '2231-0021-0400-1101': 0}\n",
    "```"
   ],
   "metadata": {
    "collapsed": false
   }
  },
  {
   "cell_type": "markdown",
   "metadata": {},
   "source": [
    "C. La función `cartola(cuenta, fecha_1, fecha_2)` crea un archivo con el nombre de la cuenta, el cual contiene los movimientos (transacciones) realizados en una cuenta entre dos fechas. Cada línea del archivo creado contiene un número único (que inicia en `1`), la fecha, el monto y el tipo de transacción. Además, la ejecución de la función debe retornar el saldo de la cuenta. \n",
    "\n",
    "Por ejemplo, la ejecución de la siguiente instrucción,"
   ]
  },
  {
   "cell_type": "markdown",
   "metadata": {
    "collapsed": true
   },
   "source": [
    "```\n",
    ">>> cartola('1234-5678-8765-4321', '2020-01-01', '2020-01-30')\n",
    "230000\n",
    "```"
   ]
  },
  {
   "cell_type": "markdown",
   "metadata": {},
   "source": [
    "Genera el archivo `1234-5678-8765-4321.txt` con el siguiente formato y contenido:"
   ]
  },
  {
   "cell_type": "markdown",
   "metadata": {},
   "source": [
    "```\n",
    "1 2020-01-01 880000 DP\n",
    "2 2020-01-12 20000 GA\n",
    "3 2020-01-12 130000 GA\n",
    "4 2020-01-15 550000 GC\n",
    "5 2020-01-25 150000 DP\n",
    "6 2020-01-26 100000 GA\n",
    "```"
   ]
  }
 ],
 "metadata": {
  "kernelspec": {
   "display_name": "Python 3",
   "language": "python",
   "name": "python3"
  },
  "language_info": {
   "codemirror_mode": {
    "name": "ipython",
    "version": 3
   },
   "file_extension": ".py",
   "mimetype": "text/x-python",
   "name": "python",
   "nbconvert_exporter": "python",
   "pygments_lexer": "ipython3",
   "version": "3.7.11"
  }
 },
 "nbformat": 4,
 "nbformat_minor": 2
}
