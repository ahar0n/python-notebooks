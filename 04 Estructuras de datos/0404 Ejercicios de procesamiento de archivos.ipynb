{
 "cells": [
  {
   "cell_type": "markdown",
   "metadata": {},
   "source": [
    "# Ejercicios. Procesamiento de archivos\n"
   ]
  },
  {
   "cell_type": "markdown",
   "metadata": {},
   "source": [
    "#### Corrección de artículos\n",
    "\n",
    "En un archivo de texto en formato plano se almacena el resumen de un artículo escrito con letras minúsculas. Considerando que existe [una regla gramatical](http://www.rae.es/consultas/ortografia-de-los-signos-de-interrogacion-y-exclamacion) que establece que, después de cualquier punto se debe comenzar con una letra mayúscula, \n",
    "1. Diseñe una función que corrija el resumen del artículo y lo muestre por pantalla. Recordar que, cuando un símbolo de exclamación o interrogación constituyen el final de un enunciado, la palabra siguiente se escribe con mayúscula inicial.\n",
    "1. Diseñe una función que almacene en un archivo el resumen del artículo corregido."
   ]
  },
  {
   "cell_type": "markdown",
   "metadata": {},
   "source": [
    "#### Empresa de reclutamiento\n",
    "\n",
    "En al archivo de texto `puntajes_2018.txt` se encuentran almacenados los puntajes de un conjunto de personas que postularon a un cargo administrativo en una empresa de reclutamiento de profesionales.\n",
    "\n",
    "1. Considerando que la empresa tiene 25 cargos vacantes, diseñe una función que genere dos archivos con los siguientes datos: \n",
    "\t- el archivo `mejores_puntajes.txt` con los 25 mejores puntajes que serán contratados para los cargos disponibles.\n",
    "\t- el archivo `lista_de_espera.txt` con los 5 siguientes mejores puntajes que forman parte la lista de espera.\n",
    "\n",
    "2. Diseñe la función `promedio(nombre_archivo)` que devuelve el promedio de los puntajes de las personas contenidas en el archivo que recibe como argumento (nombre del archivo).\n",
    "\n",
    "3. Diseñe la función `menores_que(nombre_archivo, umbral)` que devuelve una lista con todos los puntajes menores a un puntaje umbral determinado, encontrados en el archivo que recibe como argumento (nombre del archivo)."
   ]
  },
  {
   "cell_type": "markdown",
   "metadata": {},
   "source": [
    "#### Usuarios de un sistema\n",
    "\n",
    "El fichero `etc/passwd` de los sistemas Unix contiene información acerca de los usuarios del sistema. Un ejemplo de un fichero con dos registros se presenta a continuación:"
   ]
  },
  {
   "cell_type": "markdown",
   "source": [
    "\n",
    "```\n",
    "juanp:x0da11y:1000:2000:Juan Perez:/home/al55555:/bin/bash\n",
    "d4niela:y1aff0x:1001:2000:Daniela Rojo:/home/d4niela:/bin/bash\n",
    "```"
   ],
   "metadata": {
    "collapsed": false
   }
  },
  {
   "cell_type": "markdown",
   "source": [
    "En el archivo, cada campo está separado por dos puntos (`:`). En orden, aparecen:\n",
    "\n",
    "- `user`: Nombre de usuario\n",
    "- `pass`: Contraseña cifrada\n",
    "- `id`: Número único de usuario (id)\n",
    "- `group`: Número de grupo\n",
    "- `name`: Nombre real del usuario\n",
    "- `userpath`: Ruta del directorio principal del usuario\n",
    "- `bashpath`: Ruta del intérprete de comandos"
   ],
   "metadata": {
    "collapsed": false
   }
  },
  {
   "cell_type": "markdown",
   "metadata": {},
   "source": [
    "1. Diseñe la función `usuarios(archivo)` que retorne un diccionario con de todos los usuarios registrados en un archivo `etc/passwd`. Cada campo del registro, omitiendo los campos `userpath` y `bashpath`, deberá ser asociado con su respectiva clave en el diccionario. Considere utilizar como claves del diccionario, el identificador el número único de usuario (`id`). Por ejemplo, para el archivo presentado anteriormente, el diccionario generado por la función debería quedar con la siguiente estructura:"
   ]
  },
  {
   "cell_type": "markdown",
   "metadata": {},
   "source": [
    "```\n",
    "{\n",
    "    1000: {'user': 'juanp', 'pass': 'x0da11y', 'group': 2000, 'name': 'Juan Perez'}, \n",
    "    1001: {'user': 'd4niela', 'pass': 'y1aff0x', 'group': 2000, 'name': 'Daniela Rojo'}\n",
    "}\n",
    "```"
   ]
  },
  {
   "cell_type": "markdown",
   "metadata": {},
   "source": [
    "2. Diseñe la función `nombre(fname, usuario)` que retorne el nombre completo del usuario a partir de nombre de usuario (`usuario`).\n",
    "\n",
    "3. Diseñe la función `buscar(fname, keyword)` que retorne una lista con el número único de usuario (`id`) de todos los usuarios cuyo nombre contenga la palabra `keyword`."
   ]
  }
 ],
 "metadata": {
  "kernelspec": {
   "display_name": "Python 3",
   "language": "python",
   "name": "python3"
  },
  "language_info": {
   "codemirror_mode": {
    "name": "ipython",
    "version": 3
   },
   "file_extension": ".py",
   "mimetype": "text/x-python",
   "name": "python",
   "nbconvert_exporter": "python",
   "pygments_lexer": "ipython3",
   "version": "3.7.11"
  }
 },
 "nbformat": 4,
 "nbformat_minor": 2
}
