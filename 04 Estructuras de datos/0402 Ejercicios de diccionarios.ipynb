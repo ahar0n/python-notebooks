{
 "cells": [
  {
   "cell_type": "markdown",
   "metadata": {},
   "source": [
    "# Ejericios. Manipulación de diccionarios\n"
   ]
  },
  {
   "cell_type": "markdown",
   "metadata": {},
   "source": [
    "E1. Diseñe la función `caracteres(texto)` que recibe como argumento un cadena de __texto__ y retorna un diccionario. Cada clave de este diccionario corresponde a cada caracter encontrado en el texto, mientras que cada valor contiene la ocurrencia del carater en el texto. En el caso de la ocurrencia de letras, éstas deben estar asociadas mayúsculas y minúsculas; los espacios deben ser omitidos.\n",
    "\n",
    "Para este ejercicio puede usar los métodos [`str.lower()`](https://docs.python.org/3/library/stdtypes.html#str.lower) y [`str.upper()`](https://docs.python.org/3/library/stdtypes.html#str.upper).\n",
    "\n",
    "Por ejemplo,\n",
    "\n",
    "```python \n",
    ">>> caracteres('Hola! Ana')\n",
    "{'h': 1, 'o': 1, 'l': 1, 'a': 3, '!': 1, 'n': 1}\n",
    "```"
   ]
  },
  {
   "cell_type": "markdown",
   "metadata": {},
   "source": [
    "E2. Diseñar la función `longitud(texto)` que retorne un diccionario que asocie a cada palabra del __texto__ (claves), las cantidad de letras que la conforman (valores).\n",
    "\n",
    "Por ejemplo,\n",
    "\n",
    "```python\n",
    ">>> longitud('Hola! ¿cómo estará el clima hoy?, ')\n",
    "{'Hola': 4, 'cómo': 4, 'estará': 6, 'el': 2, 'clima': 5, 'hoy': 3}\n",
    "```\n"
   ]
  },
  {
   "cell_type": "markdown",
   "metadata": {},
   "source": [
    "E3. Diseñar la función `cuenta_palabras(texto)` que retorne un diccionario que asocie a cada palabra repetida (claves) la cantidad de veces (valores) que esta se repite.\n",
    "\n",
    "Por ejemplo,\n",
    "\n",
    "```\n",
    ">>> cuenta_palabras('Este texto no es solo un texto aleatorio, es un texto intensionado.')\n",
    "{'texto': 3, 'es': 2, 'un': 2}\n",
    "```"
   ]
  },
  {
   "cell_type": "markdown",
   "source": [
    "Estrategia de solución:\n",
    "\n",
    "1. Obtener una lista (list) de las palabras del texto\n",
    "2. Obtener un diccionario con la cuenta de las palabras que existen en el texto ({palabra: cuenta}).\n",
    "3. Obtener un diccionario con la cuenta de las palabras que se repiten."
   ],
   "metadata": {
    "collapsed": false
   }
  },
  {
   "cell_type": "code",
   "execution_count": null,
   "outputs": [],
   "source": [
    "def lista_de_palabras(texto):\n",
    "    palabras = []\n",
    "    while len(texto) > 0:\n",
    "        if ' ' in texto:\n",
    "            # obtiene palabra si texto contiene espacios\n",
    "            index_espacio = texto.index(' ')\n",
    "            palabra = texto[:index_espacio]\n",
    "            texto = texto[index_espacio + 1:]  # texto restante\n",
    "        else:\n",
    "            # obtiene palabra si texto no contiene espacios\n",
    "            palabra = texto\n",
    "            texto = ''  # texto restante\n",
    "\n",
    "        # eliminar puntuación de la palabra\n",
    "        palabra_limpia = ''\n",
    "        for letra in palabra:\n",
    "            if letra in '.,¡!¿?':\n",
    "                continue\n",
    "            palabra_limpia += letra\n",
    "\n",
    "        palabras.append(palabra_limpia)\n",
    "\n",
    "    return palabras\n",
    "\n",
    "\n",
    "def cuenta_todas_las_palabras(texto):\n",
    "    palabras = lista_de_palabras(texto)\n",
    "    cuenta = {}\n",
    "    for palabra in palabras:\n",
    "        if palabra not in cuenta.keys():\n",
    "            cuenta[palabra] = 1\n",
    "        else:\n",
    "            cuenta[palabra] += 1\n",
    "    return cuenta\n",
    "\n",
    "\n",
    "def cuenta_palabras(texto):\n",
    "    cuenta_completa = cuenta_todas_las_palabras(texto)\n",
    "    # ----\n",
    "    cuenta_repetidas = {}\n",
    "    for palabra, cuenta in cuenta_completa.items():\n",
    "        if cuenta > 1:\n",
    "            cuenta_repetidas[palabra] = cuenta\n",
    "    # ----\n",
    "    return cuenta_repetidas"
   ],
   "metadata": {
    "collapsed": false
   }
  },
  {
   "cell_type": "markdown",
   "metadata": {},
   "source": [
    "E4. Diseñar la función `invertido(diccionario)` que retorne un diccionario invertido, es decir, que sustituya sus claves por sus valores y, sus valores por las respectivas claves. Por ejemplo,\n",
    "\n",
    "```\n",
    ">>> invertido({0: 'Casa', 2: 'Auto', 5: 'Pala'}\n",
    "{'Casa': 0, 'Auto': 2, 'Pala': 5}\n",
    "```"
   ]
  },
  {
   "cell_type": "markdown",
   "metadata": {},
   "source": [
    "E5. El diccionario __horario__ contiene asignaturas organizadas para los días de la semana."
   ]
  },
  {
   "cell_type": "code",
   "execution_count": null,
   "metadata": {},
   "outputs": [],
   "source": [
    "horario = {\n",
    "    'Lunes': ['Cálculo I', 'Algebra I', 'Geometría y Trigonometría'],\n",
    "    'Martes': ['Algebra I', 'Topográfia I'],\n",
    "    'Miercoles': ['Cálculo I', 'Algebra I'],\n",
    "    'Jueves': ['Topografía I'],\n",
    "    'Viernes': ['Geometría y Trigonometría', 'Topografía']\n",
    "}"
   ]
  },
  {
   "cell_type": "markdown",
   "metadata": {},
   "source": [
    "- Diseñar la función `registrar_asignatura(horario, dia, asignatura)` que agregue una nueva __asignatura__ al horario en el __día__ indicado.\n",
    "- Diseñar la función `dias_con_clase(horario, asignatura)` que retorne una lista con los días que se tiene clase de la __asignatura__ recibida como argumento.\n",
    "- Diseñar la función `asignaturas_comunes(horario, dias)` que retorne una lista con los nombres de las asignaturas que se dictan en la lista de __días__ pasada como argumento.\n",
    "- Diseñar la función `existe(horario, asignatura)` que retorne `True` o `False` si la __asignatura__ se encuentra o no registrada en el horario.\n",
    "- Diseñar la función `eliminar(horario, asignaturas)` que elimina del __horario__ las __asignaturas__ pasadas como argumento."
   ]
  }
 ],
 "metadata": {
  "kernelspec": {
   "display_name": "Python 3",
   "language": "python",
   "name": "python3"
  },
  "language_info": {
   "codemirror_mode": {
    "name": "ipython",
    "version": 3
   },
   "file_extension": ".py",
   "mimetype": "text/x-python",
   "name": "python",
   "nbconvert_exporter": "python",
   "pygments_lexer": "ipython3",
   "version": "3.7.3"
  }
 },
 "nbformat": 4,
 "nbformat_minor": 2
}
