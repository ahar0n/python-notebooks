{
 "cells": [
  {
   "cell_type": "markdown",
   "metadata": {},
   "source": [
    "# Ejercicios de procesamiento de registros"
   ]
  },
  {
   "cell_type": "markdown",
   "metadata": {},
   "source": [
    "El formato [NMEA 0183](https://en.wikipedia.org/wiki/NMEA_0183) es un interface estándar para la comunicación de datos entre dispositivos electrónicos y equipos de navegación, tales como receptores GPS. El formato del mensaje (`nmealog`) GLL contiene líneas de registros como por ejemplo las que se muestran a continuación:\n",
    "\n",
    "```\n",
    "$GPGLL,4557.0244165,N,06638.5131097,W,173037.010,A*27\n",
    "$GPGLL,4558.9281233,N,06638.4973323,W,173037.935,V*36\n",
    ".\n",
    ":\n",
    "```\n",
    "\n",
    "En esta trama se registran datos separados por coma (`,`). De izquierda a derecha, de acuerdo con su posición, los campos son:\n",
    "\n",
    "- Tipo de mensaje, por ejemplo, `GLL`\n",
    "- Latitud geográfica, por ejemplo, `4557.0244165` es equivalente con `45º57'0244165''`\n",
    "- Hemisferio (norte `N`, sur `S`)\n",
    "- Longitud geográfica, por ejemplo, `06638.5131097` es equivalente con `66º38'5131097''`\n",
    "- Orientación (este `E`, oeste, `W`)\n",
    "- [Hora UTC](https://es.wikipedia.org/wiki/ISO_8601) en formato `hhmmss.s`, por ejemplo, valor `173037.010` es equivalente con `17:30:37.010`\n",
    "- Estado de la validez del dato (checksum), por ejemplo, `A*27`"
   ]
  },
  {
   "cell_type": "markdown",
   "metadata": {},
   "source": [
    "E1. Diseñe la función `periodo(nmealog)` que reciba como argumento el nombre del fichero (`nmealog`) de un archivo NMEA y retorne una tupla con la primera y la ultima hora de registro del archivo."
   ]
  },
  {
   "cell_type": "markdown",
   "metadata": {},
   "source": [
    "E2. Diseñe la función `posicion(nmealog,hora)` que retorne una tupla con la posición del dispositivo en una hora específica. La posición debe ser retornada como (`latitud,longitud`). En el caso que no exista la hora en el archivo, la función debe retornar la pasición (`-1`,`-1`)."
   ]
  },
  {
   "cell_type": "markdown",
   "metadata": {},
   "source": [
    "E3. Considerando que el formato de la latitud y longitud utilizado en el mensaje, puede interpretrarse como coordenadas `y` y `x`, respectivamente, diseñe la función `distancia(nmealog,i,j)` que retorne la distancia recorrida desde la hora `i` hasta la hora `j`."
   ]
  },
  {
   "cell_type": "markdown",
   "metadata": {},
   "source": [
    "E4. Diseñe la función `horas(nmealog, x, y)` que retorne una lista con el conjunto de horas en las cuales se estuvo a una distancia menor que 5 metros del punto con coordenadas con latitud (`y`) y longitud (`x`)."
   ]
  }
 ],
 "metadata": {
  "kernelspec": {
   "display_name": "Python 3",
   "language": "python",
   "name": "python3"
  },
  "language_info": {
   "codemirror_mode": {
    "name": "ipython",
    "version": 3
   },
   "file_extension": ".py",
   "mimetype": "text/x-python",
   "name": "python",
   "nbconvert_exporter": "python",
   "pygments_lexer": "ipython3",
   "version": "3.7.3"
  }
 },
 "nbformat": 4,
 "nbformat_minor": 2
}
