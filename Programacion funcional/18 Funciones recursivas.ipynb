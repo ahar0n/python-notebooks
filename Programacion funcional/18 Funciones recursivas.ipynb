{
 "cells": [
  {
   "cell_type": "markdown",
   "metadata": {},
   "source": [
    "# Funciones recursivas "
   ]
  },
  {
   "cell_type": "markdown",
   "metadata": {},
   "source": [
    "## Introducción"
   ]
  },
  {
   "cell_type": "markdown",
   "metadata": {},
   "source": [
    "__¿Cómo entrega los regalos el Viejito Pascuero?__\n",
    "\n",
    "Suponga que, el viejito pascuero:\n",
    "\n",
    "1. tiene una lista de las casas por las que pasa.\n",
    "2. pasa por una casa (entra por la chimenea) y deja los regalos.\n",
    "\n",
    "Una representación del proceso por medio de un algoritmo, se basaría en una estructura repetitiva, por ejemplo:"
   ]
  },
  {
   "cell_type": "code",
   "execution_count": 2,
   "metadata": {},
   "outputs": [],
   "source": [
    "def entrega_regalos(casas):\n",
    "    for casa in casas:\n",
    "        print('Entregando regalo a {}'.format(casa))"
   ]
  },
  {
   "cell_type": "code",
   "execution_count": 3,
   "metadata": {},
   "outputs": [
    {
     "name": "stdout",
     "output_type": "stream",
     "text": [
      "Entregando regalo a Manuela\n",
      "Entregando regalo a Juana\n",
      "Entregando regalo a Alexis\n",
      "Entregando regalo a José\n"
     ]
    }
   ],
   "source": [
    "casas = ['Manuela', 'Juana', 'Alexis', 'José']\n",
    "entrega_regalos(casas)"
   ]
  },
  {
   "cell_type": "markdown",
   "metadata": {},
   "source": [
    "Suponga ahora, que el Viejito Pascuero tiene a su disposición un conjunto de ayudantes que le ayudarán a entregar los regalos y, por lo tanto, puede divir el trabajo entre ellos. A su vez, cada uno de ellos puede dividir su trabajo entre otros ayudantes."
   ]
  },
  {
   "cell_type": "markdown",
   "metadata": {},
   "source": [
    "![Diagrama entrega regalos](./img/recursividad-ejemplo-regalos.svg)"
   ]
  },
  {
   "cell_type": "markdown",
   "metadata": {},
   "source": [
    "La estructura anterior, es una estructura recursiva:\n",
    "- Si el caso es simple, se puede resolver.\n",
    "- De lo contrario, el problema se divide en subproblemas y se aplica la misma estrategia.\n",
    "\n",
    "A continuación se presenta un algoritmo para resolver el problema anterior, aplicando recursividad:"
   ]
  },
  {
   "cell_type": "code",
   "execution_count": 4,
   "metadata": {},
   "outputs": [],
   "source": [
    "def entrega_regalos_recursiva(casas):\n",
    "    # el ayudante hace su trabajo\n",
    "    if len(casas) == 1:\n",
    "        print('Entregando relago a {}'.format(casas[0]))\n",
    "    \n",
    "    else:\n",
    "        mitad = len(casas) // 2\n",
    "        primera_mitad = casas[:mitad]\n",
    "        segunda_mitad = casas[mitad:]\n",
    "        \n",
    "        # el ayudante divide su trabajo\n",
    "        entrega_regalos_recursiva(primera_mitad)\n",
    "        entrega_regalos_recursiva(segunda_mitad)"
   ]
  },
  {
   "cell_type": "code",
   "execution_count": 5,
   "metadata": {},
   "outputs": [
    {
     "name": "stdout",
     "output_type": "stream",
     "text": [
      "Entregando relago a Manuela\n",
      "Entregando relago a Juana\n",
      "Entregando relago a Alexis\n",
      "Entregando relago a José\n"
     ]
    }
   ],
   "source": [
    "entrega_regalos_recursiva(casas)"
   ]
  },
  {
   "cell_type": "markdown",
   "metadata": {},
   "source": [
    "## Definición formal"
   ]
  },
  {
   "cell_type": "markdown",
   "metadata": {},
   "source": [
    "Una función recursiva es __una función definida en terminos de que se invoque a si misma__. Las funciones recursivas comparten la siguiente estructura en comun:\n",
    "\n",
    "- Debe tener un __condición base__.\n",
    "- Debe __orientar su lógica para alcanzar la condición base__.\n",
    "- Debe __invocarse a si misma__.\n",
    "\n",
    "A medida que se realizan llamadas a funciones, __el estado anterior de las funciones__ se almacena en una pila de _llamadas a funciones_:\n",
    "- Esto permite que sea posible que una función se llame a sí misma, y\n",
    "- Que las variables dentro de la función tomen distintos valores."
   ]
  },
  {
   "cell_type": "markdown",
   "metadata": {},
   "source": [
    "## Ejemplo: Función factorial"
   ]
  },
  {
   "cell_type": "markdown",
   "metadata": {},
   "source": [
    "\n",
    "\n",
    "El __factorial__ de un número entero positivo $n$, se define como el producto de todos los números menores o iguales:\n",
    "\n",
    "$$ n! = \\prod\\limits_{k=1}^{n} k = 1 \\times 2 \\times 3 \\times \\dots \\times (n - 1) \\times n $$\n",
    "\n",
    "Descomponiendo el problema original en simples instancias del mismo problema:\n",
    "\n",
    "\\begin{align}\n",
    "n! &= n \\times (n-1)!\\\\\n",
    "n! &= n \\times (n-1) \\times (n-2)!\\\\\n",
    "n! &= n \\times (n-1) \\times (n-2) \\times (n-3)!\\\\\n",
    "\\vdots& \\vdots \\\\\n",
    "n! &= n \\times (n-1) \\times (n-2) \\times (n-3) \\dots \\times 3!\\\\\n",
    "n! &= n \\times (n-1) \\times (n-2) \\times (n-3) \\dots \\times 3 \\times 2!\\\\\n",
    "n! &= n \\times (n-1) \\times (n-2) \\times (n-3) \\dots \\times 3 \\times 2 \\times 1!\\\\\n",
    "\\end{align}\n",
    "\n",
    "A medida que __el problema se descompone__ en problemas sucesivamente menos complejos, estos deben llegar a ser tan simples que pueda __resolverse sin necesidad de subdividirlos más__ (caso base). El caso base para el ejemplo:\n",
    "\n",
    "\\begin{align}\n",
    "1! = 1\n",
    "\\end{align}\n",
    "\n",
    "En consecuencia, la función recursiva para calcular $n!$:"
   ]
  },
  {
   "cell_type": "code",
   "execution_count": 7,
   "metadata": {},
   "outputs": [],
   "source": [
    "def factorial_recursiva(n):\n",
    "    if n <= 1:\n",
    "        return 1\n",
    "    else:\n",
    "        return n * factorial_recursiva(n-1)"
   ]
  },
  {
   "cell_type": "code",
   "execution_count": 8,
   "metadata": {},
   "outputs": [
    {
     "data": {
      "text/plain": [
       "120"
      ]
     },
     "execution_count": 8,
     "metadata": {},
     "output_type": "execute_result"
    }
   ],
   "source": [
    "factorial_recursiva(5)"
   ]
  },
  {
   "cell_type": "markdown",
   "metadata": {},
   "source": [
    "La invocación de la función `factorial_recursiva(5)`, genera la siguiente ejecución,"
   ]
  },
  {
   "cell_type": "markdown",
   "metadata": {},
   "source": [
    "| Invocación | Contexto | | |\n",
    "| :-- | :-- | -- | -- |\n",
    "| `factorial_recursiva(5)` | `5 * factorial_recursiva(4)` |\t↓ |\t`5 * 24 = 120`|\n",
    "| `factorial_recursiva(4)` | `4 * factorial_recursiva(3)` |\t  | `4 * 6 = 24`|\n",
    "| `factorial_recursiva(3)` | `3 * factorial_recursiva(2)` |\t  | `3 * 2 = 6`|\n",
    "| `factorial_recursiva(2)` | `2 * factorial_recursiva(1)` |\t  | `2 * 1 = 2`|\n",
    "| `factorial_recursiva(1)` | `1`                          | ↗ |  |"
   ]
  },
  {
   "cell_type": "markdown",
   "metadata": {},
   "source": [
    "- En cada llamada recursiva se añade una pila que contiene su contexto de ejecución hasta alcanzar la condición base.\n",
    "- Luego se comienza a calcular a medida que se retorna el resultado."
   ]
  },
  {
   "cell_type": "markdown",
   "metadata": {},
   "source": [
    "## Ejemplo: Función potenciación"
   ]
  },
  {
   "cell_type": "markdown",
   "metadata": {},
   "source": [
    "La potenciación de una base ($a$) y un exponente perteneciente al conjunto de los números naturales ($n$), se define como la multiplicación de la base $n$ veces:\n",
    "\n",
    "\\begin{align}\n",
    "a^{n} = a_{1} \\times a_{2} \\times \\dots \\times a_{n}\n",
    "\\end{align}\n",
    "\n",
    "Una función iterativa de la operación potenciación, se implementa de la siguiente forma:"
   ]
  },
  {
   "cell_type": "code",
   "execution_count": 11,
   "metadata": {},
   "outputs": [],
   "source": [
    "def potencia(base, exponente):\n",
    "    if exponente == 0:\n",
    "        return 1\n",
    "    else:\n",
    "        ans = 1\n",
    "        while exponente > 0:\n",
    "            print(exponente)\n",
    "            ans *= base\n",
    "            exponente -= 1\n",
    "    return ans"
   ]
  },
  {
   "cell_type": "code",
   "execution_count": 12,
   "metadata": {},
   "outputs": [
    {
     "name": "stdout",
     "output_type": "stream",
     "text": [
      "10\n",
      "9\n",
      "8\n",
      "7\n",
      "6\n",
      "5\n",
      "4\n",
      "3\n",
      "2\n",
      "1\n"
     ]
    },
    {
     "data": {
      "text/plain": [
       "1024"
      ]
     },
     "execution_count": 12,
     "metadata": {},
     "output_type": "execute_result"
    }
   ],
   "source": [
    "potencia(2,10)"
   ]
  },
  {
   "cell_type": "markdown",
   "metadata": {},
   "source": [
    "Considerando las siguientes propiedades,\n",
    "\n",
    "- Si $n$ es par:\n",
    "\n",
    "\\begin{equation}\n",
    "a^n = a^{\\frac{n}{2}} \\times a^{\\frac{n}{2}}\n",
    "\\end{equation}\n",
    "\n",
    "- Si $n$ es impar:\n",
    "\n",
    "\\begin{equation}\n",
    "a^n = a^{\\frac{(n-1)}{2}} \\times a^{\\frac{(n-1)}{2}}\\times a\n",
    "\\end{equation}\n",
    "\n",
    "En consecuencia, una función recursiva para la operación potenciación, se implementaría de la siguiente forma:"
   ]
  },
  {
   "cell_type": "code",
   "execution_count": 7,
   "metadata": {},
   "outputs": [],
   "source": [
    "def potencia_recursiva(base, exponente):\n",
    "    # restricción: para exponente >= 0\n",
    "    # caso base: si exponente == 0 => 1\n",
    "    if exponente <= 0:\n",
    "        return 1\n",
    "    else:\n",
    "        # para exponente par\n",
    "        if exponente % 2 == 0:\n",
    "            ans = potencia_recursiva(base, exponente/2)\n",
    "            return ans * ans\n",
    "        # para exponente impar\n",
    "        else:\n",
    "            ans = potencia_recursiva(base, (exponente-1)/2)\n",
    "            return ans * ans * base"
   ]
  },
  {
   "cell_type": "code",
   "execution_count": 14,
   "metadata": {},
   "outputs": [
    {
     "data": {
      "text/plain": [
       "1024"
      ]
     },
     "execution_count": 14,
     "metadata": {},
     "output_type": "execute_result"
    }
   ],
   "source": [
    "potencia_recursiva(2, 10)"
   ]
  },
  {
   "cell_type": "markdown",
   "metadata": {},
   "source": [
    "La invocación de la función `potencia_recursiva(2,10)`, genera la siguiente ejecución,"
   ]
  },
  {
   "cell_type": "markdown",
   "metadata": {},
   "source": [
    "| Invocación | ans | Contexto |     |     |\n",
    "| :--        | :-- | :--      |:--  |:--  |\n",
    "| `potencia_recursiva(2,10)` | `potencia_recursiva(2,10/2)`    | `ans * ans`     | ↓ | `32 * 32 = 1024` |\n",
    "| `potencia_recursiva(2,5)`  | `potencia_recursiva(2,(5-1)/2)` | `ans * ans * 2` |   | `4 * 4 * 2 = 32` |\n",
    "| `potencia_recursiva(2,2)`  | `potencia_recursiva(2,2/2)`     | `ans * ans`     |   | `2 * 2 = 4`      |\n",
    "| `potencia_recursiva(2,1)`  | `potencia_recursiva(2,(1-1)/2)` | `ans * ans * 2` |   | `1 * 1 * 2 = 2`  |\n",
    "| `potencia_recursiva(2,0)`  | `1`                             |                 | ↗ |                  |"
   ]
  },
  {
   "cell_type": "markdown",
   "metadata": {},
   "source": [
    "En ejemplo anterior,\n",
    "- La versión iterativa realiza ```n = exp = 10``` iteraciones.\n",
    "- La versión recursiva realiza ```5``` invocaciones.\n",
    "\n",
    "En general, es importante notar que, \n",
    "- La __versión recursiva es más elegante y legible__ que la iterativa,\n",
    "- En la versión recursiva, __existe una estructura condicional__ (condición base).\n",
    "- Para toda función recursiva __es posible encontrar otra que realice el mismo cálculo de forma iterativa__.\n",
    "- En la versión iterativa, existe un __ciclo repetitivo__."
   ]
  }
 ],
 "metadata": {
  "kernelspec": {
   "display_name": "Python 3",
   "language": "python",
   "name": "python3"
  },
  "language_info": {
   "codemirror_mode": {
    "name": "ipython",
    "version": 3
   },
   "file_extension": ".py",
   "mimetype": "text/x-python",
   "name": "python",
   "nbconvert_exporter": "python",
   "pygments_lexer": "ipython3",
   "version": "3.7.6-final"
  }
 },
 "nbformat": 4,
 "nbformat_minor": 2
}
