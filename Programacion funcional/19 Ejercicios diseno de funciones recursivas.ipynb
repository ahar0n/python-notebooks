{
 "cells": [
  {
   "cell_type": "markdown",
   "metadata": {},
   "source": [
    "# Ejercicios. Diseño de funciones recursivas"
   ]
  },
  {
   "cell_type": "markdown",
   "metadata": {},
   "source": [
    "Para cada uno de los siguientes problemas, diseñar dos funciones: una versión recursiva y otra iterativa.\n",
    "\n",
    "1. Mostrar la cuenta regresiva hasta llegar a cero, desde un número ingresado.\n",
    "1. Retornar la suma de los números enteros contenidos en una lista.\n",
    "1. Retornar el número mayor de una lista.\n",
    "1. Retornar la cantidad de letras que tiene una cadena de caracteres.\n",
    "1. Retornar la cantidad de dígitos que tiene un número entero positivo.\n",
    "1. Retornar una lista con los índices de ocurrencia de una letra dentro de una palabra.\n",
    "1. Retornar una lista con los números pares que existen en una lista de numeros enteros.\n",
    "1. Un palíndromo es una palabra que se lee y escribe igual de izquierda a derecha que de derecha a izquierda, por ejemplo, rotor, reconocer. Diseñar una función que determine si una palabra es palíndromo. "
   ]
  }
 ],
 "metadata": {
  "kernelspec": {
   "display_name": "Python 3",
   "language": "python",
   "name": "python3"
  },
  "language_info": {
   "codemirror_mode": {
    "name": "ipython",
    "version": 3
   },
   "file_extension": ".py",
   "mimetype": "text/x-python",
   "name": "python",
   "nbconvert_exporter": "python",
   "pygments_lexer": "ipython3",
   "version": "3.8.3"
  }
 },
 "nbformat": 4,
 "nbformat_minor": 2
}
