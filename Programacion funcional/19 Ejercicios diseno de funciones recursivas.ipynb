{
 "cells": [
  {
   "cell_type": "markdown",
   "metadata": {},
   "source": [
    "# Ejercicios: diseño de funciones recursivas"
   ]
  },
  {
   "cell_type": "markdown",
   "metadata": {},
   "source": [
    "Para cada uno de los siguientes problemas, diseñar una función recursiva y una versión iterativa.\n",
    "\n",
    "1. Mostrar la cuenta regresiva hasta llegar a cero, desde un número ingresado.\n",
    "1. Retornar la suma de los números enteros contenidos en una lista.\n",
    "1. Retornar el número mayor de una lista.\n",
    "1. Retornar la cantidad de letras que tiene una cadena de caracteres.\n",
    "1. Retornar la cantidad de dígitos que tiene un número entero positivo.\n",
    "1. Retornar una lista con los índices de ocurrencia de una letra dentro de una palabra.\n",
    "1. Retornar una lista con los números pares que existen en una lista de numeros enteros.\n",
    "1. Un palíndromo es una cadena de texto que se lee y escribe igual de izquierda a derecha que de derecha a izquierda. Diseñar una función que determine si una palabra es palíndromo.\n"
   ]
  },
  {
   "cell_type": "markdown",
   "metadata": {},
   "source": [
    "Mostrar la cuenta regresiva hasta llegar a cero, desde un número ingresado."
   ]
  },
  {
   "cell_type": "code",
   "execution_count": 8,
   "metadata": {},
   "outputs": [],
   "source": [
    "# función no recursiva\n",
    "def cuenta_regresiva(n):\n",
    "    for i in range(n, -1, -1):\n",
    "        print(i)"
   ]
  },
  {
   "cell_type": "code",
   "execution_count": 9,
   "metadata": {},
   "outputs": [
    {
     "name": "stdout",
     "output_type": "stream",
     "text": [
      "5\n",
      "4\n",
      "3\n",
      "2\n",
      "1\n",
      "0\n"
     ]
    }
   ],
   "source": [
    "cuenta_regresiva(5)"
   ]
  },
  {
   "cell_type": "code",
   "execution_count": 10,
   "metadata": {},
   "outputs": [],
   "source": [
    "# función recursiva\n",
    "def cuenta_regresiva_recursiva(n):\n",
    "    if n < 0:\n",
    "        return\n",
    "    else:\n",
    "        print(n)\n",
    "        return cuenta_regresiva_recursiva(n-1)"
   ]
  },
  {
   "cell_type": "code",
   "execution_count": 11,
   "metadata": {},
   "outputs": [
    {
     "name": "stdout",
     "output_type": "stream",
     "text": [
      "5\n",
      "4\n",
      "3\n",
      "2\n",
      "1\n",
      "0\n"
     ]
    }
   ],
   "source": [
    "cuenta_regresiva_recursiva(5)"
   ]
  },
  {
   "cell_type": "markdown",
   "metadata": {},
   "source": [
    "Retornar la cantidad de letras que tiene una cadena de caracteres."
   ]
  },
  {
   "cell_type": "code",
   "execution_count": 14,
   "metadata": {},
   "outputs": [],
   "source": [
    "# versión no recursiva\n",
    "def cantidad_letras(palabra):\n",
    "    contador = 0\n",
    "    for letra in palabra:\n",
    "        contador += 1\n",
    "    return contador"
   ]
  },
  {
   "cell_type": "code",
   "execution_count": 15,
   "metadata": {},
   "outputs": [
    {
     "name": "stdout",
     "output_type": "stream",
     "text": [
      "21\n"
     ]
    }
   ],
   "source": [
    "letras = cantidad_letras('Electroencefalografía')\n",
    "print(letras)"
   ]
  },
  {
   "cell_type": "code",
   "execution_count": 16,
   "metadata": {},
   "outputs": [],
   "source": [
    "# versión recursiva\n",
    "def cantidad_letras_recursiva(palabra):\n",
    "    if len(palabra) == 0:\n",
    "        return 0\n",
    "    else:\n",
    "        return 1 + cantidad_letras_recursiva(palabra[1:])\n",
    "    # 1(E) + cantidad_letras_recursiva('lectroencefalografía')\n",
    "    # 1(E) + 1(l) + cantidad_letras_recursiva('ectroencefalografía')\n",
    "    # ...\n",
    "    # 1(E) + 1(l) + 1(e) + ... + cantidad_letras_recursiva('a')\n",
    "    # 1(E) + 1(l) + 1(e) + ... + cantidad_letras_recursiva('')"
   ]
  },
  {
   "cell_type": "code",
   "execution_count": 17,
   "metadata": {
    "scrolled": true
   },
   "outputs": [
    {
     "name": "stdout",
     "output_type": "stream",
     "text": [
      "21\n"
     ]
    }
   ],
   "source": [
    "letras_recursiva = cantidad_letras_recursiva('Electroencefalografía')\n",
    "print(letras_recursiva)"
   ]
  },
  {
   "cell_type": "markdown",
   "metadata": {},
   "source": [
    "Retornar una lista con los índices de ocurrencia de una letra dentro de una palabra."
   ]
  },
  {
   "cell_type": "code",
   "execution_count": null,
   "metadata": {},
   "outputs": [],
   "source": [
    "def indices(): # puede ser más de 1 argumento\n",
    "    pass\n",
    "\n",
    "mis_indices = indices('a', 'juanita') # [2,6]"
   ]
  }
 ],
 "metadata": {
  "kernelspec": {
   "display_name": "Python 3",
   "language": "python",
   "name": "python3"
  },
  "language_info": {
   "codemirror_mode": {
    "name": "ipython",
    "version": 3
   },
   "file_extension": ".py",
   "mimetype": "text/x-python",
   "name": "python",
   "nbconvert_exporter": "python",
   "pygments_lexer": "ipython3",
   "version": "3.8.3"
  }
 },
 "nbformat": 4,
 "nbformat_minor": 2
}
