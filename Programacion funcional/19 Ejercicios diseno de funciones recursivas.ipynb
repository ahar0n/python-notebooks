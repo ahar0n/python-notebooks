{
 "cells": [
  {
   "cell_type": "markdown",
   "metadata": {},
   "source": [
    "# Ejercicios. Diseño de funciones recursivas"
   ]
  },
  {
   "cell_type": "markdown",
   "metadata": {},
   "source": [
    "Para cada uno de los siguientes problemas, diseñar dos funciones: una versión recursiva y otra iterativa."
   ]
  },
  {
   "cell_type": "markdown",
   "metadata": {},
   "source": [
    "- Mostrar la cuenta regresiva hasta llegar a cero, desde un número ingresado."
   ]
  },
  {
   "cell_type": "markdown",
   "metadata": {},
   "source": [
    "- Retornar la suma de los números enteros contenidos en una lista."
   ]
  },
  {
   "cell_type": "markdown",
   "metadata": {},
   "source": [
    "- Retornar el número mayor de una lista."
   ]
  },
  {
   "cell_type": "code",
   "execution_count": null,
   "metadata": {},
   "outputs": [],
   "source": [
    "def maximo(lista_de_numeros):\n",
    "    \"\"\"Obtiene el valor mayor de una lista de numeros.\n",
    "\n",
    "    Args:\n",
    "        lista_de_numeros (list): Lista de numeros.  \n",
    "\n",
    "    Returns:\n",
    "        int: Valor mayor.\n",
    "    \"\"\"\n",
    "\n",
    "    # caso base\n",
    "    if len(lista_de_numeros) == 1:\n",
    "        return lista_de_numeros[0]\n",
    "\n",
    "    # caso recursivo\n",
    "    else:\n",
    "        numero = lista_de_numeros[0]\n",
    "        restantes = lista_de_numeros[1:]\n",
    "        if numero > maximo(restantes):\n",
    "            return numero\n",
    "        else:\n",
    "            return maximo(restantes)"
   ]
  },
  {
   "cell_type": "markdown",
   "metadata": {},
   "source": [
    "- Retornar la cantidad de caracteres que tiene una cadena."
   ]
  },
  {
   "cell_type": "markdown",
   "metadata": {},
   "source": [
    "- Retornar la cantidad de dígitos que tiene un número entero positivo."
   ]
  },
  {
   "cell_type": "markdown",
   "metadata": {},
   "source": [
    "- Retornar una lista con los índices de ocurrencia de una letra dentro de una palabra."
   ]
  },
  {
   "cell_type": "code",
   "execution_count": 3,
   "metadata": {},
   "outputs": [
    {
     "data": {
      "text/plain": [
       "[1, 3, 6]"
      ]
     },
     "execution_count": 3,
     "metadata": {},
     "output_type": "execute_result"
    }
   ],
   "source": [
    "def indices(letra, palabra, idx=0):\n",
    "    \"\"\"Obtiene una lista con los indices de ocurrencia(s) de una letra.\n",
    "\n",
    "    Args:\n",
    "        letra (str): Letra a encontrar.\n",
    "        palabra (str): Palabra objetivo.\n",
    "        idx (int, opcional): Indices de ocurencia de la letra en la palabra. Por defecto 0.\n",
    "    \n",
    "    Returns:\n",
    "        list: Lista de indices.\n",
    "    \"\"\"\n",
    "    \n",
    "    # caso base\n",
    "    if len(palabra) == 0:\n",
    "        return []\n",
    "\n",
    "    # caso recursivo\n",
    "    else:\n",
    "        primera_letra = palabra[0]\n",
    "        segmento = palabra[1:]\n",
    "        if primera_letra == letra:\n",
    "            return [idx] + indices(letra, segmento, idx+1)\n",
    "        else:\n",
    "            return indices(letra, segmento, idx+1)\n",
    "\n",
    "indices_e = indices('a', 'palabra') # [1, 3, 6]\n",
    "indices_e"
   ]
  },
  {
   "cell_type": "markdown",
   "metadata": {},
   "source": [
    "- Retornar una lista con los números pares que existen en una lista de numeros enteros."
   ]
  },
  {
   "cell_type": "markdown",
   "metadata": {},
   "source": [
    "- Un palíndromo es una palabra que se lee y escribe igual de izquierda a derecha que de derecha a izquierda, por ejemplo, rotor, reconocer. Diseñar una función que determine si una palabra es palíndromo. "
   ]
  }
 ],
 "metadata": {
  "kernelspec": {
   "display_name": "Python 3",
   "language": "python",
   "name": "python3"
  },
  "language_info": {
   "codemirror_mode": {
    "name": "ipython",
    "version": 3
   },
   "file_extension": ".py",
   "mimetype": "text/x-python",
   "name": "python",
   "nbconvert_exporter": "python",
   "pygments_lexer": "ipython3",
   "version": "3.7.11"
  }
 },
 "nbformat": 4,
 "nbformat_minor": 2
}
