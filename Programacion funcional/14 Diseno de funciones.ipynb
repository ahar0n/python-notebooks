{
 "cells": [
  {
   "cell_type": "markdown",
   "source": [
    "# Diseño de funciones"
   ],
   "metadata": {}
  },
  {
   "cell_type": "markdown",
   "source": [
    "En programación, una __función es una secuencia de instrucciones que ejecutan determinadas acciones u operaciones__. Dichas operaciones, se especifican en una __definición de función__.\n",
    "\n",
    "Algunas ventajas de definir y usar funciones son:\n",
    "\n",
    "- Dividir un programa en funciones __permite separa el código en partes, depurarlas y volver a componer el programa__.\n",
    "- Facilidad para __leer y depurar__ un programa.\n",
    "- Las funciones __facilitan la recursividad y la iteración__.\n",
    "- Las funciones diseñadas bajo buenas prácticas, __permiten ser reutilizadas__ como componente de nuevos programas."
   ],
   "metadata": {}
  },
  {
   "cell_type": "markdown",
   "source": [
    "## Sintaxis de una función"
   ],
   "metadata": {}
  },
  {
   "cell_type": "markdown",
   "source": [
    "Una función en Python contiene los siguientes componentes:"
   ],
   "metadata": {}
  },
  {
   "cell_type": "code",
   "execution_count": 1,
   "source": [
    "def miFuncion():\n",
    "    '''docstring'''\n",
    "    # cuerpo de la función\n",
    "    pass"
   ],
   "outputs": [],
   "metadata": {}
  },
  {
   "cell_type": "markdown",
   "source": [
    "1. La palabra clave ```def``` marca el comienzo del encabezado de la función.\n",
    "2. El nombre de la función es un identificador exclusivo, éste sigue las mismas reglas de escritura de identificadores en Python.\n",
    "3. El argumento de la función ```()``` , contiene los parámetros a través de los cuales se pasan los valores a una función. Son opcionales.\n",
    "4. Los dos puntos ```:``` marcan el final de la cabecera de la función.\n",
    "5. La documentación [```docstring```](https://www.python.org/dev/peps/pep-0257/) permite describir lo que hace la función.\n",
    "6. Una o más sentencias python válidas forman el cuerpo de la función. Las senencias deben tener el mismo nivel de indentación.\n",
    "7. Una sentencia de retorno (opcional) devuelve un valor desde la función.\n",
    "\n",
    "__Una función no se ejecuta hasta que sea invocada__. Para invocar una función, se hace la llamada a partir de su identificador:"
   ],
   "metadata": {}
  },
  {
   "cell_type": "code",
   "execution_count": 2,
   "source": [
    "miFuncion()"
   ],
   "outputs": [],
   "metadata": {
    "scrolled": true
   }
  },
  {
   "cell_type": "markdown",
   "source": [
    "Entre las funciones, es posible distinguir dos tipos:\n",
    "\n",
    "1. Procedimientos\n",
    "2. Funciones productivas\n"
   ],
   "metadata": {}
  },
  {
   "cell_type": "markdown",
   "source": [
    "## Procedimientos"
   ],
   "metadata": {}
  },
  {
   "cell_type": "markdown",
   "source": [
    "\n",
    "\n",
    "- Un procedimiento es una parte del programa que __realiza una acción específica__ basada a menudo en una serie de parámetros o argumentos. \n",
    "- __No devuelven un valor__ una vez terminada su ejecución. \n",
    "\n",
    "Por ejemplo:"
   ],
   "metadata": {}
  },
  {
   "cell_type": "code",
   "execution_count": 3,
   "source": [
    "def saludo(nombre):\n",
    "    '''Esta función saluda a la persona pasada como parámetro'''\n",
    "    print('Hola ' + nombre + ', Buenos días!')"
   ],
   "outputs": [],
   "metadata": {}
  },
  {
   "cell_type": "markdown",
   "source": [
    "A diferencia de las funciones productivas, no tiene sentido invocar un procedimiento en una expresión porque no vuelven un valor. Por tanto, su invocación se realiza apartir de su identificador, seguido de los parentesis y los parámetros formales, si es que tiene:"
   ],
   "metadata": {}
  },
  {
   "cell_type": "code",
   "execution_count": 4,
   "source": [
    "saludo('Juan')"
   ],
   "outputs": [
    {
     "output_type": "stream",
     "name": "stdout",
     "text": [
      "Hola Juan, Buenos días!\n"
     ]
    }
   ],
   "metadata": {
    "scrolled": false
   }
  },
  {
   "cell_type": "markdown",
   "source": [
    "### Ejemplo de procedimiento\n",
    "\n",
    "El siguiente código corresponde a una función (sin argumento) o procedimiento que imprime un menú, solicita una opción y muestra la opción elegida. Si la opción ingresada no es valida se sigue solicitando una opción."
   ],
   "metadata": {}
  },
  {
   "cell_type": "code",
   "execution_count": 6,
   "source": [
    "def menu():\n",
    "    print('Menú')\n",
    "    print('a) Opcion 1')\n",
    "    print('b) Opcion 2')\n",
    "    print('c) Opcion 3')\n",
    "    while True:\n",
    "        opcion = input('Ingrese una opción: ')\n",
    "        if opcion in ['a', 'b', 'c']:\n",
    "            break\n",
    "    print('Ha elegido la opción {}'.format(opcion))\n",
    "\n",
    "menu()"
   ],
   "outputs": [
    {
     "output_type": "stream",
     "name": "stdout",
     "text": [
      "Menú\n",
      "a) Opcion 1\n",
      "b) Opcion 2\n",
      "c) Opcion 3\n",
      "Ha elegido la opción a\n"
     ]
    }
   ],
   "metadata": {}
  },
  {
   "cell_type": "markdown",
   "source": [
    "### Actividad\n",
    "\n",
    "- Modifique la función `menu()` para que muestre un menú personalizado cuyas opciones son pasadas como una lista en el argumento."
   ],
   "metadata": {}
  },
  {
   "cell_type": "markdown",
   "source": [
    "## Funciones productivas"
   ],
   "metadata": {}
  },
  {
   "cell_type": "markdown",
   "source": [
    "- Una función productiva es una parte del programa que __puede manipular datos y devolver un valor__ de un cierto tipo.\n",
    "\n",
    "Por ejemplo:"
   ],
   "metadata": {}
  },
  {
   "cell_type": "code",
   "execution_count": 6,
   "source": [
    "def minmax(a, b):\n",
    "    if a > b:\n",
    "        minimo = b\n",
    "        maximo = a\n",
    "    else:\n",
    "        minimo = a\n",
    "        maximo = b\n",
    "    return (minimo, maximo)"
   ],
   "outputs": [],
   "metadata": {}
  },
  {
   "cell_type": "markdown",
   "source": [
    "- La función se ejecuta al hacer una llamada a dicha función dentro de una expresión. \n",
    "- La llamada a una función puede incluirse en cualquier expresión en la que un dato del tipo que devuelve la función tenga sentido. \n",
    "\n",
    "Por ejemplo:"
   ],
   "metadata": {}
  },
  {
   "cell_type": "code",
   "execution_count": 7,
   "source": [
    "a, b = minmax(2, 2)"
   ],
   "outputs": [],
   "metadata": {}
  },
  {
   "cell_type": "code",
   "execution_count": 8,
   "source": [
    "print(b)"
   ],
   "outputs": [
    {
     "output_type": "stream",
     "name": "stdout",
     "text": [
      "2\n"
     ]
    }
   ],
   "metadata": {}
  },
  {
   "cell_type": "markdown",
   "source": [
    "## Sentencia ```return```"
   ],
   "metadata": {}
  },
  {
   "cell_type": "markdown",
   "source": [
    "- __Permite terminar la ejecución de una función antes de alcanzar su final__. \n",
    "- En una función productiva, se recomienda que, para cualquier posible recorrido del programa, se alcance una sentencia `return`."
   ],
   "metadata": {}
  },
  {
   "cell_type": "markdown",
   "source": [
    "![Flujo de una función](./img/function_flow.svg)"
   ],
   "metadata": {}
  },
  {
   "cell_type": "markdown",
   "source": [
    "En el siguiente ejemplo, se utiliza la sentencia ```return``` para todos los posibles caminos de una función productiva:"
   ],
   "metadata": {}
  },
  {
   "cell_type": "code",
   "execution_count": 9,
   "source": [
    "def absoluto(x):\n",
    "    '''Funcion que entrega el valor absoluto \n",
    "    de un numero pasado como argumento'''\n",
    "    if x > 0:\n",
    "        return x\n",
    "    elif x < 0:\n",
    "        return -x\n",
    "    else:\n",
    "        return 0"
   ],
   "outputs": [],
   "metadata": {}
  },
  {
   "cell_type": "markdown",
   "source": [
    "En el siguiente ejemplo, la sentencia ```return``` es utilizada para detectar una condición de error en la definición de un procedimiento:"
   ],
   "metadata": {}
  },
  {
   "cell_type": "code",
   "execution_count": 10,
   "source": [
    "def divide(a, b):\n",
    "    if b == 0:\n",
    "        print('Error: El divisor debe ser distinto de cero!')\n",
    "        return\n",
    "    print(a, 'divido por', b, 'es' , a/b)\n",
    "\n",
    "divide(4, 3)"
   ],
   "outputs": [
    {
     "output_type": "stream",
     "name": "stdout",
     "text": [
      "4 divido por 3 es 1.3333333333333333\n"
     ]
    }
   ],
   "metadata": {}
  },
  {
   "cell_type": "markdown",
   "source": [
    "Si la sentencia ```return``` no está presente dentro de una función, entonces la función devolverá el objeto ```None```."
   ],
   "metadata": {}
  },
  {
   "cell_type": "code",
   "execution_count": 11,
   "source": [
    "miSaludo = saludo('Juan')\n",
    "print(miSaludo)"
   ],
   "outputs": [
    {
     "output_type": "stream",
     "name": "stdout",
     "text": [
      "Hola Juan, Buenos días!\n",
      "None\n"
     ]
    }
   ],
   "metadata": {
    "scrolled": true
   }
  },
  {
   "cell_type": "code",
   "execution_count": 12,
   "source": [
    "saludo('Juan')"
   ],
   "outputs": [
    {
     "output_type": "stream",
     "name": "stdout",
     "text": [
      "Hola Juan, Buenos días!\n"
     ]
    }
   ],
   "metadata": {
    "scrolled": true
   }
  },
  {
   "cell_type": "markdown",
   "source": [
    "## Docstring"
   ],
   "metadata": {}
  },
  {
   "cell_type": "markdown",
   "source": [
    "- La primera cadena después del encabezado de la función se denomina [```docstring```](https://www.python.org/dev/peps/pep-0257/).\n",
    "- __Es una cadena de documentación abreviada__. \n",
    "- Se utiliza para explicar en forma breve, lo que hace una función.\n",
    "\n",
    "Aunque es opcional, la documentación __es una buena práctica de programación__.\n",
    "\n",
    "En el ejemplo anterior, \n",
    "- En la función <code>saludo(nombre)</code>, se agrega el docstring inmediatamente debajo del encabezado de la función. \n",
    "- Se utiliza comillas triples ```''' '''``` para que el ```docstring``` pueda extenderse por múltiples líneas. \n",
    "- Se puede acceder a dicha cadena por medio del atributo ```__doc__``` de la función."
   ],
   "metadata": {}
  },
  {
   "cell_type": "code",
   "execution_count": 13,
   "source": [
    "print(absoluto.__doc__)"
   ],
   "outputs": [
    {
     "output_type": "stream",
     "name": "stdout",
     "text": [
      "Funcion que entrega el valor absoluto \n",
      "    de un numero pasado como argumento\n"
     ]
    }
   ],
   "metadata": {}
  },
  {
   "cell_type": "markdown",
   "source": [
    "## Parámetros de una función"
   ],
   "metadata": {}
  },
  {
   "cell_type": "markdown",
   "source": [
    "- Un parámetro de una función es un __valor que la función espera recibir cuando sea invocada__, para ejecutar acciones en base al mismo. \n",
    "- Una función puede esperar uno o más parámetros (separados por una coma) o ninguno. \n",
    "- Los parámetros a su vez, puden ser de distinto tipo (e.g., ```int```, ```str```, ```tuple```)."
   ],
   "metadata": {}
  },
  {
   "cell_type": "markdown",
   "source": [
    "### Parámetros por omisión\n",
    "\n",
    "En Python, es posible, __asignar valores por defecto__ a los parámetros de las funciones. En consecuencia, la función podrá ser invocada con menos argumentos de los que espera. \n",
    "\n",
    "Por ejemplo:"
   ],
   "metadata": {}
  },
  {
   "cell_type": "code",
   "execution_count": 7,
   "source": [
    "def saludo(nombre, prefijo='Sr.'):\n",
    "    '''Esta función saluda a la persona pasada como parámetro'''\n",
    "    print('Hola ' + prefijo + ' ' + nombre + ', Buen día!')"
   ],
   "outputs": [],
   "metadata": {}
  },
  {
   "cell_type": "markdown",
   "source": [
    "La invocación de la función pasando sólo un argumto:"
   ],
   "metadata": {}
  },
  {
   "cell_type": "code",
   "execution_count": 8,
   "source": [
    "saludo('Smith')"
   ],
   "outputs": [
    {
     "output_type": "stream",
     "name": "stdout",
     "text": [
      "Hola Sr. Smith, Buen día!\n"
     ]
    }
   ],
   "metadata": {}
  },
  {
   "cell_type": "markdown",
   "source": [
    "<p>La invocación a la función pasando los dos argumtos:</p>"
   ],
   "metadata": {}
  },
  {
   "cell_type": "code",
   "execution_count": 9,
   "source": [
    "saludo('Smith', 'Sra.')"
   ],
   "outputs": [
    {
     "output_type": "stream",
     "name": "stdout",
     "text": [
      "Hola Sra. Smith, Buen día!\n"
     ]
    }
   ],
   "metadata": {}
  },
  {
   "cell_type": "markdown",
   "source": [
    "### Parámetros como _keywords_\n",
    "\n",
    "Al invocar una función, los parámetros se deben pasar en el mismo orden en el que los espera. Sin embargo, esto puede evitarse, haciendo uso del paso de argumentos como keywords; pasándo los argumentos esperados, como pares `key = value`. \n",
    "    \n",
    "Por ejemplo:"
   ],
   "metadata": {}
  },
  {
   "cell_type": "code",
   "execution_count": 10,
   "source": [
    "saludo(prefijo='Don', nombre='Pedro')"
   ],
   "outputs": [
    {
     "output_type": "stream",
     "name": "stdout",
     "text": [
      "Hola Don Pedro, Buen día!\n"
     ]
    }
   ],
   "metadata": {}
  },
  {
   "cell_type": "code",
   "execution_count": 11,
   "source": [
    "saludo('Don', 'Pedro')"
   ],
   "outputs": [
    {
     "output_type": "stream",
     "name": "stdout",
     "text": [
      "Hola Pedro Don, Buen día!\n"
     ]
    }
   ],
   "metadata": {}
  },
  {
   "cell_type": "markdown",
   "source": [
    "## Variables globales y locales"
   ],
   "metadata": {}
  },
  {
   "cell_type": "markdown",
   "source": [
    "Las variables que se crean en el cuerpo de una función, sólo existe dentro de ella, es decir, es una __variable local__. \n",
    "- Si se trata de utilizar este tipo de variables fuera de la función, el programa provoca un error de tipo ```NameError```. \n",
    "- __Los parámetros de las funciones también son consideradas variables locales.__"
   ],
   "metadata": {}
  },
  {
   "cell_type": "markdown",
   "source": [
    "Una __variable global__ es visibles desde cualquier parte del programa, incluyendo el cuerpo de las funciones. \n",
    "\n",
    "- Sin embargo, cuando se utiliza como identificador de una variable local o función, el nombre de una variable global, está ultima queda oculta y no es accesible desde el cuerpo de la función."
   ],
   "metadata": {}
  },
  {
   "cell_type": "markdown",
   "source": [
    "En el siguiente ejemplo, se presenta un algoritmo para calcular la distancia radial de un vector, a partir de sus coordenadas en el espacio euclidiano."
   ],
   "metadata": {}
  },
  {
   "cell_type": "code",
   "execution_count": 19,
   "source": [
    "def cuadrado(x):\n",
    "    return x ** 2\n",
    "\n",
    "def sumaCuadrados(vector):\n",
    "    suma = 0\n",
    "    for i in vector:\n",
    "        suma += cuadrado(i)\n",
    "    return suma\n",
    "\n",
    "posicion = []\n",
    "for i in range(3):\n",
    "    posicion.append(float(input('{} coordenada: '.format(i+1)))) \n",
    "\n",
    "distancia = sumaCuadrados(posicion) ** 0.5\n",
    "\n",
    "print('La distancia radial es {:.2f}'.format(distancia))"
   ],
   "outputs": [
    {
     "output_type": "stream",
     "name": "stdout",
     "text": [
      "1 coordenada: 3\n",
      "2 coordenada: 3\n",
      "3 coordenada: 2\n",
      "La distancia radial es 4.69\n"
     ]
    }
   ],
   "metadata": {}
  },
  {
   "cell_type": "markdown",
   "source": [
    "En el programa:\n",
    "- Las variables `posicion` y `distancia` son globales. \n",
    "- La variable `suma`, definida en el cuerpo de la función `sumaCuadrados()`, es una variable local."
   ],
   "metadata": {}
  },
  {
   "cell_type": "markdown",
   "source": [
    "<div class=\"alert alert-warning\" role=\"alert\">\n",
    "<h3>Ejercicio</h3>\n",
    "<hr>\n",
    "<p>A partir del código fuente del programa diseñado para generar la <strong>clave de 5 dígitos</strong> (L-02):</p>\n",
    "    <ul>\n",
    "    <li>Identifique las potenciales funciones</li>\n",
    "    <li>Diseñe e implemente las funciones, y</li>\n",
    "    <li>Presente un programa (modular) que invoque dichas funciones.</li>\n",
    "    </ul>\n",
    "</div>"
   ],
   "metadata": {}
  },
  {
   "cell_type": "code",
   "execution_count": 7,
   "source": [
    "# %load ./script/codigotrabajador_modular.py\n",
    "def generaClave(digitos):\n",
    "    clave = ''\n",
    "    while len(clave) < digitos:\n",
    "        cifra = int(input('cifra: '))\n",
    "        if cifra < 0:\n",
    "            print('número inválido!')\n",
    "            continue\n",
    "        else:\n",
    "            suma = obtenerSuma(cifra)\n",
    "            unidad = obtenerUnidad(suma)\n",
    "            \n",
    "            if unidad > 0 and unidad <= 5:\n",
    "                digito = obtenerVocal(unidad)\n",
    "            elif unidad % 2 == 1:\n",
    "                digito = str(unidad)\n",
    "            else:\n",
    "                continue\n",
    "            \n",
    "            clave = digito + clave\n",
    "            \n",
    "    return clave\n",
    "\n",
    "def obtenerVocal(numero):\n",
    "    vocal = 'aeiou'\n",
    "    return vocal[numero-1]\n",
    "\n",
    "def obtenerUnidad(suma):\n",
    "    unidad = suma % 10\n",
    "    return unidad\n",
    "\n",
    "def obtenerSuma(cifra):\n",
    "    suma = 0\n",
    "    while cifra > 0:\n",
    "        suma += cifra % 10\n",
    "        cifra = cifra // 10\n",
    "    return suma"
   ],
   "outputs": [],
   "metadata": {}
  },
  {
   "cell_type": "code",
   "execution_count": 11,
   "source": [
    "generaClave(5)"
   ],
   "outputs": [
    {
     "output_type": "stream",
     "name": "stdout",
     "text": [
      "cifra: 38\n",
      "cifra: 17\n",
      "cifra: 1\n",
      "cifra: 0\n",
      "cifra: 23\n",
      "cifra: 61\n",
      "cifra: 23\n"
     ]
    },
    {
     "output_type": "execute_result",
     "data": {
      "text/plain": [
       "'u7uaa'"
      ]
     },
     "metadata": {},
     "execution_count": 11
    }
   ],
   "metadata": {}
  },
  {
   "cell_type": "markdown",
   "source": [
    "## Uso de módulos"
   ],
   "metadata": {}
  },
  {
   "cell_type": "markdown",
   "source": [
    "Un módulo __es una archivo que contiene definiciones y declaraciones__ de Python.\n",
    "- Los modulos __evitan que para la re-utilización de funciones se tenga que re-escribir las funciones en cada programa__.\n",
    "- Las definiciones de un módulo pueden ser importadas a otros módulos o a un programa.\n",
    "\n",
    "La carga de módulos y sus funciones, puede ser realizada de distintas formas.\n",
    "\n",
    "- __Importando el módulo__ y accediendo a la función invocando el nombre del módulo:"
   ],
   "metadata": {}
  },
  {
   "cell_type": "code",
   "execution_count": 12,
   "source": [
    "import math\n",
    "\n",
    "math.sqrt(25)"
   ],
   "outputs": [
    {
     "output_type": "execute_result",
     "data": {
      "text/plain": [
       "5.0"
      ]
     },
     "metadata": {},
     "execution_count": 12
    }
   ],
   "metadata": {}
  },
  {
   "cell_type": "markdown",
   "source": [
    "Además, permite __importar varios módulos a la vez__:"
   ],
   "metadata": {}
  },
  {
   "cell_type": "code",
   "execution_count": null,
   "source": [
    "import math, sys, re"
   ],
   "outputs": [],
   "metadata": {}
  },
  {
   "cell_type": "markdown",
   "source": [
    "- __Importando funciones específicas__ de un módulo:"
   ],
   "metadata": {}
  },
  {
   "cell_type": "code",
   "execution_count": 13,
   "source": [
    "from math import sqrt\n",
    "\n",
    "sqrt(16)"
   ],
   "outputs": [
    {
     "output_type": "execute_result",
     "data": {
      "text/plain": [
       "4.0"
      ]
     },
     "metadata": {},
     "execution_count": 13
    }
   ],
   "metadata": {}
  },
  {
   "cell_type": "markdown",
   "source": [
    "- __Importando todas las funciones__:"
   ],
   "metadata": {}
  },
  {
   "cell_type": "code",
   "execution_count": null,
   "source": [
    "from math import *\n",
    "\n",
    "sqrt(9)"
   ],
   "outputs": [],
   "metadata": {}
  },
  {
   "cell_type": "markdown",
   "source": [
    "Algunos módulos de Python son:\n",
    "\n",
    "- [Operaciones con expresiones regulares](https://docs.python.org/3.7/library/re.html)\n",
    "- [Manipulación de tiempo y fechas](https://docs.python.org/3.7/library/datetime.html) \n",
    "- [Funcionalidades dependientes del sistema operativo](https://docs.python.org/3/library/os.html)"
   ],
   "metadata": {}
  },
  {
   "cell_type": "markdown",
   "source": [
    "## Diseño de módulos"
   ],
   "metadata": {}
  },
  {
   "cell_type": "markdown",
   "source": [
    "- El nombre del archivo es el __nombre del módulo__, con el sufijo ```.py```.\n",
    "- Dentro del archivo se codifican las funciones, __manteniendo la estructura__ utilizada para crear funciones en programa.\n",
    "- Es recomendable que las __funciones se agrupen en módulos de acuerdo con su ámbito de aplicación__."
   ],
   "metadata": {}
  },
  {
   "cell_type": "markdown",
   "source": [
    "El siguiente es un ejemplo de modulo identificado como ```geometricas.py```, que contiene funciones diseñadas para calcular el área y perímetro de distintas figuras geométricas:"
   ],
   "metadata": {}
  },
  {
   "cell_type": "code",
   "execution_count": 5,
   "source": [
    "# geometricas.py\n",
    "from math import pi, sqrt\n",
    "\n",
    "def circunferencia(radio):\n",
    "    p = 2 * pi * radio\n",
    "    a = pi * radio ** 2\n",
    "    return (a, p)\n",
    "\n",
    "def rectangulo(largo, ancho):\n",
    "    p = 2 * largo + 2 * ancho\n",
    "    a = largo * ancho\n",
    "    return (a, p)\n",
    "\n",
    "def triangulo_rectangulo(base, altura):\n",
    "    p = base + altura + sqrt(base**2 + altura**2)\n",
    "    a = base * altura / 2\n",
    "    return (a, p)"
   ],
   "outputs": [],
   "metadata": {}
  },
  {
   "cell_type": "markdown",
   "source": [
    "El archivo ```test_geometricas.py``` invoca a la función ```circunferencia(radio)```"
   ],
   "metadata": {}
  },
  {
   "cell_type": "code",
   "execution_count": null,
   "source": [
    "# test_geometricas.py\n",
    "from geometricas import circunferencia\n",
    "\n",
    "area, perimetro = circunferencia(25)\n",
    "print(area)"
   ],
   "outputs": [],
   "metadata": {}
  },
  {
   "cell_type": "markdown",
   "source": [
    "### Módulos _compilados_\n",
    "\n",
    "Python compila su código fuente en [_byte code_](https://en.wikipedia.org/wiki/Bytecode) y, por razones de rendimiento, almacena este código de bytes en el sistema de archivos __cada vez que el archivo de origen tiene cambios__ ([PEP 3147](https://www.python.org/dev/peps/pep-3147/))\n",
    "- Hace que la __carga__ de módulos Python sea mucho __más rápida__ porque la fase de compilación se puede omitir.\n",
    "- Almacena __versiones compiladas__ de cada módulo en el directorio ```__pycache__``` bajo el nombre ```module.version.py```, justo al lado de la fuente.\n",
    "- Permite __compilar módulos__ desde diferentes _releases_ y versiones de Python para coexistir."
   ],
   "metadata": {}
  }
 ],
 "metadata": {
  "kernelspec": {
   "name": "python3",
   "display_name": "Python 3.8.8 64-bit ('edaenv': conda)"
  },
  "language_info": {
   "codemirror_mode": {
    "name": "ipython",
    "version": 3
   },
   "file_extension": ".py",
   "mimetype": "text/x-python",
   "name": "python",
   "nbconvert_exporter": "python",
   "pygments_lexer": "ipython3",
   "version": "3.8.8"
  },
  "interpreter": {
   "hash": "682885c2bb1436e84d3ea108a79f98b0de56a9363b340e0d2aef3ca8d1559c07"
  }
 },
 "nbformat": 4,
 "nbformat_minor": 2
}