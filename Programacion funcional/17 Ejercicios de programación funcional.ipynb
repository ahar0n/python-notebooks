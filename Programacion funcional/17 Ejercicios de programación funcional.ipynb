{
 "cells": [
  {
   "cell_type": "markdown",
   "metadata": {},
   "source": [
    "# Ejercicios. Programación funcional \n",
    "\n",
    "Para resolver los siguientes problemas, \n",
    " \n",
    "- Aplicar el enfoque de __programación funcional__.\n",
    "- Se permite el uso de funciones trigonométricas de la librería [math](https://docs.python.org/3/library/math.html#trigonometric-functions), ninguna otra.\n",
    "- Los programas deben contemplar todas la posibles validaciones y excepciones, de acuerdo con el dominio de problema de cada ejercicio."
   ]
  },
  {
   "cell_type": "markdown",
   "metadata": {},
   "source": [
    "E1. Diseñar un programa para solucionar el problema __ruta de un movil__."
   ]
  },
  {
   "cell_type": "markdown",
   "metadata": {},
   "source": [
    "E2. El número de combinaciones que se pueden formar tomando $m$ elementos de un conjunto con $n$ elementos (con $n > m$) es:\n",
    "\n",
    "$$\n",
    "C_n ^m = \\frac{n!}{(n-m)! \\cdot m!}\n",
    "$$\n",
    "\n",
    "Diseñar un programa que solicite los valores $n$ y $m$, y calcule el valor $C_n ^m$."
   ]
  },
  {
   "cell_type": "markdown",
   "metadata": {},
   "source": [
    "E3. En topografía, el azimuth es el valor del ángulo $\\theta$ de una dirección, contado en el sentido de las agujas del reloj a partir del origen del eje Y positivo."
   ]
  },
  {
   "cell_type": "markdown",
   "metadata": {},
   "source": [
    "![Acimut](./img/azimuth.svg)"
   ]
  },
  {
   "cell_type": "markdown",
   "metadata": {},
   "source": [
    "Utilizando las coordenadas cartesianas ($x_P, y_P$) del punto $P$ y la función trigonométrica tangente, el azimuth (en grados decimales) se obtiene con la siguiente expresión:"
   ]
  },
  {
   "cell_type": "markdown",
   "metadata": {},
   "source": [
    "$$\n",
    "\\theta_P = tan^{-1}\\left( \\frac{x_P}{y_P} \\right) + C\n",
    "$$"
   ]
  },
  {
   "cell_type": "markdown",
   "metadata": {},
   "source": [
    "\n",
    "donde:\n",
    "\n",
    "- $C=0$, si $P$ está en el primer cuadrante\n",
    "- $C=180$, si $P$ está en el segundo o tercer cuadrante\n",
    "- $C=360$, si $P$ está en el cuarto cuadrante\n",
    "\n",
    "Diseñar una programa que, a partir del ingreso de las coordenadas ($x_P, y_P$), calcule el azimuth en grados centesimales. Considerar que el valor angular obtenido deberá mostrarse con 4 decimales."
   ]
  },
  {
   "cell_type": "markdown",
   "metadata": {},
   "source": [
    "E4. Si las coordenadas de los vértices de un polígono $T$ son listadas en sentido de las agujas del reloj, el área $A_T$ del polígono puede ser obtenida a partir de:"
   ]
  },
  {
   "cell_type": "markdown",
   "metadata": {},
   "source": [
    "![Area](./img/area.svg)"
   ]
  },
  {
   "cell_type": "markdown",
   "metadata": {},
   "source": [
    "$$\n",
    "\\begin{split}\n",
    "A_T &= \\frac{1}{2} \\left| \\sum\\limits_{i=1}^{n-1} x_{i} y_{i+1} + x_{n} y_{1} - \\sum\\limits_{i=1}^{n-1} x_{i+1} y_{i} + x_{1} y_{n} \\right| \\\\\n",
    "&= \\frac{1}{2} |  x_{1} y_{2} + x_{2} y_{3} + ... + x_{n-1} y_{n} + x_{n} y_{1} - x_{2} y_{1} - x_{3} y_{2} - ... - x_{n} y_{n-1} - x_{1} y_{n} |,\n",
    "\\end{split}\n",
    "$$\n",
    "\n",
    "donde, $n$ es el número de lados del polígono, ($x_{i}, y_{i}$) son las coordenadas de los $i = 1,2,...,n$ vértices del polígono.\n",
    "\n",
    "Por otro lado, el perímetro de un polígono es igual a la suma de las longitudes de sus lados.\n",
    "\n",
    "Diseñar el módulo `geometria.py` que contenga por lo menos las funciones `area(vertices)` y `perimetro(vertices)`, las cuales reciben como argumento una lista de tuplas con las coordenadas de los vértices del polígono y retornen el área y el perímetro de dicho polígono, respectivamente."
   ]
  }
 ],
 "metadata": {
  "language_info": {
   "name": "python"
  },
  "orig_nbformat": 4
 },
 "nbformat": 4,
 "nbformat_minor": 2
}
