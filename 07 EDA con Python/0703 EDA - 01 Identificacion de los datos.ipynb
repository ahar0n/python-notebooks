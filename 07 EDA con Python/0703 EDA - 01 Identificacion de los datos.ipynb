{
 "cells": [
  {
   "cell_type": "markdown",
   "metadata": {},
   "source": [
    "# Ejemplo de análisis exploratorio de datos"
   ]
  },
  {
   "cell_type": "markdown",
   "source": [
    "### Introducción\n",
    "\n",
    "El análisis exploratorio de datos (EDA) permite,\n",
    "\n",
    "- Identificar de patrones dentro de los datos\n",
    "- Comprender las relaciones entre las características\n",
    "- Detectar probables valores atípicos (_outliers_)\n",
    "- Limpiar los datos\n",
    "- Comprobar suposiciones subyacentes\n",
    "- Preparar los datos para procesamiento adicionales (normalización, estandarización, etc.)\n",
    "\n",
    "Desde la práctica, el EDA se aplicará de acuerdo con las siguientes fases:\n",
    "\n",
    "1. Identificación del tipo de dato y de las entidades que lo conforman\n",
    "1. Diagnóstico y calidad de los datos\n",
    "1. Transformación y Visualización\n",
    "1. Agrupación y agregación de variables"
   ],
   "metadata": {
    "collapsed": false
   }
  },
  {
   "cell_type": "markdown",
   "source": [
    "### Datos\n",
    "\n",
    "La agencia de Protección Ambiental Americana ([EPA](https://www.epa.gov/otaq/)) tiene entre sus funciones estudiar y analizar la emisión de contaminación de los vehículos que se comercializan en EEUU.\n",
    "\n",
    "- La información sobre el consumo de combustible de los vehículos se encuentra publicada en diferentes formatos, en el sitio web [fueleconomy.gov](https://www.fueleconomy.gov/).\n",
    "- Una descripción detallada del conjunto de datos puede ser consultada en el [siguiente enlace](http://www.fueleconomy.gov/feg/ws/index.shtml).\n",
    "\n",
    "__NOTA:__ Los datos utilizados en ejemplo corresponden a una versión modificada del [archivo original](https://www.fueleconomy.gov/feg/epadata/vehicles.csv.zip) (con menos columnas)."
   ],
   "metadata": {
    "collapsed": false
   }
  },
  {
   "cell_type": "markdown",
   "metadata": {},
   "source": [
    "### Identificación de los datos"
   ]
  },
  {
   "cell_type": "code",
   "execution_count": 1,
   "metadata": {},
   "outputs": [
    {
     "data": {
      "text/plain": "               make                model  year  displ  cylinders  \\\n0        AM General    DJ Po Vehicle 2WD  1984    2.5        4.0   \n1        AM General    DJ Po Vehicle 2WD  1984    2.5        4.0   \n2        AM General     FJ8c Post Office  1984    4.2        6.0   \n3        AM General     FJ8c Post Office  1984    4.2        6.0   \n4        AM General  Post Office DJ5 2WD  1985    2.5        4.0   \n5        AM General  Post Office DJ8 2WD  1985    4.2        6.0   \n6  ASC Incorporated                  GNX  1987    3.8        6.0   \n7             Acura          2.2CL/3.0CL  1997    2.2        4.0   \n8             Acura          2.2CL/3.0CL  1997    2.2        4.0   \n9             Acura          2.2CL/3.0CL  1997    3.0        6.0   \n\n             trany              drive                       VClass fuelType  \\\n0  Automatic 3-spd      2-Wheel Drive  Special Purpose Vehicle 2WD  Regular   \n1  Automatic 3-spd      2-Wheel Drive  Special Purpose Vehicle 2WD  Regular   \n2  Automatic 3-spd      2-Wheel Drive  Special Purpose Vehicle 2WD  Regular   \n3  Automatic 3-spd      2-Wheel Drive  Special Purpose Vehicle 2WD  Regular   \n4  Automatic 3-spd   Rear-Wheel Drive  Special Purpose Vehicle 2WD  Regular   \n5  Automatic 3-spd   Rear-Wheel Drive  Special Purpose Vehicle 2WD  Regular   \n6  Automatic 4-spd   Rear-Wheel Drive                 Midsize Cars  Premium   \n7  Automatic 4-spd  Front-Wheel Drive              Subcompact Cars  Regular   \n8     Manual 5-spd  Front-Wheel Drive              Subcompact Cars  Regular   \n9  Automatic 4-spd  Front-Wheel Drive              Subcompact Cars  Regular   \n\n   comb08  co2TailpipeGpm  \n0      17      522.764706  \n1      17      522.764706  \n2      13      683.615385  \n3      13      683.615385  \n4      16      555.437500  \n5      13      683.615385  \n6      16      555.437500  \n7      22      403.954545  \n8      24      370.291667  \n9      20      444.350000  ",
      "text/html": "<div>\n<style scoped>\n    .dataframe tbody tr th:only-of-type {\n        vertical-align: middle;\n    }\n\n    .dataframe tbody tr th {\n        vertical-align: top;\n    }\n\n    .dataframe thead th {\n        text-align: right;\n    }\n</style>\n<table border=\"1\" class=\"dataframe\">\n  <thead>\n    <tr style=\"text-align: right;\">\n      <th></th>\n      <th>make</th>\n      <th>model</th>\n      <th>year</th>\n      <th>displ</th>\n      <th>cylinders</th>\n      <th>trany</th>\n      <th>drive</th>\n      <th>VClass</th>\n      <th>fuelType</th>\n      <th>comb08</th>\n      <th>co2TailpipeGpm</th>\n    </tr>\n  </thead>\n  <tbody>\n    <tr>\n      <th>0</th>\n      <td>AM General</td>\n      <td>DJ Po Vehicle 2WD</td>\n      <td>1984</td>\n      <td>2.5</td>\n      <td>4.0</td>\n      <td>Automatic 3-spd</td>\n      <td>2-Wheel Drive</td>\n      <td>Special Purpose Vehicle 2WD</td>\n      <td>Regular</td>\n      <td>17</td>\n      <td>522.764706</td>\n    </tr>\n    <tr>\n      <th>1</th>\n      <td>AM General</td>\n      <td>DJ Po Vehicle 2WD</td>\n      <td>1984</td>\n      <td>2.5</td>\n      <td>4.0</td>\n      <td>Automatic 3-spd</td>\n      <td>2-Wheel Drive</td>\n      <td>Special Purpose Vehicle 2WD</td>\n      <td>Regular</td>\n      <td>17</td>\n      <td>522.764706</td>\n    </tr>\n    <tr>\n      <th>2</th>\n      <td>AM General</td>\n      <td>FJ8c Post Office</td>\n      <td>1984</td>\n      <td>4.2</td>\n      <td>6.0</td>\n      <td>Automatic 3-spd</td>\n      <td>2-Wheel Drive</td>\n      <td>Special Purpose Vehicle 2WD</td>\n      <td>Regular</td>\n      <td>13</td>\n      <td>683.615385</td>\n    </tr>\n    <tr>\n      <th>3</th>\n      <td>AM General</td>\n      <td>FJ8c Post Office</td>\n      <td>1984</td>\n      <td>4.2</td>\n      <td>6.0</td>\n      <td>Automatic 3-spd</td>\n      <td>2-Wheel Drive</td>\n      <td>Special Purpose Vehicle 2WD</td>\n      <td>Regular</td>\n      <td>13</td>\n      <td>683.615385</td>\n    </tr>\n    <tr>\n      <th>4</th>\n      <td>AM General</td>\n      <td>Post Office DJ5 2WD</td>\n      <td>1985</td>\n      <td>2.5</td>\n      <td>4.0</td>\n      <td>Automatic 3-spd</td>\n      <td>Rear-Wheel Drive</td>\n      <td>Special Purpose Vehicle 2WD</td>\n      <td>Regular</td>\n      <td>16</td>\n      <td>555.437500</td>\n    </tr>\n    <tr>\n      <th>5</th>\n      <td>AM General</td>\n      <td>Post Office DJ8 2WD</td>\n      <td>1985</td>\n      <td>4.2</td>\n      <td>6.0</td>\n      <td>Automatic 3-spd</td>\n      <td>Rear-Wheel Drive</td>\n      <td>Special Purpose Vehicle 2WD</td>\n      <td>Regular</td>\n      <td>13</td>\n      <td>683.615385</td>\n    </tr>\n    <tr>\n      <th>6</th>\n      <td>ASC Incorporated</td>\n      <td>GNX</td>\n      <td>1987</td>\n      <td>3.8</td>\n      <td>6.0</td>\n      <td>Automatic 4-spd</td>\n      <td>Rear-Wheel Drive</td>\n      <td>Midsize Cars</td>\n      <td>Premium</td>\n      <td>16</td>\n      <td>555.437500</td>\n    </tr>\n    <tr>\n      <th>7</th>\n      <td>Acura</td>\n      <td>2.2CL/3.0CL</td>\n      <td>1997</td>\n      <td>2.2</td>\n      <td>4.0</td>\n      <td>Automatic 4-spd</td>\n      <td>Front-Wheel Drive</td>\n      <td>Subcompact Cars</td>\n      <td>Regular</td>\n      <td>22</td>\n      <td>403.954545</td>\n    </tr>\n    <tr>\n      <th>8</th>\n      <td>Acura</td>\n      <td>2.2CL/3.0CL</td>\n      <td>1997</td>\n      <td>2.2</td>\n      <td>4.0</td>\n      <td>Manual 5-spd</td>\n      <td>Front-Wheel Drive</td>\n      <td>Subcompact Cars</td>\n      <td>Regular</td>\n      <td>24</td>\n      <td>370.291667</td>\n    </tr>\n    <tr>\n      <th>9</th>\n      <td>Acura</td>\n      <td>2.2CL/3.0CL</td>\n      <td>1997</td>\n      <td>3.0</td>\n      <td>6.0</td>\n      <td>Automatic 4-spd</td>\n      <td>Front-Wheel Drive</td>\n      <td>Subcompact Cars</td>\n      <td>Regular</td>\n      <td>20</td>\n      <td>444.350000</td>\n    </tr>\n  </tbody>\n</table>\n</div>"
     },
     "execution_count": 1,
     "metadata": {},
     "output_type": "execute_result"
    }
   ],
   "source": [
    "import pandas as pd\n",
    "df = pd.read_csv(\"./data/vehicles_original.csv\")\n",
    "df.head(10)"
   ]
  },
  {
   "cell_type": "code",
   "execution_count": 2,
   "metadata": {},
   "outputs": [
    {
     "data": {
      "text/plain": "(38436, 11)"
     },
     "execution_count": 2,
     "metadata": {},
     "output_type": "execute_result"
    }
   ],
   "source": [
    "df.shape"
   ]
  },
  {
   "cell_type": "markdown",
   "metadata": {},
   "source": [
    "En general, resulta conveniente renombrar las columnas y asignar nombres descriptivos a las variables."
   ]
  },
  {
   "cell_type": "code",
   "execution_count": 3,
   "metadata": {},
   "outputs": [
    {
     "data": {
      "text/plain": "         fabricante               modelo  year  desplazamiento  cilindros  \\\n0        AM General    DJ Po Vehicle 2WD  1984             2.5        4.0   \n1        AM General    DJ Po Vehicle 2WD  1984             2.5        4.0   \n2        AM General     FJ8c Post Office  1984             4.2        6.0   \n3        AM General     FJ8c Post Office  1984             4.2        6.0   \n4        AM General  Post Office DJ5 2WD  1985             2.5        4.0   \n5        AM General  Post Office DJ8 2WD  1985             4.2        6.0   \n6  ASC Incorporated                  GNX  1987             3.8        6.0   \n7             Acura          2.2CL/3.0CL  1997             2.2        4.0   \n8             Acura          2.2CL/3.0CL  1997             2.2        4.0   \n9             Acura          2.2CL/3.0CL  1997             3.0        6.0   \n\n       transmision           traccion                        clase  \\\n0  Automatic 3-spd      2-Wheel Drive  Special Purpose Vehicle 2WD   \n1  Automatic 3-spd      2-Wheel Drive  Special Purpose Vehicle 2WD   \n2  Automatic 3-spd      2-Wheel Drive  Special Purpose Vehicle 2WD   \n3  Automatic 3-spd      2-Wheel Drive  Special Purpose Vehicle 2WD   \n4  Automatic 3-spd   Rear-Wheel Drive  Special Purpose Vehicle 2WD   \n5  Automatic 3-spd   Rear-Wheel Drive  Special Purpose Vehicle 2WD   \n6  Automatic 4-spd   Rear-Wheel Drive                 Midsize Cars   \n7  Automatic 4-spd  Front-Wheel Drive              Subcompact Cars   \n8     Manual 5-spd  Front-Wheel Drive              Subcompact Cars   \n9  Automatic 4-spd  Front-Wheel Drive              Subcompact Cars   \n\n  combustible  rendimiento         co2  \n0     Regular           17  522.764706  \n1     Regular           17  522.764706  \n2     Regular           13  683.615385  \n3     Regular           13  683.615385  \n4     Regular           16  555.437500  \n5     Regular           13  683.615385  \n6     Premium           16  555.437500  \n7     Regular           22  403.954545  \n8     Regular           24  370.291667  \n9     Regular           20  444.350000  ",
      "text/html": "<div>\n<style scoped>\n    .dataframe tbody tr th:only-of-type {\n        vertical-align: middle;\n    }\n\n    .dataframe tbody tr th {\n        vertical-align: top;\n    }\n\n    .dataframe thead th {\n        text-align: right;\n    }\n</style>\n<table border=\"1\" class=\"dataframe\">\n  <thead>\n    <tr style=\"text-align: right;\">\n      <th></th>\n      <th>fabricante</th>\n      <th>modelo</th>\n      <th>year</th>\n      <th>desplazamiento</th>\n      <th>cilindros</th>\n      <th>transmision</th>\n      <th>traccion</th>\n      <th>clase</th>\n      <th>combustible</th>\n      <th>rendimiento</th>\n      <th>co2</th>\n    </tr>\n  </thead>\n  <tbody>\n    <tr>\n      <th>0</th>\n      <td>AM General</td>\n      <td>DJ Po Vehicle 2WD</td>\n      <td>1984</td>\n      <td>2.5</td>\n      <td>4.0</td>\n      <td>Automatic 3-spd</td>\n      <td>2-Wheel Drive</td>\n      <td>Special Purpose Vehicle 2WD</td>\n      <td>Regular</td>\n      <td>17</td>\n      <td>522.764706</td>\n    </tr>\n    <tr>\n      <th>1</th>\n      <td>AM General</td>\n      <td>DJ Po Vehicle 2WD</td>\n      <td>1984</td>\n      <td>2.5</td>\n      <td>4.0</td>\n      <td>Automatic 3-spd</td>\n      <td>2-Wheel Drive</td>\n      <td>Special Purpose Vehicle 2WD</td>\n      <td>Regular</td>\n      <td>17</td>\n      <td>522.764706</td>\n    </tr>\n    <tr>\n      <th>2</th>\n      <td>AM General</td>\n      <td>FJ8c Post Office</td>\n      <td>1984</td>\n      <td>4.2</td>\n      <td>6.0</td>\n      <td>Automatic 3-spd</td>\n      <td>2-Wheel Drive</td>\n      <td>Special Purpose Vehicle 2WD</td>\n      <td>Regular</td>\n      <td>13</td>\n      <td>683.615385</td>\n    </tr>\n    <tr>\n      <th>3</th>\n      <td>AM General</td>\n      <td>FJ8c Post Office</td>\n      <td>1984</td>\n      <td>4.2</td>\n      <td>6.0</td>\n      <td>Automatic 3-spd</td>\n      <td>2-Wheel Drive</td>\n      <td>Special Purpose Vehicle 2WD</td>\n      <td>Regular</td>\n      <td>13</td>\n      <td>683.615385</td>\n    </tr>\n    <tr>\n      <th>4</th>\n      <td>AM General</td>\n      <td>Post Office DJ5 2WD</td>\n      <td>1985</td>\n      <td>2.5</td>\n      <td>4.0</td>\n      <td>Automatic 3-spd</td>\n      <td>Rear-Wheel Drive</td>\n      <td>Special Purpose Vehicle 2WD</td>\n      <td>Regular</td>\n      <td>16</td>\n      <td>555.437500</td>\n    </tr>\n    <tr>\n      <th>5</th>\n      <td>AM General</td>\n      <td>Post Office DJ8 2WD</td>\n      <td>1985</td>\n      <td>4.2</td>\n      <td>6.0</td>\n      <td>Automatic 3-spd</td>\n      <td>Rear-Wheel Drive</td>\n      <td>Special Purpose Vehicle 2WD</td>\n      <td>Regular</td>\n      <td>13</td>\n      <td>683.615385</td>\n    </tr>\n    <tr>\n      <th>6</th>\n      <td>ASC Incorporated</td>\n      <td>GNX</td>\n      <td>1987</td>\n      <td>3.8</td>\n      <td>6.0</td>\n      <td>Automatic 4-spd</td>\n      <td>Rear-Wheel Drive</td>\n      <td>Midsize Cars</td>\n      <td>Premium</td>\n      <td>16</td>\n      <td>555.437500</td>\n    </tr>\n    <tr>\n      <th>7</th>\n      <td>Acura</td>\n      <td>2.2CL/3.0CL</td>\n      <td>1997</td>\n      <td>2.2</td>\n      <td>4.0</td>\n      <td>Automatic 4-spd</td>\n      <td>Front-Wheel Drive</td>\n      <td>Subcompact Cars</td>\n      <td>Regular</td>\n      <td>22</td>\n      <td>403.954545</td>\n    </tr>\n    <tr>\n      <th>8</th>\n      <td>Acura</td>\n      <td>2.2CL/3.0CL</td>\n      <td>1997</td>\n      <td>2.2</td>\n      <td>4.0</td>\n      <td>Manual 5-spd</td>\n      <td>Front-Wheel Drive</td>\n      <td>Subcompact Cars</td>\n      <td>Regular</td>\n      <td>24</td>\n      <td>370.291667</td>\n    </tr>\n    <tr>\n      <th>9</th>\n      <td>Acura</td>\n      <td>2.2CL/3.0CL</td>\n      <td>1997</td>\n      <td>3.0</td>\n      <td>6.0</td>\n      <td>Automatic 4-spd</td>\n      <td>Front-Wheel Drive</td>\n      <td>Subcompact Cars</td>\n      <td>Regular</td>\n      <td>20</td>\n      <td>444.350000</td>\n    </tr>\n  </tbody>\n</table>\n</div>"
     },
     "execution_count": 3,
     "metadata": {},
     "output_type": "execute_result"
    }
   ],
   "source": [
    "vehiculos = df.rename(columns={\n",
    "    \"cylinders\":\"cilindros\",\n",
    "    \"trany\":\"transmision\",\n",
    "    \"make\":\"fabricante\",\n",
    "    \"model\":\"modelo\",\n",
    "    \"displ\":\"desplazamiento\",   # volumen de desplazamiento del motor\n",
    "    \"drive\":\"traccion\",\n",
    "    \"VClass\":\"clase\",\n",
    "    \"fuelType\":\"combustible\",\n",
    "    \"comb08\":\"rendimiento\",     # en MPG (miles per galon)\n",
    "    \"co2TailpipeGpm\":\"co2\",     # tailpipe CO2 in grams/mile\n",
    "})\n",
    "vehiculos.head(10)"
   ]
  },
  {
   "cell_type": "code",
   "execution_count": 4,
   "metadata": {},
   "outputs": [
    {
     "data": {
      "text/plain": "fabricante         object\nmodelo             object\nyear                int64\ndesplazamiento    float64\ncilindros         float64\ntransmision        object\ntraccion           object\nclase              object\ncombustible        object\nrendimiento         int64\nco2               float64\ndtype: object"
     },
     "execution_count": 4,
     "metadata": {},
     "output_type": "execute_result"
    }
   ],
   "source": [
    "vehiculos.dtypes"
   ]
  },
  {
   "cell_type": "markdown",
   "metadata": {},
   "source": [
    "Se recomienda que, __después de cada tratamiento relevante a los datos, guardar copia de los datos con los cambios generados__. Así, no se modifican los datos originales."
   ]
  },
  {
   "cell_type": "code",
   "execution_count": 5,
   "metadata": {},
   "outputs": [],
   "source": [
    "vehiculos.to_csv(\"./out/vehiculos-1-procesado_inicial.csv\", index=False)"
   ]
  },
  {
   "cell_type": "markdown",
   "metadata": {},
   "source": [
    "### Identificación de la(s) entidad(es)\n",
    "\n",
    "Lo importante para iniciar con un análisis básico de datos, consiste en definir el __objetivo del análisis__.\n",
    "\n",
    "Para el presente caso, uno de los objetivos de la EPA (creadores del conjunto de datos) consiste en  monitorear las emisiones de contaminantes (co2) por los vehículos.\n",
    "\n",
    "Por lo tanto, la __entidad a estudiar__ (emisión de contaminantes por vehículo), puede ser definida por el siguiente conjunto (subconjunto) de atributos:\n",
    "\n",
    "- fabricante\n",
    "- fabricante + modelo\n",
    "- __fabricante + modelo + año__\n",
    "- fabricante + año\n",
    "\n",
    "La entidad __debe ser única__ en el conjunto de datos."
   ]
  }
 ],
 "metadata": {
  "kernelspec": {
   "display_name": "Python 3.9.6 64-bit",
   "language": "python",
   "name": "python3"
  },
  "language_info": {
   "codemirror_mode": {
    "name": "ipython",
    "version": 3
   },
   "file_extension": ".py",
   "mimetype": "text/x-python",
   "name": "python",
   "nbconvert_exporter": "python",
   "pygments_lexer": "ipython3",
   "version": "3.9.6"
  },
  "orig_nbformat": 4,
  "vscode": {
   "interpreter": {
    "hash": "31f2aee4e71d21fbe5cf8b01ff0e069b9275f58929596ceb00d14d90e3e16cd6"
   }
  }
 },
 "nbformat": 4,
 "nbformat_minor": 2
}
