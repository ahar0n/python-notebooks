{
 "cells": [
  {
   "cell_type": "markdown",
   "metadata": {},
   "source": [
    "# Tuplas y listas"
   ]
  },
  {
   "metadata": {
    "ExecuteTime": {
     "end_time": "2024-09-23T15:22:51.750230Z",
     "start_time": "2024-09-23T15:22:51.745040Z"
    }
   },
   "cell_type": "code",
   "source": [
    "from IPython.display import Image\n",
    "Image(url=\"img/tipos_secuencias.svg\", height=600)"
   ],
   "outputs": [
    {
     "data": {
      "text/html": [
       "<img src=\"img/tipos_secuencias.svg\" height=\"600\"/>"
      ],
      "text/plain": [
       "<IPython.core.display.Image object>"
      ]
     },
     "execution_count": 1,
     "metadata": {},
     "output_type": "execute_result"
    }
   ],
   "execution_count": 1
  },
  {
   "cell_type": "markdown",
   "metadata": {},
   "source": [
    "Las secuencias en Python son __estructuras de datos que representan conjuntos finitos ordenados e indexados__:\n",
    "\n",
    "- Cadenas\n",
    "- Tuplas\n",
    "- Listas"
   ]
  },
  {
   "cell_type": "markdown",
   "metadata": {},
   "source": [
    "## Tuplas (```tuple```)\n",
    "\n",
    "- Es una secuencia ordenada, e [inmutable](https://en.wikibooks.org/wiki/Python_Programming/Data_Types#Mutable_vs_Immutable_Objects), de elementos. \n",
    "- Funcionalmente, son utilizada para representar heterogéneas secuencias de elementos (p. ej., fecha, dirección). \n",
    "- Sintácticamente, para crear una tupla los elementos se escriben como una secuencia separada por comas."
   ]
  },
  {
   "cell_type": "code",
   "metadata": {
    "ExecuteTime": {
     "end_time": "2024-09-23T15:22:51.901654Z",
     "start_time": "2024-09-23T15:22:51.899719Z"
    }
   },
   "source": [
    "aniversario = ('Diciembre', 25, 1983)"
   ],
   "outputs": [],
   "execution_count": 2
  },
  {
   "cell_type": "code",
   "metadata": {
    "ExecuteTime": {
     "end_time": "2024-09-23T15:22:51.906860Z",
     "start_time": "2024-09-23T15:22:51.904704Z"
    }
   },
   "source": [
    "type(aniversario)"
   ],
   "outputs": [
    {
     "data": {
      "text/plain": [
       "tuple"
      ]
     },
     "execution_count": 3,
     "metadata": {},
     "output_type": "execute_result"
    }
   ],
   "execution_count": 3
  },
  {
   "cell_type": "markdown",
   "metadata": {},
   "source": [
    "Opcionalmente, la secuencia puede ser escrita entre paréntesis `()`. Las tuplas soportan datos de distintos tipos."
   ]
  },
  {
   "cell_type": "code",
   "metadata": {
    "ExecuteTime": {
     "end_time": "2024-09-23T15:22:51.918184Z",
     "start_time": "2024-09-23T15:22:51.916598Z"
    }
   },
   "source": [
    "tupla = 'a', 'b', 'c', 'd'"
   ],
   "outputs": [],
   "execution_count": 4
  },
  {
   "cell_type": "code",
   "metadata": {
    "ExecuteTime": {
     "end_time": "2024-09-23T15:22:51.931177Z",
     "start_time": "2024-09-23T15:22:51.929043Z"
    }
   },
   "source": [
    "type(tupla)"
   ],
   "outputs": [
    {
     "data": {
      "text/plain": [
       "tuple"
      ]
     },
     "execution_count": 5,
     "metadata": {},
     "output_type": "execute_result"
    }
   ],
   "execution_count": 5
  },
  {
   "cell_type": "markdown",
   "metadata": {},
   "source": [
    "En general, el acceso a los elementos de una tupla se hace por medio del desempaquetado (_unpacking_) de una tupla. Para una tupla de `k` elementos, `k` variables pueden ser asignadas a cada uno de los elementos."
   ]
  },
  {
   "cell_type": "code",
   "metadata": {
    "ExecuteTime": {
     "end_time": "2024-09-23T15:22:51.959237Z",
     "start_time": "2024-09-23T15:22:51.956835Z"
    }
   },
   "source": [
    "print(aniversario)"
   ],
   "outputs": [
    {
     "name": "stdout",
     "output_type": "stream",
     "text": [
      "('Diciembre', 25, 1983)\n"
     ]
    }
   ],
   "execution_count": 6
  },
  {
   "cell_type": "code",
   "metadata": {
    "ExecuteTime": {
     "end_time": "2024-09-23T15:22:51.979079Z",
     "start_time": "2024-09-23T15:22:51.977361Z"
    }
   },
   "source": [
    "mes, dia, anio = aniversario"
   ],
   "outputs": [],
   "execution_count": 7
  },
  {
   "cell_type": "code",
   "metadata": {
    "tags": [],
    "ExecuteTime": {
     "end_time": "2024-09-23T15:22:52.003140Z",
     "start_time": "2024-09-23T15:22:52.001392Z"
    }
   },
   "source": [
    "print(f'El aniversario es en el año {anio}, {mes} {dia}.')"
   ],
   "outputs": [
    {
     "name": "stdout",
     "output_type": "stream",
     "text": [
      "El aniversario es en el año 1983, Diciembre 25.\n"
     ]
    }
   ],
   "execution_count": 8
  },
  {
   "cell_type": "markdown",
   "metadata": {},
   "source": [
    "## Listas (```list```)\n",
    "\n",
    "- Es una secuencia [mutable](https://en.wikibooks.org/wiki/Python_Programming/Data_Types#Mutable_vs_Immutable_Objects) (o cambiable) ordenada de valores, que puede contener constantes o variables. \n",
    "- Cada valor que se encuentra dentro de una lista se denomina elemento y se definen  entre corchetes `[]`, donde los elementos son separados por una coma."
   ]
  },
  {
   "cell_type": "code",
   "metadata": {
    "ExecuteTime": {
     "end_time": "2024-09-23T15:22:52.017408Z",
     "start_time": "2024-09-23T15:22:52.014995Z"
    }
   },
   "source": [
    "[1, 2.1, 0.9764, -4, 5]"
   ],
   "outputs": [
    {
     "data": {
      "text/plain": [
       "[1, 2.1, 0.9764, -4, 5]"
      ]
     },
     "execution_count": 9,
     "metadata": {},
     "output_type": "execute_result"
    }
   ],
   "execution_count": 9
  },
  {
   "cell_type": "code",
   "metadata": {
    "ExecuteTime": {
     "end_time": "2024-09-23T15:22:52.029311Z",
     "start_time": "2024-09-23T15:22:52.027680Z"
    }
   },
   "source": [
    "fruta = ['manzana', 'platano', 'naranja', 'pomelo']"
   ],
   "outputs": [],
   "execution_count": 10
  },
  {
   "cell_type": "code",
   "metadata": {
    "ExecuteTime": {
     "end_time": "2024-09-23T15:22:52.053309Z",
     "start_time": "2024-09-23T15:22:52.051173Z"
    }
   },
   "source": [
    "type(fruta)"
   ],
   "outputs": [
    {
     "data": {
      "text/plain": [
       "list"
      ]
     },
     "execution_count": 11,
     "metadata": {},
     "output_type": "execute_result"
    }
   ],
   "execution_count": 11
  },
  {
   "cell_type": "markdown",
   "metadata": {},
   "source": [
    "## Operadores de secuencias\n",
    "\n",
    "- Los operadores de secuencias permite realizar algunas operaciones entre secuencias. Algunos operadores básicos:"
   ]
  },
  {
   "cell_type": "markdown",
   "metadata": {},
   "source": [
    "| Operación | Símbolo |\n",
    "| :--       | :--:|\n",
    "| Anidar    | + |\n",
    "| Repetir   |  ∗ |\n",
    "| Pertenencia  | in |"
   ]
  },
  {
   "cell_type": "markdown",
   "metadata": {},
   "source": [
    "La operación anidar `+` permite __concatenar secuencias__:"
   ]
  },
  {
   "cell_type": "code",
   "metadata": {
    "ExecuteTime": {
     "end_time": "2024-09-23T15:22:52.065878Z",
     "start_time": "2024-09-23T15:22:52.063755Z"
    }
   },
   "source": [
    "['manzana'] + ['repollo', 'zapallo']"
   ],
   "outputs": [
    {
     "data": {
      "text/plain": [
       "['manzana', 'repollo', 'zapallo']"
      ]
     },
     "execution_count": 12,
     "metadata": {},
     "output_type": "execute_result"
    }
   ],
   "execution_count": 12
  },
  {
   "metadata": {
    "ExecuteTime": {
     "end_time": "2024-09-23T15:22:52.079231Z",
     "start_time": "2024-09-23T15:22:52.077113Z"
    }
   },
   "cell_type": "code",
   "source": "'radio' + 'taxi'",
   "outputs": [
    {
     "data": {
      "text/plain": [
       "'radiotaxi'"
      ]
     },
     "execution_count": 13,
     "metadata": {},
     "output_type": "execute_result"
    }
   ],
   "execution_count": 13
  },
  {
   "metadata": {},
   "cell_type": "markdown",
   "source": "... Concatenar __secuencias del mismo tipo__, en caso contrario,"
  },
  {
   "cell_type": "code",
   "metadata": {
    "ExecuteTime": {
     "end_time": "2024-09-23T15:22:52.358258Z",
     "start_time": "2024-09-23T15:22:52.100538Z"
    }
   },
   "source": [
    "'manzana' + ['repollo', 'zapallo']"
   ],
   "outputs": [
    {
     "ename": "TypeError",
     "evalue": "can only concatenate str (not \"list\") to str",
     "output_type": "error",
     "traceback": [
      "\u001B[0;31m---------------------------------------------------------------------------\u001B[0m",
      "\u001B[0;31mTypeError\u001B[0m                                 Traceback (most recent call last)",
      "Cell \u001B[0;32mIn[14], line 1\u001B[0m\n\u001B[0;32m----> 1\u001B[0m \u001B[38;5;124;43m'\u001B[39;49m\u001B[38;5;124;43mmanzana\u001B[39;49m\u001B[38;5;124;43m'\u001B[39;49m\u001B[43m \u001B[49m\u001B[38;5;241;43m+\u001B[39;49m\u001B[43m \u001B[49m\u001B[43m[\u001B[49m\u001B[38;5;124;43m'\u001B[39;49m\u001B[38;5;124;43mrepollo\u001B[39;49m\u001B[38;5;124;43m'\u001B[39;49m\u001B[43m,\u001B[49m\u001B[43m \u001B[49m\u001B[38;5;124;43m'\u001B[39;49m\u001B[38;5;124;43mzapallo\u001B[39;49m\u001B[38;5;124;43m'\u001B[39;49m\u001B[43m]\u001B[49m\n",
      "\u001B[0;31mTypeError\u001B[0m: can only concatenate str (not \"list\") to str"
     ]
    }
   ],
   "execution_count": 14
  },
  {
   "cell_type": "markdown",
   "metadata": {},
   "source": [
    "La operación repetir `*` __permite concatenar copias de la misma secuencias__:"
   ]
  },
  {
   "cell_type": "code",
   "metadata": {
    "ExecuteTime": {
     "end_time": "2024-09-23T15:23:15.435303Z",
     "start_time": "2024-09-23T15:23:15.432634Z"
    }
   },
   "source": [
    "['manzana'] * 3"
   ],
   "outputs": [
    {
     "data": {
      "text/plain": [
       "['manzana', 'manzana', 'manzana']"
      ]
     },
     "execution_count": 15,
     "metadata": {},
     "output_type": "execute_result"
    }
   ],
   "execution_count": 15
  },
  {
   "cell_type": "markdown",
   "metadata": {},
   "source": [
    "Notar que el tipo de dato derivado de una operación de secuencia, es del mismo tipo de la secuencia que se está operando:"
   ]
  },
  {
   "cell_type": "code",
   "metadata": {
    "ExecuteTime": {
     "end_time": "2024-09-23T15:23:15.560337Z",
     "start_time": "2024-09-23T15:23:15.557863Z"
    }
   },
   "source": [
    "type('auto' + 'movil')"
   ],
   "outputs": [
    {
     "data": {
      "text/plain": [
       "str"
      ]
     },
     "execution_count": 16,
     "metadata": {},
     "output_type": "execute_result"
    }
   ],
   "execution_count": 16
  },
  {
   "cell_type": "code",
   "metadata": {
    "ExecuteTime": {
     "end_time": "2024-09-23T15:23:15.578842Z",
     "start_time": "2024-09-23T15:23:15.576417Z"
    }
   },
   "source": [
    "type('la' * 4)"
   ],
   "outputs": [
    {
     "data": {
      "text/plain": [
       "str"
      ]
     },
     "execution_count": 17,
     "metadata": {},
     "output_type": "execute_result"
    }
   ],
   "execution_count": 17
  },
  {
   "cell_type": "markdown",
   "metadata": {},
   "source": [
    "El operador `in` permite __comprobar si un valor o variable pertenece a una secuencia__. \n",
    "- Es un operador binario con asociatividad por la derecha. \n",
    "- Puede ser utilizado en conjunto con el operador `not` lo que permite comprobar si elemento no pertenece a una secuencia."
   ]
  },
  {
   "cell_type": "code",
   "metadata": {
    "ExecuteTime": {
     "end_time": "2024-09-23T15:23:15.591681Z",
     "start_time": "2024-09-23T15:23:15.589539Z"
    }
   },
   "source": [
    "fruta"
   ],
   "outputs": [
    {
     "data": {
      "text/plain": [
       "['manzana', 'platano', 'naranja', 'pomelo']"
      ]
     },
     "execution_count": 18,
     "metadata": {},
     "output_type": "execute_result"
    }
   ],
   "execution_count": 18
  },
  {
   "cell_type": "code",
   "metadata": {
    "ExecuteTime": {
     "end_time": "2024-09-23T15:23:15.618346Z",
     "start_time": "2024-09-23T15:23:15.616209Z"
    }
   },
   "source": [
    "'manzana' in fruta"
   ],
   "outputs": [
    {
     "data": {
      "text/plain": [
       "True"
      ]
     },
     "execution_count": 19,
     "metadata": {},
     "output_type": "execute_result"
    }
   ],
   "execution_count": 19
  },
  {
   "cell_type": "markdown",
   "metadata": {},
   "source": [
    "### Longitud y posición de elementos\n",
    "\n",
    "Cuando la longitud de una secuencia es `n`, cada elemento tiene como índice los números `0, 1, ..., n-1`. \n",
    "\n",
    "La __longitud de una secuencia__, se puede obtener por medio de la función `len()` que devuelve el número de elementos de una secuencia:"
   ]
  },
  {
   "cell_type": "code",
   "metadata": {
    "ExecuteTime": {
     "end_time": "2024-09-23T15:23:15.633404Z",
     "start_time": "2024-09-23T15:23:15.631273Z"
    }
   },
   "source": [
    "len(fruta)"
   ],
   "outputs": [
    {
     "data": {
      "text/plain": [
       "4"
      ]
     },
     "execution_count": 20,
     "metadata": {},
     "output_type": "execute_result"
    }
   ],
   "execution_count": 20
  },
  {
   "cell_type": "markdown",
   "metadata": {},
   "source": [
    "El ítem `i` de la secuencia es seleccionado de la forma `[i]`."
   ]
  },
  {
   "cell_type": "code",
   "metadata": {
    "tags": [],
    "ExecuteTime": {
     "end_time": "2024-09-23T15:23:15.665792Z",
     "start_time": "2024-09-23T15:23:15.663570Z"
    }
   },
   "source": "fruta[2] # tercer elemento",
   "outputs": [
    {
     "data": {
      "text/plain": [
       "'naranja'"
      ]
     },
     "execution_count": 21,
     "metadata": {},
     "output_type": "execute_result"
    }
   ],
   "execution_count": 21
  },
  {
   "cell_type": "code",
   "metadata": {
    "ExecuteTime": {
     "end_time": "2024-09-23T15:23:15.678699Z",
     "start_time": "2024-09-23T15:23:15.676363Z"
    }
   },
   "source": "fruta[-1] # último elemento ",
   "outputs": [
    {
     "data": {
      "text/plain": [
       "'pomelo'"
      ]
     },
     "execution_count": 22,
     "metadata": {},
     "output_type": "execute_result"
    }
   ],
   "execution_count": 22
  },
  {
   "cell_type": "code",
   "metadata": {
    "ExecuteTime": {
     "end_time": "2024-09-23T15:23:15.693849Z",
     "start_time": "2024-09-23T15:23:15.691755Z"
    }
   },
   "source": "fruta[3] # cuarto elemento",
   "outputs": [
    {
     "data": {
      "text/plain": [
       "'pomelo'"
      ]
     },
     "execution_count": 23,
     "metadata": {},
     "output_type": "execute_result"
    }
   ],
   "execution_count": 23
  },
  {
   "cell_type": "markdown",
   "metadata": {},
   "source": [
    "Para conocer la __posición de un valor__ que existe en una secuencia, la función `index()` devuelve el índice del valor que pertenece a una secuencia:"
   ]
  },
  {
   "cell_type": "code",
   "metadata": {
    "ExecuteTime": {
     "end_time": "2024-09-23T15:23:15.717463Z",
     "start_time": "2024-09-23T15:23:15.715154Z"
    }
   },
   "source": [
    "fruta.index('platano')"
   ],
   "outputs": [
    {
     "data": {
      "text/plain": [
       "1"
      ]
     },
     "execution_count": 24,
     "metadata": {},
     "output_type": "execute_result"
    }
   ],
   "execution_count": 24
  },
  {
   "cell_type": "markdown",
   "metadata": {},
   "source": [
    "Si el valor está duplicado, la función entrega la primera ocurrencia."
   ]
  },
  {
   "cell_type": "code",
   "metadata": {
    "ExecuteTime": {
     "end_time": "2024-09-23T15:23:15.750245Z",
     "start_time": "2024-09-23T15:23:15.747816Z"
    }
   },
   "source": [
    "'platano'.index('a')"
   ],
   "outputs": [
    {
     "data": {
      "text/plain": [
       "2"
      ]
     },
     "execution_count": 25,
     "metadata": {},
     "output_type": "execute_result"
    }
   ],
   "execution_count": 25
  },
  {
   "cell_type": "markdown",
   "metadata": {},
   "source": [
    "Además, la función `index()` permite indicar la posición de ínicio de búsqueda de la ocurrencia del valor sobre una secuencia. \n",
    "\n",
    "Por ejemplo, en la siguiente expresión, la función devuelve la ocurrencia del valor `'o'` encontrado en el segmento `cadena[4:]` de la secuencia `'automovil'`:"
   ]
  },
  {
   "cell_type": "code",
   "metadata": {
    "ExecuteTime": {
     "end_time": "2024-09-23T15:23:15.777543Z",
     "start_time": "2024-09-23T15:23:15.775128Z"
    }
   },
   "source": [
    "cadena = 'automovil'\n",
    "cadena.index('o', 4)"
   ],
   "outputs": [
    {
     "data": {
      "text/plain": [
       "5"
      ]
     },
     "execution_count": 26,
     "metadata": {},
     "output_type": "execute_result"
    }
   ],
   "execution_count": 26
  },
  {
   "cell_type": "markdown",
   "metadata": {},
   "source": [
    "A continuación se presenta una sentencia que identifica la segunda ocurrencia del caracter <code>'o'</code> sobre la secuencia `cadena`:"
   ]
  },
  {
   "cell_type": "code",
   "metadata": {
    "ExecuteTime": {
     "end_time": "2024-09-23T15:23:15.796725Z",
     "start_time": "2024-09-23T15:23:15.794238Z"
    }
   },
   "source": [
    "cadena.index('o', cadena.index('o') + 1)"
   ],
   "outputs": [
    {
     "data": {
      "text/plain": [
       "5"
      ]
     },
     "execution_count": 27,
     "metadata": {},
     "output_type": "execute_result"
    }
   ],
   "execution_count": 27
  },
  {
   "cell_type": "markdown",
   "metadata": {},
   "source": [
    "## Segmentación\n",
    "\n",
    "Las secuencias también soportan la __segmentación__ `[i:j]`. Esta operación, selecciona todos los elementos con índice `k` tal que `i <= k < j`. \n",
    "\n",
    "Cuando se utiliza como una expresión, el segmento es una secuencia del mismo tipo, lo que implica que el conjunto de índices se vuelve a numerar para que comience en `0`.\n",
    "\n",
    "Por ejemplo, aplicando segmentación sobre un `str`:"
   ]
  },
  {
   "cell_type": "code",
   "metadata": {
    "tags": [],
    "ExecuteTime": {
     "end_time": "2024-09-23T15:23:15.803256Z",
     "start_time": "2024-09-23T15:23:15.801790Z"
    }
   },
   "source": [
    "print(cadena)"
   ],
   "outputs": [
    {
     "name": "stdout",
     "output_type": "stream",
     "text": [
      "automovil\n"
     ]
    }
   ],
   "execution_count": 28
  },
  {
   "cell_type": "code",
   "metadata": {
    "ExecuteTime": {
     "end_time": "2024-09-23T15:23:15.832197Z",
     "start_time": "2024-09-23T15:23:15.829758Z"
    }
   },
   "source": [
    "cadena[0:4]"
   ],
   "outputs": [
    {
     "data": {
      "text/plain": [
       "'auto'"
      ]
     },
     "execution_count": 29,
     "metadata": {},
     "output_type": "execute_result"
    }
   ],
   "execution_count": 29
  },
  {
   "cell_type": "markdown",
   "metadata": {},
   "source": [
    "Otro ejemplo, utilizando la ocurrencia de elementos:"
   ]
  },
  {
   "cell_type": "code",
   "metadata": {
    "ExecuteTime": {
     "end_time": "2024-09-23T15:23:15.855212Z",
     "start_time": "2024-09-23T15:23:15.852711Z"
    }
   },
   "source": [
    "cadena = 'automovil'\n",
    "cadena[0: cadena.index('o') + 1]"
   ],
   "outputs": [
    {
     "data": {
      "text/plain": [
       "'auto'"
      ]
     },
     "execution_count": 30,
     "metadata": {},
     "output_type": "execute_result"
    }
   ],
   "execution_count": 30
  },
  {
   "cell_type": "markdown",
   "metadata": {},
   "source": [
    "Aplicando la segmentación sobre una `list`:"
   ]
  },
  {
   "cell_type": "code",
   "metadata": {
    "scrolled": true,
    "ExecuteTime": {
     "end_time": "2024-09-23T15:23:15.879297Z",
     "start_time": "2024-09-23T15:23:15.877182Z"
    }
   },
   "source": [
    "fruta[:2]"
   ],
   "outputs": [
    {
     "data": {
      "text/plain": [
       "['manzana', 'platano']"
      ]
     },
     "execution_count": 31,
     "metadata": {},
     "output_type": "execute_result"
    }
   ],
   "execution_count": 31
  },
  {
   "cell_type": "code",
   "metadata": {
    "ExecuteTime": {
     "end_time": "2024-09-23T15:23:15.892307Z",
     "start_time": "2024-09-23T15:23:15.890237Z"
    }
   },
   "source": [
    "cadena[3:]"
   ],
   "outputs": [
    {
     "data": {
      "text/plain": [
       "'omovil'"
      ]
     },
     "execution_count": 32,
     "metadata": {},
     "output_type": "execute_result"
    }
   ],
   "execution_count": 32
  },
  {
   "cell_type": "markdown",
   "metadata": {},
   "source": [
    "## Mutación de secuencias\n",
    "\n",
    "- Python proporciona un conjunto operaciones que permiten __modificar__, __agregar__ y __eliminar__ valores de una secuencia mutable.\n",
    "- Para modificar elementos de una secuencia, __se selecciona dicho elemento mediante su índice__ y se le asigna el nuevo valor."
   ]
  },
  {
   "cell_type": "markdown",
   "metadata": {},
   "source": [
    "Para __agregar elementos la final de una secuencia__, se emplea la función `append()`:"
   ]
  },
  {
   "cell_type": "code",
   "metadata": {
    "ExecuteTime": {
     "end_time": "2024-09-23T15:23:15.912498Z",
     "start_time": "2024-09-23T15:23:15.910158Z"
    }
   },
   "source": [
    "fruta"
   ],
   "outputs": [
    {
     "data": {
      "text/plain": [
       "['manzana', 'platano', 'naranja', 'pomelo']"
      ]
     },
     "execution_count": 33,
     "metadata": {},
     "output_type": "execute_result"
    }
   ],
   "execution_count": 33
  },
  {
   "cell_type": "code",
   "metadata": {
    "ExecuteTime": {
     "end_time": "2024-09-23T15:23:15.931882Z",
     "start_time": "2024-09-23T15:23:15.929430Z"
    }
   },
   "source": [
    "fruta.append('melon')\n",
    "fruta"
   ],
   "outputs": [
    {
     "data": {
      "text/plain": [
       "['manzana', 'platano', 'naranja', 'pomelo', 'melon']"
      ]
     },
     "execution_count": 34,
     "metadata": {},
     "output_type": "execute_result"
    }
   ],
   "execution_count": 34
  },
  {
   "cell_type": "markdown",
   "metadata": {},
   "source": [
    "Para __insertar un nuevo valor__ en la posición cuyo índice es `k` se utiliza la operación `insert()`. Por ejemplo, para insertar un elemento en la cuarta posición:"
   ]
  },
  {
   "cell_type": "code",
   "metadata": {
    "ExecuteTime": {
     "end_time": "2024-09-23T15:23:15.952581Z",
     "start_time": "2024-09-23T15:23:15.950251Z"
    }
   },
   "source": [
    "fruta.insert(3, 'sandia')\n",
    "fruta"
   ],
   "outputs": [
    {
     "data": {
      "text/plain": [
       "['manzana', 'platano', 'naranja', 'sandia', 'pomelo', 'melon']"
      ]
     },
     "execution_count": 35,
     "metadata": {},
     "output_type": "execute_result"
    }
   ],
   "execution_count": 35
  },
  {
   "cell_type": "markdown",
   "metadata": {},
   "source": [
    "Para __eliminar un valor__ de una lista se utiliza la función `remove()`. Si el valor a eliminar está repetido, se elimina sólo su primera aparición:"
   ]
  },
  {
   "cell_type": "code",
   "metadata": {
    "ExecuteTime": {
     "end_time": "2024-09-23T15:23:15.977446Z",
     "start_time": "2024-09-23T15:23:15.974972Z"
    }
   },
   "source": [
    "fruta.remove('platano')\n",
    "fruta"
   ],
   "outputs": [
    {
     "data": {
      "text/plain": [
       "['manzana', 'naranja', 'sandia', 'pomelo', 'melon']"
      ]
     },
     "execution_count": 36,
     "metadata": {},
     "output_type": "execute_result"
    }
   ],
   "execution_count": 36
  },
  {
   "cell_type": "markdown",
   "metadata": {},
   "source": [
    "## Asignación de referencias\n",
    "\n",
    "- En Python, __las listas son almacenadas mediante referencias a las secuencias de elementos__.\n",
    "- La asignación del contenido de una variable que almacena una lista, supone la copia de la referencia hacia dichos elementos de la lista, almacenados en una zona de memoria. Una interpretación gráfica:"
   ]
  },
  {
   "metadata": {
    "ExecuteTime": {
     "end_time": "2024-09-23T15:23:15.988782Z",
     "start_time": "2024-09-23T15:23:15.986486Z"
    }
   },
   "cell_type": "code",
   "source": [
    "from IPython.display import Image\n",
    "Image(url='img/list_assignment.svg', width=250)"
   ],
   "outputs": [
    {
     "data": {
      "text/html": [
       "<img src=\"img/list_assignment.svg\" width=\"250\"/>"
      ],
      "text/plain": [
       "<IPython.core.display.Image object>"
      ]
     },
     "execution_count": 37,
     "metadata": {},
     "output_type": "execute_result"
    }
   ],
   "execution_count": 37
  },
  {
   "cell_type": "code",
   "metadata": {
    "ExecuteTime": {
     "end_time": "2024-09-23T15:23:16.002667Z",
     "start_time": "2024-09-23T15:23:16.001091Z"
    }
   },
   "source": [
    "a = [1, 4, 5]\n",
    "b = [1, 4, 5]\n",
    "c = a"
   ],
   "outputs": [],
   "execution_count": 38
  },
  {
   "cell_type": "code",
   "metadata": {
    "ExecuteTime": {
     "end_time": "2024-09-23T15:23:16.032271Z",
     "start_time": "2024-09-23T15:23:16.029947Z"
    }
   },
   "source": [
    "a"
   ],
   "outputs": [
    {
     "data": {
      "text/plain": [
       "[1, 4, 5]"
      ]
     },
     "execution_count": 39,
     "metadata": {},
     "output_type": "execute_result"
    }
   ],
   "execution_count": 39
  },
  {
   "cell_type": "code",
   "metadata": {
    "ExecuteTime": {
     "end_time": "2024-09-23T15:23:16.055706Z",
     "start_time": "2024-09-23T15:23:16.053327Z"
    }
   },
   "source": [
    "b"
   ],
   "outputs": [
    {
     "data": {
      "text/plain": [
       "[1, 4, 5]"
      ]
     },
     "execution_count": 40,
     "metadata": {},
     "output_type": "execute_result"
    }
   ],
   "execution_count": 40
  },
  {
   "cell_type": "code",
   "metadata": {
    "ExecuteTime": {
     "end_time": "2024-09-23T15:23:16.068836Z",
     "start_time": "2024-09-23T15:23:16.066648Z"
    }
   },
   "source": [
    "c"
   ],
   "outputs": [
    {
     "data": {
      "text/plain": [
       "[1, 4, 5]"
      ]
     },
     "execution_count": 41,
     "metadata": {},
     "output_type": "execute_result"
    }
   ],
   "execution_count": 41
  },
  {
   "cell_type": "markdown",
   "metadata": {},
   "source": [
    "Notar que la comparación entre las distintas variables entrega como resultado que son iguales:"
   ]
  },
  {
   "cell_type": "code",
   "metadata": {
    "ExecuteTime": {
     "end_time": "2024-09-23T15:23:16.094192Z",
     "start_time": "2024-09-23T15:23:16.091790Z"
    }
   },
   "source": [
    "(a == b) and (a == c) and (b == c)"
   ],
   "outputs": [
    {
     "data": {
      "text/plain": [
       "True"
      ]
     },
     "execution_count": 42,
     "metadata": {},
     "output_type": "execute_result"
    }
   ],
   "execution_count": 42
  },
  {
   "cell_type": "markdown",
   "metadata": {},
   "source": [
    "Para estos casos, cuando dos (o más) variables hacen referencia a la misma zona en memoria, el operador `is` __permite identificar si dos objetos residen en la misma zona de memoria__."
   ]
  },
  {
   "cell_type": "code",
   "metadata": {
    "ExecuteTime": {
     "end_time": "2024-09-23T15:23:16.108318Z",
     "start_time": "2024-09-23T15:23:16.106067Z"
    }
   },
   "source": [
    "b is a"
   ],
   "outputs": [
    {
     "data": {
      "text/plain": [
       "False"
      ]
     },
     "execution_count": 43,
     "metadata": {},
     "output_type": "execute_result"
    }
   ],
   "execution_count": 43
  },
  {
   "cell_type": "code",
   "metadata": {
    "ExecuteTime": {
     "end_time": "2024-09-23T15:23:16.134367Z",
     "start_time": "2024-09-23T15:23:16.132078Z"
    }
   },
   "source": [
    "c is a"
   ],
   "outputs": [
    {
     "data": {
      "text/plain": [
       "True"
      ]
     },
     "execution_count": 44,
     "metadata": {},
     "output_type": "execute_result"
    }
   ],
   "execution_count": 44
  },
  {
   "cell_type": "markdown",
   "metadata": {},
   "source": [
    "Notar que, al realizar una __asignación de una variable a partir de referencias, los elementos de dicha variable no son independientes__. Esto es, si se modifica la variable, entonces se modifican los elementos a los cuales hacen referencia."
   ]
  },
  {
   "cell_type": "code",
   "metadata": {
    "scrolled": true,
    "tags": [],
    "ExecuteTime": {
     "end_time": "2024-09-23T15:23:16.148022Z",
     "start_time": "2024-09-23T15:23:16.146374Z"
    }
   },
   "source": [
    "a.append(8)\n",
    "print(c)"
   ],
   "outputs": [
    {
     "name": "stdout",
     "output_type": "stream",
     "text": [
      "[1, 4, 5, 8]\n"
     ]
    }
   ],
   "execution_count": 45
  },
  {
   "metadata": {},
   "cell_type": "markdown",
   "source": "## Iterar sobre secuencias"
  },
  {
   "metadata": {},
   "cell_type": "markdown",
   "source": "Es posible recorrer una secuencia (iterar) utilizando estructuras de control repetitivas. Por ejemplo, usando un bucle `while`:"
  },
  {
   "metadata": {
    "ExecuteTime": {
     "end_time": "2024-09-23T15:23:16.163441Z",
     "start_time": "2024-09-23T15:23:16.161519Z"
    }
   },
   "cell_type": "code",
   "source": [
    "palabra = 'computador'\n",
    "i = 0\n",
    "while i < len(palabra):\n",
    "    print(palabra[i])\n",
    "    i += 1"
   ],
   "outputs": [
    {
     "name": "stdout",
     "output_type": "stream",
     "text": [
      "c\n",
      "o\n",
      "m\n",
      "p\n",
      "u\n",
      "t\n",
      "a\n",
      "d\n",
      "o\n",
      "r\n"
     ]
    }
   ],
   "execution_count": 46
  },
  {
   "metadata": {},
   "cell_type": "markdown",
   "source": "Usando un bucle `for`:"
  },
  {
   "metadata": {
    "ExecuteTime": {
     "end_time": "2024-09-23T15:23:16.198692Z",
     "start_time": "2024-09-23T15:23:16.196651Z"
    }
   },
   "cell_type": "code",
   "source": [
    "for letra in palabra:\n",
    "    print(letra)"
   ],
   "outputs": [
    {
     "name": "stdout",
     "output_type": "stream",
     "text": [
      "c\n",
      "o\n",
      "m\n",
      "p\n",
      "u\n",
      "t\n",
      "a\n",
      "d\n",
      "o\n",
      "r\n"
     ]
    }
   ],
   "execution_count": 47
  }
 ],
 "metadata": {
  "interpreter": {
   "hash": "202d1d44df6c15928d09411a0b718e4d5217eaa1aee5fa2339bd60bdd09bd4e9"
  },
  "kernelspec": {
   "display_name": "Python 3 (ipykernel)",
   "language": "python",
   "name": "python3"
  },
  "language_info": {
   "codemirror_mode": {
    "name": "ipython",
    "version": 3
   },
   "file_extension": ".py",
   "mimetype": "text/x-python",
   "name": "python",
   "nbconvert_exporter": "python",
   "pygments_lexer": "ipython3",
   "version": "3.10.10"
  }
 },
 "nbformat": 4,
 "nbformat_minor": 2
}
