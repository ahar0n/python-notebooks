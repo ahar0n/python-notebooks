{
 "cells": [
  {
   "cell_type": "markdown",
   "source": "# Errores y tratamiento de excepciones",
   "metadata": {}
  },
  {
   "cell_type": "markdown",
   "source": [
    "La __verificación__ consiste en ejecutar el programa utilizando un conjunto de datos de prueba, que permiten determinar si un programa contiene errores.\n",
    "\n",
    "La __depuración__ (_debugging_), es el proceso de encontrar y corregir errores en un programa.\n",
    "\n",
    "Cuando se ejecuta un programa se pueden producir 3 tipos de errores:\n",
    "\n",
    "1. Errores de sintaxis\n",
    "2. Errores de semántica\n",
    "3. Errores en tiempo de ejecución o excepciones\n"
   ],
   "metadata": {}
  },
  {
   "metadata": {},
   "cell_type": "markdown",
   "source": "## Errores de sintaxis"
  },
  {
   "cell_type": "markdown",
   "source": [
    "Son errores que se producen por __uso incorrecto de las reglas del lenguaje de programación__.\n",
    "- Se notifican antes de que el programa comience a ejecutarse.\n",
    "- Típicamente, se indica la ubicación del error después de que realmente ocurra.\n",
    "\n",
    "Por lo tanto, cuando se reporta un error de sintaxis debe revisarse desde donde se reporta el error hacia atrás."
   ],
   "metadata": {}
  },
  {
   "cell_type": "code",
   "execution_count": 11,
   "source": [
    "5 / (2 ** 2"
   ],
   "outputs": [
    {
     "output_type": "error",
     "ename": "SyntaxError",
     "evalue": "unexpected EOF while parsing (<ipython-input-11-dc5914a9849b>, line 1)",
     "traceback": [
      "\u001B[0;36m  File \u001B[0;32m\"<ipython-input-11-dc5914a9849b>\"\u001B[0;36m, line \u001B[0;32m1\u001B[0m\n\u001B[0;31m    5 / (2 ** 2\u001B[0m\n\u001B[0m               ^\u001B[0m\n\u001B[0;31mSyntaxError\u001B[0m\u001B[0;31m:\u001B[0m unexpected EOF while parsing\n"
     ]
    }
   ],
   "metadata": {}
  },
  {
   "cell_type": "markdown",
   "source": [
    "El error de sintaxis anterior (inesperado durante el análisis) indica que se alcanzó el final del código fuente antes de que se completaran todos los bloques de código."
   ],
   "metadata": {}
  },
  {
   "metadata": {},
   "cell_type": "markdown",
   "source": "## Errores de semántica"
  },
  {
   "metadata": {},
   "cell_type": "markdown",
   "source": [
    "Los errores de semántica se producen en la lógica del programa y __la fuente de este tipo de error se encuentra en el diseño del algoritmo__.\n",
    "\n",
    "Para corregirlos se debe revisar la fase de diseño del algoritmo, modificar el algoritmo y volver a implementar en el código fuente."
   ]
  },
  {
   "cell_type": "markdown",
   "source": "## Errores en tiempo de ejecución (_runtime error_)",
   "metadata": {}
  },
  {
   "metadata": {},
   "cell_type": "markdown",
   "source": [
    "Los [errores en tiempo de ejecución](https://docs.python.org/3/library/exceptions.html#concrete-exceptions) son __producidos por instrucciones que son interpretadas por el ordenador pero que no se pueden ejecutar__ (p. ej., divisiones por cero, raíz cuadrada de números negativos).\n",
    "\n",
    "- Se detectan mientras el programa está en ejecución.\n",
    "- La ejecución se detiene y se muestra el mensaje de error.\n",
    "\n",
    "Un ejemplo, es el que se produce cuando se realiza una __división por cero__:"
   ]
  },
  {
   "cell_type": "code",
   "execution_count": 12,
   "source": [
    "5 / 0"
   ],
   "outputs": [
    {
     "output_type": "error",
     "ename": "ZeroDivisionError",
     "evalue": "division by zero",
     "traceback": [
      "\u001B[0;31m---------------------------------------------------------------------------\u001B[0m",
      "\u001B[0;31mZeroDivisionError\u001B[0m                         Traceback (most recent call last)",
      "\u001B[0;32m<ipython-input-12-adafc2937013>\u001B[0m in \u001B[0;36m<module>\u001B[0;34m\u001B[0m\n\u001B[0;32m----> 1\u001B[0;31m \u001B[0;36m5\u001B[0m \u001B[0;34m/\u001B[0m \u001B[0;36m0\u001B[0m\u001B[0;34m\u001B[0m\u001B[0;34m\u001B[0m\u001B[0m\n\u001B[0m",
      "\u001B[0;31mZeroDivisionError\u001B[0m: division by zero"
     ]
    }
   ],
   "metadata": {}
  },
  {
   "cell_type": "markdown",
   "source": [
    "Un __error de nombre__ se genera cuando la primera operación se realiza sobre variables que no han sido asignadas:"
   ],
   "metadata": {}
  },
  {
   "cell_type": "code",
   "execution_count": 13,
   "source": [
    "a + 2"
   ],
   "outputs": [
    {
     "output_type": "error",
     "ename": "NameError",
     "evalue": "name 'a' is not defined",
     "traceback": [
      "\u001B[0;31m---------------------------------------------------------------------------\u001B[0m",
      "\u001B[0;31mNameError\u001B[0m                                 Traceback (most recent call last)",
      "\u001B[0;32m<ipython-input-13-ead3c2111b4d>\u001B[0m in \u001B[0;36m<module>\u001B[0;34m\u001B[0m\n\u001B[0;32m----> 1\u001B[0;31m \u001B[0ma\u001B[0m \u001B[0;34m+\u001B[0m \u001B[0;36m2\u001B[0m\u001B[0;34m\u001B[0m\u001B[0;34m\u001B[0m\u001B[0m\n\u001B[0m",
      "\u001B[0;31mNameError\u001B[0m: name 'a' is not defined"
     ]
    }
   ],
   "metadata": {}
  },
  {
   "cell_type": "markdown",
   "source": [
    "Un __error de tipo__, ocurre al aplicar una operación sobre operandos de tipos que no soportan dicha operación:"
   ],
   "metadata": {}
  },
  {
   "cell_type": "code",
   "execution_count": 14,
   "source": [
    "5 + 'a'"
   ],
   "outputs": [
    {
     "output_type": "error",
     "ename": "TypeError",
     "evalue": "unsupported operand type(s) for +: 'int' and 'str'",
     "traceback": [
      "\u001B[0;31m---------------------------------------------------------------------------\u001B[0m",
      "\u001B[0;31mTypeError\u001B[0m                                 Traceback (most recent call last)",
      "\u001B[0;32m<ipython-input-14-f2c23ab0a5e1>\u001B[0m in \u001B[0;36m<module>\u001B[0;34m\u001B[0m\n\u001B[0;32m----> 1\u001B[0;31m \u001B[0;36m5\u001B[0m \u001B[0;34m+\u001B[0m \u001B[0;34m'a'\u001B[0m\u001B[0;34m\u001B[0m\u001B[0;34m\u001B[0m\u001B[0m\n\u001B[0m",
      "\u001B[0;31mTypeError\u001B[0m: unsupported operand type(s) for +: 'int' and 'str'"
     ]
    }
   ],
   "metadata": {}
  },
  {
   "cell_type": "markdown",
   "source": [
    "El __error de valor__ ocurre cuando las operaciones no tienen sentido sobre los operandos y es indicado con la excepción:"
   ],
   "metadata": {}
  },
  {
   "cell_type": "code",
   "execution_count": 15,
   "source": [
    "int('a')"
   ],
   "outputs": [
    {
     "output_type": "error",
     "ename": "ValueError",
     "evalue": "invalid literal for int() with base 10: 'a'",
     "traceback": [
      "\u001B[0;31m---------------------------------------------------------------------------\u001B[0m",
      "\u001B[0;31mValueError\u001B[0m                                Traceback (most recent call last)",
      "\u001B[0;32m<ipython-input-15-233884bacd4e>\u001B[0m in \u001B[0;36m<module>\u001B[0;34m\u001B[0m\n\u001B[0;32m----> 1\u001B[0;31m \u001B[0mint\u001B[0m\u001B[0;34m(\u001B[0m\u001B[0;34m'a'\u001B[0m\u001B[0;34m)\u001B[0m\u001B[0;34m\u001B[0m\u001B[0;34m\u001B[0m\u001B[0m\n\u001B[0m",
      "\u001B[0;31mValueError\u001B[0m: invalid literal for int() with base 10: 'a'"
     ]
    }
   ],
   "metadata": {}
  },
  {
   "metadata": {},
   "cell_type": "markdown",
   "source": "## Captura y tratamiento de excepciones"
  },
  {
   "metadata": {},
   "cell_type": "markdown",
   "source": [
    "Las excepciones o errores en tiempo de ejecución en Python pueden ser tratados por medio del mecanismo de manejo de excepciones.\n",
    "\n",
    "La estructura de control [`try-except`](https://docs.python.org/3/tutorial/errors.html#handling-exceptions) permite capturar y tratar las excepciones."
   ]
  },
  {
   "metadata": {
    "ExecuteTime": {
     "end_time": "2025-08-24T23:01:40.075447Z",
     "start_time": "2025-08-24T23:01:40.070293Z"
    }
   },
   "cell_type": "code",
   "source": [
    "from IPython.display import Image\n",
    "\n",
    "Image(url=\"img/try-except.svg\", height=350)"
   ],
   "outputs": [
    {
     "data": {
      "text/html": [
       "<img src=\"img/try-except.svg\" height=\"350\"/>"
      ],
      "text/plain": [
       "<IPython.core.display.Image object>"
      ]
     },
     "execution_count": 1,
     "metadata": {},
     "output_type": "execute_result"
    }
   ],
   "execution_count": 1
  },
  {
   "metadata": {},
   "cell_type": "markdown",
   "source": [
    "- Cada excepción está asociada a un tipo que puede ser identificado.\n",
    "- Excepciones multiples, pueden ser tratadas de forma similar a la estructura condicional anidada compacta `elif`.\n",
    "- La excepción vacía (no identificada), actúa como para cuaquier excepción detectada.\n",
    "\n",
    "Las excepciones permiten proteger a los usuarios de acciones inesperadas por parte de los programas."
   ]
  },
  {
   "metadata": {},
   "cell_type": "markdown",
   "source": [
    "### Ejemplo: Solución ecuación de segundo grado\n",
    "\n",
    "A continuación se presenta una nueva versión del programa diseñado para resolver una ecuación de segundo grado, incorporando el tratamiento de la excepción `ZeroDivisionError`."
   ]
  },
  {
   "metadata": {},
   "cell_type": "code",
   "outputs": [],
   "execution_count": null,
   "source": [
    "# Solicitar entradas\n",
    "try:\n",
    "    # Validar entradas\n",
    "    a = float(input('a? '))\n",
    "    if a != 0:\n",
    "        b = float(input('b? '))\n",
    "        c = float(input('c? '))\n",
    "        entradas_validas = True\n",
    "    else:\n",
    "        print(\"El coeficiente a debe ser distinto de cero.\")\n",
    "        entradas_validas = False\n",
    "\n",
    "except ValueError:\n",
    "    print(\"Los coeficientes de la ecuación deben ser numéricos\")\n",
    "    entradas_validas = False\n",
    "\n",
    "if entradas_validas:\n",
    "    # Resolver ecuación\n",
    "    delta = b**2 - (4*a*c)\n",
    "\n",
    "    if delta > 0:\n",
    "        x1 = (-b + delta**0.5) / (2*a)\n",
    "        x2 = (-b - delta**0.5) / (2*a)\n",
    "        # Mostrar los resultados\n",
    "        print('x1 = {}, x2 = {}'.format(x1, x2))\n",
    "    elif delta == 0:\n",
    "        x = -b / (2*a)\n",
    "        # Mostrar los resultados\n",
    "        print('x1 = x2 = {}'.format(x))\n",
    "    else:\n",
    "        # Mostrar los resultados\n",
    "        print('Solución en los complejos!')"
   ]
  },
  {
   "metadata": {},
   "cell_type": "markdown",
   "source": [
    "En el programa...\n",
    "\n",
    "- Al momento que se lance una excepción en la ejecución de las líneas 08-16, la ejecución se dirigirá directamente al bloque de código que depende de la sentencia `except`.\n",
    "- En este caso particular, existe la posibilidad que suceda la excepción de tipo `ZeroDivisionError`."
   ]
  },
  {
   "cell_type": "markdown",
   "source": "## Actividad",
   "metadata": {}
  },
  {
   "metadata": {},
   "cell_type": "markdown",
   "source": [
    "1. Describa brevemente los siguientes errores y presente un ejemplo (con su contexto) para cada tipo.\n",
    "    - `IndexError`\n",
    "    - `OverflowError`\n",
    "    - `TabError`\n",
    "2. Analizar el programa presentado anteriormente (resolución ecuación 2do grado) y abordar las siguientes tareas,\n",
    "    - Identificar todas las excepciones que podrían ocurrir a lo largo de la ejecución del programa.\n",
    "    - Verificar y aplicar las validaciones necesarias para evitar la ejecución de acciones inesperadas."
   ]
  }
 ],
 "metadata": {
  "language_info": {
   "codemirror_mode": {
    "name": "ipython",
    "version": 3
   },
   "file_extension": ".py",
   "mimetype": "text/x-python",
   "name": "python",
   "nbconvert_exporter": "python",
   "pygments_lexer": "ipython3",
   "version": "3.7.6-final"
  },
  "orig_nbformat": 2,
  "kernelspec": {
   "name": "python3",
   "display_name": "Python 3 (ipykernel)",
   "language": "python"
  }
 },
 "nbformat": 4,
 "nbformat_minor": 2
}
