{
 "cells": [
  {
   "cell_type": "markdown",
   "metadata": {},
   "source": [
    "# Expresiones y sentencias básicas"
   ]
  },
  {
   "cell_type": "markdown",
   "metadata": {},
   "source": [
    "## Sentencias\n",
    "\n",
    "Un algoritmo se representa por medio de un conjunto de sentencias del lenguaje de programación, de forma que cada una de ellas es una orden que indica al computador la realización de una tarea específica.\n",
    "\n",
    "- Una __sentencia__ es el __elemento independiente más pequeño__ de un lenguaje de programación imperativo que expresa alguna acción a realizar.\n",
    "\n",
    "- Una sentencia puede tener diferentes componentes internos, como por ejemplo, instrucciones y expresiones, entre otros."
   ]
  },
  {
   "cell_type": "markdown",
   "metadata": {},
   "source": [
    "## Expresiones\n",
    "\n",
    "Una __expresión__ es combinación de valores y operaciones que, al ser evaluados, entregan un valor como resultado. Este resultado dependerá de los elementos que componen la expresión:\n",
    "\n",
    "- __Literales__, valores constantes de algún tipo (e.g. números, cadenas de texto) incorporado en el lenguaje[...](https://docs.python.org/3/reference/lexical_analysis.html#literals)\n",
    "- __Operadores__, símbolos en una expresión que representan una operación aplicada a los valores sobre los que actúa, estos últimos se denominan operandos. Un operador binario tiene dos operandos, mientras que un operador unario tiene solo uno[...](https://docs.python.org/3/reference/lexical_analysis.html#operators)\n",
    "- __Variables__, ubicaciones de almacenamiento asociada con un nombre simbólico (identificador), que contiene una cantidad conocida o desconocida (valor). El identificador puede estar asociado a un valor durante el tiempo de ejecución, el cual puede cambiar durante la ejecución del programa.\n",
    "- __Funciones__, bloque de código organizado y reutilizable que se utiliza para realizar una sola acción."
   ]
  },
  {
   "cell_type": "markdown",
   "metadata": {},
   "source": [
    "## Asignación\n",
    "\n",
    "- La asignación es una __operación que asocia un identificador (o nombre) al resultado de una expresión__. \n",
    "- El identificador es denominado __variable__.\n",
    "\n",
    "La asignación en Python, se realiza por medio del __operador asignación__ (símbolo `=`):"
   ]
  },
  {
   "cell_type": "code",
   "metadata": {},
   "source": [
    "c = 4 "
   ],
   "outputs": [],
   "execution_count": null
  },
  {
   "cell_type": "markdown",
   "metadata": {},
   "source": [
    "En una asignación,\n",
    "\n",
    "1. la expresión de la derecha del símbolo `=` es evaluada. \n",
    "2. una vez obtenido el resultado, el valor de la variable (izquierda del símbolo `=`) es reemplazado por el resultado.\n",
    "\n",
    "Por lo tanto, es posible una asignación como la siguiente:"
   ]
  },
  {
   "cell_type": "code",
   "metadata": {},
   "source": [
    "c = c + 2"
   ],
   "outputs": [],
   "execution_count": null
  },
  {
   "cell_type": "markdown",
   "metadata": {},
   "source": [
    "NOTA: Los __identificadores__ de las variables -tal como en otros casos- deben cumplir las reglas impuestas por el lenguaje de programación para la construcción del identificador.\n",
    "\n",
    "Casos particulares de variables, de acuerdo con el rol que desempeñan en un algoritmo, son: contadores y acumuladores."
   ]
  },
  {
   "cell_type": "markdown",
   "metadata": {},
   "source": [
    "- Un __contador__ es una variable cuyo valor se __incrementa o disminuye de forma constante__ cada vez que se ejecuta una acción que lo contiene."
   ]
  },
  {
   "cell_type": "code",
   "metadata": {},
   "source": [
    "i = 0\n",
    "c = 1\n",
    "i = i + c\n",
    "i = i + c"
   ],
   "outputs": [],
   "execution_count": null
  },
  {
   "cell_type": "markdown",
   "metadata": {},
   "source": [
    "- Un __acumulador__ es una variable cuyo valor se __incrementan o disminuyen de forma no constante__ a lo largo de un proceso."
   ]
  },
  {
   "cell_type": "code",
   "metadata": {},
   "source": [
    "a = 0\n",
    "a = a + 25\n",
    "a = a + 1"
   ],
   "outputs": [],
   "execution_count": null
  },
  {
   "cell_type": "markdown",
   "metadata": {},
   "source": [
    "### Operadores compuestos de asignación\n",
    "Los operadores compuestos de asignación que permiten modificar y asignar el valor de una misma variable."
   ]
  },
  {
   "cell_type": "markdown",
   "metadata": {},
   "source": [
    "|Simbolo| Ejemplo |\tEquivalencia |\n",
    "|:--:|:--:|:--:|\n",
    "|```+=``` | ```a += 2``` |\t```a = a + 2``` |\n",
    "|```-=``` | ```a -= 2``` |\t```a = a - 2``` |\n",
    "|```*=``` | ```a *= 2``` |\t```a = a * 2``` |\n",
    "|```/=``` | ```a /= 2``` |\t```a = a / 2``` |\n",
    "|```%=``` | ```a %= 2``` |\t```a = a % 2``` |\n",
    "|```**=``` | ```a **= 1``` |\t```a = a ** 1``` |\n",
    "|```//=``` | ```a //= 1``` |\t```a = a // 1``` |"
   ]
  },
  {
   "cell_type": "markdown",
   "metadata": {},
   "source": [
    "## Sentencia de entrada\n",
    "\n",
    "La función `input()` permite capturar un dato ingresado por un usuario.\n",
    "- La función solicita al usuario __ingresar un dato__ que puede ser asignado a una variable.\n",
    "- El __argumento__ es el mensaje que se le muestra al usuario antes que ingrese el dato. \n",
    "- El __valor ingresado__ se interpreta como un dato de tipo ```str```."
   ]
  },
  {
   "cell_type": "code",
   "metadata": {},
   "source": [
    "n = input('Ingrese un valor: ')\n",
    "n"
   ],
   "outputs": [],
   "execution_count": null
  },
  {
   "cell_type": "markdown",
   "metadata": {},
   "source": [
    "Si el dato ingresado es requerido para ser operado en otro dominio de datos, __debe ser convertido explícitamente__.\n",
    "    \n",
    "Por ejemplo, para convertir un dato de entrada en `float` y asignarlo a la variable ```f```, la siguiente sintaxis, por medio de la función ```float()```, realiza la transformación del dato ingresado:"
   ]
  },
  {
   "cell_type": "code",
   "metadata": {},
   "source": [
    "f = float(input('Ingrese un valor: '))\n",
    "f"
   ],
   "outputs": [],
   "execution_count": null
  },
  {
   "cell_type": "markdown",
   "metadata": {},
   "source": [
    "Es importante notar que, en el proceso de conversión, si los valores convertidos no tienen representación en el dominio especificado, se retornará una excepción de tipo `ValueError`. Por ejemplo,"
   ]
  },
  {
   "cell_type": "markdown",
   "metadata": {},
   "source": [
    "## Sentencia de salida\n",
    "\n",
    "La forma más simple de mostrar (imprimir, desplegar) datos es utilizando la sentencia (o función) `print()`. Esta función, recibe como argumento el(los) dato(s) a mostrar. Por ejemplo,"
   ]
  },
  {
   "cell_type": "code",
   "source": [
    "print('Hola mundo!')"
   ],
   "metadata": {
    "collapsed": false
   },
   "outputs": [],
   "execution_count": null
  },
  {
   "cell_type": "markdown",
   "metadata": {},
   "source": [
    "El siguiente ejemplo muestra el uso de la función `print()` con multiples parámetros."
   ]
  },
  {
   "cell_type": "code",
   "metadata": {
    "tags": []
   },
   "source": [
    "dia = 23\n",
    "mes = 'Junio'\n",
    "print('El aniversario es el', dia, 'de', mes, '.')"
   ],
   "outputs": [],
   "execution_count": null
  },
  {
   "cell_type": "markdown",
   "metadata": {},
   "source": [
    "Otra alternativa, utilizando anidación de datos,"
   ]
  },
  {
   "cell_type": "code",
   "metadata": {
    "tags": []
   },
   "source": [
    "print('El aniversario es el ' + str(dia) + ' de ' + mes + '.')"
   ],
   "outputs": [],
   "execution_count": null
  },
  {
   "cell_type": "markdown",
   "metadata": {},
   "source": [
    "Existen [diversas formas](https://docs.python.org/3/tutorial/inputoutput.html#fancier-output-formatting) para establecer el formato de salida a los datos. Por ejemplo, utilizando literales de cadenas formateadas o el método `format()`.   \n",
    "\n",
    "Utilizando  __literales de cadenas formateadas__,\n",
    "- Debe iniciar la cadena con el caracter `f` o `F`, antes de la comilla(s) inicial. \n",
    "- Dentro de la cadena, debe escribir la expresión (p. ej., variables o literales) a formatear entre llaves `{}`."
   ]
  },
  {
   "cell_type": "code",
   "metadata": {
    "tags": []
   },
   "source": [
    "print(f'El aniversario es el {dia} de {mes}.')"
   ],
   "outputs": [],
   "execution_count": null
  },
  {
   "cell_type": "markdown",
   "metadata": {},
   "source": [
    "El __método `str.format()`__,\n",
    "\n",
    "- Dentro de la cadena, escribir la expresión (e.g., variables o literales) a formatear entre llaves `{ }`.\n",
    "- Es posible, además, proporcionar [directivas de formato detalladas](https://docs.python.org/3/library/string.html#formatstrings) (p. ej., número de decimales, espacios).\n",
    "\n",
    "Por ejemplo, truncando el número de decimales de un flotante:"
   ]
  },
  {
   "cell_type": "code",
   "metadata": {
    "tags": []
   },
   "source": [
    "puntos = 18\n",
    "total = 33\n",
    "print('Respuestas correctas: {:.2%}'.format(puntos/total))"
   ],
   "outputs": [],
   "execution_count": null
  },
  {
   "cell_type": "markdown",
   "metadata": {},
   "source": [
    "## Comentarios en el código fuente\n",
    "\n",
    "Los comentarios son secciones del código ignoradas por el intérprete. \n",
    "\n",
    "- Son usados para documentar el código. \n",
    "- Cualquier texto que aparezca a la derecha del símbolo `#` corresponde a un comentario, excepto cuando el símbolo es incluido en una cadena de caracteres."
   ]
  },
  {
   "cell_type": "code",
   "metadata": {},
   "source": [
    "# Este comentario podría ser usado para describir el bloque de código\n",
    "# que sigue a continuación\n",
    "texto = 'Mi texto'      # Este es otro comentario"
   ],
   "outputs": [],
   "execution_count": null
  }
 ],
 "metadata": {
  "interpreter": {
   "hash": "03da1727eb179e6d4206a53fc7edf92cda963bd1ce89117d747d91e0da58e345"
  },
  "kernelspec": {
   "display_name": "Python 3 (ipykernel)",
   "language": "python",
   "name": "python3"
  },
  "language_info": {
   "codemirror_mode": {
    "name": "ipython",
    "version": 3
   },
   "file_extension": ".py",
   "mimetype": "text/x-python",
   "name": "python",
   "nbconvert_exporter": "python",
   "pygments_lexer": "ipython3",
   "version": "3.10.10"
  }
 },
 "nbformat": 4,
 "nbformat_minor": 2
}
