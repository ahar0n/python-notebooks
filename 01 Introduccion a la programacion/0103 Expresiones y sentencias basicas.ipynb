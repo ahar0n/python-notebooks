{
 "cells": [
  {
   "cell_type": "markdown",
   "source": [
    "# Expresiones y sentencias básicas"
   ],
   "metadata": {}
  },
  {
   "cell_type": "markdown",
   "source": [
    "Un algoritmo se representa por medio de un conjunto de sentencias del lenguaje de programación, de forma que cada una de ellas es una orden que indica al computador la realización de una tarea específica.\n",
    "\n",
    "- Una __sentencia__ es el __elemento independiente más pequeño__ de un lenguaje de programación imperativo que expresa alguna acción a realizar.\n",
    "\n",
    "- Una sentencia puede tener diferentes componentes internos, como por ejemplo, instrucciones y expresiones, entre otros.\n",
    "\n",
    "Una __expresión__ es combinación de valores y operaciones que, al ser evaluados, entregan un valor como resultado. Este resultado dependerá de los elementos que componen la expresión:\n",
    "\n",
    "- __Literales__, valores constantes de algún tipo (e.g. números, cadenas de texto) incorporado en el lenguaje[...](https://docs.python.org/3/reference/lexical_analysis.html#literals)\n",
    "- __Operadores__, símbolos en una expresión que representan una operación aplicada a los valores sobre los que actúa, estos últimos se denominan operandos. Un operador binario tiene dos operandos, mientras que un operador unario tiene solo uno[...](https://docs.python.org/3/reference/lexical_analysis.html#operators)\n",
    "- __Variables__, ubicaciones de almacenamiento asociada con un nombre simbólico (identificador), que contiene una cantidad conocida o desconocida (valor). El identificador puede estar asociado a un valor durante el tiempo de ejecución, el cual puede cambiar durante la ejecución del programa.\n",
    "- __Funciones__, bloque de código organizado y reutilizable que se utiliza para realizar una sola acción."
   ],
   "metadata": {}
  },
  {
   "cell_type": "markdown",
   "source": [
    "## Asignación"
   ],
   "metadata": {}
  },
  {
   "cell_type": "markdown",
   "source": [
    "- La asignación es una __sentencia que asocia un nombre al resultado de una expresión__. \n",
    "- El nombre del valor es denominado __variable__.\n",
    "\n",
    "La asignación en Python, se realiza por medio del operadore de asignación:"
   ],
   "metadata": {}
  },
  {
   "cell_type": "code",
   "execution_count": 3,
   "source": [
    "c = 4"
   ],
   "outputs": [],
   "metadata": {}
  },
  {
   "cell_type": "markdown",
   "source": [
    "En una asignación,\n",
    "\n",
    "- La expresión de la derecha del símbolo ```=``` es evaluada. \n",
    "- Una vez obtenido el resultado, el valor de la variable a la izquierda es reemplazado por ese resultado.\n",
    "\n",
    "Por lo tanto, es posible una asignación como la siguiente:"
   ],
   "metadata": {}
  },
  {
   "cell_type": "code",
   "execution_count": 4,
   "source": [
    "c = c + 2"
   ],
   "outputs": [],
   "metadata": {}
  },
  {
   "cell_type": "markdown",
   "source": [
    "El nombre de una variable corresponde acumuladores su __identificador__ y, por lo tanto, debe cumplir con las reglas impuestas por Python para la construcción del identificador.\n",
    "\n",
    "Casos particulares de variables son: contadores y acumuladores."
   ],
   "metadata": {}
  },
  {
   "cell_type": "markdown",
   "source": [
    "Un __contador__ es una variable cuyo valor se __incrementa o disminuye de forma constante__ cada vez que se ejecuta una acción que lo contiene."
   ],
   "metadata": {}
  },
  {
   "cell_type": "code",
   "execution_count": null,
   "source": [
    "i = 0\n",
    "c = 1\n",
    "i = i + c\n",
    "i = i + c"
   ],
   "outputs": [],
   "metadata": {}
  },
  {
   "cell_type": "markdown",
   "source": [
    "Un __acumulador__ es una variable que permite almacenar valores que se __incrementan o disminuyen de forma no constante__ durante todo el proceso."
   ],
   "metadata": {}
  },
  {
   "cell_type": "code",
   "execution_count": null,
   "source": [
    "a = 0\n",
    "a = a + 25\n",
    "a = a + 1"
   ],
   "outputs": [],
   "metadata": {}
  },
  {
   "cell_type": "markdown",
   "source": [
    "### Operadores compuestos\n",
    "Los operadores compuestos de asignación que permiten modificar y asignar el valor de una misma variable."
   ],
   "metadata": {}
  },
  {
   "cell_type": "markdown",
   "source": [
    "|Simbolo| Ejemplo |\tEquivalencia |\n",
    "|:--:|:--:|:--:|\n",
    "|```+=``` | ```a += 2``` |\t```a = a + 2``` |\n",
    "|```-=``` | ```a -= 2``` |\t```a = a - 2``` |\n",
    "|```*=``` | ```a *= 2``` |\t```a = a * 2``` |\n",
    "|```/=``` | ```a /= 2``` |\t```a = a / 2``` |\n",
    "|```%=``` | ```a %= 2``` |\t```a = a % 2``` |\n",
    "|```**=``` | ```a **= 1``` |\t```a = a ** 1``` |\n",
    "|```//=``` | ```a //= 1``` |\t```a = a // 1``` |"
   ],
   "metadata": {}
  },
  {
   "cell_type": "markdown",
   "source": [
    "## Sentencia de entrada"
   ],
   "metadata": {}
  },
  {
   "cell_type": "markdown",
   "source": [
    "La función ```input()``` permiten al usuario ingresar datos al programa.\n",
    "- La función solicita al usuario __ingresar un dato__ que puede ser asignado a una variable.\n",
    "- El __argumento__ es el mensaje que se le muestra al usuario antes que ingrese el dato. \n",
    "- El __valor ingresado__ se interpreta como un dato de tipo ```str```."
   ],
   "metadata": {}
  },
  {
   "cell_type": "code",
   "execution_count": null,
   "source": [
    "n = input('Ingrese un valor: ')\n",
    "type(n)"
   ],
   "outputs": [
    {
     "output_type": "display_data",
     "data": {
      "text/plain": [
       "str"
      ]
     },
     "metadata": {}
    }
   ],
   "metadata": {}
  },
  {
   "cell_type": "markdown",
   "source": [
    "Si el dato ingresado es necesario usarlo como otro tipo, __debe ser convertido explícitamente__.\n",
    "- Sin embargo, si se ingresa caracteres que no tienen representación en el tipo de dato, se retornará una excepción de tipo ```ValueError```.\n",
    "    \n",
    "Por ejemplo, para convertir un dato de entrada en ```float``` y asignarlo a la variable ```f```, la siguiente sintaxis, por medio de la función ```float()```, realiza la transformación del dato ingresado:"
   ],
   "metadata": {}
  },
  {
   "cell_type": "code",
   "execution_count": null,
   "source": [
    "f = float(input('Ingrese un valor: '))\n",
    "type(f)"
   ],
   "outputs": [
    {
     "output_type": "display_data",
     "data": {
      "text/plain": [
       "float"
      ]
     },
     "metadata": {}
    }
   ],
   "metadata": {}
  },
  {
   "cell_type": "markdown",
   "source": [
    "## Sentencia de salida"
   ],
   "metadata": {}
  },
  {
   "cell_type": "markdown",
   "source": [
    "La forma más simple de mostrar (imprimir, desplegar) datos es utilizando la sentencia (o función) `print()`. Esta función, recibe como argumento el(los) dato(s) a mostrar. Por ejemplo,"
   ],
   "metadata": {}
  },
  {
   "cell_type": "code",
   "execution_count": null,
   "source": [
    "print(f)"
   ],
   "outputs": [
    {
     "output_type": "stream",
     "name": "stdout",
     "text": [
      "26.0\n"
     ]
    }
   ],
   "metadata": {
    "tags": []
   }
  },
  {
   "cell_type": "markdown",
   "source": [
    "El siguiente ejemplo muestra multiples argumentos."
   ],
   "metadata": {}
  },
  {
   "cell_type": "code",
   "execution_count": null,
   "source": [
    "dia = 23\n",
    "mes = 'Junio'\n",
    "print('El aniversario es el', dia, 'de', mes, '.')"
   ],
   "outputs": [
    {
     "output_type": "stream",
     "name": "stdout",
     "text": [
      "El aniversario es el 23 de Junio .\n"
     ]
    }
   ],
   "metadata": {
    "tags": []
   }
  },
  {
   "cell_type": "markdown",
   "source": [
    "Otra alternativa, utilizando anidación de datos,"
   ],
   "metadata": {}
  },
  {
   "cell_type": "code",
   "execution_count": null,
   "source": [
    "print('El aniversario es el ' + str(dia) + ' de ' + mes + '.')"
   ],
   "outputs": [
    {
     "output_type": "stream",
     "name": "stdout",
     "text": [
      "El aniversario es el 23 de Junio.\n"
     ]
    }
   ],
   "metadata": {
    "tags": []
   }
  },
  {
   "cell_type": "markdown",
   "source": [
    "Existen [diversas formas](https://docs.python.org/3/tutorial/inputoutput.html#fancier-output-formatting) para establecer el formato de salida a los datos:\n",
    "\n",
    "Utilizando  __literales de cadenas formateadas__,\n",
    "- Debe iniciar la cadena con el caracter `f` o `F`, antes de la comilla(s) inicial. \n",
    "- Dentro de la cadena, debe escribir la expresión (p. ej., variables o literales) a formatear entre llaves `{}`."
   ],
   "metadata": {}
  },
  {
   "cell_type": "code",
   "execution_count": null,
   "source": [
    "print(f'El aniversario es el {dia} de {mes}.')"
   ],
   "outputs": [
    {
     "output_type": "stream",
     "name": "stdout",
     "text": [
      "El aniversario es el 23 de Junio.\n"
     ]
    }
   ],
   "metadata": {
    "tags": []
   }
  },
  {
   "cell_type": "markdown",
   "source": [
    "El __método `str.format()`__,\n",
    "\n",
    "- Dentro de la cadena, escribir la expresión (e.g., variables o literales) a formatear entre llaves `{ }`.\n",
    "- Es posible, además, proporcionar [directivas de formato detalladas](https://docs.python.org/3/library/string.html#formatstrings) (p. ej., número de decimales, espacios).\n",
    "\n",
    "Por ejemplo, truncando el número de decimales de un flotante:"
   ],
   "metadata": {}
  },
  {
   "cell_type": "code",
   "execution_count": null,
   "source": [
    "puntos = 18\n",
    "total = 33\n",
    "print('Respuestas correctas: {:.2%}'.format(puntos/total))"
   ],
   "outputs": [
    {
     "output_type": "stream",
     "name": "stdout",
     "text": [
      "Respuestas correctas: 54.55%\n"
     ]
    }
   ],
   "metadata": {
    "tags": []
   }
  },
  {
   "cell_type": "markdown",
   "source": [
    "## Comentarios en el código fuente"
   ],
   "metadata": {}
  },
  {
   "cell_type": "markdown",
   "source": [
    "Los comentarios son secciones del código ignoradas por el intérprete. \n",
    "\n",
    "- Son usados para documentar el código. \n",
    "- Cualquier texto que aparezca a la derecha del símbolo `#` corresponde a un comentario, excepto cuando el símbolo es incluido en una cadena de caracteres."
   ],
   "metadata": {}
  },
  {
   "cell_type": "code",
   "execution_count": null,
   "source": [
    "# variable auxiliar\n",
    "texto = 'Mi texto'\n",
    "var = 25 * t\n",
    "\n",
    "# variable\n",
    "aux = float(var)"
   ],
   "outputs": [],
   "metadata": {}
  },
  {
   "cell_type": "markdown",
   "source": [
    "## Funciones integradas (_built-in functions_)"
   ],
   "metadata": {}
  },
  {
   "cell_type": "markdown",
   "source": [
    "- Una función es una secuencia denominada de instrucciones que realiza un cálculo. \n",
    "- Las funciones tienen un __nombre__ y reciben __parámetros__ (o argumentos) que van entre paréntesis `( )`. Además, entregan un resultado que se denomina __retorno__."
   ],
   "metadata": {}
  },
  {
   "cell_type": "code",
   "execution_count": null,
   "source": [
    "type(25)"
   ],
   "outputs": [
    {
     "output_type": "display_data",
     "data": {
      "text/plain": [
       "int"
      ]
     },
     "metadata": {}
    }
   ],
   "metadata": {}
  },
  {
   "cell_type": "markdown",
   "source": [
    "El intérprete Python tiene una serie de [funciones y tipos incorporados](https://docs.python.org/3/library/functions.html) que permiten realizar algunas operaciones básicas."
   ],
   "metadata": {}
  },
  {
   "cell_type": "markdown",
   "source": [
    "## Actividad"
   ],
   "metadata": {}
  },
  {
   "cell_type": "markdown",
   "source": [
    "Describe el uso de las siguientes funciones y complementa agregando un ejemplo.\n",
    "\n",
    "- `help()`\n",
    "- `eval()`\n",
    "- `min()`\n",
    "- `max()`\n",
    "- `sum()`\n",
    "- `pow()`\n",
    "- `chr()`\n",
    "- `round()`\n",
    "- `abs()`"
   ],
   "metadata": {}
  }
 ],
 "metadata": {
  "kernelspec": {
   "display_name": "Python 3",
   "language": "python",
   "name": "python3"
  },
  "language_info": {
   "codemirror_mode": {
    "name": "ipython",
    "version": 3
   },
   "file_extension": ".py",
   "mimetype": "text/x-python",
   "name": "python",
   "nbconvert_exporter": "python",
   "pygments_lexer": "ipython3",
   "version": "3.7.6-final"
  }
 },
 "nbformat": 4,
 "nbformat_minor": 2
}