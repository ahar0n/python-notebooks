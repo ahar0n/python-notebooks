{
 "cells": [
  {
   "cell_type": "markdown",
   "metadata": {},
   "source": [
    "# Funciones integradas (_built-in functions_)"
   ]
  },
  {
   "cell_type": "markdown",
   "metadata": {},
   "source": [
    "Una función consiste en una __secuencia de instrucciones que realiza una tarea específica__,\n",
    "\n",
    "- Tienen un __nombre__ el cual es descripción de la función que realiza, y a partir del cual se puede invocar dicha función.\n",
    "- Las funciones pueden recibir __parámetros__ (argumentos de la función), los cuales se definen entre paréntesis `( )`.\n",
    "\n",
    "Por ejemplo, "
   ]
  },
  {
   "cell_type": "code",
   "execution_count": null,
   "outputs": [],
   "source": [
    "print('¡Hola mundo!')"
   ],
   "metadata": {
    "collapsed": false
   }
  },
  {
   "cell_type": "markdown",
   "source": [
    "- Algunas funciones un resultado (__retorno__ de una función), el cual puede ser asignado a una variable. Por ejemplo,"
   ],
   "metadata": {
    "collapsed": false
   }
  },
  {
   "cell_type": "code",
   "execution_count": null,
   "metadata": {},
   "outputs": [],
   "source": [
    "n = input('Ingrese un número: ')"
   ]
  },
  {
   "cell_type": "markdown",
   "metadata": {},
   "source": [
    "## Actividad\n",
    "\n",
    "El intérprete Python tiene una serie de [funciones y tipos incorporados](https://docs.python.org/3/library/functions.html) que permiten realizar algunas operaciones básicas.\n",
    "\n",
    "Describa el uso de las siguientes funciones y complemente la descripción agregando uno o más ejemplos para cada caso.\n",
    "\n",
    "- `help()`\n",
    "- `eval()`\n",
    "- `min()`\n",
    "- `max()`\n",
    "- `sum()`\n",
    "- `pow()`\n",
    "- `chr()`\n",
    "- `round()`\n",
    "- `abs()`"
   ]
  }
 ],
 "metadata": {
  "interpreter": {
   "hash": "03da1727eb179e6d4206a53fc7edf92cda963bd1ce89117d747d91e0da58e345"
  },
  "kernelspec": {
   "display_name": "Python 3.7.11 ('eda37')",
   "language": "python",
   "name": "python3"
  },
  "language_info": {
   "codemirror_mode": {
    "name": "ipython",
    "version": 3
   },
   "file_extension": ".py",
   "mimetype": "text/x-python",
   "name": "python",
   "nbconvert_exporter": "python",
   "pygments_lexer": "ipython3",
   "version": "3.7.11"
  }
 },
 "nbformat": 4,
 "nbformat_minor": 2
}
