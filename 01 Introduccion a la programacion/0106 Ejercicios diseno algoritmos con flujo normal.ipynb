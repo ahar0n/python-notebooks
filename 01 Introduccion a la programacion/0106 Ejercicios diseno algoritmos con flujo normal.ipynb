{
 "cells": [
  {
   "attachments": {},
   "cell_type": "markdown",
   "metadata": {},
   "source": [
    "# Ejercicios. Diseño de algoritmos con flujo normal\n",
    "\n",
    "Para cada uno de los siguientes problemas, presentar:\n",
    "\n",
    "1. Especificación de entradas y salidas\n",
    "2. Descripción del proceso (secuencia lógica de pasos en lenguaje natural)\n",
    "3. Representación gráfica del algoritmo\n",
    "4. Código fuente"
   ]
  },
  {
   "attachments": {},
   "cell_type": "markdown",
   "metadata": {},
   "source": [
    "E1. Diseñar un programa que convierta grados sexagesimales a grados centesimales.\n",
    "\n",
    "Por ejemplo:\n",
    "```\n",
    "Ingrese los grados: 95\n",
    "Ingrese los minutos: 55\n",
    "Ingrese los segundos: 23\n",
    "En grados centesimales es 106.5812\n",
    "```"
   ]
  },
  {
   "attachments": {},
   "cell_type": "markdown",
   "metadata": {},
   "source": [
    "E2. En geometría, la fórmula de Herón permite calcular el área de un triángulo a partir de las longitudes de sus lados. Esta fórmula establece que el área ($A$) del triángulo cuyas longitudes de sus lados son $a$, $b$ y $c$ es,\n",
    "\n",
    "$$\n",
    "A = \\sqrt{ s (s-a) (s-b)(s-c)},\n",
    "$$\n",
    "donde $s$ corresponde al semiperímetro del triángulo, es decir,\n",
    "\n",
    "$$\n",
    "s = \\frac{a+b+c}{2}\n",
    "$$\n",
    "\n",
    "Diseñe un programa que solicite al usuario las coordenadas ($x, y$) de los vértices de un triángulo y muestre como resultado el área. Por ejemplo,\n",
    "\n",
    "```\n",
    "Coordenada x de A: 10\n",
    "Coordenada y de A: 5\n",
    "Coordenada x de B: 10\n",
    "Coordenada y de B: 8\n",
    "Coordenada x de C: 14\n",
    "Coordenada y de C: 5\n",
    "El área es 6\n",
    "```"
   ]
  },
  {
   "attachments": {},
   "cell_type": "markdown",
   "metadata": {},
   "source": [
    "E3. En topografía, la precisión lineal planimétrica puede ser expresada por la relación $1 : x^{-1}$, donde $x$ es un número entero correspondiente a la relación entre el error $(\\varepsilon)$ de la poligonal y su longitud $(P)$. Este valor es obtenido a partir de:\n",
    "\n",
    "$$ x = \\frac{\\varepsilon}{P} $$\n",
    "\n",
    "Diseñe un programa que, a partir de la longitud (en metros) de la poligonal y el error (en centímetros), muestre la precisión alcanzada.\n",
    "\n",
    "Por ejemplo,\n",
    "\n",
    "```\n",
    "Ingrese la longitud de la poligonal (m): 4456.654 \n",
    "Ingrese el error (cm): 12.2\n",
    "La precision planimetrica es 1:36530\n",
    "```"
   ]
  },
  {
   "attachments": {},
   "cell_type": "markdown",
   "metadata": {},
   "source": [
    "E4. Las [Estaciones Totales](https://en.wikipedia.org/wiki/Total_station) miden distancias por medio de un distanciómetro, el cual determina la distancia a partir del principio denominado Medición Electrónica de Distancia (EDM). El principio de la EDM consiste en determinar una distancia a partir de la observación de una señal electromagnética emitida por el distanciómetros hacia un elemento reflectante denominado prisma. Considerando que la señal sufre perturbaciones debido al medio donde se propaga, la distancia medida debe ser corregida para obtener la distancia real. Por lo tanto, la distancia real $(D)$ en metros es obtenida por medio de:\n",
    "\n",
    "$$ d = l(1+K_a), $$\n",
    "\n",
    "donde, $ l $ es la distancia bruta observada por el distanciómetro y $K_a$ es la corrección atmosférica expresada en [partes por millón (ppm)](https://es.wikipedia.org/wiki/Partes_por_millón):\n",
    "\n",
    "$$ K_a = \\left( 279.66 - \\frac{79.531P}{273.15+t} \\right) 10^{-6}, $$\n",
    "\n",
    "\n",
    "donde, $t$ es la temperatura expresada en grados celsius y $P$ es la presión atmosférica expresada en [hPa](https://en.wikipedia.org/wiki/Pascal_(unit)).\n",
    "\n",
    "Diseñe un programa que entregue al usuario la corrección atmosférica en ppm y la distancia real medida por un distanciómetro. El programa debe solicitar al usuario la distancia bruta observada por el distanciómetro (en metros), la temperatura en grados celsius y la presión atmosférica en [milímetros de mercurio (mmHg)](https://en.wikipedia.org/wiki/Millimeter_of_mercury). Por ejemplo,\n",
    "\n",
    "```\n",
    "Ingrese la distancia observada (metros): 896.121 \n",
    "Ingrese la temperatura (grados celsius): 34\n",
    "Ingrese la presion atmosferica (en mmHg): 776\n",
    "La distancia real es 896.132 metros\n",
    "```"
   ]
  }
 ],
 "metadata": {
  "interpreter": {
   "hash": "202d1d44df6c15928d09411a0b718e4d5217eaa1aee5fa2339bd60bdd09bd4e9"
  },
  "kernelspec": {
   "display_name": "Python 3.8.8 64-bit",
   "name": "python3"
  },
  "language_info": {
   "codemirror_mode": {
    "name": "ipython",
    "version": 3
   },
   "file_extension": ".py",
   "mimetype": "text/x-python",
   "name": "python",
   "nbconvert_exporter": "python",
   "pygments_lexer": "ipython3",
   "version": "3.10.10"
  }
 },
 "nbformat": 4,
 "nbformat_minor": 2
}
