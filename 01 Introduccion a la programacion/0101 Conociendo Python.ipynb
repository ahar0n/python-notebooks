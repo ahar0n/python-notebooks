{
 "cells": [
  {
   "cell_type": "markdown",
   "metadata": {},
   "source": [
    "# Conociendo Python"
   ]
  },
  {
   "cell_type": "markdown",
   "metadata": {},
   "source": [
    "Python es un lenguaje de alto nivel, algunas de sus características son:\n",
    "\n",
    "- sigue la filosofía de construir programas con sintáxis de código legible.\n",
    "- es un lenguaje interpretado.\n",
    "- posee tipado dinámico.\n",
    "- soporta diferentes paradigmas (imperativo, orientado a objetos).\n",
    "- posee licencia de [Código Abierto](https://opensource.org), denominada [Python Software Fundation](https://docs.python.org/3/license.html)."
   ]
  },
  {
   "cell_type": "markdown",
   "metadata": {},
   "source": [
    "## Instalación"
   ]
  },
  {
   "cell_type": "markdown",
   "metadata": {},
   "source": [
    "1. [Descargar Python](http://www.python.org/downloads/)\n",
    "2. Para comprobar la instalación, desde el terminal abrir la consola de Python, escribriendo la palabra `python` y presionar la tecla ENTER."
   ]
  },
  {
   "cell_type": "markdown",
   "metadata": {},
   "source": [
    "```\n",
    "$ python\n",
    "Python 3.8.5 (default, Sep  4 2020, 02:22:02) \n",
    "[Clang 10.0.0 ] :: Anaconda, Inc. on darwin\n",
    "Type \"help\", \"copyright\", \"credits\" or \"license\" for more information.\n",
    ">>>\n",
    "```"
   ]
  },
  {
   "cell_type": "markdown",
   "metadata": {},
   "source": [
    "El prompt `>>>` indica que el interprete de Python está esperando alguna orden o instrucción para ser ejecutada."
   ]
  },
  {
   "cell_type": "markdown",
   "metadata": {},
   "source": [
    "## Modo interactivo (consola)"
   ]
  },
  {
   "cell_type": "markdown",
   "metadata": {},
   "source": [
    "El intérprete de Python incluye un modo interactivo que permite escribir las instrucciones en una especie de intérprete de comandos: las expresiones pueden ser introducidas una a una, pudiendo verse el resultado de su evaluación inmediatamente, por ejemplo,"
   ]
  },
  {
   "cell_type": "code",
   "execution_count": 1,
   "metadata": {},
   "outputs": [
    {
     "name": "stdout",
     "output_type": "stream",
     "text": [
      "Hola mundo!\n"
     ]
    }
   ],
   "source": [
    "print('Hola mundo!')"
   ]
  },
  {
   "cell_type": "markdown",
   "metadata": {},
   "source": [
    "## Interpretar código fuente"
   ]
  },
  {
   "cell_type": "markdown",
   "metadata": {},
   "source": [
    "Es conveniente contar con editor de texto para escribir los programas en Python. Un editor de texto es un programa que permite crear y modificar archivos digitales escritos únicamente por texto sin formato o texto plano. El programa lee el archivo e interpreta los bytes leídos según el código de caracteres que usa el editor, por ejemplo, [ASCII](https://es.wikipedia.org/wiki/ASCII) o [UTF-8](https://es.wikipedia.org/wiki/UTF-8).\n",
    "\n",
    "- [Adobe Brackets](http://brackets.io)\n",
    "- [Atom](https://atom.io)\n",
    "- [Notepad++](https://notepad-plus-plus.org)\n",
    "- [Sublime Text](https://www.sublimetext.com)\n",
    "\n",
    "Por ejemplo, para crear ejecutar una instrucción en Python almacenada en un archivo, utilizando un editor de texto crear un archivo de texto plano con el siguiente código:"
   ]
  },
  {
   "cell_type": "code",
   "execution_count": 1,
   "metadata": {},
   "outputs": [
    {
     "name": "stdout",
     "output_type": "stream",
     "text": [
      "Hola Mundo!\n"
     ]
    }
   ],
   "source": [
    "print('Hola Mundo!')"
   ]
  },
  {
   "cell_type": "markdown",
   "metadata": {},
   "source": [
    "Guardar el archivo con el nombre `holamundo.py`. A continuación, desde el terminal del sistema operativo ejecutar la siguiente instrucción:"
   ]
  },
  {
   "cell_type": "markdown",
   "metadata": {},
   "source": [
    "\n",
    "```\n",
    "C:\\> python holamundo.py\n",
    "```"
   ]
  },
  {
   "cell_type": "markdown",
   "metadata": {},
   "source": [
    "## Análisis léxico"
   ]
  },
  {
   "cell_type": "markdown",
   "metadata": {},
   "source": [
    "Un programa de Python es un fichero de texto por defecto codificado en UTF-8 que contiene expresiones y sentencias escritas de acuerdo a la sintaxis propia del lenguaje.\n",
    "\n",
    "Entre los componentes de léxico (_tokens_) de Python, se pueden identificar:\n",
    "\n",
    "- Palabras reservadas\n",
    "- [Funciones integradas](https://docs.python.org/3/library/functions.html)\n",
    "- Literales\n",
    "- [Operadores](https://docs.python.org/3/reference/lexical_analysis.html#operators)\n",
    "- [Delimitadores](https://docs.python.org/3/reference/lexical_analysis.html#delimiters)\n",
    "- [Identificadores](https://docs.python.org/3/reference/lexical_analysis.html#identifiers)"
   ]
  },
  {
   "cell_type": "markdown",
   "metadata": {},
   "source": [
    "### Líneas de código\n",
    "\n",
    "Un programa en Python se compone de líneas de código. A pesar que puede haber varias instrucciones en una línea, separadas por un punto y coma (`;`), se recomienda que cada línea de código contenga una única instrucción.\n",
    "Por ejemplo,"
   ]
  },
  {
   "cell_type": "code",
   "execution_count": 2,
   "metadata": {
    "scrolled": true
   },
   "outputs": [
    {
     "name": "stdout",
     "output_type": "stream",
     "text": [
      "1963.5\n"
     ]
    }
   ],
   "source": [
    "r = 25\n",
    "pi = 3.1416\n",
    "area = pi * r ** 2\n",
    "print(area)"
   ]
  },
  {
   "cell_type": "markdown",
   "metadata": {},
   "source": [
    "Para efectos de legibilidad, se suguiere que cada línea no supere los 79 caracteres. Si una instrucción supera esa longitud, se puede dividir en varias líneas usando el caracter _backslash_ (`\\`)."
   ]
  },
  {
   "cell_type": "markdown",
   "metadata": {},
   "source": [
    "### Indentación y espacios\n",
    "\n",
    "Los elementos del lenguaje, generalmente, se separan por un espacios en blanco, sin embargo, se omiten para los siguientes casos,\n",
    "- Entre el nombre de una función y el paréntesis\n",
    "- Antes de una coma (`,`)\n",
    "- Entre los delimitadores y su contenido (paréntesis, llaves, corchetes o comillas)\n",
    "\n",
    "Los espacios no son significativos, es decir, da lo mismo uno o más espacios, excepto al principio de una línea.\n",
    "\n",
    "La indentación (espacios al principio de una línea) indican un nivel de agrupamiento. Ésta es una de las características que distinguen a Python de otros lenguajes de programación (p. ej., C++, Java), que utilizan un caracter para delimitar agrupamientos (p. ej., llaves `{ }`). Por esta razón, una línea no puede contener espacios iniciales, a menos que forme parte de un bloque de instrucciones o de una instrucción dividida en varias líneas."
   ]
  },
  {
   "cell_type": "markdown",
   "metadata": {},
   "source": [
    "### Identificadores\n",
    "\n",
    "Los identificadores corresponden a las palabras utilizadas para nombrar elementos creados por el programador: variables, objetos, funciones, clases, módulos, entre otros.\n",
    "\n",
    "Los identificadores están formados por letras (mayúsculas y minúsculas), números y el carácter guión bajo (`_`). Pueden ser caracteres [Unicode](https://en.wikipedia.org/wiki/Unicode), aunque normalmente se recomienda utilizar caracteres ASCII para evitar inconvenientes con idiomas que utilizan juegos de caracteres diferentes.\n",
    "\n",
    "Python, al igual o otros lenguajes de programación, utiliza algunos identificadores como palabras reservadas o palabras clave (_[keywords](https://docs.python.org/3/reference/lexical_analysis.html#keywords)_) del lenguaje y no se pueden utilizar como identificadores ordinarios."
   ]
  },
  {
   "cell_type": "markdown",
   "metadata": {},
   "source": [
    "### Estilo de programación\n",
    "\n",
    "En el documento [Style Guide for Python Code](https://www.python.org/dev/peps/pep-0008/) se proporcionan convenciones para la codificación en Python. Esta pauta de estilo evoluciona con el tiempo a medida que se identifican convenciones adicionales y las pasadas se vuelven obsoletas por cambios en el propio lenguaje, en consecuencia, es recomendable revisar dichas convenciones regularmente."
   ]
  },
  {
   "cell_type": "markdown",
   "metadata": {},
   "source": [
    "## Actividades"
   ]
  },
  {
   "cell_type": "markdown",
   "metadata": {},
   "source": [
    "1. Instalar Python 3.X en computador personal. Es recomendable agregar la ruta de instalación en las variables de entorno del sistema.\n",
    "1. Descargar e instalar un editor de texto. Para propósitos de legibilidad, es recomendable instalar y utilizar alguno que tenga reconocimiento de sintaxis Python.\n",
    "1. Para comprobar que la instalación es correcta, escribir el script `helloworld.py` y ejecutarlo."
   ]
  }
 ],
 "metadata": {
  "interpreter": {
   "hash": "202d1d44df6c15928d09411a0b718e4d5217eaa1aee5fa2339bd60bdd09bd4e9"
  },
  "kernelspec": {
   "display_name": "Python 3.8.8 64-bit ('edaenv': conda)",
   "name": "python3"
  },
  "language_info": {
   "codemirror_mode": {
    "name": "ipython",
    "version": 3
   },
   "file_extension": ".py",
   "mimetype": "text/x-python",
   "name": "python",
   "nbconvert_exporter": "python",
   "pygments_lexer": "ipython3",
   "version": "3.8.8"
  }
 },
 "nbformat": 4,
 "nbformat_minor": 2
}
