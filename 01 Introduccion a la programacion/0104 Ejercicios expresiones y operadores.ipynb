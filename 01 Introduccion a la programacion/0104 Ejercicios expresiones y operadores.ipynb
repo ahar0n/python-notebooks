{
 "cells": [
  {
   "cell_type": "markdown",
   "metadata": {},
   "source": [
    "# Ejercicios. Expresiones, tipos y operadores."
   ]
  },
  {
   "cell_type": "markdown",
   "source": [
    "E1. Evaluar cada una de las siguientes expresiones (línea por línea) indicando el resultado y su tipo (si la expresión es válida) o el que error ocurre (si no es válida). Posteriormente, verificar su respuesta utizando el intérprete de Python. "
   ],
   "metadata": {
    "collapsed": false
   }
  },
  {
   "cell_type": "markdown",
   "metadata": {},
   "source": [
    "\n",
    "1. ```5 + 1 + 7 + 2```\n",
    "1. ```(2 + 3) * 4 - 1```\n",
    "1. ```(2 + 3) * (1 + 4)```\n",
    "1. ```+-+- 3```\n",
    "1. ```n + 1 = 5```\n",
    "1. ```7 = a```\n",
    "1. ```el area es = pi * r ** 2```\n",
    "1. ```x ** 2 =  x * x```\n"
   ]
  },
  {
   "cell_type": "markdown",
   "metadata": {},
   "source": [
    "E2. Evaluar la siguiente secuencia de expresiones y comprobar sus resultados utilizando la consola de Python. Para cada una de ellas indique el resultado obtenido y el tipo de dato -si la expresión es válida- o el error que ocurre -si no es válida-."
   ]
  },
  {
   "cell_type": "code",
   "execution_count": null,
   "metadata": {},
   "outputs": [],
   "source": [
    "a = 'b'\n",
    "a + 'b'\n",
    "a + 'a'\n",
    "a * 2 + 'b' * 3\n",
    "2 * (a + 'b')\n",
    "'a' * 3 + '/ *' * 5 + 2 * 'abc' + '+'\n",
    "cadena = 'abcba'\n",
    "(4 * '<' + cadena + '>' * 4) * 2\n",
    "subcadena = '=' + '-' * 3 + '='\n",
    "'10' * 5 + 4 * subcadena'10' * 5 + 4 * subcadena"
   ]
  },
  {
   "cell_type": "markdown",
   "metadata": {},
   "source": [
    "E3. Traducir a sintaxis Python las siguientes expresiones matemáticas y evaluarlas. Utilizar la menor cantidad posible de paréntesis."
   ]
  },
  {
   "cell_type": "markdown",
   "metadata": {},
   "source": [
    "a)\n",
    "\\begin{equation}\n",
    "    \\left(3 \\cdot \\frac{6}{2}\\right)\n",
    "\\end{equation}"
   ]
  },
  {
   "cell_type": "markdown",
   "metadata": {},
   "source": [
    "b)\n",
    "\\begin{equation}\n",
    "    \\left(\\frac{4+6}{2+3}\\right)\n",
    "\\end{equation}"
   ]
  },
  {
   "cell_type": "markdown",
   "metadata": {},
   "source": [
    "c)\n",
    "\\begin{equation}\n",
    "    \\left(\\frac{4}{2}\\right)^{5+1}\n",
    "\\end{equation}"
   ]
  },
  {
   "cell_type": "markdown",
   "metadata": {},
   "source": [
    "d)\n",
    "\\begin{equation}\n",
    "\t(-3)^{2}\n",
    "\\end{equation}"
   ]
  },
  {
   "cell_type": "markdown",
   "metadata": {},
   "source": [
    "E4. Sin utilizar el interprete de Python, evaluar la secuencia de expresiones y describir el resultado de su ejecución."
   ]
  },
  {
   "cell_type": "code",
   "execution_count": null,
   "metadata": {
    "scrolled": true,
    "vscode": {
     "languageId": "plaintext"
    }
   },
   "outputs": [],
   "source": [
    "z = 2\n",
    "z += 2\n",
    "z += 2 - 2\n",
    "z *= 2\n",
    "z *= 1 + 1\n",
    "z /= 2\n",
    "z %= 3 \n",
    "z /= 3 - 1 \n",
    "z -= 2 + 1 \n",
    "z -= 2 \n",
    "z **= 3"
   ]
  },
  {
   "cell_type": "markdown",
   "metadata": {},
   "source": [
    "E5. De acuerdo con el [léxico de Python](https://docs.python.org/3/reference/lexical_analysis.html), validar el uso de los siguientes identificadores y explicar aquellos que no son válidos.\n",
    "\n",
    "1. ```identificador```\n",
    "1. ```indice\\2```\n",
    "1. ```dos palabras```\n",
    "1. ```__```\n",
    "1. ```12hours```\n",
    "1. ```hour12```\n",
    "1. ```from```\n",
    "1. ```var!```\n",
    "1. ```import_from```\n",
    "1. ```a(b)```\n",
    "1. ```area-rect```\n",
    "1. ```_x_```\n",
    "1. ```x_x```\n",
    "1. ```uno.dos```\n",
    "1. ```uno&dos```"
   ]
  },
  {
   "cell_type": "markdown",
   "metadata": {},
   "source": [
    "E6. Identificar regularidades en las siguientes cadenas, y escribir expresiones que, a partir de subcadenas más cortas y operadores, produzcan las mismas cadenas.\n",
    "\n",
    "1. ```'%%%%%./././<-><->'```\n",
    "1. ```'(@)(@)(@)======(@)(@)(@)======''(@)(@)(@)======(@)(@)(@)======'```\n",
    "1. ```'asdfasdfasdf=-=-=-=-=-=-=-??????asdfasdf''asdfasdfasdf=-=-=-=-=-=-=-??????asdfasdf'```\n",
    "1. ```'........*****---*****---........*****---*****---'```\n"
   ]
  }
 ],
 "metadata": {
  "kernelspec": {
   "display_name": "Python 3",
   "language": "python",
   "name": "python3"
  },
  "language_info": {
   "codemirror_mode": {
    "name": "ipython",
    "version": 3
   },
   "file_extension": ".py",
   "mimetype": "text/x-python",
   "name": "python",
   "nbconvert_exporter": "python",
   "pygments_lexer": "ipython3",
   "version": "3.6.5"
  }
 },
 "nbformat": 4,
 "nbformat_minor": 2
}
