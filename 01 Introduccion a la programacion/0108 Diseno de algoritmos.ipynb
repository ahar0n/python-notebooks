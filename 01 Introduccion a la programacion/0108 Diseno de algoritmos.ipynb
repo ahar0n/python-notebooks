{
 "cells": [
  {
   "cell_type": "markdown",
   "metadata": {},
   "source": [
    "# Diseño de algoritmos"
   ]
  },
  {
   "metadata": {
    "ExecuteTime": {
     "end_time": "2024-06-07T03:21:56.180555Z",
     "start_time": "2024-06-07T03:21:56.176412Z"
    }
   },
   "cell_type": "code",
   "source": [
    "from IPython.display import Image\n",
    "Image(url= \"./img/resolucion_de_problemas.png\",width=800)"
   ],
   "outputs": [
    {
     "data": {
      "text/html": [
       "<img src=\"./img/resolucion_de_problemas.png\" width=\"800\"/>"
      ],
      "text/plain": [
       "<IPython.core.display.Image object>"
      ]
     },
     "execution_count": 2,
     "metadata": {},
     "output_type": "execute_result"
    }
   ],
   "execution_count": 2
  },
  {
   "cell_type": "markdown",
   "metadata": {},
   "source": [
    "## Representación gráfica de algoritmos\n",
    "\n",
    "Un __diagrama de flujo__ es una representación gráfica de un algoritmo, flujo de trabajo o proceso  de un determinado problema.\n",
    "\n",
    "- Son usado en el análisis, diseño y documentación de sistemas.\n",
    "- Ayudan a los desarrolladores a visualizar los pasos involucrados en una solución, así como también ayudan a comprender un proceso o algoritmos."
   ]
  },
  {
   "metadata": {
    "ExecuteTime": {
     "end_time": "2024-06-07T03:22:01.970497Z",
     "start_time": "2024-06-07T03:22:01.966895Z"
    }
   },
   "cell_type": "code",
   "source": [
    "from IPython.display import Image\n",
    "Image(url=\"./img/flowchart.png\", width=800)"
   ],
   "outputs": [
    {
     "data": {
      "text/html": [
       "<img src=\"./img/flowchart.png\" width=\"800\"/>"
      ],
      "text/plain": [
       "<IPython.core.display.Image object>"
      ]
     },
     "execution_count": 3,
     "metadata": {},
     "output_type": "execute_result"
    }
   ],
   "execution_count": 3
  },
  {
   "cell_type": "markdown",
   "metadata": {},
   "source": [
    "- Terminal: representa el inicio o final de un proceso o subproceso.\n",
    "- Proceso: representa una o más operaciones (sentencias o expresiones), comportamiento o cambio de estado del sistema.\n",
    "- Decisión: representa un punto de decisión en el algoritmo, que puede alterar el flujo normal del algoritmo.\n",
    "- Entrada/salida: representa entradas o salidas de datos.\n",
    "- Flujo: flechas que representan el orden de ejecución de los bloques (navegabilidad)."
   ]
  },
  {
   "cell_type": "markdown",
   "metadata": {},
   "source": [
    "## Diseño de programas\n",
    "\n",
    "Un __programa__ está formado por una secuencia de una o más sentencias, la cual puede tener componentes internos, como por ejemplo, instrucciones, expresiones, operaciones, variables, entre otros.\n",
    "\n",
    "En el siguiente ejemplo, el programa calcula y muestra la distancia entre dos puntos partir de las coordenadas cartesianas $(x,y)$ de estos."
   ]
  },
  {
   "cell_type": "markdown",
   "metadata": {},
   "source": [
    "__Paso 1__. Análisis del problema.\n",
    "\n",
    "- Se identifican como __entradas__ del programa las coordenadas de los dos puntos A y B $(x_a, y_a, x_b, y_b)$.\n",
    "- Se identifican como __salida__ la distancia gométrica entre A y B. \n",
    "- La distancia entre dos puntos A y B puede calcularse a partir de sus coordenadas ($x, y$) utilizando la siguiente expresión:\n",
    "\n",
    "$$ d_{\\overline{AB}} = \\sqrt{(x_B - x_A)^2 + (y_B - y_A)^2} $$"
   ]
  },
  {
   "cell_type": "markdown",
   "metadata": {},
   "source": [
    "__Paso 2.__ Diseño del algortimo (organigrama)."
   ]
  },
  {
   "metadata": {
    "ExecuteTime": {
     "end_time": "2024-06-07T03:22:07.183743Z",
     "start_time": "2024-06-07T03:22:07.181003Z"
    }
   },
   "cell_type": "code",
   "source": [
    "from IPython.display import Image\n",
    "Image(url=\"./img/flowchart-distancia_ab.png\", width=400)"
   ],
   "outputs": [
    {
     "data": {
      "text/html": [
       "<img src=\"./img/flowchart-distancia_ab.png\" width=\"400\"/>"
      ],
      "text/plain": [
       "<IPython.core.display.Image object>"
      ]
     },
     "execution_count": 4,
     "metadata": {},
     "output_type": "execute_result"
    }
   ],
   "execution_count": 4
  },
  {
   "cell_type": "markdown",
   "metadata": {},
   "source": [
    "__Paso 3__. Código fuente.\n",
    "\n",
    "El programa que es consistente con el diagrama de flujo anterior se presenta a continuación."
   ]
  },
  {
   "cell_type": "code",
   "execution_count": null,
   "metadata": {
    "tags": []
   },
   "outputs": [],
   "source": [
    "xa = float(input('Ingrese xa: ')) \n",
    "ya = float(input('Ingrese ya: '))\n",
    "xb = float(input('Ingrese xb: '))\n",
    "yb = float(input('Ingrese yb: '))\n",
    "\n",
    "d = ((xb - xa)**2 + (yb - ya)**2) ** (1/2)\n",
    "\n",
    "print(d)"
   ]
  },
  {
   "cell_type": "markdown",
   "metadata": {},
   "source": [
    "Las siguientes instrucciones permiten ejecutar el programa:\n",
    "\n",
    "1. Abrir un nuevo archivo con cualquier editor de texto.\n",
    "1. Copiar las líneas de código presentadas más arriba.\n",
    "1. Guardar el archivo con el nombre `distancia.py`.\n",
    "1. Desde el interprete de comandos de Windows, situarse en la carpeta que contiene el archivo `distancia.py`.\n",
    "1. Escribir la siguiente línea de comandos seguido de la tecla __ENTER__:\n",
    "\n",
    "```bash\n",
    "C:\\...\\> python distancia.py\n",
    "```"
   ]
  }
 ],
 "metadata": {
  "interpreter": {
   "hash": "03da1727eb179e6d4206a53fc7edf92cda963bd1ce89117d747d91e0da58e345"
  },
  "kernelspec": {
   "display_name": "Python 3 (ipykernel)",
   "language": "python",
   "name": "python3"
  },
  "language_info": {
   "codemirror_mode": {
    "name": "ipython",
    "version": 3
   },
   "file_extension": ".py",
   "mimetype": "text/x-python",
   "name": "python",
   "nbconvert_exporter": "python",
   "pygments_lexer": "ipython3",
   "version": "3.10.10"
  }
 },
 "nbformat": 4,
 "nbformat_minor": 2
}
