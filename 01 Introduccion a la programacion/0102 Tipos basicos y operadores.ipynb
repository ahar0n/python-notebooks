{
 "cells": [
  {
   "metadata": {},
   "cell_type": "markdown",
   "source": "# Tipos básicos y operadores"
  },
  {
   "cell_type": "markdown",
   "metadata": {},
   "source": [
    "El tipo de dato es la propiedad de un valor que determina su dominio, las operaciones soporta y como se representan. \n",
    "\n",
    "En Python se pueden distinguir los siguientes __tipos básicos__ de datos: \n",
    "\n",
    "- Números\n",
    "- Booleanos\n",
    "- None\n",
    "- Cadenas"
   ]
  },
  {
   "metadata": {
    "ExecuteTime": {
     "end_time": "2024-05-24T15:41:15.477609Z",
     "start_time": "2024-05-24T15:41:15.471818Z"
    }
   },
   "cell_type": "code",
   "source": [
    "from IPython.display import Image\n",
    "Image(url= \"./img/tipos_primitivos.png\",width=1200)"
   ],
   "outputs": [
    {
     "data": {
      "text/html": [
       "<img src=\"./img/tipos_primitivos.png\" width=\"1200\"/>"
      ],
      "text/plain": [
       "<IPython.core.display.Image object>"
      ]
     },
     "execution_count": 1,
     "metadata": {},
     "output_type": "execute_result"
    }
   ],
   "execution_count": 1
  },
  {
   "cell_type": "markdown",
   "metadata": {},
   "source": [
    "## Números\n",
    "\n",
    "- Los __números enteros__ en Python son de tipo `int`. \n",
    "- No tienen componente fraccionaria y pueden ser positivos o negativos. \n",
    "- Para distinguir entre positivos y negativos pueden ser precedidos de su signo."
   ]
  },
  {
   "cell_type": "code",
   "metadata": {
    "ExecuteTime": {
     "end_time": "2024-05-24T15:41:15.680558Z",
     "start_time": "2024-05-24T15:41:15.678328Z"
    }
   },
   "source": [
    "type(3)"
   ],
   "outputs": [
    {
     "data": {
      "text/plain": [
       "int"
      ]
     },
     "execution_count": 2,
     "metadata": {},
     "output_type": "execute_result"
    }
   ],
   "execution_count": 2
  },
  {
   "cell_type": "markdown",
   "metadata": {},
   "source": [
    "NOTA: La función `type()` retorna el tipo de dato de su argumento."
   ]
  },
  {
   "cell_type": "markdown",
   "metadata": {},
   "source": [
    "- Los __números reales__ en Python son de tipo `float`. \n",
    "- Proviene del término <em><a href=\"https://es.wikipedia.org/wiki/Coma_flotante\">floating point</a></em> que es la forma en que el computador representa internamente los números reales."
   ]
  },
  {
   "cell_type": "code",
   "metadata": {
    "ExecuteTime": {
     "end_time": "2024-05-24T15:41:15.773946Z",
     "start_time": "2024-05-24T15:41:15.771879Z"
    }
   },
   "source": [
    "-0.765"
   ],
   "outputs": [
    {
     "data": {
      "text/plain": [
       "-0.765"
      ]
     },
     "execution_count": 3,
     "metadata": {},
     "output_type": "execute_result"
    }
   ],
   "execution_count": 3
  },
  {
   "cell_type": "markdown",
   "metadata": {},
   "source": [
    "NOTA: En algunos lenguajes, los números flotantes son denominados _double_."
   ]
  },
  {
   "cell_type": "markdown",
   "metadata": {},
   "source": [
    "- Los __números complejos__ son de tipo `complex`. \n",
    "- Se componen de una parte real y una imaginaria, esta última es acompañada del caracter <code>j</code>."
   ]
  },
  {
   "cell_type": "code",
   "metadata": {
    "ExecuteTime": {
     "end_time": "2024-05-24T15:41:15.890397Z",
     "start_time": "2024-05-24T15:41:15.888087Z"
    }
   },
   "source": [
    "2+9j"
   ],
   "outputs": [
    {
     "data": {
      "text/plain": [
       "(2+9j)"
      ]
     },
     "execution_count": 4,
     "metadata": {},
     "output_type": "execute_result"
    }
   ],
   "execution_count": 4
  },
  {
   "cell_type": "markdown",
   "metadata": {},
   "source": [
    "### Operadores aritméticos\n",
    "- Operan valores numéricos y retornan valores númericos. \n",
    "- El tipo de dato del resultado obtenido de una operación aritmética dependerá del tipo de valor operado."
   ]
  },
  {
   "cell_type": "markdown",
   "metadata": {},
   "source": [
    "| Operación | Símbolo | Aridad | Asociatividad | Prioridad |\n",
    "|   :--     |:-------:|:--     | :--           | :--:      |\n",
    "|Exponenciación |   `**`    |\tBinario |\tDerecha |\t1|\n",
    "|Identidad      |    `+`    |\tUnario  |\t-   |\t2|\n",
    "|Cambio de signo|    `-`    |\tUnario  |\t-   |\t2|\n",
    "|Multiplicación |    `*`    |\tBinario |\tIzquierda   |\t3|\n",
    "|División       |    `/`    |\tBinario |\tIzquierda   |\t3|\n",
    "|Módulo\t        |    `%`    |   Binario |\tIzquierda   |\t3|\n",
    "|Suma           |    `+`    |\tBinario |\tIzquierda   |\t4|\n",
    "|Resta          |    `-`    |\tBinario |\tIzquierda   |\t4|\n",
    "|División entera|   `//`    |\tBinario |\tIzquierda   |\t4|\n"
   ]
  },
  {
   "cell_type": "markdown",
   "metadata": {},
   "source": [
    "NOTA: Cuando se operan datos cuyo resultado es de tipo ```float```, estos __no se representan de forma exacta__. Por ejemplo, ver el resultado de la siguiente operación expresada a partir de dos expresiones distintas,"
   ]
  },
  {
   "cell_type": "code",
   "metadata": {
    "ExecuteTime": {
     "end_time": "2024-05-24T15:41:16.041521Z",
     "start_time": "2024-05-24T15:41:16.038812Z"
    }
   },
   "source": [
    "2 * 3 / 5"
   ],
   "outputs": [
    {
     "data": {
      "text/plain": [
       "1.2"
      ]
     },
     "execution_count": 5,
     "metadata": {},
     "output_type": "execute_result"
    }
   ],
   "execution_count": 5
  },
  {
   "cell_type": "code",
   "metadata": {
    "scrolled": true,
    "ExecuteTime": {
     "end_time": "2024-05-24T15:41:16.286334Z",
     "start_time": "2024-05-24T15:41:16.283859Z"
    }
   },
   "source": [
    "2 / 5 * 3"
   ],
   "outputs": [
    {
     "data": {
      "text/plain": [
       "1.2000000000000002"
      ]
     },
     "execution_count": 6,
     "metadata": {},
     "output_type": "execute_result"
    }
   ],
   "execution_count": 6
  },
  {
   "cell_type": "markdown",
   "metadata": {},
   "source": [
    "## Lógicos (```bool```)\n",
    "\n",
    "- Permite representar valores de la lógica binaria: ```True``` y ```False```."
   ]
  },
  {
   "cell_type": "code",
   "metadata": {
    "ExecuteTime": {
     "end_time": "2024-05-24T15:41:16.300445Z",
     "start_time": "2024-05-24T15:41:16.298146Z"
    }
   },
   "source": [
    "True"
   ],
   "outputs": [
    {
     "data": {
      "text/plain": [
       "True"
      ]
     },
     "execution_count": 7,
     "metadata": {},
     "output_type": "execute_result"
    }
   ],
   "execution_count": 7
  },
  {
   "cell_type": "code",
   "metadata": {
    "ExecuteTime": {
     "end_time": "2024-05-24T15:41:16.303643Z",
     "start_time": "2024-05-24T15:41:16.301574Z"
    }
   },
   "source": [
    "False"
   ],
   "outputs": [
    {
     "data": {
      "text/plain": [
       "False"
      ]
     },
     "execution_count": 8,
     "metadata": {},
     "output_type": "execute_result"
    }
   ],
   "execution_count": 8
  },
  {
   "cell_type": "markdown",
   "metadata": {},
   "source": [
    "### Operadores lógicos\n",
    "- Estos operadores retornan como resultado valores de tipo ```bool```. \n",
    "- En Python existen tres operaciones lógicas:"
   ]
  },
  {
   "cell_type": "markdown",
   "metadata": {},
   "source": [
    "| Operación | Símbolo   | Aridad    | Asociatividad | Prioridad |\n",
    "|   :--     | :--:      | :--       | :--           | :--:      |\n",
    "|Negación   | `not`       | Unario    | -             | 6 |\n",
    "|Conjunción | `and`       | Binario   | Izquierda     | 7 |\n",
    "|Disyunción | `or`        | Binario   | Izquierda     | 8 |"
   ]
  },
  {
   "cell_type": "code",
   "metadata": {
    "ExecuteTime": {
     "end_time": "2024-05-24T15:41:16.320862Z",
     "start_time": "2024-05-24T15:41:16.318627Z"
    }
   },
   "source": [
    "not False and True or False"
   ],
   "outputs": [
    {
     "data": {
      "text/plain": [
       "True"
      ]
     },
     "execution_count": 9,
     "metadata": {},
     "output_type": "execute_result"
    }
   ],
   "execution_count": 9
  },
  {
   "cell_type": "markdown",
   "metadata": {},
   "source": [
    "### Operadores relacionales\n",
    "- Son utilizados para comparar valores. \n",
    "- El operando puede ser de cualquier tipo que pueda ser comparado y el resultado siempre son de tipo <code>bool</code>."
   ]
  },
  {
   "cell_type": "markdown",
   "metadata": {},
   "source": [
    "| Operación | Símbolo  | Aridad    | Asociatividad | Prioridad |\n",
    "|   :--     |:--------:| :--       | :--           | :--:      |\n",
    "|Igual que\t|  `==`\t   | Binario\t| -\t| 5|\n",
    "|Distinto que\t|  `!=`\t   | Binario\t| -\t| 5|\n",
    "|Menor que\t|   `<`\t   | Binario\t| -\t| 5|\n",
    "|Menor o igual que\t|   `<=`\t   | Binario\t| -\t| 5|\n",
    "|Mayor que\t|    `>`\t    | Binario\t| -\t| 5|\n",
    "|Mayor o igual que\t|   `>=`\t    | Binario\t| -\t| 5|"
   ]
  },
  {
   "cell_type": "markdown",
   "metadata": {},
   "source": [
    "<p>Cuando aparece una sucesión de comparadores, por ejemplo:</p>"
   ]
  },
  {
   "cell_type": "code",
   "metadata": {
    "ExecuteTime": {
     "end_time": "2024-05-24T15:41:16.342932Z",
     "start_time": "2024-05-24T15:41:16.340657Z"
    }
   },
   "source": [
    "2 > 4 < 7"
   ],
   "outputs": [
    {
     "data": {
      "text/plain": [
       "False"
      ]
     },
     "execution_count": 10,
     "metadata": {},
     "output_type": "execute_result"
    }
   ],
   "execution_count": 10
  },
  {
   "cell_type": "markdown",
   "metadata": {},
   "source": [
    "Python lo evalúa como si se tratasen de comparadores operados por el operador lógico ```and```:"
   ]
  },
  {
   "cell_type": "code",
   "metadata": {
    "ExecuteTime": {
     "end_time": "2024-05-24T15:41:16.354531Z",
     "start_time": "2024-05-24T15:41:16.352299Z"
    }
   },
   "source": [
    "2 > 4 and 4 < 7"
   ],
   "outputs": [
    {
     "data": {
      "text/plain": [
       "False"
      ]
     },
     "execution_count": 11,
     "metadata": {},
     "output_type": "execute_result"
    }
   ],
   "execution_count": 11
  },
  {
   "cell_type": "markdown",
   "metadata": {},
   "source": [
    "## Nulo (`NoneType`)\n",
    "\n",
    "- El valor ```None``` es utilizado para __representar casos en que ningún valor es válido__ o para indicar que una variable __no tiene valor__.\n",
    "- El ```None```, tiene su propio tipo ```NoneType```."
   ]
  },
  {
   "cell_type": "code",
   "metadata": {
    "ExecuteTime": {
     "end_time": "2024-05-24T15:41:16.364924Z",
     "start_time": "2024-05-24T15:41:16.363356Z"
    }
   },
   "source": [
    "None"
   ],
   "outputs": [],
   "execution_count": 12
  },
  {
   "cell_type": "markdown",
   "metadata": {},
   "source": [
    "## Cadenas (```str```)\n",
    "\n",
    "- Es una secuencia <a href=\"https://en.wikibooks.org/wiki/Python_Programming/Data_Types#Mutable_vs_Immutable_Objects\">inmutable</a> de uno o más caracteres (letras, números, símbolos). \n",
    "- Pueden ser representados por medio de comillas simples o dobles."
   ]
  },
  {
   "cell_type": "code",
   "metadata": {
    "ExecuteTime": {
     "end_time": "2024-05-24T15:41:16.388740Z",
     "start_time": "2024-05-24T15:41:16.385992Z"
    }
   },
   "source": [
    "'Esto es una cadena de texto entre comillas simples!'"
   ],
   "outputs": [
    {
     "data": {
      "text/plain": [
       "'Esto es una cadena de texto entre comillas simples!'"
      ]
     },
     "execution_count": 13,
     "metadata": {},
     "output_type": "execute_result"
    }
   ],
   "execution_count": 13
  },
  {
   "cell_type": "code",
   "metadata": {
    "ExecuteTime": {
     "end_time": "2024-05-24T15:41:16.392Z",
     "start_time": "2024-05-24T15:41:16.389931Z"
    }
   },
   "source": [
    "\"Esto es una cadena de texto entre comillas dobles!\""
   ],
   "outputs": [
    {
     "data": {
      "text/plain": [
       "'Esto es una cadena de texto entre comillas dobles!'"
      ]
     },
     "execution_count": 14,
     "metadata": {},
     "output_type": "execute_result"
    }
   ],
   "execution_count": 14
  },
  {
   "cell_type": "markdown",
   "metadata": {},
   "source": "Las cadenas de texto no se interpretan necesariamente de la misma forma que las personas interpretan a sus valores. Además, los valores difieren mayúsculas de minúsculas, como también, los espacios."
  },
  {
   "cell_type": "code",
   "metadata": {
    "ExecuteTime": {
     "end_time": "2024-05-24T15:41:16.402550Z",
     "start_time": "2024-05-24T15:41:16.400481Z"
    }
   },
   "source": [
    "1 == '1'"
   ],
   "outputs": [
    {
     "data": {
      "text/plain": [
       "False"
      ]
     },
     "execution_count": 15,
     "metadata": {},
     "output_type": "execute_result"
    }
   ],
   "execution_count": 15
  },
  {
   "cell_type": "code",
   "metadata": {
    "ExecuteTime": {
     "end_time": "2024-05-24T15:41:16.413690Z",
     "start_time": "2024-05-24T15:41:16.411217Z"
    }
   },
   "source": [
    "'casa' == 'Casa'"
   ],
   "outputs": [
    {
     "data": {
      "text/plain": [
       "False"
      ]
     },
     "execution_count": 16,
     "metadata": {},
     "output_type": "execute_result"
    }
   ],
   "execution_count": 16
  }
 ],
 "metadata": {
  "interpreter": {
   "hash": "03da1727eb179e6d4206a53fc7edf92cda963bd1ce89117d747d91e0da58e345"
  },
  "kernelspec": {
   "display_name": "Python 3 (ipykernel)",
   "language": "python",
   "name": "python3"
  },
  "language_info": {
   "codemirror_mode": {
    "name": "ipython",
    "version": 3
   },
   "file_extension": ".py",
   "mimetype": "text/x-python",
   "name": "python",
   "nbconvert_exporter": "python",
   "pygments_lexer": "ipython3",
   "version": "3.10.10"
  }
 },
 "nbformat": 4,
 "nbformat_minor": 2
}
