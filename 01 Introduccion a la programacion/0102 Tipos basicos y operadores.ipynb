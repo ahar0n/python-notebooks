{
 "cells": [
  {
   "cell_type": "markdown",
   "metadata": {},
   "source": [
    "# Tipos básicos y operadores"
   ]
  },
  {
   "cell_type": "markdown",
   "metadata": {},
   "source": [
    "![Tipos básicos y operadores](./img/tipos_primitivos.svg)"
   ]
  },
  {
   "cell_type": "markdown",
   "metadata": {},
   "source": [
    "El tipo de dato es la propiedad de un valor que determina su dominio, las operaciones soporta y como se representan. \n",
    "\n",
    "En Python se pueden distinguir los siguientes __tipos básicos__ de datos: \n",
    "\n",
    "- Números\n",
    "- Booleanos\n",
    "- None\n",
    "- Cadenas"
   ]
  },
  {
   "cell_type": "markdown",
   "metadata": {},
   "source": [
    "## Números\n",
    "\n",
    "- Los __números enteros__ en Python son de tipo `int`. \n",
    "- No tienen componente fraccionaria y pueden ser positivos o negativos. \n",
    "- Para distinguir entre positivos y negativos pueden ser precedidos de su signo."
   ]
  },
  {
   "cell_type": "code",
   "execution_count": null,
   "metadata": {},
   "outputs": [],
   "source": [
    "type(3)"
   ]
  },
  {
   "cell_type": "markdown",
   "source": [
    "NOTA: La función `type()` retorna el tipo de dato de su argumento."
   ],
   "metadata": {
    "collapsed": false
   }
  },
  {
   "cell_type": "markdown",
   "metadata": {},
   "source": [
    "- Los __números reales__ en Python son de tipo `float`. \n",
    "- Proviene del término <em><a href=\"https://es.wikipedia.org/wiki/Coma_flotante\">floating point</a></em> que es la forma en que el computador representa internamente los números reales."
   ]
  },
  {
   "cell_type": "code",
   "execution_count": null,
   "metadata": {},
   "outputs": [],
   "source": [
    "-0.765"
   ]
  },
  {
   "cell_type": "markdown",
   "source": [
    "NOTA: En algunos lenguajes, los números flotantes son denominados _double_."
   ],
   "metadata": {
    "collapsed": false
   }
  },
  {
   "cell_type": "markdown",
   "metadata": {},
   "source": [
    "- Los __números complejos__ son de tipo `complex`. \n",
    "- Se componen de una parte real y una imaginaria, esta última es acompañada del caracter <code>j</code>."
   ]
  },
  {
   "cell_type": "code",
   "execution_count": null,
   "metadata": {},
   "outputs": [],
   "source": [
    "2+9j"
   ]
  },
  {
   "cell_type": "markdown",
   "metadata": {},
   "source": [
    "### Operadores aritméticos\n",
    "- Operan valores numéricos y retornan valores númericos. \n",
    "- El tipo de dato del resultado obtenido de una operación aritmética dependerá del tipo de valor operado."
   ]
  },
  {
   "cell_type": "markdown",
   "metadata": {},
   "source": [
    "| Operación | Símbolo | Aridad | Asociatividad | Prioridad |\n",
    "|   :--     | :--:    |:--     | :--           | :--:      |\n",
    "|Exponenciación | **  |\tBinario |\tDerecha |\t1|\n",
    "|Identidad      | +   |\tUnario  |\t-   |\t2|\n",
    "|Cambio de signo| -   |\tUnario  |\t-   |\t2|\n",
    "|Multiplicación | *     |\tBinario |\tIzquierda   |\t3|\n",
    "|División       | /     |\tBinario |\tIzquierda   |\t3|\n",
    "|Módulo\t        | %     |   Binario |\tIzquierda   |\t3|\n",
    "|Suma           | +     |\tBinario |\tIzquierda   |\t4|\n",
    "|Resta          | -     |\tBinario |\tIzquierda   |\t4|\n",
    "|División entera| //    |\tBinario |\tIzquierda   |\t4|\n"
   ]
  },
  {
   "cell_type": "markdown",
   "metadata": {},
   "source": [
    "NOTA: Cuando se operan datos cuyo resultado es de tipo ```float```, estos __no se representan de forma exacta__. Por ejemplo, ver el resultado de la siguiente operación expresada a partir de dos expresiones distintas,"
   ]
  },
  {
   "cell_type": "code",
   "execution_count": null,
   "metadata": {},
   "outputs": [],
   "source": [
    "2 * 3 / 5"
   ]
  },
  {
   "cell_type": "code",
   "execution_count": null,
   "metadata": {
    "scrolled": true
   },
   "outputs": [],
   "source": [
    "2 / 5 * 3"
   ]
  },
  {
   "cell_type": "markdown",
   "metadata": {},
   "source": [
    "## Lógicos (```bool```)\n",
    "\n",
    "- Permite representar valores de la lógica binaria: ```True``` y ```False```."
   ]
  },
  {
   "cell_type": "code",
   "execution_count": null,
   "metadata": {},
   "outputs": [],
   "source": [
    "True"
   ]
  },
  {
   "cell_type": "code",
   "execution_count": null,
   "outputs": [],
   "source": [
    "False"
   ],
   "metadata": {
    "collapsed": false
   }
  },
  {
   "cell_type": "markdown",
   "metadata": {},
   "source": [
    "### Operadores lógicos\n",
    "- Estos operadores retornan como resultado valores de tipo ```bool```. \n",
    "- En Python existen tres operaciones lógicas:"
   ]
  },
  {
   "cell_type": "markdown",
   "metadata": {},
   "source": [
    "| Operación | Símbolo   | Aridad    | Asociatividad | Prioridad |\n",
    "|   :--     | :--:      | :--       | :--           | :--:      |\n",
    "|Negación   | not       | Unario    | -             | 6 |\n",
    "|Conjunción | and       | Binario   | Izquierda     | 7 |\n",
    "|Disyunción | or        | Binario   | Izquierda     | 8 |"
   ]
  },
  {
   "cell_type": "code",
   "execution_count": null,
   "metadata": {},
   "outputs": [],
   "source": [
    "not False and True or False"
   ]
  },
  {
   "cell_type": "markdown",
   "metadata": {},
   "source": [
    "### Operadores relacionales\n",
    "- Son utilizados para comparar valores. \n",
    "- El operando puede ser de cualquier tipo que pueda ser comparado y el resultado siempre son de tipo <code>bool</code>."
   ]
  },
  {
   "cell_type": "markdown",
   "metadata": {},
   "source": [
    "| Operación | Símbolo   | Aridad    | Asociatividad | Prioridad |\n",
    "|   :--     | :--:      | :--       | :--           | :--:      |\n",
    "|Igual que\t| ==\t| Binario\t| -\t| 5|\n",
    "|Distinto que\t| !=\t| Binario\t| -\t| 5|\n",
    "|Menor que\t| <\t| Binario\t| -\t| 5|\n",
    "|Menor o igual que\t| <=\t| Binario\t| -\t| 5|\n",
    "|Mayor que\t| >\t| Binario\t| -\t| 5|\n",
    "|Mayor o igual que\t| >=\t| Binario\t| -\t| 5|"
   ]
  },
  {
   "cell_type": "code",
   "execution_count": null,
   "outputs": [],
   "source": [
    "(2 * 3 / 5) == (2 / 5 * 3)"
   ],
   "metadata": {
    "collapsed": false
   }
  },
  {
   "cell_type": "markdown",
   "metadata": {},
   "source": [
    "<p>Cuando aparece una sucesión de comparadores, por ejemplo:</p>"
   ]
  },
  {
   "cell_type": "code",
   "execution_count": null,
   "metadata": {},
   "outputs": [],
   "source": [
    "2 > 4 < 7"
   ]
  },
  {
   "cell_type": "markdown",
   "metadata": {},
   "source": [
    "Python lo evalúa como si se tratasen de comparadores operados por el operador lógico ```and```:"
   ]
  },
  {
   "cell_type": "code",
   "execution_count": null,
   "metadata": {},
   "outputs": [],
   "source": [
    "2 > 4 and 4 < 7"
   ]
  },
  {
   "cell_type": "markdown",
   "metadata": {},
   "source": [
    "## Nulo (`NoneType`)\n",
    "\n",
    "- El valor ```None``` es utilizado para __representar casos en que ningún valor es válido__ o para indicar que una variable __no tiene valor__.\n",
    "- El ```None```, tiene su propio tipo ```NoneType```."
   ]
  },
  {
   "cell_type": "code",
   "execution_count": null,
   "metadata": {},
   "outputs": [],
   "source": [
    "None"
   ]
  },
  {
   "cell_type": "markdown",
   "metadata": {},
   "source": [
    "## Cadenas (```str```)\n",
    "\n",
    "- Es una secuencia <a href=\"https://en.wikibooks.org/wiki/Python_Programming/Data_Types#Mutable_vs_Immutable_Objects\">inmutable</a> de uno o más caracteres (letras, números, símbolos). \n",
    "- Pueden ser representados por medio de comillas simples o dobles."
   ]
  },
  {
   "cell_type": "code",
   "execution_count": null,
   "metadata": {},
   "outputs": [],
   "source": [
    "'Esto es una cadena de texto entre comillas simples!'"
   ]
  },
  {
   "cell_type": "code",
   "execution_count": null,
   "metadata": {},
   "outputs": [],
   "source": [
    "\"Esto es una cadena de texto entre comillas dobles!\""
   ]
  },
  {
   "cell_type": "markdown",
   "metadata": {},
   "source": [
    "Las cadenas de texto no son lo mismo que los valores representan. Además difieren de mayúsculas y minúsculas o en espacios:"
   ]
  },
  {
   "cell_type": "code",
   "execution_count": null,
   "metadata": {},
   "outputs": [],
   "source": [
    "1 == '1'"
   ]
  },
  {
   "cell_type": "code",
   "execution_count": null,
   "metadata": {},
   "outputs": [],
   "source": [
    "'casa' == 'Casa'"
   ]
  }
 ],
 "metadata": {
  "interpreter": {
   "hash": "03da1727eb179e6d4206a53fc7edf92cda963bd1ce89117d747d91e0da58e345"
  },
  "kernelspec": {
   "display_name": "Python 3 (ipykernel)",
   "language": "python",
   "name": "python3"
  },
  "language_info": {
   "codemirror_mode": {
    "name": "ipython",
    "version": 3
   },
   "file_extension": ".py",
   "mimetype": "text/x-python",
   "name": "python",
   "nbconvert_exporter": "python",
   "pygments_lexer": "ipython3",
   "version": "3.10.10"
  }
 },
 "nbformat": 4,
 "nbformat_minor": 2
}
