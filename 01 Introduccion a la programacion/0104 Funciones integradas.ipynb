{
 "cells": [
  {
   "cell_type": "markdown",
   "metadata": {},
   "source": [
    "# Funciones integradas (_built-in functions_)"
   ]
  },
  {
   "cell_type": "markdown",
   "metadata": {},
   "source": [
    "- Una función es una secuencia denominada de instrucciones que realiza un cálculo. \n",
    "- Las funciones tienen un __nombre__ y reciben __parámetros__ (o argumentos) que van entre paréntesis `( )`. \n",
    "- Algunas funciones, además, entregan un resultado que se denomina __retorno__."
   ]
  },
  {
   "cell_type": "code",
   "execution_count": null,
   "metadata": {},
   "outputs": [],
   "source": [
    "type(25)"
   ]
  },
  {
   "cell_type": "markdown",
   "metadata": {},
   "source": [
    "El intérprete Python tiene una serie de [funciones y tipos incorporados](https://docs.python.org/3/library/functions.html) que permiten realizar algunas operaciones básicas."
   ]
  },
  {
   "cell_type": "markdown",
   "metadata": {},
   "source": [
    "## Actividad"
   ]
  },
  {
   "cell_type": "markdown",
   "metadata": {},
   "source": [
    "Describe el uso de las siguientes funciones y complementa agregando un ejemplo.\n",
    "\n",
    "- `help()`\n",
    "- `eval()`\n",
    "- `min()`\n",
    "- `max()`\n",
    "- `sum()`\n",
    "- `pow()`\n",
    "- `chr()`\n",
    "- `round()`\n",
    "- `abs()`"
   ]
  }
 ],
 "metadata": {
  "interpreter": {
   "hash": "03da1727eb179e6d4206a53fc7edf92cda963bd1ce89117d747d91e0da58e345"
  },
  "kernelspec": {
   "display_name": "Python 3.7.11 ('eda37')",
   "language": "python",
   "name": "python3"
  },
  "language_info": {
   "codemirror_mode": {
    "name": "ipython",
    "version": 3
   },
   "file_extension": ".py",
   "mimetype": "text/x-python",
   "name": "python",
   "nbconvert_exporter": "python",
   "pygments_lexer": "ipython3",
   "version": "3.7.11"
  }
 },
 "nbformat": 4,
 "nbformat_minor": 2
}
