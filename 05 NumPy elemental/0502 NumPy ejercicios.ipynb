{
 "cells": [
  {
   "cell_type": "markdown",
   "metadata": {},
   "source": [
    "# Ejercicios de NumPy\n",
    "\n",
    "Resolver en celdas contiguas de acuerdo con lo soliicado."
   ]
  },
  {
   "cell_type": "markdown",
   "metadata": {},
   "source": [
    "Importa la librería NumPy:"
   ]
  },
  {
   "cell_type": "code",
   "execution_count": null,
   "metadata": {},
   "outputs": [],
   "source": [
    " "
   ]
  },
  {
   "cell_type": "markdown",
   "metadata": {},
   "source": [
    "Crear un arreglo NumPy que tenga la siguente estructura,\n",
    "\n",
    "```\n",
    "[[1,  6, 11],\n",
    " [2,  7, 12],\n",
    " [3,  8, 13],\n",
    " [4,  9, 14],\n",
    " [5, 10, 15]]\n",
    "```\n",
    "\n",
    "y asignarlo a la variable `m`."
   ]
  },
  {
   "cell_type": "code",
   "execution_count": null,
   "metadata": {
    "collapsed": true
   },
   "outputs": [],
   "source": []
  },
  {
   "cell_type": "markdown",
   "metadata": {},
   "source": [
    "Obtener la forma del arreglo `m`:"
   ]
  },
  {
   "cell_type": "code",
   "execution_count": null,
   "metadata": {
    "collapsed": true
   },
   "outputs": [],
   "source": []
  },
  {
   "cell_type": "markdown",
   "metadata": {},
   "source": [
    "Selecciona la segunda columna del arreglo `m`:"
   ]
  },
  {
   "cell_type": "code",
   "execution_count": null,
   "metadata": {
    "collapsed": true
   },
   "outputs": [],
   "source": []
  },
  {
   "cell_type": "markdown",
   "metadata": {},
   "source": [
    "Crear un vector con los valores del 15 al 55, y almacénalo en la variable `array2`:"
   ]
  },
  {
   "cell_type": "code",
   "execution_count": null,
   "metadata": {
    "collapsed": true
   },
   "outputs": [],
   "source": []
  },
  {
   "cell_type": "markdown",
   "metadata": {},
   "source": [
    "Asigna el valor 23 a la quinta posicion de `array2`:"
   ]
  },
  {
   "cell_type": "code",
   "execution_count": null,
   "metadata": {
    "collapsed": true
   },
   "outputs": [],
   "source": []
  },
  {
   "cell_type": "markdown",
   "metadata": {},
   "source": [
    "Invertir el `array2`, es decir `[55,54,....,15]`:"
   ]
  },
  {
   "cell_type": "code",
   "execution_count": null,
   "metadata": {
    "collapsed": true,
    "tags": []
   },
   "outputs": [],
   "source": []
  },
  {
   "cell_type": "markdown",
   "metadata": {},
   "source": [
    "Crear una matriz diagonal donde los elementos de la diagonal sean los 5 primeros valores pares del `array2`, asignala a la variable `matriz_diag`."
   ]
  },
  {
   "cell_type": "code",
   "execution_count": null,
   "metadata": {
    "collapsed": true
   },
   "outputs": [],
   "source": []
  },
  {
   "cell_type": "markdown",
   "metadata": {},
   "source": [
    "Imprime el numero de dimensiones de `matriz_diag`:"
   ]
  },
  {
   "cell_type": "code",
   "execution_count": null,
   "metadata": {
    "collapsed": true
   },
   "outputs": [],
   "source": []
  },
  {
   "cell_type": "markdown",
   "metadata": {},
   "source": [
    "Crear una matriz con números aleatorios de tamaño 5x3 (5 filas por 3 columnas), denomínala `matriz`:"
   ]
  },
  {
   "cell_type": "code",
   "execution_count": null,
   "metadata": {
    "collapsed": true
   },
   "outputs": [],
   "source": []
  },
  {
   "cell_type": "markdown",
   "metadata": {},
   "source": [
    "Multiplica `matriz_diag` por `matriz`:"
   ]
  },
  {
   "cell_type": "code",
   "execution_count": null,
   "metadata": {},
   "outputs": [],
   "source": []
  },
  {
   "cell_type": "markdown",
   "metadata": {
    "collapsed": true
   },
   "source": [
    "Escribe una función que retorne `True` cuando ninguno de los elementos de una matriz dada (tipo `np.ndarray`) es cero. De lo contrario, debe retornar la posición de la primera ocurrencia del valor cero.\n",
    "\n",
    "__NOTA__: La función [`numpy.all`](https://numpy.org/doc/stable/reference/generated/numpy.all.html) podría ayudar en la resolución de este problema."
   ]
  },
  {
   "cell_type": "code",
   "execution_count": null,
   "metadata": {},
   "outputs": [],
   "source": []
  },
  {
   "cell_type": "markdown",
   "metadata": {},
   "source": [
    "Escribe una función que retorne `True` cuando ninguno de los elementos de una matriz dada (tipo `np.ndarray`) es nulo (`np.nan`). De lo contrario, debe retornar la posición de la primera ocurrencia del valor `np.nan`.\n",
    "\n",
    "__NOTA__: La función [`numpy.isnan`](https://numpy.org/doc/stable/reference/generated/numpy.isnan.html) podría ayudar en la resolución de este problema."
   ]
  },
  {
   "cell_type": "code",
   "execution_count": null,
   "metadata": {},
   "outputs": [],
   "source": []
  },
  {
   "cell_type": "markdown",
   "metadata": {},
   "source": [
    "Escribe una función que realice la extracción de todos los números de una matriz que son más grandes que un número especificado. La función deberá generar un archivo de texto (`.txt`) con los números extraídos.\n",
    "\n",
    "__NOTA__: La función [`numpy.savetxt`](https://numpy.org/doc/stable/reference/generated/numpy.savetxt.html) podría ayudar en la resolución de este problema."
   ]
  },
  {
   "cell_type": "code",
   "execution_count": null,
   "metadata": {},
   "outputs": [],
   "source": []
  },
  {
   "cell_type": "markdown",
   "metadata": {},
   "source": [
    "Diseña una función para encontrar valores comunes entre dos arreglos. La función debe retornar los valores ordenados de forma decreciente.\n",
    "\n",
    "__NOTA__: La objeto [`numpy.instersect1d`](https://numpy.org/doc/stable/reference/generated/numpy.intersect1d.html) podría ayudar en la resolución de este problema."
   ]
  },
  {
   "cell_type": "code",
   "execution_count": null,
   "metadata": {},
   "outputs": [],
   "source": []
  },
  {
   "cell_type": "markdown",
   "metadata": {},
   "source": [
    "Escribe una sentencia para obtener la fecha actual.\n",
    "\n",
    "__NOTA__: El objeto [`datetime64`](https://numpy.org/doc/stable/reference/arrays.datetime.html) podría ayudar en la resolución de este problema."
   ]
  },
  {
   "cell_type": "code",
   "execution_count": null,
   "metadata": {},
   "outputs": [],
   "source": []
  },
  {
   "cell_type": "markdown",
   "metadata": {},
   "source": [
    "Diseña una función que, dado un escalar, encuentre el valor más cercano en un vector.\n",
    "\n",
    "__NOTA__: La función [`numpy.argmin()`](https://numpy.org/doc/stable/reference/generated/numpy.argmin.html) podría ayudar en la construcción de la resolución del problema."
   ]
  },
  {
   "cell_type": "code",
   "execution_count": null,
   "metadata": {},
   "outputs": [],
   "source": []
  },
  {
   "cell_type": "markdown",
   "metadata": {},
   "source": [
    "Diseña una función que encuentre el valor más frecuente en una arreglo."
   ]
  },
  {
   "cell_type": "code",
   "execution_count": null,
   "metadata": {},
   "outputs": [],
   "source": []
  },
  {
   "cell_type": "markdown",
   "metadata": {},
   "source": [
    "Considere 2 arreglos A y B de forma (8,3) y (2,2), respectivamente. Diseña una función que encuentre las filas de A que contiene los elementos de B, independiente del orden de los elementos de B."
   ]
  },
  {
   "cell_type": "code",
   "execution_count": null,
   "metadata": {},
   "outputs": [],
   "source": []
  }
 ],
 "metadata": {
  "kernelspec": {
   "display_name": "Python 3.7.11 ('eda37')",
   "language": "python",
   "name": "python3"
  },
  "language_info": {
   "codemirror_mode": {
    "name": "ipython",
    "version": 3
   },
   "file_extension": ".py",
   "mimetype": "text/x-python",
   "name": "python",
   "nbconvert_exporter": "python",
   "pygments_lexer": "ipython3",
   "version": "3.7.11"
  },
  "vscode": {
   "interpreter": {
    "hash": "03da1727eb179e6d4206a53fc7edf92cda963bd1ce89117d747d91e0da58e345"
   }
  }
 },
 "nbformat": 4,
 "nbformat_minor": 2
}
