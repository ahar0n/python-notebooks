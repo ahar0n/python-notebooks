{
 "cells": [
  {
   "cell_type": "markdown",
   "metadata": {},
   "source": [
    "# Ejercicios de NumPy (solución)\n",
    "\n",
    "Resolver en celdas contiguas de acuerdo con lo soliicado."
   ]
  },
  {
   "cell_type": "markdown",
   "metadata": {},
   "source": [
    "Importa la librería NumPy:"
   ]
  },
  {
   "cell_type": "code",
   "execution_count": 3,
   "metadata": {},
   "outputs": [],
   "source": [
    "import numpy as np"
   ]
  },
  {
   "cell_type": "markdown",
   "metadata": {},
   "source": [
    "Crear un arreglo NumPy que tenga la siguente estructura,\n",
    "\n",
    "```\n",
    "[[1,  6, 11],\n",
    " [2,  7, 12],\n",
    " [3,  8, 13],\n",
    " [4,  9, 14],\n",
    " [5, 10, 15]]\n",
    "```\n",
    "\n",
    "y asignarlo a la variable `m`."
   ]
  },
  {
   "cell_type": "code",
   "execution_count": 9,
   "metadata": {
    "collapsed": true
   },
   "outputs": [
    {
     "name": "stdout",
     "output_type": "stream",
     "text": [
      "[[ 1  6 11]\n",
      " [ 2  7 12]\n",
      " [ 3  8 13]\n",
      " [ 4  9 14]\n",
      " [ 5 10 15]]\n"
     ]
    }
   ],
   "source": [
    "m = np.array(range(1,16)).reshape(3,5).transpose()\n",
    "print(m)"
   ]
  },
  {
   "cell_type": "markdown",
   "metadata": {},
   "source": [
    "Obtener la forma del arreglo `m`:"
   ]
  },
  {
   "cell_type": "code",
   "execution_count": 10,
   "metadata": {
    "collapsed": true
   },
   "outputs": [
    {
     "data": {
      "text/plain": [
       "(5, 3)"
      ]
     },
     "execution_count": 10,
     "metadata": {},
     "output_type": "execute_result"
    }
   ],
   "source": [
    "m.shape"
   ]
  },
  {
   "cell_type": "markdown",
   "metadata": {},
   "source": [
    "Selecciona la segunda columna del arreglo `m`:"
   ]
  },
  {
   "cell_type": "code",
   "execution_count": 11,
   "metadata": {
    "collapsed": true
   },
   "outputs": [
    {
     "data": {
      "text/plain": [
       "array([ 6,  7,  8,  9, 10])"
      ]
     },
     "execution_count": 11,
     "metadata": {},
     "output_type": "execute_result"
    }
   ],
   "source": [
    "m[:,1]"
   ]
  },
  {
   "cell_type": "markdown",
   "metadata": {},
   "source": [
    "Crear un vector con los valores del 15 al 55, y almacénalo en la variable `array2`:"
   ]
  },
  {
   "cell_type": "code",
   "execution_count": 16,
   "metadata": {
    "collapsed": true
   },
   "outputs": [
    {
     "name": "stdout",
     "output_type": "stream",
     "text": [
      "[15 16 17 18 19 20 21 22 23 24 25 26 27 28 29 30 31 32 33 34 35 36 37 38\n",
      " 39 40 41 42 43 44 45 46 47 48 49 50 51 52 53 54 55]\n"
     ]
    }
   ],
   "source": [
    "array2 = np.array(range(15, 56))\n",
    "print(array2)"
   ]
  },
  {
   "cell_type": "markdown",
   "metadata": {},
   "source": [
    "Asigna el valor 23 a la quinta posicion de `array2`:"
   ]
  },
  {
   "cell_type": "code",
   "execution_count": 17,
   "metadata": {
    "collapsed": true
   },
   "outputs": [
    {
     "name": "stdout",
     "output_type": "stream",
     "text": [
      "[15 16 17 18 23 20 21 22 23 24 25 26 27 28 29 30 31 32 33 34 35 36 37 38\n",
      " 39 40 41 42 43 44 45 46 47 48 49 50 51 52 53 54 55]\n"
     ]
    }
   ],
   "source": [
    "array2[4] = 23\n",
    "print(array2)"
   ]
  },
  {
   "cell_type": "markdown",
   "metadata": {},
   "source": [
    "Invertir el `array2`, es decir `[55,54,....,15]`:"
   ]
  },
  {
   "cell_type": "code",
   "execution_count": 55,
   "metadata": {
    "collapsed": true,
    "tags": []
   },
   "outputs": [
    {
     "data": {
      "text/plain": [
       "array([55, 54, 53, 52, 51, 50, 49, 48, 47, 46, 45, 44, 43, 42, 41, 40, 39,\n",
       "       38, 37, 36, 35, 34, 33, 32, 31, 30, 29, 28, 27, 26, 25, 24, 23, 22,\n",
       "       21, 20, 23, 18, 17, 16, 15])"
      ]
     },
     "execution_count": 55,
     "metadata": {},
     "output_type": "execute_result"
    }
   ],
   "source": [
    "array2[::-1]"
   ]
  },
  {
   "cell_type": "markdown",
   "metadata": {},
   "source": [
    "Crear una matriz diagonal donde los elementos de la diagonal sean los 5 primeros valores pares del `array2`, asignala a la variable `matriz_diag`."
   ]
  },
  {
   "cell_type": "code",
   "execution_count": 56,
   "metadata": {
    "collapsed": true
   },
   "outputs": [
    {
     "name": "stdout",
     "output_type": "stream",
     "text": [
      "[[15  0  0  0  0]\n",
      " [ 0 16  0  0  0]\n",
      " [ 0  0 17  0  0]\n",
      " [ 0  0  0 18  0]\n",
      " [ 0  0  0  0 23]]\n"
     ]
    }
   ],
   "source": [
    "matriz_diag = np.diag(array2[:5])\n",
    "print(matriz_diag)"
   ]
  },
  {
   "cell_type": "markdown",
   "metadata": {},
   "source": [
    "Imprime el numero de dimensiones de `matriz_diag`:"
   ]
  },
  {
   "cell_type": "code",
   "execution_count": 60,
   "metadata": {
    "collapsed": true
   },
   "outputs": [
    {
     "name": "stdout",
     "output_type": "stream",
     "text": [
      "2\n"
     ]
    }
   ],
   "source": [
    "print(matriz_diag.ndim)"
   ]
  },
  {
   "cell_type": "markdown",
   "metadata": {},
   "source": [
    "Crear una matriz con números aleatorios de tamaño 5x3 (5 filas por 3 columnas), denomínala `matriz`:"
   ]
  },
  {
   "cell_type": "code",
   "execution_count": 93,
   "metadata": {
    "collapsed": true
   },
   "outputs": [
    {
     "name": "stdout",
     "output_type": "stream",
     "text": [
      "[[9 5 5]\n",
      " [2 9 3]\n",
      " [2 8 8]\n",
      " [1 2 7]\n",
      " [0 1 6]]\n"
     ]
    }
   ],
   "source": [
    "matriz = np.random.randint(10, size=(5,3))\n",
    "print(matriz)"
   ]
  },
  {
   "cell_type": "markdown",
   "metadata": {},
   "source": [
    "Multiplica `matriz_diag` por `matriz`:"
   ]
  },
  {
   "cell_type": "code",
   "execution_count": 103,
   "metadata": {},
   "outputs": [
    {
     "name": "stdout",
     "output_type": "stream",
     "text": [
      "[[135  75  75]\n",
      " [ 32 144  48]\n",
      " [ 34 136 136]\n",
      " [ 18  36 126]\n",
      " [  0  23 138]]\n"
     ]
    }
   ],
   "source": [
    "print(matriz_diag.dot(matriz))"
   ]
  },
  {
   "cell_type": "markdown",
   "metadata": {
    "collapsed": true
   },
   "source": [
    "Escribe una función que retorne `True` cuando ninguno de los elementos de una matriz dada (`ndarray`) es cero. De lo contrario, debe retorne la posición de la primera ocurrencia del valor cero.\n",
    "\n",
    "__NOTA__: La función [`numpy.all`](https://numpy.org/doc/stable/reference/generated/numpy.all.html) podría ayudar en la resolución de este problema."
   ]
  },
  {
   "cell_type": "code",
   "execution_count": 114,
   "metadata": {},
   "outputs": [
    {
     "data": {
      "text/plain": [
       "(4, 0)"
      ]
     },
     "execution_count": 114,
     "metadata": {},
     "output_type": "execute_result"
    }
   ],
   "source": [
    "def no_tiene_ceros(m):\n",
    "    if np.all(m):\n",
    "        return True\n",
    "    else:\n",
    "        f, c = m.shape\n",
    "        for i in range(f):\n",
    "            for j in range(c):\n",
    "                if not m[i][j]:\n",
    "                    return (i, j)\n",
    "\n",
    "\n",
    "no_tiene_ceros(matriz)"
   ]
  },
  {
   "cell_type": "markdown",
   "metadata": {},
   "source": [
    "Escribe una función que retorne `True` cuando ninguno de los elementos de una matriz dada (`numpy.ndarray`) es nulo (`np.nan`). De lo contrario, debe retornar la posición de la primera ocurrencia del valor `np.nan`.\n",
    "\n",
    "__NOTA__: La función [`numpy.isnan`](https://numpy.org/doc/stable/reference/generated/numpy.isnan.html) podría ayudar en la resolución de este problema."
   ]
  },
  {
   "cell_type": "code",
   "execution_count": 131,
   "metadata": {},
   "outputs": [
    {
     "name": "stdout",
     "output_type": "stream",
     "text": [
      "[[ 1.  2.  3.]\n",
      " [43.  2. nan]\n",
      " [nan  1.  1.]\n",
      " [ 0.  1.  1.]]\n",
      "\n",
      "Primer nulo: (1, 2)\n"
     ]
    }
   ],
   "source": [
    "def no_contiene_nulos(m):\n",
    "    m_logical = np.isnan(m)\n",
    "    f, c = m_logical.shape\n",
    "    for i in range(f):\n",
    "        for j in range(c):\n",
    "            if m_logical[i][j]:\n",
    "                return (i, j)\n",
    "    return True\n",
    "\n",
    "\n",
    "m = np.genfromtxt('./data/array_b.txt',  delimiter=',')\n",
    "print(m)\n",
    "print('\\nPrimer nulo: {}'.format(no_contiene_nulos(m)))"
   ]
  },
  {
   "cell_type": "markdown",
   "metadata": {},
   "source": [
    "Escribe una función que realice la extracción de todos los números de una matriz que son más grandes que un número especificado. La función deberá generar un archivo de texto (`.txt`) con los números extraidos.\n",
    "\n",
    "__NOTA__: La función [`numpy.savetxt`](https://numpy.org/doc/stable/reference/generated/numpy.savetxt.html) podría ayudar en la resolución de este problema."
   ]
  },
  {
   "cell_type": "code",
   "execution_count": 142,
   "metadata": {},
   "outputs": [],
   "source": [
    "def mayores_que(matriz, x):\n",
    "    query = matriz > x\n",
    "    mayores = matriz[query]\n",
    "    fname = 'mayores_que_{}.txt'.format(x)\n",
    "    np.savetxt(fname, mayores, fmt='%i')\n",
    "\n",
    "mayores_que(matriz, 6)"
   ]
  },
  {
   "cell_type": "markdown",
   "metadata": {},
   "source": [
    "Diseña una función para encontrar valores comunes entre dos arreglos. La función debe retornar los valores ordenados de forma decreciente.\n",
    "\n",
    "__NOTA__: La objeto [`numpy.instersect1d`](https://numpy.org/doc/stable/reference/generated/numpy.intersect1d.html) podría ayudar en la resolución de este problema."
   ]
  },
  {
   "cell_type": "code",
   "execution_count": null,
   "metadata": {},
   "outputs": [],
   "source": []
  },
  {
   "cell_type": "markdown",
   "metadata": {},
   "source": [
    "Escribe una sentencia para obtener la fecha actual.\n",
    "\n",
    "__NOTA__: El objeto [`datetime64`](https://numpy.org/doc/stable/reference/arrays.datetime.html) podría ayudar en la resolución de este problema."
   ]
  },
  {
   "cell_type": "code",
   "execution_count": null,
   "metadata": {},
   "outputs": [],
   "source": []
  },
  {
   "cell_type": "markdown",
   "metadata": {},
   "source": [
    "Diseña una función que, dado un escalar, encuentre el valor más cercano en un vector.\n",
    "\n",
    "__NOTA__: La función [`numpy.argmin()`](https://numpy.org/doc/stable/reference/generated/numpy.argmin.html) podría ayudar en la construcción de la resolución del problema."
   ]
  },
  {
   "cell_type": "code",
   "execution_count": null,
   "metadata": {},
   "outputs": [],
   "source": []
  },
  {
   "cell_type": "markdown",
   "metadata": {},
   "source": [
    "Diseña una función que encuentre el valor más frecuente en una arreglo."
   ]
  },
  {
   "cell_type": "code",
   "execution_count": null,
   "metadata": {},
   "outputs": [],
   "source": []
  },
  {
   "cell_type": "markdown",
   "metadata": {},
   "source": [
    "Considere 2 arreglos A y B de forma (8,3) y (2,2), respectivamente. Diseña una función que encuentre las filas de A que contiene los elementos de B, independiente del orden de los elementos de B."
   ]
  },
  {
   "cell_type": "code",
   "execution_count": null,
   "metadata": {},
   "outputs": [],
   "source": []
  }
 ],
 "metadata": {
  "kernelspec": {
   "display_name": "Python 3.7.11 ('eda37')",
   "language": "python",
   "name": "python3"
  },
  "language_info": {
   "codemirror_mode": {
    "name": "ipython",
    "version": 3
   },
   "file_extension": ".py",
   "mimetype": "text/x-python",
   "name": "python",
   "nbconvert_exporter": "python",
   "pygments_lexer": "ipython3",
   "version": "3.7.11"
  },
  "vscode": {
   "interpreter": {
    "hash": "03da1727eb179e6d4206a53fc7edf92cda963bd1ce89117d747d91e0da58e345"
   }
  }
 },
 "nbformat": 4,
 "nbformat_minor": 2
}
