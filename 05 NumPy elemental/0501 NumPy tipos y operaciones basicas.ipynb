{
 "cells": [
  {
   "cell_type": "markdown",
   "metadata": {},
   "source": [
    "# NumPy: Numerical Python\n",
    "\n",
    "## Tipos y operaciones básicas\n",
    "\n",
    "[NumPy](https://numpy.org)\n",
    "\n",
    "- Es una biblioteca de Python para computación científica.\n",
    "- Contiene funciones para trabajar en el dominio del álgebra lineal, matrices, la transformación de Fourier.\n",
    "- Es un proyecto de código abierto y puede ser utilizado libremente.\n",
    "\n",
    "### Por qué usar NumPy?\n",
    "\n",
    "Las lista de Python son útiles como matrices, pero son lentas de procesar.\n",
    "\n",
    "NumPy proporciona un __objeto tipo arreglo__ que es hasta 50 veces más rápido que las listas de Python.\n",
    "- La librería está optimizada para trabajar con las últimas arquitecturas de CPU.\n",
    "- A diferencia de las listas de Python, las matrices NumPy se almacenan en un lugar continuo de la memoria, por lo que los procesos pueden acceder a ellas y manipularlas de forma eficiente.\n",
    "- El arreglo `ndarray` de NumPy, proporciona diversas funciones que permiten que el trabajo sea más sencillo.\n",
    "\n",
    "\n",
    "[Tutorial Numpy](https://numpy.org/devdocs/user/absolute_beginners.html)"
   ]
  },
  {
   "cell_type": "code",
   "metadata": {
    "ExecuteTime": {
     "end_time": "2024-10-28T04:10:38.609189Z",
     "start_time": "2024-10-28T04:10:38.539576Z"
    }
   },
   "source": [
    "import numpy as np    # Importando la libreria\n",
    "\n",
    "print(np.__version__)"
   ],
   "outputs": [
    {
     "name": "stdout",
     "output_type": "stream",
     "text": [
      "1.26.2\n"
     ]
    }
   ],
   "execution_count": 1
  },
  {
   "cell_type": "markdown",
   "metadata": {},
   "source": [
    "## Crear arreglos\n",
    "\n",
    "El objeto principal de Numpy es un arreglo (`ndarray`) o grilla de valores (matriz multidimensional), en la cual,\n",
    "\n",
    "- todos los valores del mismo tipo (matriz homogénea), \n",
    "- está indexada por una tupla de números enteros no negativos,\n",
    "- las dimensiones son denominadas ejes (_axis_),\n",
    "- la forma de una matriz es una tupla de números enteros con el tamaño de la matriz a lo largo de cada dimensión.\n",
    "\n",
    "Es posible crear un objeto `ndarray` desde una lista de Python, usando la función `array()`."
   ]
  },
  {
   "cell_type": "code",
   "metadata": {
    "ExecuteTime": {
     "end_time": "2024-10-28T04:10:38.645255Z",
     "start_time": "2024-10-28T04:10:38.636946Z"
    }
   },
   "source": [
    "mi_array = np.array([4,5,3])\n",
    "type(mi_array)"
   ],
   "outputs": [
    {
     "data": {
      "text/plain": [
       "numpy.ndarray"
      ]
     },
     "execution_count": 2,
     "metadata": {},
     "output_type": "execute_result"
    }
   ],
   "execution_count": 2
  },
  {
   "cell_type": "code",
   "metadata": {
    "ExecuteTime": {
     "end_time": "2024-10-28T04:10:38.650984Z",
     "start_time": "2024-10-28T04:10:38.646664Z"
    }
   },
   "source": [
    "mi_array"
   ],
   "outputs": [
    {
     "data": {
      "text/plain": [
       "array([4, 5, 3])"
      ]
     },
     "execution_count": 3,
     "metadata": {},
     "output_type": "execute_result"
    }
   ],
   "execution_count": 3
  },
  {
   "cell_type": "markdown",
   "metadata": {},
   "source": [
    "Es posible crear distintos tipos de arreglos:\n",
    "- 0D o escalar\n",
    "- 1D\n",
    "- 2D o mátriz, que contiene arreglos \n",
    "- 3D, que contiene arreglos 2D\n",
    "- Multidimensionales"
   ]
  },
  {
   "cell_type": "code",
   "metadata": {
    "ExecuteTime": {
     "end_time": "2024-10-28T04:10:38.658029Z",
     "start_time": "2024-10-28T04:10:38.653662Z"
    }
   },
   "source": [
    "# array 0-D o escalar\n",
    "np.array(34)"
   ],
   "outputs": [
    {
     "data": {
      "text/plain": [
       "array(34)"
      ]
     },
     "execution_count": 4,
     "metadata": {},
     "output_type": "execute_result"
    }
   ],
   "execution_count": 4
  },
  {
   "cell_type": "code",
   "metadata": {
    "ExecuteTime": {
     "end_time": "2024-10-28T04:10:38.663730Z",
     "start_time": "2024-10-28T04:10:38.659509Z"
    }
   },
   "source": [
    "# array 1-D\n",
    "np.array([1, 2, 3, 4, 5])"
   ],
   "outputs": [
    {
     "data": {
      "text/plain": [
       "array([1, 2, 3, 4, 5])"
      ]
     },
     "execution_count": 5,
     "metadata": {},
     "output_type": "execute_result"
    }
   ],
   "execution_count": 5
  },
  {
   "cell_type": "code",
   "metadata": {
    "ExecuteTime": {
     "end_time": "2024-10-28T04:10:38.670198Z",
     "start_time": "2024-10-28T04:10:38.666395Z"
    }
   },
   "source": [
    "# array 2-D\n",
    "array_2D = np.array([                 \n",
    "    [1,2,3], \n",
    "    [4,5,6]\n",
    "    ])\n",
    "array_2D"
   ],
   "outputs": [
    {
     "data": {
      "text/plain": [
       "array([[1, 2, 3],\n",
       "       [4, 5, 6]])"
      ]
     },
     "execution_count": 6,
     "metadata": {},
     "output_type": "execute_result"
    }
   ],
   "execution_count": 6
  },
  {
   "cell_type": "code",
   "metadata": {
    "ExecuteTime": {
     "end_time": "2024-10-28T04:10:38.680078Z",
     "start_time": "2024-10-28T04:10:38.673873Z"
    }
   },
   "source": [
    "# array 3-D\n",
    "array_3D = np.array([\n",
    "    [[1, 2, 3], [4, 5, 6]], \n",
    "    [[11, 12, 13], [14, 15, 16]],\n",
    "    [[21, 22, 13], [24, 25, 26]],\n",
    "    [[5, 6, 6], [1, 0, 2]],\n",
    "    ])\n",
    "array_3D"
   ],
   "outputs": [
    {
     "data": {
      "text/plain": [
       "array([[[ 1,  2,  3],\n",
       "        [ 4,  5,  6]],\n",
       "\n",
       "       [[11, 12, 13],\n",
       "        [14, 15, 16]],\n",
       "\n",
       "       [[21, 22, 13],\n",
       "        [24, 25, 26]],\n",
       "\n",
       "       [[ 5,  6,  6],\n",
       "        [ 1,  0,  2]]])"
      ]
     },
     "execution_count": 7,
     "metadata": {},
     "output_type": "execute_result"
    }
   ],
   "execution_count": 7
  },
  {
   "cell_type": "markdown",
   "metadata": {},
   "source": [
    "## Dimensión y tamaño\n",
    "\n",
    "Los arreglos de NumPy contienen el atributo `ndarray.ndim` que retorna un entero con la dimensión de un arreglo."
   ]
  },
  {
   "cell_type": "code",
   "metadata": {
    "ExecuteTime": {
     "end_time": "2024-10-28T04:10:38.716511Z",
     "start_time": "2024-10-28T04:10:38.712631Z"
    }
   },
   "source": [
    "array_3D.ndim"
   ],
   "outputs": [
    {
     "data": {
      "text/plain": [
       "3"
      ]
     },
     "execution_count": 8,
     "metadata": {},
     "output_type": "execute_result"
    }
   ],
   "execution_count": 8
  },
  {
   "cell_type": "code",
   "metadata": {
    "ExecuteTime": {
     "end_time": "2024-10-28T04:10:38.738877Z",
     "start_time": "2024-10-28T04:10:38.733832Z"
    }
   },
   "source": [
    "array_3D"
   ],
   "outputs": [
    {
     "data": {
      "text/plain": [
       "array([[[ 1,  2,  3],\n",
       "        [ 4,  5,  6]],\n",
       "\n",
       "       [[11, 12, 13],\n",
       "        [14, 15, 16]],\n",
       "\n",
       "       [[21, 22, 13],\n",
       "        [24, 25, 26]],\n",
       "\n",
       "       [[ 5,  6,  6],\n",
       "        [ 1,  0,  2]]])"
      ]
     },
     "execution_count": 9,
     "metadata": {},
     "output_type": "execute_result"
    }
   ],
   "execution_count": 9
  },
  {
   "cell_type": "markdown",
   "metadata": {},
   "source": [
    "La forma de un arreglo corresponde al número de elementos en cada dimensión. El atributo `ndarray.shape` retorna una tupla con los elementos de cada dimensión."
   ]
  },
  {
   "cell_type": "code",
   "metadata": {
    "ExecuteTime": {
     "end_time": "2024-10-28T04:10:38.786371Z",
     "start_time": "2024-10-28T04:10:38.781461Z"
    }
   },
   "source": [
    "array_3D.shape"
   ],
   "outputs": [
    {
     "data": {
      "text/plain": [
       "(4, 2, 3)"
      ]
     },
     "execution_count": 10,
     "metadata": {},
     "output_type": "execute_result"
    }
   ],
   "execution_count": 10
  },
  {
   "cell_type": "markdown",
   "metadata": {},
   "source": [
    "## Funciones para crear arreglos"
   ]
  },
  {
   "cell_type": "code",
   "metadata": {
    "ExecuteTime": {
     "end_time": "2024-10-28T04:10:38.805274Z",
     "start_time": "2024-10-28T04:10:38.800325Z"
    }
   },
   "source": [
    "# arreglo de ceros\n",
    "np.zeros((3,2))       "
   ],
   "outputs": [
    {
     "data": {
      "text/plain": [
       "array([[0., 0.],\n",
       "       [0., 0.],\n",
       "       [0., 0.]])"
      ]
     },
     "execution_count": 11,
     "metadata": {},
     "output_type": "execute_result"
    }
   ],
   "execution_count": 11
  },
  {
   "cell_type": "code",
   "metadata": {
    "ExecuteTime": {
     "end_time": "2024-10-28T04:10:38.831959Z",
     "start_time": "2024-10-28T04:10:38.829474Z"
    }
   },
   "source": [
    "# matriz de unos\n",
    "np.ones((3, 4))"
   ],
   "outputs": [
    {
     "data": {
      "text/plain": [
       "array([[1., 1., 1., 1.],\n",
       "       [1., 1., 1., 1.],\n",
       "       [1., 1., 1., 1.]])"
      ]
     },
     "execution_count": 12,
     "metadata": {},
     "output_type": "execute_result"
    }
   ],
   "execution_count": 12
  },
  {
   "cell_type": "code",
   "metadata": {
    "ExecuteTime": {
     "end_time": "2024-10-28T04:10:38.853003Z",
     "start_time": "2024-10-28T04:10:38.850414Z"
    }
   },
   "source": [
    "# matriz identidad\n",
    "np.eye(3)"
   ],
   "outputs": [
    {
     "data": {
      "text/plain": [
       "array([[1., 0., 0.],\n",
       "       [0., 1., 0.],\n",
       "       [0., 0., 1.]])"
      ]
     },
     "execution_count": 13,
     "metadata": {},
     "output_type": "execute_result"
    }
   ],
   "execution_count": 13
  },
  {
   "cell_type": "code",
   "metadata": {
    "ExecuteTime": {
     "end_time": "2024-10-28T04:10:38.862350Z",
     "start_time": "2024-10-28T04:10:38.860274Z"
    }
   },
   "source": [
    "# arreglo de constantes\n",
    "np.full((3,3), .5)"
   ],
   "outputs": [
    {
     "data": {
      "text/plain": [
       "array([[0.5, 0.5, 0.5],\n",
       "       [0.5, 0.5, 0.5],\n",
       "       [0.5, 0.5, 0.5]])"
      ]
     },
     "execution_count": 14,
     "metadata": {},
     "output_type": "execute_result"
    }
   ],
   "execution_count": 14
  },
  {
   "cell_type": "code",
   "metadata": {
    "ExecuteTime": {
     "end_time": "2024-10-28T04:10:38.873781Z",
     "start_time": "2024-10-28T04:10:38.871555Z"
    }
   },
   "source": [
    "# arreglo de valores aleatorios, entre 0 y 1\n",
    "np.random.random((3,2))"
   ],
   "outputs": [
    {
     "data": {
      "text/plain": [
       "array([[0.87984491, 0.54110714],\n",
       "       [0.10233013, 0.22833308],\n",
       "       [0.32198844, 0.69489791]])"
      ]
     },
     "execution_count": 15,
     "metadata": {},
     "output_type": "execute_result"
    }
   ],
   "execution_count": 15
  },
  {
   "cell_type": "code",
   "metadata": {
    "ExecuteTime": {
     "end_time": "2024-10-28T04:10:38.885048Z",
     "start_time": "2024-10-28T04:10:38.882562Z"
    }
   },
   "source": [
    "# arreglo de valores aleatorios, entre mínimo (incl.) y un máximo (excl.)\n",
    "np.random.randint(1, high=10, size=(4,3))"
   ],
   "outputs": [
    {
     "data": {
      "text/plain": [
       "array([[4, 8, 1],\n",
       "       [1, 8, 7],\n",
       "       [7, 9, 7],\n",
       "       [9, 1, 6]])"
      ]
     },
     "execution_count": 16,
     "metadata": {},
     "output_type": "execute_result"
    }
   ],
   "execution_count": 16
  },
  {
   "cell_type": "markdown",
   "metadata": {},
   "source": [
    "Otros método para la creación de arreglos puede ser consultado [aquí](https://numpy.org/doc/stable/user/basics.creation.html#arrays-creation)."
   ]
  },
  {
   "cell_type": "markdown",
   "metadata": {},
   "source": [
    "## Importar arreglo desde archivos"
   ]
  },
  {
   "cell_type": "code",
   "metadata": {
    "tags": [],
    "ExecuteTime": {
     "end_time": "2024-10-28T04:10:39.012360Z",
     "start_time": "2024-10-28T04:10:38.891657Z"
    }
   },
   "source": [
    "!cat './data/array.txt'"
   ],
   "outputs": [
    {
     "name": "stdout",
     "output_type": "stream",
     "text": [
      "1,2,3\r\n",
      "43,2,3\r\n",
      "34,1,1\r\n",
      "0,1,1"
     ]
    }
   ],
   "execution_count": 17
  },
  {
   "cell_type": "markdown",
   "metadata": {},
   "source": [
    "La función `numpy.genfromtxt` carga datos desde un archivo de texto."
   ]
  },
  {
   "cell_type": "code",
   "metadata": {
    "ExecuteTime": {
     "end_time": "2024-10-28T04:10:39.017656Z",
     "start_time": "2024-10-28T04:10:39.013851Z"
    }
   },
   "source": [
    "m = np.genfromtxt('./data/array.txt', delimiter=',')\n",
    "m"
   ],
   "outputs": [
    {
     "data": {
      "text/plain": [
       "array([[ 1.,  2.,  3.],\n",
       "       [43.,  2.,  3.],\n",
       "       [34.,  1.,  1.],\n",
       "       [ 0.,  1.,  1.]])"
      ]
     },
     "execution_count": 18,
     "metadata": {},
     "output_type": "execute_result"
    }
   ],
   "execution_count": 18
  },
  {
   "cell_type": "markdown",
   "metadata": {},
   "source": [
    "Los valores perdidos pueden ser completado con el parámetro opcional `filling_values`."
   ]
  },
  {
   "cell_type": "code",
   "metadata": {
    "ExecuteTime": {
     "end_time": "2024-10-28T04:10:39.022903Z",
     "start_time": "2024-10-28T04:10:39.018388Z"
    }
   },
   "source": [
    "m = np.genfromtxt('./data/array_b.txt', delimiter=',', filling_values=20)\n",
    "m"
   ],
   "outputs": [
    {
     "data": {
      "text/plain": [
       "array([[ 1.,  2.,  3.],\n",
       "       [43.,  2., 20.],\n",
       "       [20.,  1.,  1.],\n",
       "       [ 0.,  1.,  1.]])"
      ]
     },
     "execution_count": 19,
     "metadata": {},
     "output_type": "execute_result"
    }
   ],
   "execution_count": 19
  },
  {
   "cell_type": "markdown",
   "metadata": {},
   "source": [
    "## Indexación de arreglos\n",
    "\n",
    "NumPy ofrece diferentes formar para indexar arreglos.\n",
    "\n",
    "- Slice (similar a Python)"
   ]
  },
  {
   "cell_type": "code",
   "metadata": {
    "ExecuteTime": {
     "end_time": "2024-10-28T04:10:39.026381Z",
     "start_time": "2024-10-28T04:10:39.024186Z"
    }
   },
   "source": [
    "array_2D"
   ],
   "outputs": [
    {
     "data": {
      "text/plain": [
       "array([[1, 2, 3],\n",
       "       [4, 5, 6]])"
      ]
     },
     "execution_count": 20,
     "metadata": {},
     "output_type": "execute_result"
    }
   ],
   "execution_count": 20
  },
  {
   "cell_type": "code",
   "metadata": {
    "ExecuteTime": {
     "end_time": "2024-10-28T04:10:39.029136Z",
     "start_time": "2024-10-28T04:10:39.026995Z"
    }
   },
   "source": [
    "# subarreglo, 2 primeras filas y 2 primeras columnas\n",
    "array_2D[0:2, 0:2]"
   ],
   "outputs": [
    {
     "data": {
      "text/plain": [
       "array([[1, 2],\n",
       "       [4, 5]])"
      ]
     },
     "execution_count": 21,
     "metadata": {},
     "output_type": "execute_result"
    }
   ],
   "execution_count": 21
  },
  {
   "cell_type": "markdown",
   "metadata": {},
   "source": [
    "- Slice (similar a Matlab)"
   ]
  },
  {
   "cell_type": "code",
   "metadata": {
    "ExecuteTime": {
     "end_time": "2024-10-28T04:10:39.032175Z",
     "start_time": "2024-10-28T04:10:39.029882Z"
    }
   },
   "source": [
    "# todos los elementos de la 2da columna\n",
    "array_2D[:, 1]"
   ],
   "outputs": [
    {
     "data": {
      "text/plain": [
       "array([2, 5])"
      ]
     },
     "execution_count": 22,
     "metadata": {},
     "output_type": "execute_result"
    }
   ],
   "execution_count": 22
  },
  {
   "cell_type": "markdown",
   "metadata": {},
   "source": [
    "La __indexación de arreglo booleano__ permite elegir elementos arbitrarios de un arreglo.\n",
    "- Se usa para seleccionar elementos que satisfacen una condición,"
   ]
  },
  {
   "cell_type": "code",
   "metadata": {
    "ExecuteTime": {
     "end_time": "2024-10-28T04:10:39.034709Z",
     "start_time": "2024-10-28T04:10:39.032715Z"
    }
   },
   "source": [
    "# encontrar elementos mayores que 2\n",
    "idx_bool = m > 2 \n",
    "idx_bool"
   ],
   "outputs": [
    {
     "data": {
      "text/plain": [
       "array([[False, False,  True],\n",
       "       [ True, False,  True],\n",
       "       [ True, False, False],\n",
       "       [False, False, False]])"
      ]
     },
     "execution_count": 23,
     "metadata": {},
     "output_type": "execute_result"
    }
   ],
   "execution_count": 23
  },
  {
   "cell_type": "markdown",
   "metadata": {},
   "source": [
    "Para obtener los elementos del arreglo original,"
   ]
  },
  {
   "cell_type": "code",
   "metadata": {
    "ExecuteTime": {
     "end_time": "2024-10-28T04:10:39.037220Z",
     "start_time": "2024-10-28T04:10:39.035265Z"
    }
   },
   "source": [
    "# IMPORTANTE ndim = 1\n",
    "m[idx_bool]"
   ],
   "outputs": [
    {
     "data": {
      "text/plain": [
       "array([ 3., 43., 20., 20.])"
      ]
     },
     "execution_count": 24,
     "metadata": {},
     "output_type": "execute_result"
    }
   ],
   "execution_count": 24
  },
  {
   "cell_type": "markdown",
   "metadata": {},
   "source": [
    "## Funciones matemáticas"
   ]
  },
  {
   "cell_type": "code",
   "metadata": {
    "ExecuteTime": {
     "end_time": "2024-10-28T04:10:39.039664Z",
     "start_time": "2024-10-28T04:10:39.037759Z"
    }
   },
   "source": [
    "x = np.array([\n",
    "    [1,2],\n",
    "    [3,4]\n",
    "    ])\n",
    "y = np.array([\n",
    "    [5,6],\n",
    "    [7,8]\n",
    "    ])"
   ],
   "outputs": [],
   "execution_count": 25
  },
  {
   "cell_type": "markdown",
   "metadata": {},
   "source": [
    "- Suma de matrices"
   ]
  },
  {
   "cell_type": "code",
   "metadata": {
    "ExecuteTime": {
     "end_time": "2024-10-28T04:10:39.043403Z",
     "start_time": "2024-10-28T04:10:39.041404Z"
    }
   },
   "source": [
    "x + y\n",
    "np.add(x, y)"
   ],
   "outputs": [
    {
     "data": {
      "text/plain": [
       "array([[ 6,  8],\n",
       "       [10, 12]])"
      ]
     },
     "execution_count": 26,
     "metadata": {},
     "output_type": "execute_result"
    }
   ],
   "execution_count": 26
  },
  {
   "cell_type": "markdown",
   "metadata": {},
   "source": [
    "- Resta\n"
   ]
  },
  {
   "cell_type": "code",
   "metadata": {
    "ExecuteTime": {
     "end_time": "2024-10-28T04:10:39.046360Z",
     "start_time": "2024-10-28T04:10:39.044140Z"
    }
   },
   "source": [
    "x - y\n",
    "np.subtract(x, y)"
   ],
   "outputs": [
    {
     "data": {
      "text/plain": [
       "array([[-4, -4],\n",
       "       [-4, -4]])"
      ]
     },
     "execution_count": 27,
     "metadata": {},
     "output_type": "execute_result"
    }
   ],
   "execution_count": 27
  },
  {
   "cell_type": "markdown",
   "metadata": {},
   "source": [
    "- Multiplicación (elemento por elemento)"
   ]
  },
  {
   "cell_type": "code",
   "metadata": {
    "ExecuteTime": {
     "end_time": "2024-10-28T04:10:39.049149Z",
     "start_time": "2024-10-28T04:10:39.046974Z"
    }
   },
   "source": [
    "x * y\n",
    "np.multiply(x, y)"
   ],
   "outputs": [
    {
     "data": {
      "text/plain": [
       "array([[ 5, 12],\n",
       "       [21, 32]])"
      ]
     },
     "execution_count": 28,
     "metadata": {},
     "output_type": "execute_result"
    }
   ],
   "execution_count": 28
  },
  {
   "cell_type": "markdown",
   "metadata": {},
   "source": [
    "- Producto interno de vectores y matrices. El produto `dot` está disponible como una función,"
   ]
  },
  {
   "cell_type": "code",
   "metadata": {
    "ExecuteTime": {
     "end_time": "2024-10-28T04:10:39.051753Z",
     "start_time": "2024-10-28T04:10:39.049691Z"
    }
   },
   "source": [
    "z = np.array([9, 10])\n",
    "np.dot(z, y)"
   ],
   "outputs": [
    {
     "data": {
      "text/plain": [
       "array([115, 134])"
      ]
     },
     "execution_count": 29,
     "metadata": {},
     "output_type": "execute_result"
    }
   ],
   "execution_count": 29
  },
  {
   "cell_type": "markdown",
   "metadata": {},
   "source": [
    "o como un método de instancia del objeto,"
   ]
  },
  {
   "cell_type": "code",
   "metadata": {
    "ExecuteTime": {
     "end_time": "2024-10-28T04:10:39.054096Z",
     "start_time": "2024-10-28T04:10:39.052246Z"
    }
   },
   "source": [
    "z.dot(y)"
   ],
   "outputs": [
    {
     "data": {
      "text/plain": [
       "array([115, 134])"
      ]
     },
     "execution_count": 30,
     "metadata": {},
     "output_type": "execute_result"
    }
   ],
   "execution_count": 30
  }
 ],
 "metadata": {
  "kernelspec": {
   "display_name": "Python 3.7.11 ('eda37')",
   "language": "python",
   "name": "python3"
  },
  "language_info": {
   "codemirror_mode": {
    "name": "ipython",
    "version": 3
   },
   "file_extension": ".py",
   "mimetype": "text/x-python",
   "name": "python",
   "nbconvert_exporter": "python",
   "pygments_lexer": "ipython3",
   "version": "3.7.11"
  },
  "orig_nbformat": 2,
  "vscode": {
   "interpreter": {
    "hash": "03da1727eb179e6d4206a53fc7edf92cda963bd1ce89117d747d91e0da58e345"
   }
  }
 },
 "nbformat": 4,
 "nbformat_minor": 2
}
