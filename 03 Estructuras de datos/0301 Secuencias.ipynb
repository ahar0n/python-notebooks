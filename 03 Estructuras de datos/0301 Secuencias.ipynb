{
 "cells": [
  {
   "cell_type": "markdown",
   "metadata": {},
   "source": [
    "# Tuplas y listas"
   ]
  },
  {
   "cell_type": "code",
   "execution_count": 5,
   "metadata": {
    "ExecuteTime": {
     "end_time": "2025-09-12T13:08:49.886859Z",
     "start_time": "2025-09-12T13:08:49.883354Z"
    }
   },
   "outputs": [
    {
     "data": {
      "text/html": [
       "<img src=\"img/tipos_secuencias.svg\"/>"
      ],
      "text/plain": [
       "<IPython.core.display.Image object>"
      ]
     },
     "execution_count": 5,
     "metadata": {},
     "output_type": "execute_result"
    }
   ],
   "source": [
    "from IPython.display import Image\n",
    "Image(url=\"img/tipos_secuencias.svg\")"
   ]
  },
  {
   "cell_type": "markdown",
   "metadata": {},
   "source": [
    "Las secuencias en Python son __estructuras de datos que representan conjuntos finitos ordenados e indexados__:\n",
    "\n",
    "- Cadenas\n",
    "- Tuplas\n",
    "- Listas"
   ]
  },
  {
   "cell_type": "markdown",
   "metadata": {},
   "source": [
    "## Tuplas (```tuple```)\n",
    "\n",
    "- Es una secuencia ordenada, e [inmutable](https://en.wikibooks.org/wiki/Python_Programming/Data_Types#Mutable_vs_Immutable_Objects), de elementos. \n",
    "- Funcionalmente, son utilizada para representar heterogéneas secuencias de elementos (p. ej., fecha, dirección). \n",
    "- Sintácticamente, para crear una tupla los elementos se escriben como una secuencia separada por comas."
   ]
  },
  {
   "cell_type": "code",
   "execution_count": 6,
   "metadata": {
    "ExecuteTime": {
     "end_time": "2024-09-23T15:22:51.901654Z",
     "start_time": "2024-09-23T15:22:51.899719Z"
    }
   },
   "outputs": [],
   "source": [
    "aniversario = ('Diciembre', 25, 1983)"
   ]
  },
  {
   "cell_type": "code",
   "execution_count": 7,
   "metadata": {
    "ExecuteTime": {
     "end_time": "2024-09-23T15:22:51.906860Z",
     "start_time": "2024-09-23T15:22:51.904704Z"
    }
   },
   "outputs": [
    {
     "data": {
      "text/plain": [
       "tuple"
      ]
     },
     "execution_count": 7,
     "metadata": {},
     "output_type": "execute_result"
    }
   ],
   "source": [
    "type(aniversario)"
   ]
  },
  {
   "cell_type": "markdown",
   "metadata": {},
   "source": [
    "Opcionalmente, la secuencia puede ser escrita entre paréntesis `()`. Las tuplas soportan datos de distintos tipos."
   ]
  },
  {
   "cell_type": "code",
   "execution_count": 8,
   "metadata": {
    "ExecuteTime": {
     "end_time": "2024-09-23T15:22:51.918184Z",
     "start_time": "2024-09-23T15:22:51.916598Z"
    }
   },
   "outputs": [],
   "source": [
    "tupla = 'a', 'b', 'c', 'd'"
   ]
  },
  {
   "cell_type": "code",
   "execution_count": 9,
   "metadata": {
    "ExecuteTime": {
     "end_time": "2024-09-23T15:22:51.931177Z",
     "start_time": "2024-09-23T15:22:51.929043Z"
    }
   },
   "outputs": [
    {
     "data": {
      "text/plain": [
       "tuple"
      ]
     },
     "execution_count": 9,
     "metadata": {},
     "output_type": "execute_result"
    }
   ],
   "source": [
    "type(tupla)"
   ]
  },
  {
   "cell_type": "markdown",
   "metadata": {},
   "source": [
    "En general, el acceso a los elementos de una tupla se hace por medio del desempaquetado (_unpacking_) de una tupla. Para una tupla de `k` elementos, `k` variables pueden ser asignadas a cada uno de los elementos."
   ]
  },
  {
   "cell_type": "code",
   "execution_count": 6,
   "metadata": {
    "ExecuteTime": {
     "end_time": "2024-09-23T15:22:51.959237Z",
     "start_time": "2024-09-23T15:22:51.956835Z"
    }
   },
   "outputs": [
    {
     "name": "stdout",
     "output_type": "stream",
     "text": [
      "('Diciembre', 25, 1983)\n"
     ]
    }
   ],
   "source": [
    "print(aniversario)"
   ]
  },
  {
   "cell_type": "code",
   "execution_count": 7,
   "metadata": {
    "ExecuteTime": {
     "end_time": "2024-09-23T15:22:51.979079Z",
     "start_time": "2024-09-23T15:22:51.977361Z"
    }
   },
   "outputs": [],
   "source": [
    "mes, dia, anio = aniversario"
   ]
  },
  {
   "cell_type": "code",
   "execution_count": 8,
   "metadata": {
    "ExecuteTime": {
     "end_time": "2024-09-23T15:22:52.003140Z",
     "start_time": "2024-09-23T15:22:52.001392Z"
    },
    "tags": []
   },
   "outputs": [
    {
     "name": "stdout",
     "output_type": "stream",
     "text": [
      "El aniversario es en el año 1983, Diciembre 25.\n"
     ]
    }
   ],
   "source": [
    "print(f'El aniversario es en el año {anio}, {mes} {dia}.')"
   ]
  },
  {
   "cell_type": "markdown",
   "metadata": {},
   "source": [
    "## Listas (```list```)\n",
    "\n",
    "- Es una secuencia [mutable](https://en.wikibooks.org/wiki/Python_Programming/Data_Types#Mutable_vs_Immutable_Objects) (o cambiable) ordenada de valores, que puede contener constantes o variables. \n",
    "- Cada valor que se encuentra dentro de una lista se denomina elemento y se definen  entre corchetes `[]`, donde los elementos son separados por una coma."
   ]
  },
  {
   "cell_type": "code",
   "execution_count": 9,
   "metadata": {
    "ExecuteTime": {
     "end_time": "2024-09-23T15:22:52.017408Z",
     "start_time": "2024-09-23T15:22:52.014995Z"
    }
   },
   "outputs": [
    {
     "data": {
      "text/plain": [
       "[1, 2.1, 0.9764, -4, 5]"
      ]
     },
     "execution_count": 9,
     "metadata": {},
     "output_type": "execute_result"
    }
   ],
   "source": [
    "[1, 2.1, 0.9764, -4, 5]"
   ]
  },
  {
   "cell_type": "code",
   "execution_count": 19,
   "metadata": {
    "ExecuteTime": {
     "end_time": "2024-09-23T15:22:52.029311Z",
     "start_time": "2024-09-23T15:22:52.027680Z"
    }
   },
   "outputs": [],
   "source": [
    "fruta = ['manzana', 'platano', 'naranja', 'pomelo']"
   ]
  },
  {
   "cell_type": "code",
   "execution_count": 20,
   "metadata": {
    "ExecuteTime": {
     "end_time": "2024-09-23T15:22:52.053309Z",
     "start_time": "2024-09-23T15:22:52.051173Z"
    }
   },
   "outputs": [
    {
     "data": {
      "text/plain": [
       "list"
      ]
     },
     "execution_count": 20,
     "metadata": {},
     "output_type": "execute_result"
    }
   ],
   "source": [
    "type(fruta)"
   ]
  },
  {
   "cell_type": "markdown",
   "metadata": {},
   "source": [
    "## Operadores de secuencias\n",
    "\n",
    "- Los operadores de secuencias permite realizar algunas operaciones entre secuencias. Algunos operadores básicos:"
   ]
  },
  {
   "cell_type": "markdown",
   "metadata": {},
   "source": [
    "| Operación | Símbolo |\n",
    "| :--       | :--:|\n",
    "| Anidar    | + |\n",
    "| Repetir   |  ∗ |\n",
    "| Pertenencia  | in |"
   ]
  },
  {
   "cell_type": "markdown",
   "metadata": {},
   "source": [
    "La operación anidar `+` permite __concatenar secuencias__:"
   ]
  },
  {
   "cell_type": "code",
   "execution_count": 12,
   "metadata": {
    "ExecuteTime": {
     "end_time": "2024-09-23T15:22:52.065878Z",
     "start_time": "2024-09-23T15:22:52.063755Z"
    }
   },
   "outputs": [
    {
     "data": {
      "text/plain": [
       "['manzana', 'repollo', 'zapallo']"
      ]
     },
     "execution_count": 12,
     "metadata": {},
     "output_type": "execute_result"
    }
   ],
   "source": [
    "['manzana'] + ['repollo', 'zapallo']"
   ]
  },
  {
   "cell_type": "code",
   "execution_count": 22,
   "metadata": {
    "ExecuteTime": {
     "end_time": "2024-09-23T15:22:52.079231Z",
     "start_time": "2024-09-23T15:22:52.077113Z"
    }
   },
   "outputs": [
    {
     "data": {
      "text/plain": [
       "'radio2'"
      ]
     },
     "execution_count": 22,
     "metadata": {},
     "output_type": "execute_result"
    }
   ],
   "source": [
    "'radio' + '2'"
   ]
  },
  {
   "cell_type": "markdown",
   "metadata": {},
   "source": [
    "... Concatenar __secuencias del mismo tipo__, en caso contrario,"
   ]
  },
  {
   "cell_type": "code",
   "execution_count": 14,
   "metadata": {
    "ExecuteTime": {
     "end_time": "2024-09-23T15:22:52.358258Z",
     "start_time": "2024-09-23T15:22:52.100538Z"
    }
   },
   "outputs": [
    {
     "ename": "TypeError",
     "evalue": "can only concatenate str (not \"list\") to str",
     "output_type": "error",
     "traceback": [
      "\u001b[0;31m---------------------------------------------------------------------------\u001b[0m",
      "\u001b[0;31mTypeError\u001b[0m                                 Traceback (most recent call last)",
      "Cell \u001b[0;32mIn[14], line 1\u001b[0m\n\u001b[0;32m----> 1\u001b[0m \u001b[38;5;124;43m'\u001b[39;49m\u001b[38;5;124;43mmanzana\u001b[39;49m\u001b[38;5;124;43m'\u001b[39;49m\u001b[43m \u001b[49m\u001b[38;5;241;43m+\u001b[39;49m\u001b[43m \u001b[49m\u001b[43m[\u001b[49m\u001b[38;5;124;43m'\u001b[39;49m\u001b[38;5;124;43mrepollo\u001b[39;49m\u001b[38;5;124;43m'\u001b[39;49m\u001b[43m,\u001b[49m\u001b[43m \u001b[49m\u001b[38;5;124;43m'\u001b[39;49m\u001b[38;5;124;43mzapallo\u001b[39;49m\u001b[38;5;124;43m'\u001b[39;49m\u001b[43m]\u001b[49m\n",
      "\u001b[0;31mTypeError\u001b[0m: can only concatenate str (not \"list\") to str"
     ]
    }
   ],
   "source": [
    "'manzana' + ['repollo', 'zapallo']"
   ]
  },
  {
   "cell_type": "markdown",
   "metadata": {},
   "source": [
    "La operación repetir `*` __permite concatenar copias de la misma secuencias__:"
   ]
  },
  {
   "cell_type": "code",
   "execution_count": 15,
   "metadata": {
    "ExecuteTime": {
     "end_time": "2024-09-23T15:23:15.435303Z",
     "start_time": "2024-09-23T15:23:15.432634Z"
    }
   },
   "outputs": [
    {
     "data": {
      "text/plain": [
       "['manzana', 'manzana', 'manzana']"
      ]
     },
     "execution_count": 15,
     "metadata": {},
     "output_type": "execute_result"
    }
   ],
   "source": [
    "['manzana'] * 3"
   ]
  },
  {
   "cell_type": "markdown",
   "metadata": {},
   "source": [
    "Notar que el tipo de dato derivado de una operación de secuencia, es del mismo tipo de la secuencia que se está operando:"
   ]
  },
  {
   "cell_type": "code",
   "execution_count": 16,
   "metadata": {
    "ExecuteTime": {
     "end_time": "2024-09-23T15:23:15.560337Z",
     "start_time": "2024-09-23T15:23:15.557863Z"
    }
   },
   "outputs": [
    {
     "data": {
      "text/plain": [
       "str"
      ]
     },
     "execution_count": 16,
     "metadata": {},
     "output_type": "execute_result"
    }
   ],
   "source": [
    "type('auto' + 'movil')"
   ]
  },
  {
   "cell_type": "code",
   "execution_count": 17,
   "metadata": {
    "ExecuteTime": {
     "end_time": "2024-09-23T15:23:15.578842Z",
     "start_time": "2024-09-23T15:23:15.576417Z"
    }
   },
   "outputs": [
    {
     "data": {
      "text/plain": [
       "str"
      ]
     },
     "execution_count": 17,
     "metadata": {},
     "output_type": "execute_result"
    }
   ],
   "source": [
    "type('la' * 4)"
   ]
  },
  {
   "cell_type": "markdown",
   "metadata": {},
   "source": [
    "El operador `in` permite __comprobar si un valor o variable pertenece a una secuencia__. \n",
    "- Es un operador binario con asociatividad por la derecha. "
   ]
  },
  {
   "cell_type": "code",
   "execution_count": 23,
   "metadata": {},
   "outputs": [
    {
     "data": {
      "text/plain": [
       "['manzana', 'platano', 'naranja', 'pomelo']"
      ]
     },
     "execution_count": 23,
     "metadata": {},
     "output_type": "execute_result"
    }
   ],
   "source": [
    "fruta"
   ]
  },
  {
   "cell_type": "code",
   "execution_count": 26,
   "metadata": {
    "ExecuteTime": {
     "end_time": "2024-09-23T15:23:15.618346Z",
     "start_time": "2024-09-23T15:23:15.616209Z"
    }
   },
   "outputs": [
    {
     "data": {
      "text/plain": [
       "True"
      ]
     },
     "execution_count": 26,
     "metadata": {},
     "output_type": "execute_result"
    }
   ],
   "source": [
    "'manzana' in fruta"
   ]
  },
  {
   "cell_type": "markdown",
   "metadata": {},
   "source": [
    "- Puede ser utilizado en conjunto con el operador `not` lo que permite comprobar si elemento no pertenece a una secuencia."
   ]
  },
  {
   "cell_type": "code",
   "execution_count": 27,
   "metadata": {},
   "outputs": [
    {
     "data": {
      "text/plain": [
       "False"
      ]
     },
     "execution_count": 27,
     "metadata": {},
     "output_type": "execute_result"
    }
   ],
   "source": [
    "'manzana' not in fruta"
   ]
  },
  {
   "cell_type": "code",
   "execution_count": 29,
   "metadata": {},
   "outputs": [
    {
     "data": {
      "text/plain": [
       "False"
      ]
     },
     "execution_count": 29,
     "metadata": {},
     "output_type": "execute_result"
    }
   ],
   "source": [
    "'j' in fruta"
   ]
  },
  {
   "cell_type": "markdown",
   "metadata": {},
   "source": [
    "### Longitud y posición de elementos\n",
    "\n",
    "Cuando la longitud de una secuencia es `n`, cada elemento tiene como índice los números `0, 1, ..., n-1`. \n",
    "\n",
    "La __longitud de una secuencia__, se puede obtener por medio de la función `len()` que devuelve el número de elementos de una secuencia:"
   ]
  },
  {
   "cell_type": "code",
   "execution_count": 31,
   "metadata": {
    "ExecuteTime": {
     "end_time": "2024-09-23T15:23:15.633404Z",
     "start_time": "2024-09-23T15:23:15.631273Z"
    }
   },
   "outputs": [
    {
     "data": {
      "text/plain": [
       "5"
      ]
     },
     "execution_count": 31,
     "metadata": {},
     "output_type": "execute_result"
    }
   ],
   "source": [
    "len('fruta')"
   ]
  },
  {
   "cell_type": "markdown",
   "metadata": {},
   "source": [
    "El ítem `i` de la secuencia es seleccionado de la forma `[i]`."
   ]
  },
  {
   "cell_type": "code",
   "execution_count": 32,
   "metadata": {},
   "outputs": [
    {
     "data": {
      "text/plain": [
       "['manzana', 'platano', 'naranja', 'pomelo']"
      ]
     },
     "execution_count": 32,
     "metadata": {},
     "output_type": "execute_result"
    }
   ],
   "source": [
    "fruta"
   ]
  },
  {
   "cell_type": "code",
   "execution_count": 35,
   "metadata": {
    "ExecuteTime": {
     "end_time": "2024-09-23T15:23:15.665792Z",
     "start_time": "2024-09-23T15:23:15.663570Z"
    },
    "tags": []
   },
   "outputs": [
    {
     "data": {
      "text/plain": [
       "'a'"
      ]
     },
     "execution_count": 35,
     "metadata": {},
     "output_type": "execute_result"
    }
   ],
   "source": [
    "'manzana'[1] # tercer elemento"
   ]
  },
  {
   "cell_type": "code",
   "execution_count": 37,
   "metadata": {
    "ExecuteTime": {
     "end_time": "2024-09-23T15:23:15.678699Z",
     "start_time": "2024-09-23T15:23:15.676363Z"
    }
   },
   "outputs": [
    {
     "data": {
      "text/plain": [
       "'naranja'"
      ]
     },
     "execution_count": 37,
     "metadata": {},
     "output_type": "execute_result"
    }
   ],
   "source": [
    "fruta[-2] # último elemento "
   ]
  },
  {
   "cell_type": "code",
   "execution_count": 23,
   "metadata": {
    "ExecuteTime": {
     "end_time": "2024-09-23T15:23:15.693849Z",
     "start_time": "2024-09-23T15:23:15.691755Z"
    }
   },
   "outputs": [
    {
     "data": {
      "text/plain": [
       "'pomelo'"
      ]
     },
     "execution_count": 23,
     "metadata": {},
     "output_type": "execute_result"
    }
   ],
   "source": [
    "fruta[3] # cuarto elemento"
   ]
  },
  {
   "cell_type": "markdown",
   "metadata": {},
   "source": [
    "Para conocer la __posición de un valor__ que existe en una secuencia, la función `index()` devuelve el índice del valor que pertenece a una secuencia:"
   ]
  },
  {
   "cell_type": "code",
   "execution_count": 38,
   "metadata": {
    "ExecuteTime": {
     "end_time": "2024-09-23T15:23:15.717463Z",
     "start_time": "2024-09-23T15:23:15.715154Z"
    }
   },
   "outputs": [
    {
     "data": {
      "text/plain": [
       "1"
      ]
     },
     "execution_count": 38,
     "metadata": {},
     "output_type": "execute_result"
    }
   ],
   "source": [
    "fruta.index('platano')"
   ]
  },
  {
   "cell_type": "markdown",
   "metadata": {},
   "source": [
    "Si el valor está duplicado, la función entrega la primera ocurrencia."
   ]
  },
  {
   "cell_type": "code",
   "execution_count": 43,
   "metadata": {
    "ExecuteTime": {
     "end_time": "2024-09-23T15:23:15.750245Z",
     "start_time": "2024-09-23T15:23:15.747816Z"
    }
   },
   "outputs": [
    {
     "data": {
      "text/plain": [
       "2"
      ]
     },
     "execution_count": 43,
     "metadata": {},
     "output_type": "execute_result"
    }
   ],
   "source": [
    "'platano'.index('a')"
   ]
  },
  {
   "cell_type": "markdown",
   "metadata": {},
   "source": [
    "Además, la función `index()` permite indicar la posición de ínicio de búsqueda de la ocurrencia del valor sobre una secuencia. \n",
    "\n",
    "Por ejemplo, en la siguiente expresión, la función devuelve la ocurrencia del valor `'o'` encontrado en el segmento `cadena[4:]` de la secuencia `'automovil'`:"
   ]
  },
  {
   "cell_type": "code",
   "execution_count": 46,
   "metadata": {
    "ExecuteTime": {
     "end_time": "2024-09-23T15:23:15.777543Z",
     "start_time": "2024-09-23T15:23:15.775128Z"
    }
   },
   "outputs": [
    {
     "data": {
      "text/plain": [
       "5"
      ]
     },
     "execution_count": 46,
     "metadata": {},
     "output_type": "execute_result"
    }
   ],
   "source": [
    "cadena = 'automovil'\n",
    "cadena.index('o', 4)"
   ]
  },
  {
   "cell_type": "markdown",
   "metadata": {},
   "source": [
    "A continuación se presenta una sentencia que identifica la segunda ocurrencia del caracter <code>'o'</code> sobre la secuencia `cadena`:"
   ]
  },
  {
   "cell_type": "code",
   "execution_count": 27,
   "metadata": {
    "ExecuteTime": {
     "end_time": "2024-09-23T15:23:15.796725Z",
     "start_time": "2024-09-23T15:23:15.794238Z"
    }
   },
   "outputs": [
    {
     "data": {
      "text/plain": [
       "5"
      ]
     },
     "execution_count": 27,
     "metadata": {},
     "output_type": "execute_result"
    }
   ],
   "source": [
    "cadena.index('o', cadena.index('o') + 1)"
   ]
  },
  {
   "cell_type": "markdown",
   "metadata": {},
   "source": [
    "## Segmentación\n",
    "\n",
    "Las secuencias también soportan la __segmentación__ `[i:j]`. Esta operación, selecciona todos los elementos con índice `k` tal que `i <= k < j`. \n",
    "\n",
    "Cuando se utiliza como una expresión, el segmento es una secuencia del mismo tipo, lo que implica que el conjunto de índices se vuelve a numerar para que comience en `0`.\n",
    "\n",
    "Por ejemplo, aplicando segmentación sobre un `str`:"
   ]
  },
  {
   "cell_type": "code",
   "execution_count": 28,
   "metadata": {
    "ExecuteTime": {
     "end_time": "2024-09-23T15:23:15.803256Z",
     "start_time": "2024-09-23T15:23:15.801790Z"
    },
    "tags": []
   },
   "outputs": [
    {
     "name": "stdout",
     "output_type": "stream",
     "text": [
      "automovil\n"
     ]
    }
   ],
   "source": [
    "print(cadena)"
   ]
  },
  {
   "cell_type": "code",
   "execution_count": 48,
   "metadata": {
    "ExecuteTime": {
     "end_time": "2024-09-23T15:23:15.832197Z",
     "start_time": "2024-09-23T15:23:15.829758Z"
    }
   },
   "outputs": [
    {
     "data": {
      "text/plain": [
       "'au'"
      ]
     },
     "execution_count": 48,
     "metadata": {},
     "output_type": "execute_result"
    }
   ],
   "source": [
    "cadena[:2]"
   ]
  },
  {
   "cell_type": "code",
   "execution_count": 55,
   "metadata": {},
   "outputs": [
    {
     "data": {
      "text/plain": [
       "'vil'"
      ]
     },
     "execution_count": 55,
     "metadata": {},
     "output_type": "execute_result"
    }
   ],
   "source": [
    "cadena[len(cadena)-3:]"
   ]
  },
  {
   "cell_type": "markdown",
   "metadata": {},
   "source": [
    "Otro ejemplo, utilizando la ocurrencia de elementos:"
   ]
  },
  {
   "cell_type": "code",
   "execution_count": 30,
   "metadata": {
    "ExecuteTime": {
     "end_time": "2024-09-23T15:23:15.855212Z",
     "start_time": "2024-09-23T15:23:15.852711Z"
    }
   },
   "outputs": [
    {
     "data": {
      "text/plain": [
       "'auto'"
      ]
     },
     "execution_count": 30,
     "metadata": {},
     "output_type": "execute_result"
    }
   ],
   "source": [
    "cadena = 'automovil'\n",
    "cadena[0: cadena.index('o') + 1]"
   ]
  },
  {
   "cell_type": "markdown",
   "metadata": {},
   "source": [
    "Aplicando la segmentación sobre una `list`:"
   ]
  },
  {
   "cell_type": "code",
   "execution_count": 31,
   "metadata": {
    "ExecuteTime": {
     "end_time": "2024-09-23T15:23:15.879297Z",
     "start_time": "2024-09-23T15:23:15.877182Z"
    },
    "scrolled": true
   },
   "outputs": [
    {
     "data": {
      "text/plain": [
       "['manzana', 'platano']"
      ]
     },
     "execution_count": 31,
     "metadata": {},
     "output_type": "execute_result"
    }
   ],
   "source": [
    "fruta[:2]"
   ]
  },
  {
   "cell_type": "code",
   "execution_count": 32,
   "metadata": {
    "ExecuteTime": {
     "end_time": "2024-09-23T15:23:15.892307Z",
     "start_time": "2024-09-23T15:23:15.890237Z"
    }
   },
   "outputs": [
    {
     "data": {
      "text/plain": [
       "'omovil'"
      ]
     },
     "execution_count": 32,
     "metadata": {},
     "output_type": "execute_result"
    }
   ],
   "source": [
    "cadena[3:]"
   ]
  },
  {
   "cell_type": "markdown",
   "metadata": {},
   "source": [
    "## Mutación de secuencias\n",
    "\n",
    "- Python proporciona un conjunto operaciones que permiten __modificar__, __agregar__ y __eliminar__ valores de una secuencia mutable.\n",
    "- Para modificar elementos de una secuencia, __se selecciona dicho elemento mediante su índice__ y se le asigna el nuevo valor."
   ]
  },
  {
   "cell_type": "markdown",
   "metadata": {},
   "source": [
    "Para __agregar elementos la final de una secuencia__, se emplea la función `append()`:"
   ]
  },
  {
   "cell_type": "code",
   "execution_count": 73,
   "metadata": {
    "ExecuteTime": {
     "end_time": "2024-09-23T15:23:15.912498Z",
     "start_time": "2024-09-23T15:23:15.910158Z"
    }
   },
   "outputs": [
    {
     "data": {
      "text/plain": [
       "['manzana', 'platano', 'naranja', 'pomelo']"
      ]
     },
     "execution_count": 73,
     "metadata": {},
     "output_type": "execute_result"
    }
   ],
   "source": [
    "fruta"
   ]
  },
  {
   "cell_type": "code",
   "execution_count": 78,
   "metadata": {
    "ExecuteTime": {
     "end_time": "2024-09-23T15:23:15.931882Z",
     "start_time": "2024-09-23T15:23:15.929430Z"
    }
   },
   "outputs": [
    {
     "data": {
      "text/plain": [
       "['manzana',\n",
       " 'platano',\n",
       " 'naranja',\n",
       " 'sandia',\n",
       " 'sandia',\n",
       " 'sandia',\n",
       " 'pomelo',\n",
       " 'melon',\n",
       " 'melon']"
      ]
     },
     "execution_count": 78,
     "metadata": {},
     "output_type": "execute_result"
    }
   ],
   "source": [
    "fruta.append('melon')\n",
    "fruta"
   ]
  },
  {
   "cell_type": "markdown",
   "metadata": {},
   "source": [
    "Para __insertar un nuevo valor__ en la posición cuyo índice es `k` se utiliza la operación `insert()`. Por ejemplo, para insertar un elemento en la cuarta posición:"
   ]
  },
  {
   "cell_type": "code",
   "execution_count": 77,
   "metadata": {
    "ExecuteTime": {
     "end_time": "2024-09-23T15:23:15.952581Z",
     "start_time": "2024-09-23T15:23:15.950251Z"
    }
   },
   "outputs": [
    {
     "data": {
      "text/plain": [
       "['manzana',\n",
       " 'platano',\n",
       " 'naranja',\n",
       " 'sandia',\n",
       " 'sandia',\n",
       " 'sandia',\n",
       " 'pomelo',\n",
       " 'melon']"
      ]
     },
     "execution_count": 77,
     "metadata": {},
     "output_type": "execute_result"
    }
   ],
   "source": [
    "fruta.insert(3, 'sandia')\n",
    "fruta"
   ]
  },
  {
   "cell_type": "markdown",
   "metadata": {},
   "source": [
    "Para __eliminar un valor__ de una lista se utiliza la función `remove()`. Si el valor a eliminar está repetido, se elimina sólo su primera aparición:"
   ]
  },
  {
   "cell_type": "code",
   "execution_count": 83,
   "metadata": {
    "ExecuteTime": {
     "end_time": "2024-09-23T15:23:15.977446Z",
     "start_time": "2024-09-23T15:23:15.974972Z"
    }
   },
   "outputs": [
    {
     "ename": "ValueError",
     "evalue": "list.remove(x): x not in list",
     "output_type": "error",
     "traceback": [
      "\u001b[0;31m---------------------------------------------------------------------------\u001b[0m",
      "\u001b[0;31mValueError\u001b[0m                                Traceback (most recent call last)",
      "Cell \u001b[0;32mIn[83], line 1\u001b[0m\n\u001b[0;32m----> 1\u001b[0m \u001b[43mfruta\u001b[49m\u001b[38;5;241;43m.\u001b[39;49m\u001b[43mremove\u001b[49m\u001b[43m(\u001b[49m\u001b[38;5;124;43m'\u001b[39;49m\u001b[38;5;124;43msandia\u001b[39;49m\u001b[38;5;124;43m'\u001b[39;49m\u001b[43m)\u001b[49m\n\u001b[1;32m      2\u001b[0m fruta\n",
      "\u001b[0;31mValueError\u001b[0m: list.remove(x): x not in list"
     ]
    }
   ],
   "source": [
    "fruta.remove('sandia')\n",
    "fruta"
   ]
  },
  {
   "cell_type": "markdown",
   "metadata": {},
   "source": [
    "## Asignación de referencias\n",
    "\n",
    "- En Python, __las listas son almacenadas mediante referencias a las secuencias de elementos__.\n",
    "- La asignación del contenido de una variable que almacena una lista, supone la copia de la referencia hacia dichos elementos de la lista, almacenados en una zona de memoria. Una interpretación gráfica:"
   ]
  },
  {
   "cell_type": "code",
   "execution_count": 37,
   "metadata": {
    "ExecuteTime": {
     "end_time": "2024-09-23T15:23:15.988782Z",
     "start_time": "2024-09-23T15:23:15.986486Z"
    }
   },
   "outputs": [
    {
     "data": {
      "text/html": [
       "<img src=\"img/list_assignment.svg\" width=\"250\"/>"
      ],
      "text/plain": [
       "<IPython.core.display.Image object>"
      ]
     },
     "execution_count": 37,
     "metadata": {},
     "output_type": "execute_result"
    }
   ],
   "source": [
    "from IPython.display import Image\n",
    "Image(url='img/list_assignment.svg', width=250)"
   ]
  },
  {
   "cell_type": "code",
   "execution_count": 67,
   "metadata": {
    "ExecuteTime": {
     "end_time": "2024-09-23T15:23:16.002667Z",
     "start_time": "2024-09-23T15:23:16.001091Z"
    }
   },
   "outputs": [],
   "source": [
    "a = [1, 4, 5]\n",
    "b = [1, 4, 5]\n",
    "c = a"
   ]
  },
  {
   "cell_type": "code",
   "execution_count": 57,
   "metadata": {
    "ExecuteTime": {
     "end_time": "2024-09-23T15:23:16.032271Z",
     "start_time": "2024-09-23T15:23:16.029947Z"
    }
   },
   "outputs": [
    {
     "data": {
      "text/plain": [
       "[1, 4, 5]"
      ]
     },
     "execution_count": 57,
     "metadata": {},
     "output_type": "execute_result"
    }
   ],
   "source": [
    "a"
   ]
  },
  {
   "cell_type": "code",
   "execution_count": 58,
   "metadata": {
    "ExecuteTime": {
     "end_time": "2024-09-23T15:23:16.055706Z",
     "start_time": "2024-09-23T15:23:16.053327Z"
    }
   },
   "outputs": [
    {
     "data": {
      "text/plain": [
       "[1, 4, 5]"
      ]
     },
     "execution_count": 58,
     "metadata": {},
     "output_type": "execute_result"
    }
   ],
   "source": [
    "b"
   ]
  },
  {
   "cell_type": "code",
   "execution_count": 59,
   "metadata": {
    "ExecuteTime": {
     "end_time": "2024-09-23T15:23:16.068836Z",
     "start_time": "2024-09-23T15:23:16.066648Z"
    }
   },
   "outputs": [
    {
     "data": {
      "text/plain": [
       "[1, 4, 5]"
      ]
     },
     "execution_count": 59,
     "metadata": {},
     "output_type": "execute_result"
    }
   ],
   "source": [
    "c"
   ]
  },
  {
   "cell_type": "markdown",
   "metadata": {},
   "source": [
    "Notar que la comparación entre las distintas variables entrega como resultado que son iguales:"
   ]
  },
  {
   "cell_type": "code",
   "execution_count": 42,
   "metadata": {
    "ExecuteTime": {
     "end_time": "2024-09-23T15:23:16.094192Z",
     "start_time": "2024-09-23T15:23:16.091790Z"
    }
   },
   "outputs": [
    {
     "data": {
      "text/plain": [
       "True"
      ]
     },
     "execution_count": 42,
     "metadata": {},
     "output_type": "execute_result"
    }
   ],
   "source": [
    "(a == b) and (a == c) and (b == c)"
   ]
  },
  {
   "cell_type": "code",
   "execution_count": 70,
   "metadata": {},
   "outputs": [
    {
     "data": {
      "text/plain": [
       "True"
      ]
     },
     "execution_count": 70,
     "metadata": {},
     "output_type": "execute_result"
    }
   ],
   "source": [
    "b == c"
   ]
  },
  {
   "cell_type": "markdown",
   "metadata": {},
   "source": [
    "Para estos casos, cuando dos (o más) variables hacen referencia a la misma zona en memoria, el operador `is` __permite identificar si dos objetos residen en la misma zona de memoria__."
   ]
  },
  {
   "cell_type": "code",
   "execution_count": 72,
   "metadata": {
    "ExecuteTime": {
     "end_time": "2024-09-23T15:23:16.108318Z",
     "start_time": "2024-09-23T15:23:16.106067Z"
    }
   },
   "outputs": [
    {
     "data": {
      "text/plain": [
       "True"
      ]
     },
     "execution_count": 72,
     "metadata": {},
     "output_type": "execute_result"
    }
   ],
   "source": [
    "c is a"
   ]
  },
  {
   "cell_type": "code",
   "execution_count": 44,
   "metadata": {
    "ExecuteTime": {
     "end_time": "2024-09-23T15:23:16.134367Z",
     "start_time": "2024-09-23T15:23:16.132078Z"
    }
   },
   "outputs": [
    {
     "data": {
      "text/plain": [
       "True"
      ]
     },
     "execution_count": 44,
     "metadata": {},
     "output_type": "execute_result"
    }
   ],
   "source": [
    "c is a"
   ]
  },
  {
   "cell_type": "markdown",
   "metadata": {},
   "source": [
    "Notar que, al realizar una __asignación de una variable a partir de referencias, los elementos de dicha variable no son independientes__. Esto es, si se modifica la variable, entonces se modifican los elementos a los cuales hacen referencia."
   ]
  },
  {
   "cell_type": "code",
   "execution_count": 45,
   "metadata": {
    "ExecuteTime": {
     "end_time": "2024-09-23T15:23:16.148022Z",
     "start_time": "2024-09-23T15:23:16.146374Z"
    },
    "scrolled": true,
    "tags": []
   },
   "outputs": [
    {
     "name": "stdout",
     "output_type": "stream",
     "text": [
      "[1, 4, 5, 8]\n"
     ]
    }
   ],
   "source": [
    "a.append(8)\n",
    "print(c)"
   ]
  },
  {
   "cell_type": "markdown",
   "metadata": {},
   "source": [
    "## Iterar sobre secuencias"
   ]
  },
  {
   "cell_type": "markdown",
   "metadata": {},
   "source": [
    "Es posible recorrer una secuencia (iterar) utilizando estructuras de control repetitivas. Por ejemplo, usando un bucle `while`:"
   ]
  },
  {
   "cell_type": "code",
   "execution_count": 46,
   "metadata": {
    "ExecuteTime": {
     "end_time": "2024-09-23T15:23:16.163441Z",
     "start_time": "2024-09-23T15:23:16.161519Z"
    }
   },
   "outputs": [
    {
     "name": "stdout",
     "output_type": "stream",
     "text": [
      "c\n",
      "o\n",
      "m\n",
      "p\n",
      "u\n",
      "t\n",
      "a\n",
      "d\n",
      "o\n",
      "r\n"
     ]
    }
   ],
   "source": [
    "palabra = 'computador'\n",
    "i = 0\n",
    "while i < len(palabra):\n",
    "    print(palabra[i])\n",
    "    i += 1"
   ]
  },
  {
   "cell_type": "markdown",
   "metadata": {},
   "source": [
    "Usando un bucle `for`:"
   ]
  },
  {
   "cell_type": "code",
   "execution_count": 92,
   "metadata": {
    "ExecuteTime": {
     "end_time": "2024-09-23T15:23:16.198692Z",
     "start_time": "2024-09-23T15:23:16.196651Z"
    }
   },
   "outputs": [
    {
     "name": "stdout",
     "output_type": "stream",
     "text": [
      "c\n",
      "o\n",
      "l\n",
      "e\n",
      "g\n",
      "i\n",
      "o\n"
     ]
    }
   ],
   "source": [
    "mi_secuencia = 'colegio'\n",
    "for i in range(len(mi_secuencia)):\n",
    "    print(mi_secuencia[i])"
   ]
  },
  {
   "cell_type": "code",
   "execution_count": null,
   "metadata": {},
   "outputs": [],
   "source": []
  }
 ],
 "metadata": {
  "interpreter": {
   "hash": "202d1d44df6c15928d09411a0b718e4d5217eaa1aee5fa2339bd60bdd09bd4e9"
  },
  "kernelspec": {
   "display_name": "Python 3 (ipykernel)",
   "language": "python",
   "name": "python3"
  },
  "language_info": {
   "codemirror_mode": {
    "name": "ipython",
    "version": 3
   },
   "file_extension": ".py",
   "mimetype": "text/x-python",
   "name": "python",
   "nbconvert_exporter": "python",
   "pygments_lexer": "ipython3",
   "version": "3.9.15"
  }
 },
 "nbformat": 4,
 "nbformat_minor": 4
}
