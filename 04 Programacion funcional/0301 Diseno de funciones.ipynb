{
 "cells": [
  {
   "cell_type": "markdown",
   "metadata": {},
   "source": [
    "# Diseño de funciones"
   ]
  },
  {
   "cell_type": "markdown",
   "metadata": {},
   "source": [
    "En programación, una función __es una secuencia de instrucciones que ejecutan determinadas acciones u operaciones__. Dichas operaciones, se especifican en una __definición de función__.\n",
    "\n",
    "Algunas ventajas de definir y usar funciones son:\n",
    "\n",
    "- Dividir un programa en funciones __permite separar el código en partes, depurarlas y volver a componer el programa__.\n",
    "- Facilidad para __leer y depurar__ un programa.\n",
    "- Las funciones __facilitan la recursividad y la iteración__.\n",
    "- Las funciones diseñadas bajo buenas prácticas, __permiten ser reutilizadas__ como componente de nuevos programas."
   ]
  },
  {
   "cell_type": "markdown",
   "metadata": {},
   "source": [
    "## Sintaxis de una función\n",
    "\n",
    "Una función en Python contiene los siguientes componentes:"
   ]
  },
  {
   "metadata": {
    "ExecuteTime": {
     "end_time": "2024-10-04T15:52:58.015394Z",
     "start_time": "2024-10-04T15:52:58.011436Z"
    }
   },
   "cell_type": "code",
   "source": [
    "def suma(x, y):\n",
    "    \"\"\"Docstring\"\"\"\n",
    "    resultado = x + y\n",
    "    return resultado"
   ],
   "outputs": [],
   "execution_count": 1
  },
  {
   "cell_type": "markdown",
   "metadata": {},
   "source": [
    "1. La palabra clave ```def``` marca el comienzo del encabezado de la función.\n",
    "2. El nombre de la función es un identificador exclusivo, éste sigue las mismas reglas de escritura de identificadores en Python.\n",
    "3. El argumento de la función ```()``` , contiene los parámetros a través de los cuales se pasan los valores a una función. Son opcionales.\n",
    "4. Los dos puntos ```:``` marcan el final de la cabecera de la función.\n",
    "5. La documentación [```docstring```](https://www.python.org/dev/peps/pep-0257/) permite describir lo que hace la función.\n",
    "6. Una o más sentencias python válidas forman el cuerpo de la función. Las senencias deben tener el mismo nivel de indentación.\n",
    "7. Una sentencia de retorno (opcional) que devuelve un valor desde la función.\n",
    "\n",
    "__Una función no se ejecuta hasta que sea invocada__. Para invocar una función, se hace la llamada a partir de su identificador:"
   ]
  },
  {
   "cell_type": "code",
   "metadata": {
    "scrolled": true,
    "ExecuteTime": {
     "end_time": "2024-10-04T15:52:58.076227Z",
     "start_time": "2024-10-04T15:52:58.072381Z"
    }
   },
   "source": "suma(5, 3)",
   "outputs": [
    {
     "data": {
      "text/plain": [
       "8"
      ]
     },
     "execution_count": 2,
     "metadata": {},
     "output_type": "execute_result"
    }
   ],
   "execution_count": 2
  },
  {
   "cell_type": "markdown",
   "metadata": {},
   "source": [
    "Entre las funciones, es posible distinguir dos tipos:\n",
    "\n",
    "1. Procedimientos\n",
    "2. Funciones productivas\n"
   ]
  },
  {
   "cell_type": "markdown",
   "metadata": {},
   "source": [
    "## Procedimientos\n",
    "\n",
    "- Un procedimiento es una parte del programa que __realiza una acción específica__ basada a menudo en una serie de parámetros o argumentos. \n",
    "- __No devuelven un valor__ una vez terminada su ejecución. \n",
    "\n",
    "Ejemplo:"
   ]
  },
  {
   "cell_type": "code",
   "metadata": {
    "ExecuteTime": {
     "end_time": "2024-10-04T15:52:58.082391Z",
     "start_time": "2024-10-04T15:52:58.080421Z"
    }
   },
   "source": [
    "def absoluto(x):\n",
    "    \"\"\"Muestra el valor absoluto.\n",
    "    Args:\n",
    "        x (float): Valor numérico\n",
    "        \n",
    "    \"\"\"\n",
    "    if x < 0:\n",
    "        print(-x)\n",
    "    else:\n",
    "        print(x) "
   ],
   "outputs": [],
   "execution_count": 3
  },
  {
   "cell_type": "markdown",
   "metadata": {},
   "source": [
    "A diferencia de las funciones productivas, no tiene sentido invocar un procedimiento en una expresión porque no vuelven un valor. Por tanto, su invocación se realiza apartir de su identificador, seguido de los parentesis y los parámetros formales, si es que tiene:"
   ]
  },
  {
   "cell_type": "code",
   "metadata": {
    "scrolled": false,
    "ExecuteTime": {
     "end_time": "2024-10-04T15:52:58.085195Z",
     "start_time": "2024-10-04T15:52:58.083438Z"
    }
   },
   "source": "absoluto(-5)",
   "outputs": [
    {
     "name": "stdout",
     "output_type": "stream",
     "text": [
      "5\n"
     ]
    }
   ],
   "execution_count": 4
  },
  {
   "cell_type": "markdown",
   "metadata": {},
   "source": [
    "Ejemplo:\n",
    "\n",
    "El siguiente código corresponde a una función (sin argumento) o procedimiento que imprime un menú, solicita una opción y muestra la opción elegida. Si la opción ingresada no es valida se sigue solicitando una opción."
   ]
  },
  {
   "cell_type": "code",
   "metadata": {
    "ExecuteTime": {
     "end_time": "2024-10-04T15:53:01.488568Z",
     "start_time": "2024-10-04T15:52:58.092124Z"
    }
   },
   "source": [
    "def menu():\n",
    "    print('Menú')\n",
    "    print('a) Abrir')\n",
    "    print('b) Guardar')\n",
    "    print('c) Exportar')\n",
    "    while True:\n",
    "        opcion = input('Ingrese una opción: ')\n",
    "        if opcion in ['a', 'b', 'c']:\n",
    "            break\n",
    "    print('Ha elegido la opción {}'.format(opcion))\n",
    "\n",
    "menu()"
   ],
   "outputs": [
    {
     "name": "stdout",
     "output_type": "stream",
     "text": [
      "Menú\n",
      "a) Abrir\n",
      "b) Guardar\n",
      "c) Exportar\n",
      "Ha elegido la opción c\n"
     ]
    }
   ],
   "execution_count": 5
  },
  {
   "cell_type": "markdown",
   "metadata": {},
   "source": [
    "## Funciones productivas\n",
    "\n",
    "- Una función productiva es una parte del programa que __puede manipular datos y devolver un valor__ de un cierto tipo.\n",
    "\n",
    "Ejemplo:"
   ]
  },
  {
   "metadata": {
    "ExecuteTime": {
     "end_time": "2024-10-04T15:53:01.493193Z",
     "start_time": "2024-10-04T15:53:01.490481Z"
    }
   },
   "cell_type": "code",
   "source": [
    "def minmax(a, b):\n",
    "    if a > b:\n",
    "        minimo, maximo = b, a\n",
    "    else:\n",
    "        minimo, maximo = a, b\n",
    "    return minimo, maximo\n",
    "\n",
    "minimo, maximo = minmax(100, 3)"
   ],
   "outputs": [],
   "execution_count": 6
  },
  {
   "metadata": {},
   "cell_type": "markdown",
   "source": [
    "- La función se ejecuta al hacer una llamada a dicha función dentro de una expresión.\n",
    "- La llamada a una función puede incluirse en cualquier expresión en la que un dato del tipo que devuelve la función tenga sentido.\n",
    "\n",
    "Ejemplo:"
   ]
  },
  {
   "cell_type": "code",
   "metadata": {
    "is_executing": true,
    "ExecuteTime": {
     "end_time": "2024-10-04T15:53:01.497015Z",
     "start_time": "2024-10-04T15:53:01.494560Z"
    }
   },
   "source": [
    "min, max = minmax(10, -1)\n",
    "print(f\"{min} es menor que {max}\")"
   ],
   "outputs": [
    {
     "name": "stdout",
     "output_type": "stream",
     "text": [
      "-1 es menor que 10\n"
     ]
    }
   ],
   "execution_count": 7
  },
  {
   "cell_type": "markdown",
   "metadata": {},
   "source": [
    "## Sentencia ```return```\n",
    "\n",
    "- __Permite terminar la ejecución de una función antes de alcanzar su final__. \n",
    "- En una función productiva, se recomienda que, para cualquier posible recorrido del programa, se alcance una sentencia `return`.\n",
    "- Devuelve el resultado de la evaluación de la expresión `retrurn <expression>`."
   ]
  },
  {
   "metadata": {
    "ExecuteTime": {
     "end_time": "2024-10-04T15:53:01.505076Z",
     "start_time": "2024-10-04T15:53:01.502182Z"
    }
   },
   "cell_type": "code",
   "source": [
    "from IPython.display import Image\n",
    "Image(url=\"./img/function_flow.png\", width=300)"
   ],
   "outputs": [
    {
     "data": {
      "text/html": [
       "<img src=\"./img/function_flow.png\" width=\"300\"/>"
      ],
      "text/plain": [
       "<IPython.core.display.Image object>"
      ]
     },
     "execution_count": 8,
     "metadata": {},
     "output_type": "execute_result"
    }
   ],
   "execution_count": 8
  },
  {
   "cell_type": "markdown",
   "metadata": {},
   "source": [
    "En el siguiente ejemplo, se utiliza la sentencia ```return``` para todos los posibles caminos de una función productiva:"
   ]
  },
  {
   "cell_type": "code",
   "metadata": {
    "ExecuteTime": {
     "end_time": "2024-10-04T15:53:01.526392Z",
     "start_time": "2024-10-04T15:53:01.524164Z"
    }
   },
   "source": [
    "def absoluto(x):\n",
    "    \"\"\"Calcula el valor absoluto.\n",
    "    Args:\n",
    "        x (float): Valor numérico\n",
    "    \n",
    "    Returns:\n",
    "        float: Valor absoluto de x\n",
    "        \n",
    "    \"\"\"\n",
    "    if x > 0:\n",
    "        return x\n",
    "    elif x < 0:\n",
    "        return -x  \n",
    "    else:\n",
    "        return 0\n",
    "    \n",
    "numero = absoluto(3)\n",
    "print(numero)\n",
    "\n",
    "numero2 = absoluto(-4)\n"
   ],
   "outputs": [],
   "execution_count": 9
  },
  {
   "cell_type": "markdown",
   "metadata": {},
   "source": [
    "En el siguiente ejemplo, la sentencia ```return``` es utilizada para detectar una condición de error en la definición de un procedimiento:"
   ]
  },
  {
   "cell_type": "code",
   "metadata": {
    "ExecuteTime": {
     "end_time": "2024-10-04T15:53:01.540469Z",
     "start_time": "2024-10-04T15:53:01.538293Z"
    }
   },
   "source": [
    "def divide(a, b):\n",
    "    if b == 0:\n",
    "        print('ERROR: El divisor debe ser distinto de cero.')\n",
    "        return\n",
    "    print(a, 'divido por', b, 'es' , a/b)\n",
    "\n",
    "divide(4, 3)"
   ],
   "outputs": [
    {
     "name": "stdout",
     "output_type": "stream",
     "text": [
      "4 divido por 3 es 1.3333333333333333\n"
     ]
    }
   ],
   "execution_count": 10
  },
  {
   "cell_type": "markdown",
   "metadata": {},
   "source": [
    "Si la sentencia ```return``` no está presente dentro de una función, entonces la función devolverá el objeto ```None```."
   ]
  },
  {
   "cell_type": "code",
   "metadata": {
    "scrolled": true,
    "ExecuteTime": {
     "end_time": "2024-10-04T15:53:01.568054Z",
     "start_time": "2024-10-04T15:53:01.566210Z"
    }
   },
   "source": "print(divide(4,3))",
   "outputs": [
    {
     "name": "stdout",
     "output_type": "stream",
     "text": [
      "4 divido por 3 es 1.3333333333333333\n",
      "None\n"
     ]
    }
   ],
   "execution_count": 11
  },
  {
   "cell_type": "markdown",
   "metadata": {},
   "source": [
    "## Docstring\n",
    "\n",
    "- La primera cadena después del encabezado de la función se denomina [```docstring```](https://www.python.org/dev/peps/pep-0257/).\n",
    "- __Es una cadena de documentación abreviada__. \n",
    "- Se utiliza para explicar en forma breve, lo que hace una función.\n",
    "\n",
    "Aunque es opcional, la documentación __es una buena práctica de programación__. Existen diferentes estilos para documentar, por ejemplo:\n",
    "- [Numpy](https://sphinxcontrib-napoleon.readthedocs.io/en/latest/example_numpy.html)\n",
    "- [Google](https://sphinxcontrib-napoleon.readthedocs.io/en/latest/example_google.html#example-google)\n",
    "\n",
    "En el ejemplo anterior, \n",
    "- En la función <code>saludo(nombre)</code>, se agrega el docstring inmediatamente debajo del encabezado de la función. \n",
    "- Se utiliza comillas triples ```\"\"\" \"\"\"``` para que el ```docstring``` pueda extenderse por múltiples líneas. \n",
    "- Se puede acceder a dicha cadena por medio del atributo ```__doc__``` de la función."
   ]
  },
  {
   "cell_type": "code",
   "metadata": {
    "ExecuteTime": {
     "end_time": "2024-10-04T15:53:01.571565Z",
     "start_time": "2024-10-04T15:53:01.569770Z"
    }
   },
   "source": [
    "print(absoluto.__doc__)"
   ],
   "outputs": [
    {
     "name": "stdout",
     "output_type": "stream",
     "text": [
      "Calcula el valor absoluto.\n",
      "    Args:\n",
      "        x (float): Valor numérico\n",
      "    \n",
      "    Returns:\n",
      "        float: Valor absoluto de x\n",
      "        \n",
      "    \n"
     ]
    }
   ],
   "execution_count": 12
  },
  {
   "cell_type": "markdown",
   "metadata": {},
   "source": [
    "## Parámetros de una función\n",
    "\n",
    "- Un parámetro de una función es un __valor que la función espera recibir cuando sea invocada__, para ejecutar acciones en base al mismo. \n",
    "- Una función puede esperar uno o más parámetros (separados por una coma) o ninguno. \n",
    "- Los parámetros a su vez, puden ser de distinto tipo (e.g., ```int```, ```str```, ```tuple```)."
   ]
  },
  {
   "cell_type": "markdown",
   "metadata": {},
   "source": [
    "### Parámetros por omisión\n",
    "\n",
    "En Python, es posible, __asignar valores por defecto__ a los parámetros de las funciones. En consecuencia, la función podrá ser invocada con menos argumentos de los que espera. \n",
    "\n",
    "Ejemplo:"
   ]
  },
  {
   "cell_type": "code",
   "metadata": {
    "ExecuteTime": {
     "end_time": "2024-10-04T20:09:25.058732Z",
     "start_time": "2024-10-04T20:09:25.055414Z"
    }
   },
   "source": [
    "def saludo(nombre, prefijo='Sr.'):\n",
    "    print('Hola ' + prefijo + ' ' + nombre + ', Buen día!')"
   ],
   "outputs": [],
   "execution_count": 46
  },
  {
   "cell_type": "markdown",
   "metadata": {},
   "source": [
    "La invocación de la función pasando sólo un argumto:"
   ]
  },
  {
   "cell_type": "code",
   "metadata": {
    "ExecuteTime": {
     "end_time": "2024-10-04T20:09:27.319391Z",
     "start_time": "2024-10-04T20:09:27.305214Z"
    }
   },
   "source": "saludo()",
   "outputs": [
    {
     "ename": "TypeError",
     "evalue": "saludo() missing 1 required positional argument: 'nombre'",
     "output_type": "error",
     "traceback": [
      "\u001B[0;31m---------------------------------------------------------------------------\u001B[0m",
      "\u001B[0;31mTypeError\u001B[0m                                 Traceback (most recent call last)",
      "Cell \u001B[0;32mIn[47], line 1\u001B[0m\n\u001B[0;32m----> 1\u001B[0m \u001B[43msaludo\u001B[49m\u001B[43m(\u001B[49m\u001B[43m)\u001B[49m\n",
      "\u001B[0;31mTypeError\u001B[0m: saludo() missing 1 required positional argument: 'nombre'"
     ]
    }
   ],
   "execution_count": 47
  },
  {
   "cell_type": "markdown",
   "metadata": {},
   "source": [
    "<p>La invocación a la función pasando los dos argumtos:</p>"
   ]
  },
  {
   "cell_type": "code",
   "metadata": {
    "ExecuteTime": {
     "end_time": "2024-10-04T15:53:01.627913Z",
     "start_time": "2024-10-04T15:53:01.626159Z"
    }
   },
   "source": [
    "saludo('Smith', 'Sr.')"
   ],
   "outputs": [
    {
     "name": "stdout",
     "output_type": "stream",
     "text": [
      "Hola Sr. Smith, Buen día!\n"
     ]
    }
   ],
   "execution_count": 15
  },
  {
   "cell_type": "markdown",
   "metadata": {},
   "source": [
    "### Parámetros como _keywords_\n",
    "\n",
    "Al invocar una función, los parámetros se deben pasar en el mismo orden en el que los espera. Sin embargo, esto puede evitarse, haciendo uso del paso de argumentos como keywords; pasándo los argumentos esperados, como pares `key = value`. \n",
    "    \n",
    "Por ejemplo:"
   ]
  },
  {
   "cell_type": "code",
   "source": [
    "saludo('Pedro', 'Mr.')"
   ],
   "metadata": {
    "collapsed": false,
    "ExecuteTime": {
     "end_time": "2024-10-04T15:53:01.646396Z",
     "start_time": "2024-10-04T15:53:01.644352Z"
    }
   },
   "outputs": [
    {
     "name": "stdout",
     "output_type": "stream",
     "text": [
      "Hola Mr. Pedro, Buen día!\n"
     ]
    }
   ],
   "execution_count": 16
  },
  {
   "cell_type": "code",
   "source": [
    "saludo('Mr.', 'Pedro')"
   ],
   "metadata": {
    "collapsed": false,
    "ExecuteTime": {
     "end_time": "2024-10-04T15:53:01.656456Z",
     "start_time": "2024-10-04T15:53:01.654857Z"
    }
   },
   "outputs": [
    {
     "name": "stdout",
     "output_type": "stream",
     "text": [
      "Hola Pedro Mr., Buen día!\n"
     ]
    }
   ],
   "execution_count": 17
  },
  {
   "cell_type": "code",
   "metadata": {
    "ExecuteTime": {
     "end_time": "2024-10-04T15:53:01.677799Z",
     "start_time": "2024-10-04T15:53:01.675875Z"
    }
   },
   "source": [
    "saludo(nombre='Pedro', prefijo='Mr.')"
   ],
   "outputs": [
    {
     "name": "stdout",
     "output_type": "stream",
     "text": [
      "Hola Mr. Pedro, Buen día!\n"
     ]
    }
   ],
   "execution_count": 18
  },
  {
   "cell_type": "code",
   "metadata": {
    "ExecuteTime": {
     "end_time": "2024-10-04T15:53:01.687093Z",
     "start_time": "2024-10-04T15:53:01.685410Z"
    }
   },
   "source": [
    "saludo('Don', 'Pedro')"
   ],
   "outputs": [
    {
     "name": "stdout",
     "output_type": "stream",
     "text": [
      "Hola Pedro Don, Buen día!\n"
     ]
    }
   ],
   "execution_count": 19
  },
  {
   "cell_type": "markdown",
   "metadata": {},
   "source": [
    "## Variables globales y locales\n",
    "\n",
    "Las variables que se crean en el cuerpo de una función, sólo existe dentro de ella, es decir, es una __variable local__. \n",
    "- Si se trata de utilizar este tipo de variables fuera de la función, el programa provoca un error de tipo ```NameError```. \n",
    "- __Los parámetros de las funciones también son consideradas variables locales.__"
   ]
  },
  {
   "cell_type": "markdown",
   "metadata": {},
   "source": [
    "Una __variable global__ es visibles desde cualquier parte del programa, incluyendo el cuerpo de las funciones. \n",
    "\n",
    "- Sin embargo, cuando se utiliza como identificador de una variable local o función, el nombre de una variable global, está ultima queda oculta y no es accesible desde el cuerpo de la función."
   ]
  },
  {
   "cell_type": "markdown",
   "metadata": {},
   "source": [
    "Ejemplo:\n",
    "\n",
    "El siguiente programa calcula la distancia radial de un vector, a partir de sus coordenadas en el espacio euclidiano."
   ]
  },
  {
   "cell_type": "code",
   "metadata": {
    "ExecuteTime": {
     "end_time": "2024-10-04T15:53:10.247385Z",
     "start_time": "2024-10-04T15:53:01.688806Z"
    }
   },
   "source": [
    "def cuadrado(x):\n",
    "    return x ** 2\n",
    "\n",
    "def suma_cuadrados(vector):\n",
    "    suma = 0\n",
    "    for i in vector:\n",
    "        suma += cuadrado(i)\n",
    "    return suma\n",
    "\n",
    "posicion = []\n",
    "for coordenada in 'XYZ':\n",
    "    posicion.append(float(input(f'Ingrese {coordenada}: '))) \n",
    "\n",
    "distancia = suma_cuadrados(posicion) ** 0.5\n",
    "\n",
    "print('La distancia radial es {:.2f}'.format(distancia))"
   ],
   "outputs": [
    {
     "name": "stdout",
     "output_type": "stream",
     "text": [
      "La distancia radial es 5.74\n"
     ]
    }
   ],
   "execution_count": 20
  },
  {
   "cell_type": "markdown",
   "metadata": {},
   "source": [
    "En el programa:\n",
    "- Las variables `posicion` y `distancia` son globales. \n",
    "- La variable `suma`, definida en el cuerpo de la función `suma_cuadrados()`, es una variable local."
   ]
  },
  {
   "cell_type": "markdown",
   "metadata": {},
   "source": [
    "## Uso de módulos\n",
    "\n",
    "Un módulo __es una archivo que contiene definiciones y declaraciones__ de Python.\n",
    "- Los modulos __evitan que para la re-utilización de funciones se tenga que re-escribir las funciones en cada programa__.\n",
    "- Las definiciones de un módulo pueden ser importadas a otros módulos o a un programa.\n",
    "\n",
    "La carga de módulos y sus funciones, puede ser realizada de distintas formas.\n",
    "\n",
    "- __Importando el módulo__ y accediendo a la función invocando el nombre del módulo:"
   ]
  },
  {
   "cell_type": "code",
   "metadata": {
    "ExecuteTime": {
     "end_time": "2024-10-04T15:53:10.252211Z",
     "start_time": "2024-10-04T15:53:10.249458Z"
    }
   },
   "source": [
    "import math\n",
    "\n",
    "print(math.sqrt(25))"
   ],
   "outputs": [
    {
     "name": "stdout",
     "output_type": "stream",
     "text": [
      "5.0\n"
     ]
    }
   ],
   "execution_count": 21
  },
  {
   "cell_type": "markdown",
   "metadata": {},
   "source": [
    "Además, permite __importar varios módulos a la vez__:"
   ]
  },
  {
   "cell_type": "code",
   "metadata": {
    "ExecuteTime": {
     "end_time": "2024-10-04T15:53:10.255450Z",
     "start_time": "2024-10-04T15:53:10.253477Z"
    }
   },
   "source": [
    "import math, sys, re"
   ],
   "outputs": [],
   "execution_count": 22
  },
  {
   "cell_type": "markdown",
   "metadata": {},
   "source": [
    "- __Importando funciones específicas__ de un módulo:"
   ]
  },
  {
   "cell_type": "code",
   "metadata": {
    "ExecuteTime": {
     "end_time": "2024-10-04T15:53:10.259366Z",
     "start_time": "2024-10-04T15:53:10.256965Z"
    }
   },
   "source": [
    "from math import sqrt\n",
    "\n",
    "sqrt(16)"
   ],
   "outputs": [
    {
     "data": {
      "text/plain": [
       "4.0"
      ]
     },
     "execution_count": 23,
     "metadata": {},
     "output_type": "execute_result"
    }
   ],
   "execution_count": 23
  },
  {
   "cell_type": "markdown",
   "metadata": {},
   "source": [
    "- __Importando todas las funciones__:"
   ]
  },
  {
   "cell_type": "code",
   "metadata": {
    "ExecuteTime": {
     "end_time": "2024-10-04T15:53:10.265170Z",
     "start_time": "2024-10-04T15:53:10.262875Z"
    }
   },
   "source": [
    "from math import *\n",
    "\n",
    "sqrt(9)"
   ],
   "outputs": [
    {
     "data": {
      "text/plain": [
       "3.0"
      ]
     },
     "execution_count": 24,
     "metadata": {},
     "output_type": "execute_result"
    }
   ],
   "execution_count": 24
  },
  {
   "cell_type": "markdown",
   "metadata": {},
   "source": [
    "Algunos módulos de Python son:\n",
    "\n",
    "- [Operaciones con expresiones regulares](https://docs.python.org/3.7/library/re.html)\n",
    "- [Manipulación de tiempo y fechas](https://docs.python.org/3.7/library/datetime.html) \n",
    "- [Funcionalidades dependientes del sistema operativo](https://docs.python.org/3/library/os.html)"
   ]
  },
  {
   "cell_type": "markdown",
   "metadata": {},
   "source": [
    "## Diseño de módulos\n",
    "\n",
    "- El nombre del archivo es el __nombre del módulo__, con el sufijo ```.py```.\n",
    "- Dentro del archivo se codifican las funciones, __manteniendo la estructura__ utilizada para crear funciones en programa.\n",
    "- Es recomendable que las __funciones se agrupen en módulos de acuerdo con su ámbito de aplicación__.\n",
    "\n",
    "\n",
    "El siguiente es un ejemplo de módulo identificado como ```geometricas.py```, que contiene funciones diseñadas para calcular el área y perímetro de distintas figuras geométricas:"
   ]
  },
  {
   "cell_type": "code",
   "metadata": {
    "ExecuteTime": {
     "end_time": "2024-10-04T15:53:10.273526Z",
     "start_time": "2024-10-04T15:53:10.271269Z"
    }
   },
   "source": [
    "# geometricas.py\n",
    "from math import pi, sqrt\n",
    "\n",
    "def circunferencia(radio):\n",
    "    p = 2 * pi * radio\n",
    "    a = pi * radio ** 2\n",
    "    return a, p\n",
    "\n",
    "def rectangulo(largo, ancho):\n",
    "    p = 2 * largo + 2 * ancho\n",
    "    a = largo * ancho\n",
    "    return a, p\n",
    "\n",
    "def triangulo_rectangulo(base, altura):\n",
    "    p = base + altura + sqrt(base**2 + altura**2)\n",
    "    a = base * altura / 2\n",
    "    return a, p"
   ],
   "outputs": [],
   "execution_count": 25
  },
  {
   "cell_type": "markdown",
   "metadata": {},
   "source": [
    "El archivo ```test_geometricas.py``` invoca a la función ```circunferencia(radio)```"
   ]
  },
  {
   "cell_type": "code",
   "metadata": {},
   "source": [
    "# test_geometricas.py\n",
    "from geometricas import circunferencia\n",
    "\n",
    "area, perimetro = circunferencia(25)\n",
    "print(area)"
   ],
   "outputs": [],
   "execution_count": null
  },
  {
   "cell_type": "markdown",
   "metadata": {},
   "source": [
    "### Módulos _compilados_\n",
    "\n",
    "Python compila su código fuente en [_byte code_](https://en.wikipedia.org/wiki/Bytecode) y, por razones de rendimiento, almacena este código de bytes en el sistema de archivos __cada vez que el archivo de origen tiene cambios__ ([PEP 3147](https://www.python.org/dev/peps/pep-3147/))\n",
    "- Hace que la __carga__ de módulos Python sea mucho __más rápida__ porque la fase de compilación se puede omitir.\n",
    "- Almacena __versiones compiladas__ de cada módulo en el directorio ```__pycache__``` bajo el nombre ```module.version.py```, justo al lado de la fuente.\n",
    "- Permite __compilar módulos__ desde diferentes _releases_ y versiones de Python para coexistir."
   ]
  },
  {
   "metadata": {},
   "cell_type": "markdown",
   "source": [
    "## Actividades\n",
    "\n",
    "1. Agregar la documentación al módulo `geometricas.py`\n",
    "2. Diseñe una función que resuelva un problema espécifico, utilizando, a lo menos, 2 funciones de las siguientes librerías de Python:\n",
    "    - [Operaciones con expresiones regulares](https://docs.python.org/3.7/library/re.html)\n",
    "    - [Manipulación de tiempo y fechas](https://docs.python.org/3.7/library/datetime.html) \n",
    "    - [Funcionalidades dependientes del sistema operativo](https://docs.python.org/3/library/os.html) "
   ]
  }
 ],
 "metadata": {
  "interpreter": {
   "hash": "682885c2bb1436e84d3ea108a79f98b0de56a9363b340e0d2aef3ca8d1559c07"
  },
  "kernelspec": {
   "display_name": "Python 3 (ipykernel)",
   "language": "python",
   "name": "python3"
  },
  "language_info": {
   "codemirror_mode": {
    "name": "ipython",
    "version": 3
   },
   "file_extension": ".py",
   "mimetype": "text/x-python",
   "name": "python",
   "nbconvert_exporter": "python",
   "pygments_lexer": "ipython3",
   "version": "3.10.10"
  }
 },
 "nbformat": 4,
 "nbformat_minor": 2
}
