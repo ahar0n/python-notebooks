{
 "cells": [
  {
   "cell_type": "markdown",
   "metadata": {},
   "source": [
    "# MySQL connector para Python"
   ]
  },
  {
   "cell_type": "markdown",
   "metadata": {},
   "source": [
    "- [`MySQL connector`](https://dev.mysql.com/doc/connector-python/en/) es una API que cumple con especificación Python Database API (PEP 249).\n",
    "- [PEP 249](https://www.python.org/dev/peps/pep-0249/) fomenta la similitud entre los módulos de Python que se utilizan para acceder a las bases de datos... \n",
    "- Escrito en Python puro y no tiene dependencia excepto la Python Standard Library.\n",
    "\n",
    "[Descargar MySQL connector](https://dev.mysql.com/downloads/connector/python/)."
   ]
  },
  {
   "cell_type": "markdown",
   "metadata": {},
   "source": [
    "## Conexión con el servidor"
   ]
  },
  {
   "cell_type": "markdown",
   "metadata": {},
   "source": [
    "El constructor ```connect()``` crea una conexión al servidor MySQL y retorna un objeto ```MySQLConnection```.\n",
    "\n",
    "- [Argumentos de la conexión](https://dev.mysql.com/doc/connector-python/en/connector-python-connectargs.html).\n",
    "\n",
    "Para tratar los errores de conexión, es posible utilizar la sentencia ```try-except``` y detectar todos los errores utilizando las excepciones [```errors.Error```](https://dev.mysql.com/doc/connector-python/en/connector-python-api-errors-error.html).\n",
    "\n",
    "En el siguiente ejemplo, se realiza una conexión al servidor local (`localhost`) y a la base de datos `universidad`. Si la conexión se logra establecer, entonces, se procede a cerrar dicha conexión."
   ]
  },
  {
   "cell_type": "code",
   "execution_count": 1,
   "metadata": {},
   "outputs": [
    {
     "name": "stdout",
     "output_type": "stream",
     "text": [
      "Conexión establecida con exito!\n",
      "Conexión cerrada!\n"
     ]
    }
   ],
   "source": [
    "from mysql.connector import connect\n",
    "from mysql.connector import Error\n",
    "from mysql.connector import errorcode\n",
    "\n",
    "try:\n",
    "    cnx = connect(user='root', password='mysqlroot', host='localhost', database='universidad')\n",
    "    print('Conexión establecida con exito!')\n",
    "    # logica SQL\n",
    "    cnx.close()\n",
    "    print('Conexión cerrada!')\n",
    "except Error as e:\n",
    "    if e.errno == errorcode.ER_ACCESS_DENIED_ERROR:\n",
    "        print('Algo anda mal con tu usuario o contraseña.')\n",
    "    elif e.errno == errorcode.ER_BAD_DB_ERROR:\n",
    "        print('La base de datos no existe.')\n",
    "    else:\n",
    "        print(e)"
   ]
  },
  {
   "cell_type": "markdown",
   "metadata": {},
   "source": [
    "## Consultar datos"
   ]
  },
  {
   "cell_type": "markdown",
   "metadata": {},
   "source": [
    "La clase `MySQLCursor` instancia un __objeto que ejecuta operaciones utilizando sentencias `SQL`__, este, interactua con el servidor utilizando un objeto `MySQLConnection`.\n",
    "\n",
    "Para crear un cursor, se utiliza el método ```cursor()``` del objeto ```MySQLConnection```. \n",
    "- Por defecto, __el cursor es un objeto iterable de filas como tuplas__.\n",
    "- Opcionalmente, pasando como argumento, el parámetro ```dictionary=True```, el objeto se convierte en un iterador de diccionarios, que utiliza como claves los nombres de los campos de la base de datos.\n",
    "\n",
    "Para los parámetros,\n",
    "- `dictionary=True` retorna filas como diccionario.\n",
    "- `tuple=True`, retorna filas como tuplas."
   ]
  },
  {
   "cell_type": "code",
   "execution_count": 2,
   "metadata": {
    "scrolled": true
   },
   "outputs": [
    {
     "name": "stdout",
     "output_type": "stream",
     "text": [
      "14652985-4 : manuel resto\n",
      "14852654-7 : monica soto\n",
      "15126954-8 : margarita pinilla\n",
      "15785365-8 : marco ferj\n"
     ]
    }
   ],
   "source": [
    "# abre una conección al servidor MySQL y la almacena en la variable cnx\n",
    "cnx = connect(user='root', password='mysqlroot', host='localhost', database='universidad')\n",
    "\n",
    "# crea un cursor MySQLCursor\n",
    "cursor = cnx.cursor()\n",
    "\n",
    "# prepara la consulta\n",
    "query = ('SELECT * from alumno')\n",
    "\n",
    "# ejecuta la consulta y retorna los valores\n",
    "cursor.execute(query)\n",
    "\n",
    "for rut, nombre in cursor:\n",
    "    print('{} : {}'.format(rut, nombre))\n",
    "\n",
    "cursor.close()\n",
    "cnx.close()"
   ]
  },
  {
   "cell_type": "markdown",
   "metadata": {},
   "source": [
    "__NOTA__: En el ejemplo se utiliza la base de datos `universidad`."
   ]
  },
  {
   "cell_type": "markdown",
   "metadata": {},
   "source": [
    "En el siguiente ejemplo, se ejecuta la calusula [`INNER JOIN`](https://www.w3schools.com/sql/sql_join_inner.asp) para extraer los profesores que actualmente dictan las asignaturas registradas:"
   ]
  },
  {
   "cell_type": "code",
   "execution_count": 3,
   "metadata": {
    "scrolled": true
   },
   "outputs": [
    {
     "name": "stdout",
     "output_type": "stream",
     "text": [
      "LOGISTICA  : Juan Perez\n",
      "CALCULO I  : Jose Carrasco\n",
      "FISICA I   : Manuel Osess\n"
     ]
    }
   ],
   "source": [
    "cnx = connect(user='root', password='mysqlroot', host='localhost', database='universidad')\n",
    "\n",
    "cursor = cnx.cursor()\n",
    "\n",
    "query = ('''SELECT asignatura.nombre, profesor.nombre \n",
    "            FROM asignatura INNER JOIN profesor \n",
    "            ON asignatura.rutProf = profesor.rutProf''')\n",
    "\n",
    "# ejecuta la consulta y retorna los valores\n",
    "cursor.execute(query)\n",
    "\n",
    "for asignatura, profesor in cursor:\n",
    "    espacio = profesor.index(' ')\n",
    "    nombre = profesor[:espacio]\n",
    "    apellido = profesor[espacio+1:]\n",
    "    print('{:11}: {} {}'.format(asignatura.upper(), nombre.capitalize(), apellido.capitalize()))\n",
    "\n",
    "cursor.close()\n",
    "cnx.close()"
   ]
  },
  {
   "cell_type": "markdown",
   "metadata": {},
   "source": [
    "## Crear tablas"
   ]
  },
  {
   "cell_type": "markdown",
   "metadata": {},
   "source": [
    "Por lo general, las tablas de una base de datos son objetos permanentes y es posible trabajar con tablas ya creadas, en lugar de crearlas. No obstante, sentecias DDL (*Data Definition Language*) se pueden ejecutar a partir de un objetos cursor.\n",
    "\n",
    "**NOTA: Se recomienda evitar la continua creación de tablas, ya que es una operación costosa.**\n",
    "\n",
    "En el siguiente ejemplo se crea la base de datos `empleados`."
   ]
  },
  {
   "cell_type": "code",
   "execution_count": 13,
   "metadata": {},
   "outputs": [],
   "source": [
    "DB_NAME = 'employees'\n",
    "TABLES = {}\n",
    "TABLES['employees'] = (\n",
    "    \"CREATE TABLE `employees` (\"\n",
    "    \"`emp_no` int(11) NOT NULL AUTO_INCREMENT,\"\n",
    "    \"`birth_date` date NOT NULL,\"\n",
    "    \"`first_name` varchar(14) NOT NULL,\"\n",
    "    \"`last_name` varchar(16) NOT NULL,\"\n",
    "    \"`gender` enum('M','F') NOT NULL,\"\n",
    "    \"`hire_date` date NOT NULL,\"\n",
    "    \"PRIMARY KEY (`emp_no`)\"\n",
    "    \") ENGINE=InnoDB\")\n",
    "\n",
    "TABLES['departments'] = (\n",
    "    \"CREATE TABLE `departments` (\"\n",
    "    \"`dept_no` char(4) NOT NULL,\"\n",
    "    \"`dept_name` varchar(40) NOT NULL,\"\n",
    "    \"PRIMARY KEY (`dept_no`), UNIQUE KEY `dept_name` (`dept_name`)\"\n",
    "    \") ENGINE=InnoDB\")\n",
    "\n",
    "TABLES['dept_emp'] = (\n",
    "    \"CREATE TABLE `dept_emp` (\"\n",
    "    \"`emp_no` int(11) NOT NULL,\"\n",
    "    \"`dept_no` char(4) NOT NULL,\"\n",
    "    \"`from_date` date NOT NULL,\"\n",
    "    \"`to_date` date NOT NULL,\"\n",
    "    \"PRIMARY KEY (`emp_no`,`dept_no`), KEY `emp_no` (`emp_no`),\"\n",
    "    \"KEY `dept_no` (`dept_no`),\"\n",
    "    \"CONSTRAINT `dept_emp_ibfk_1` FOREIGN KEY (`emp_no`) \"\n",
    "    \"REFERENCES `employees` (`emp_no`) ON DELETE CASCADE,\"\n",
    "    \"CONSTRAINT `dept_emp_ibfk_2` FOREIGN KEY (`dept_no`) \"\n",
    "    \"REFERENCES `departments` (`dept_no`) ON DELETE CASCADE\"\n",
    "    \") ENGINE=InnoDB\")"
   ]
  },
  {
   "cell_type": "markdown",
   "metadata": {},
   "source": [
    "La función ```create_database(cursor, db)``` que se define a continuación, crea una base de datos a partir de un cursor `MySQLCursor`.\n",
    "- Recibe como argumentos __el cursor__ que contiene la sentencia `SQL` (DDL) y el __nombre de la base de datos__.\n",
    "- Incluye manejo de excepciones para la ejecución de lenguaje `SQL`."
   ]
  },
  {
   "cell_type": "code",
   "execution_count": 14,
   "metadata": {},
   "outputs": [],
   "source": [
    "def create_database(cursor, db_name):\n",
    "    try:\n",
    "        cursor.execute(\"CREATE DATABASE {} DEFAULT CHARACTER SET 'utf8'\".format(db_name))\n",
    "    except Error as e:\n",
    "        print('Error al crear la base de datos: {}'.format(e))"
   ]
  },
  {
   "cell_type": "markdown",
   "metadata": {},
   "source": [
    "En el siguiente código, se emplea la sentencia `try-except` que intenta conectarse a la base de datos de nombre `DB_NAME`. \n",
    "- Es el caso que suceda un error de código [`ER_BAD_DB_ERROR`](https://dev.mysql.com/doc/refman/5.7/en/error-messages-server.html#error_er_bad_db_error) (`ERROR 1049 (42000): Unknown database`), es decir, que no existe, se ejecuta la función `create_database()` que crea la dabe de datos."
   ]
  },
  {
   "cell_type": "code",
   "execution_count": 17,
   "metadata": {},
   "outputs": [
    {
     "name": "stdout",
     "output_type": "stream",
     "text": [
      "Base de datos employees seleccionada.\n"
     ]
    }
   ],
   "source": [
    "cnx = connect(user='root', password='mysqlroot', host='localhost')\n",
    "cursor = cnx.cursor()\n",
    "\n",
    "# conectándose a la base de datos\n",
    "try:\n",
    "    cursor.execute(\"USE {}\".format(DB_NAME))\n",
    "    print(\"Base de datos {} seleccionada.\".format(DB_NAME))\n",
    "except Error as e:\n",
    "    if e.errno == errorcode.ER_BAD_DB_ERROR:\n",
    "        print(\"La base de datos {} no existe.\".format(DB_NAME))\n",
    "        create_database(cursor, DB_NAME)\n",
    "        print(\"Base de datos {} fue creada exitosamente.\".format(DB_NAME))\n",
    "    elif e.errno == errorcode.ER_DB_EXISTS_ERROR:\n",
    "        print('ya existe.')\n",
    "    else:\n",
    "        print(e)"
   ]
  },
  {
   "cell_type": "markdown",
   "metadata": {},
   "source": [
    "Una vez que se crea la base de datos, o si existe, se cambia a la base de datos objetivo, se crean las tablas iterando sobre los items del diccionario `TABLES`."
   ]
  },
  {
   "cell_type": "code",
   "execution_count": 18,
   "metadata": {},
   "outputs": [
    {
     "name": "stdout",
     "output_type": "stream",
     "text": [
      "Creando tabla employees: OK\n",
      "Creando tabla departments: OK\n",
      "Creando tabla dept_emp: OK\n"
     ]
    }
   ],
   "source": [
    "cursor.execute(\"USE {}\".format(DB_NAME))\n",
    "for tablename, ddlcode in TABLES.items():\n",
    "    try:\n",
    "        print('Creando tabla {}: '.format(tablename), end='')\n",
    "        cursor.execute(ddlcode)\n",
    "        print('OK')\n",
    "    except Error as e:\n",
    "        if e.errno == errorcode.ER_TABLE_EXISTS_ERROR:\n",
    "            print('Tabla {} ya existe.'.format(tablename))\n",
    "        else:\n",
    "            print(e.msg)"
   ]
  },
  {
   "cell_type": "markdown",
   "metadata": {},
   "source": [
    "## Insertar datos"
   ]
  },
  {
   "cell_type": "markdown",
   "metadata": {},
   "source": [
    "En el siguiente ejemplo se insertan nuevos datos en la tabla `employees`."
   ]
  },
  {
   "cell_type": "code",
   "execution_count": 19,
   "metadata": {},
   "outputs": [],
   "source": [
    "from datetime import date, datetime, timedelta\n",
    "\n",
    "cnx = connect(user='root', password='mysqlroot', host='localhost', database='employees')\n",
    "cursor = cnx.cursor()\n",
    "\n",
    "tomorrow = datetime.now().date() + timedelta(days=1)\n",
    "add_employee = (\"INSERT INTO employees \"\n",
    "               \"(first_name, last_name, hire_date, gender, birth_date) \"\n",
    "               \"VALUES (%s, %s, %s, %s, %s)\")\n",
    "data_employee = ('Juan', 'Perez', tomorrow, 'M', date(1977, 6, 14))\n",
    "\n",
    "# insertar nuevo registro\n",
    "cursor.execute(add_employee, data_employee)\n",
    "\n",
    "# asegurarse que los datos estén ingresados en la base de datos\n",
    "cnx.commit()\n",
    "\n",
    "cursor.close()\n",
    "cnx.close()"
   ]
  },
  {
   "cell_type": "markdown",
   "metadata": {},
   "source": [
    "## Actividad"
   ]
  },
  {
   "cell_type": "markdown",
   "metadata": {},
   "source": [
    "Diseñe la función <code>conexionMySQL()</code> que reciba como argumento, el usuario y su contraseña, el <em>host</em> y el nombre de la base de datos, y retorne el objeto <code>MySQLConnection</code>, si la conexión fue realizada con éxito, de lo contrario, que retorne el valor <code>None</code>."
   ]
  }
 ],
 "metadata": {
  "kernelspec": {
   "display_name": "Python 3",
   "language": "python",
   "name": "python3"
  },
  "language_info": {
   "codemirror_mode": {
    "name": "ipython",
    "version": 3
   },
   "file_extension": ".py",
   "mimetype": "text/x-python",
   "name": "python",
   "nbconvert_exporter": "python",
   "pygments_lexer": "ipython3",
   "version": "3.7.11"
  }
 },
 "nbformat": 4,
 "nbformat_minor": 2
}
