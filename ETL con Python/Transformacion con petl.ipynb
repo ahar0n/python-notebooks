{
 "cells": [
  {
   "cell_type": "markdown",
   "metadata": {},
   "source": [
    "# Transformación con petl"
   ]
  },
  {
   "cell_type": "markdown",
   "metadata": {},
   "source": [
    "![Actividades ETL](./img/etl_actividades.svg)"
   ]
  },
  {
   "cell_type": "markdown",
   "metadata": {},
   "source": [
    "## Librería petl\n",
    "\n",
    "- [petl](https://petl.readthedocs.io/en/stable/index.html) es un paquete de propósito general para la extracción, transformación y carga de tablas de datos.\n",
    "- Diseñado especialmente para trabajar __datos desconocidos, heterogéneos y/o de calidad mixta__.\n",
    "- __No tiene dependencias__ que no sean módulos propios del nucleo de Python.\n",
    "- Las _pipelines_ (transformaciones de flujo de datos en un proceso comprendido por varias fases secuenciales) hacen __uso mínimo de la memoria del sistema__ y pueden __escalar a millones de filas si la velocidad no es una prioridad__.\n",
    "- En general, __los flujos de trabajo no se ejecutan hasta que se soliciten los datos__.\n",
    "- Soporta programación funcional y orientada a objetos.\n",
    "-  [Otras alternativas para diseñar procesos ETL](https://petl.readthedocs.io/en/stable/related_work.html)\n",
    "\n",
    "[Instalación de la librería petl](https://petl.readthedocs.io/en/stable/intro.html#installation)"
   ]
  },
  {
   "cell_type": "markdown",
   "metadata": {},
   "source": [
    "## Conversión de valores\n",
    "\n",
    "La función `.convert()` permite __convertir valores invocando funciones__ y los campos afectos como un diccionario. \n",
    "\n",
    "Por ejemplo, valores de una columnas desde `str` a `float`:"
   ]
  },
  {
   "cell_type": "code",
   "execution_count": 12,
   "metadata": {},
   "outputs": [
    {
     "data": {
      "text/plain": [
       "+--------------+-----------+\n",
       "| Fecha        | Nivel (m) |\n",
       "+==============+===========+\n",
       "| '2012-01-23' |     64.59 |\n",
       "+--------------+-----------+\n",
       "| '2012-05-23' |     64.79 |\n",
       "+--------------+-----------+\n",
       "| '2012-07-30' |     64.35 |\n",
       "+--------------+-----------+\n",
       "| '2012-09-10' |     64.77 |\n",
       "+--------------+-----------+\n",
       "| '2012-11-15' |     68.05 |\n",
       "+--------------+-----------+\n",
       "..."
      ]
     },
     "execution_count": 12,
     "metadata": {},
     "output_type": "execute_result"
    }
   ],
   "source": [
    "import petl as etl\n",
    "\n",
    "niveles = etl.fromxlsx('./dataset/niveles.xlsx')\n",
    "niveles.look()"
   ]
  },
  {
   "cell_type": "code",
   "execution_count": 19,
   "metadata": {},
   "outputs": [
    {
     "data": {
      "text/plain": [
       "float"
      ]
     },
     "execution_count": 19,
     "metadata": {},
     "output_type": "execute_result"
    }
   ],
   "source": [
    "type(niveles[1][1])"
   ]
  },
  {
   "cell_type": "code",
   "execution_count": 17,
   "metadata": {},
   "outputs": [
    {
     "data": {
      "text/plain": [
       "+--------------+-----------+\n",
       "| Fecha        | Nivel (m) |\n",
       "+==============+===========+\n",
       "| '2012-01-23' |        64 |\n",
       "+--------------+-----------+\n",
       "| '2012-05-23' |        64 |\n",
       "+--------------+-----------+\n",
       "| '2012-07-30' |        64 |\n",
       "+--------------+-----------+\n",
       "| '2012-09-10' |        64 |\n",
       "+--------------+-----------+\n",
       "| '2012-11-15' |        68 |\n",
       "+--------------+-----------+\n",
       "..."
      ]
     },
     "execution_count": 17,
     "metadata": {},
     "output_type": "execute_result"
    }
   ],
   "source": [
    "n_niveles = etl.convert(niveles, {'Nivel (m)': int})\n",
    "n_niveles.look()"
   ]
  },
  {
   "cell_type": "code",
   "execution_count": 21,
   "metadata": {},
   "outputs": [
    {
     "data": {
      "text/plain": [
       "int"
      ]
     },
     "execution_count": 21,
     "metadata": {},
     "output_type": "execute_result"
    }
   ],
   "source": [
    "type(n_niveles[1][1])"
   ]
  },
  {
   "cell_type": "markdown",
   "metadata": {},
   "source": [
    "También se permite la __sustitución de valores__ invocando los valores como un diccionario cuyo conjunto `key:value` corresponde al origen y destino, respectivamente."
   ]
  },
  {
   "cell_type": "code",
   "execution_count": 42,
   "metadata": {},
   "outputs": [
    {
     "data": {
      "text/plain": [
       "+-----+-------+-------+\n",
       "| num | lower | upper |\n",
       "+=====+=======+=======+\n",
       "|   0 | 'a'   | 'A'   |\n",
       "+-----+-------+-------+\n",
       "|   1 | 'b'   | 'B'   |\n",
       "+-----+-------+-------+\n",
       "|   2 | 'c'   | 'C'   |\n",
       "+-----+-------+-------+\n",
       "|   3 | 'a'   | None  |\n",
       "+-----+-------+-------+"
      ]
     },
     "execution_count": 42,
     "metadata": {},
     "output_type": "execute_result"
    }
   ],
   "source": [
    "tabl.look()"
   ]
  },
  {
   "cell_type": "code",
   "execution_count": 25,
   "metadata": {},
   "outputs": [
    {
     "data": {
      "text/html": [
       "<table class='petl'>\n",
       "<thead>\n",
       "<tr>\n",
       "<th>nombre</th>\n",
       "<th>segundo_nombre</th>\n",
       "<th>edad</th>\n",
       "<th>ciudad</th>\n",
       "<th>casado</th>\n",
       "</tr>\n",
       "</thead>\n",
       "<tbody>\n",
       "<tr>\n",
       "<td>Juan</td>\n",
       "<td>None</td>\n",
       "<td style='text-align: right'>30</td>\n",
       "<td>Metropolitana</td>\n",
       "<td>True</td>\n",
       "</tr>\n",
       "<tr>\n",
       "<td>Sandra</td>\n",
       "<td>Ariel</td>\n",
       "<td style='text-align: right'>24</td>\n",
       "<td>Biobio</td>\n",
       "<td>False</td>\n",
       "</tr>\n",
       "</tbody>\n",
       "</table>\n"
      ],
      "text/plain": [
       "+----------+----------------+------+-----------------+--------+\n",
       "| nombre   | segundo_nombre | edad | ciudad          | casado |\n",
       "+==========+================+======+=================+========+\n",
       "| 'Juan'   | None           |   30 | 'Metropolitana' | True   |\n",
       "+----------+----------------+------+-----------------+--------+\n",
       "| 'Sandra' | 'Ariel'        |   24 | 'Biobio'        | False  |\n",
       "+----------+----------------+------+-----------------+--------+"
      ]
     },
     "execution_count": 25,
     "metadata": {},
     "output_type": "execute_result"
    }
   ],
   "source": [
    "empleados = etl.fromjson('./dataset/empleados.json')\n",
    "empleados_1 = etl.convert(empleados, 'ciudad', {'Santiago': 'Metropolitana', 'Concepción': 'Biobio'})\n",
    "empleados_1\n",
    "# etl.look(tabl6)"
   ]
  },
  {
   "cell_type": "markdown",
   "metadata": {},
   "source": [
    "Otras [alternativas de conversión de valores](https://petl.readthedocs.io/en/stable/transform.html#converting-values):\n",
    "- Conversión pasando el método y sus parámetros.\n",
    "- Conversión condicional.\n",
    "- Conversión accediendo a datos de la misma fila.\n",
    "- Conversión de todo a número.\n",
    "- Conversión por interpolación.\n",
    "- ..."
   ]
  },
  {
   "cell_type": "markdown",
   "metadata": {},
   "source": [
    "## Filtros y búsqueda"
   ]
  },
  {
   "cell_type": "markdown",
   "metadata": {},
   "source": [
    "El segundo argumento de la función `.select()` puede ser una expresión con forma de condición, expresado como un literal de tipo `str`."
   ]
  },
  {
   "cell_type": "code",
   "execution_count": 30,
   "metadata": {
    "scrolled": false
   },
   "outputs": [
    {
     "data": {
      "text/plain": [
       "+--------------+-----------+\n",
       "| Fecha        | Nivel (m) |\n",
       "+==============+===========+\n",
       "| '2012-01-23' |     64.59 |\n",
       "+--------------+-----------+\n",
       "| '2012-05-23' |     64.79 |\n",
       "+--------------+-----------+\n",
       "| '2012-07-30' |     64.35 |\n",
       "+--------------+-----------+\n",
       "| '2012-09-10' |     64.77 |\n",
       "+--------------+-----------+\n",
       "| '2012-11-15' |     68.05 |\n",
       "+--------------+-----------+"
      ]
     },
     "execution_count": 30,
     "metadata": {},
     "output_type": "execute_result"
    }
   ],
   "source": [
    "niveles_2012 = etl.select(niveles, \"{Fecha}>'2012' and {Fecha}<'2013'\")\n",
    "niveles_2012.lookall()"
   ]
  },
  {
   "cell_type": "code",
   "execution_count": 31,
   "metadata": {},
   "outputs": [
    {
     "data": {
      "text/plain": [
       "+--------------+-----------+\n",
       "| Fecha        | Nivel (m) |\n",
       "+==============+===========+\n",
       "| '2012-01-23' |     64.59 |\n",
       "+--------------+-----------+\n",
       "| '2012-05-23' |     64.79 |\n",
       "+--------------+-----------+\n",
       "| '2012-07-30' |     64.35 |\n",
       "+--------------+-----------+\n",
       "| '2012-09-10' |     64.77 |\n",
       "+--------------+-----------+\n",
       "| '2012-11-15' |     68.05 |\n",
       "+--------------+-----------+\n",
       "| '2013-05-16' |     75.19 |\n",
       "+--------------+-----------+\n",
       "| '2013-07-29' | None      |\n",
       "+--------------+-----------+\n",
       "| '2013-09-11' |     72.68 |\n",
       "+--------------+-----------+\n",
       "| '2014-03-27' |     85.12 |\n",
       "+--------------+-----------+\n",
       "| '2014-05-22' |     83.77 |\n",
       "+--------------+-----------+\n",
       "| '2014-07-25' |     86.19 |\n",
       "+--------------+-----------+\n",
       "| '2014-09-30' |     88.57 |\n",
       "+--------------+-----------+\n",
       "| '2014-11-25' | None      |\n",
       "+--------------+-----------+\n",
       "| '2015-05-22' |    102.14 |\n",
       "+--------------+-----------+"
      ]
     },
     "execution_count": 31,
     "metadata": {},
     "output_type": "execute_result"
    }
   ],
   "source": [
    "filtro_73 = etl.select(niveles, \"{Nivel (m)} != 73.33\")\n",
    "filtro_73.lookall()"
   ]
  },
  {
   "cell_type": "markdown",
   "metadata": {},
   "source": [
    "Es posible __mapear campos de valores de una tabla en un diccionario__. La función `.facet()` recibe como segundo argumento la columna que será mapeada como claves del diccionario."
   ]
  },
  {
   "cell_type": "code",
   "execution_count": 32,
   "metadata": {},
   "outputs": [
    {
     "data": {
      "text/plain": [
       "+----------+----------------+------+--------------+--------+\n",
       "| nombre   | segundo_nombre | edad | ciudad       | casado |\n",
       "+==========+================+======+==============+========+\n",
       "| 'Juan'   | None           |   30 | 'Santiago'   | True   |\n",
       "+----------+----------------+------+--------------+--------+\n",
       "| 'Sandra' | 'Ariel'        |   24 | 'Concepción' | False  |\n",
       "+----------+----------------+------+--------------+--------+"
      ]
     },
     "execution_count": 32,
     "metadata": {},
     "output_type": "execute_result"
    }
   ],
   "source": [
    "empleados.look()"
   ]
  },
  {
   "cell_type": "code",
   "execution_count": 34,
   "metadata": {},
   "outputs": [
    {
     "data": {
      "text/plain": [
       "dict_keys(['Juan', 'Sandra'])"
      ]
     },
     "execution_count": 34,
     "metadata": {},
     "output_type": "execute_result"
    }
   ],
   "source": [
    "nombre = etl.facet(empleados, 'nombre')\n",
    "nombre.keys()"
   ]
  },
  {
   "cell_type": "code",
   "execution_count": 36,
   "metadata": {},
   "outputs": [
    {
     "data": {
      "text/plain": [
       "+--------+----------------+------+------------+--------+\n",
       "| nombre | segundo_nombre | edad | ciudad     | casado |\n",
       "+========+================+======+============+========+\n",
       "| 'Juan' | None           |   30 | 'Santiago' | True   |\n",
       "+--------+----------------+------+------------+--------+"
      ]
     },
     "execution_count": 36,
     "metadata": {},
     "output_type": "execute_result"
    }
   ],
   "source": [
    "nombre['Juan'].look()"
   ]
  },
  {
   "cell_type": "markdown",
   "metadata": {},
   "source": [
    "## Uso de expresiones regulares"
   ]
  },
  {
   "cell_type": "markdown",
   "metadata": {},
   "source": [
    "A partir de [expresiones regulares](https://docs.python.org/3/library/re.html#regular-expression-syntax) se realiza una busqueda de valores y __retorna las filas que coinciden con un patrón__."
   ]
  },
  {
   "cell_type": "code",
   "execution_count": 38,
   "metadata": {},
   "outputs": [
    {
     "data": {
      "text/plain": [
       "+------------------------------+\n",
       "| Referencia Geográfica        |\n",
       "+==============================+\n",
       "| '50 km al O de Taltal'       |\n",
       "+------------------------------+\n",
       "| '36 km al NO de María Elena' |\n",
       "+------------------------------+\n",
       "| '69 km al NE de Calama'      |\n",
       "+------------------------------+\n",
       "| '13 km al SE de Cuya'        |\n",
       "+------------------------------+\n",
       "| '30 km al NO de Canela Baja' |\n",
       "+------------------------------+\n",
       "..."
      ]
     },
     "execution_count": 38,
     "metadata": {},
     "output_type": "execute_result"
    }
   ],
   "source": [
    "import pandas as pd\n",
    "\n",
    "url = 'http://www.sismologia.cl/ultimos_sismos.html'\n",
    "tablas = pd.read_html(url)\n",
    "sismos_df = tablas[0]\n",
    "sismos = etl.fromdataframe(sismos_df)\n",
    "\n",
    "etl.cut(sismos, 'Referencia Geográfica').look()"
   ]
  },
  {
   "cell_type": "markdown",
   "metadata": {},
   "source": [
    "En __cualquier lugar de un registro__ (fila):"
   ]
  },
  {
   "cell_type": "code",
   "execution_count": 44,
   "metadata": {},
   "outputs": [
    {
     "data": {
      "text/html": [
       "<table class='petl'>\n",
       "<thead>\n",
       "<tr>\n",
       "<th>Fecha Local</th>\n",
       "<th>Fecha UTC</th>\n",
       "<th>Latitud</th>\n",
       "<th>Longitud</th>\n",
       "<th>Profundidad [Km]</th>\n",
       "<th>Magnitud</th>\n",
       "<th>Referencia Geográfica</th>\n",
       "</tr>\n",
       "</thead>\n",
       "<tbody>\n",
       "<tr>\n",
       "<td>2021-10-20 01:09:02</td>\n",
       "<td>2021-10-20 04:09:02</td>\n",
       "<td style='text-align: right'>-25.53</td>\n",
       "<td style='text-align: right'>-70.963</td>\n",
       "<td style='text-align: right'>48.0</td>\n",
       "<td>3.2 Ml</td>\n",
       "<td>50 km al O de Taltal</td>\n",
       "</tr>\n",
       "<tr>\n",
       "<td>2021-10-19 21:49:05</td>\n",
       "<td>2021-10-20 00:49:05</td>\n",
       "<td style='text-align: right'>-22.06</td>\n",
       "<td style='text-align: right'>-69.826</td>\n",
       "<td style='text-align: right'>59.5</td>\n",
       "<td>2.5 Ml</td>\n",
       "<td>36 km al NO de María Elena</td>\n",
       "</tr>\n",
       "<tr>\n",
       "<td>2021-10-19 21:22:31</td>\n",
       "<td>2021-10-20 00:22:31</td>\n",
       "<td style='text-align: right'>-21.902</td>\n",
       "<td style='text-align: right'>-68.652</td>\n",
       "<td style='text-align: right'>125.0</td>\n",
       "<td>3.5 Ml</td>\n",
       "<td>69 km al NE de Calama</td>\n",
       "</tr>\n",
       "<tr>\n",
       "<td>2021-10-19 20:37:37</td>\n",
       "<td>2021-10-19 23:37:37</td>\n",
       "<td style='text-align: right'>-19.261</td>\n",
       "<td style='text-align: right'>-70.109</td>\n",
       "<td style='text-align: right'>54.3</td>\n",
       "<td>2.7 Ml</td>\n",
       "<td>13 km al SE de Cuya</td>\n",
       "</tr>\n",
       "<tr>\n",
       "<td>2021-10-19 20:28:48</td>\n",
       "<td>2021-10-19 23:28:48</td>\n",
       "<td style='text-align: right'>-31.268</td>\n",
       "<td style='text-align: right'>-71.733</td>\n",
       "<td style='text-align: right'>34.9</td>\n",
       "<td>3.2 Ml</td>\n",
       "<td>30 km al NO de Canela Baja</td>\n",
       "</tr>\n",
       "</tbody>\n",
       "</table>\n",
       "<p><strong>...</strong></p>"
      ],
      "text/plain": [
       "+-----------------------+-----------------------+---------+----------+------------------+----------+------------------------------+\n",
       "| Fecha Local           | Fecha UTC             | Latitud | Longitud | Profundidad [Km] | Magnitud | Referencia Geográfica        |\n",
       "+=======================+=======================+=========+==========+==================+==========+==============================+\n",
       "| '2021-10-20 01:09:02' | '2021-10-20 04:09:02' |  -25.53 |  -70.963 |             48.0 | '3.2 Ml' | '50 km al O de Taltal'       |\n",
       "+-----------------------+-----------------------+---------+----------+------------------+----------+------------------------------+\n",
       "| '2021-10-19 21:49:05' | '2021-10-20 00:49:05' |  -22.06 |  -69.826 |             59.5 | '2.5 Ml' | '36 km al NO de María Elena' |\n",
       "+-----------------------+-----------------------+---------+----------+------------------+----------+------------------------------+\n",
       "| '2021-10-19 21:22:31' | '2021-10-20 00:22:31' | -21.902 |  -68.652 |            125.0 | '3.5 Ml' | '69 km al NE de Calama'      |\n",
       "+-----------------------+-----------------------+---------+----------+------------------+----------+------------------------------+\n",
       "| '2021-10-19 20:37:37' | '2021-10-19 23:37:37' | -19.261 |  -70.109 |             54.3 | '2.7 Ml' | '13 km al SE de Cuya'        |\n",
       "+-----------------------+-----------------------+---------+----------+------------------+----------+------------------------------+\n",
       "| '2021-10-19 20:28:48' | '2021-10-19 23:28:48' | -31.268 |  -71.733 |             34.9 | '3.2 Ml' | '30 km al NO de Canela Baja' |\n",
       "+-----------------------+-----------------------+---------+----------+------------------+----------+------------------------------+\n",
       "..."
      ]
     },
     "execution_count": 44,
     "metadata": {},
     "output_type": "execute_result"
    }
   ],
   "source": [
    "sismos"
   ]
  },
  {
   "cell_type": "code",
   "execution_count": 46,
   "metadata": {
    "scrolled": true
   },
   "outputs": [
    {
     "data": {
      "text/html": [
       "<table class='petl'>\n",
       "<thead>\n",
       "<tr>\n",
       "<th>Fecha Local</th>\n",
       "<th>Fecha UTC</th>\n",
       "<th>Latitud</th>\n",
       "<th>Longitud</th>\n",
       "<th>Profundidad [Km]</th>\n",
       "<th>Magnitud</th>\n",
       "<th>Referencia Geográfica</th>\n",
       "</tr>\n",
       "</thead>\n",
       "<tbody>\n",
       "<tr>\n",
       "<td>2021-10-19 18:01:05</td>\n",
       "<td>2021-10-19 21:01:05</td>\n",
       "<td style='text-align: right'>-18.963</td>\n",
       "<td style='text-align: right'>-69.28</td>\n",
       "<td style='text-align: right'>112.3</td>\n",
       "<td>3.6 Ml</td>\n",
       "<td>42 km al NE de Camiña</td>\n",
       "</tr>\n",
       "<tr>\n",
       "<td>2021-10-19 15:39:00</td>\n",
       "<td>2021-10-19 18:39:00</td>\n",
       "<td style='text-align: right'>-20.329</td>\n",
       "<td style='text-align: right'>-69.678</td>\n",
       "<td style='text-align: right'>64.9</td>\n",
       "<td>2.6 Ml</td>\n",
       "<td>14 km al SE de Pozo Almonte</td>\n",
       "</tr>\n",
       "<tr>\n",
       "<td>2021-10-19 15:37:57</td>\n",
       "<td>2021-10-19 18:37:57</td>\n",
       "<td style='text-align: right'>-27.754</td>\n",
       "<td style='text-align: right'>-71.091</td>\n",
       "<td style='text-align: right'>36.8</td>\n",
       "<td>4.1 Ml</td>\n",
       "<td>80 km al N de Huasco</td>\n",
       "</tr>\n",
       "<tr>\n",
       "<td>2021-10-19 12:43:41</td>\n",
       "<td>2021-10-19 15:43:41</td>\n",
       "<td style='text-align: right'>-18.603</td>\n",
       "<td style='text-align: right'>-71.103</td>\n",
       "<td style='text-align: right'>18.7</td>\n",
       "<td>3.1 Ml</td>\n",
       "<td>84 km al O de Arica</td>\n",
       "</tr>\n",
       "</tbody>\n",
       "</table>\n"
      ],
      "text/plain": [
       "+-----------------------+-----------------------+---------+----------+------------------+----------+-------------------------------+\n",
       "| Fecha Local           | Fecha UTC             | Latitud | Longitud | Profundidad [Km] | Magnitud | Referencia Geográfica         |\n",
       "+=======================+=======================+=========+==========+==================+==========+===============================+\n",
       "| '2021-10-19 18:01:05' | '2021-10-19 21:01:05' | -18.963 |   -69.28 |            112.3 | '3.6 Ml' | '42 km al NE de Camiña'       |\n",
       "+-----------------------+-----------------------+---------+----------+------------------+----------+-------------------------------+\n",
       "| '2021-10-19 15:39:00' | '2021-10-19 18:39:00' | -20.329 |  -69.678 |             64.9 | '2.6 Ml' | '14 km al SE de Pozo Almonte' |\n",
       "+-----------------------+-----------------------+---------+----------+------------------+----------+-------------------------------+\n",
       "| '2021-10-19 15:37:57' | '2021-10-19 18:37:57' | -27.754 |  -71.091 |             36.8 | '4.1 Ml' | '80 km al N de Huasco'        |\n",
       "+-----------------------+-----------------------+---------+----------+------------------+----------+-------------------------------+\n",
       "| '2021-10-19 12:43:41' | '2021-10-19 15:43:41' | -18.603 |  -71.103 |             18.7 | '3.1 Ml' | '84 km al O de Arica'         |\n",
       "+-----------------------+-----------------------+---------+----------+------------------+----------+-------------------------------+"
      ]
     },
     "execution_count": 46,
     "metadata": {},
     "output_type": "execute_result"
    }
   ],
   "source": [
    "sismos_18 = etl.search(sismos, '18')\n",
    "sismos_18"
   ]
  },
  {
   "cell_type": "markdown",
   "metadata": {},
   "source": [
    "Dentro de __un campo específico__:"
   ]
  },
  {
   "cell_type": "code",
   "execution_count": 47,
   "metadata": {
    "scrolled": false
   },
   "outputs": [
    {
     "data": {
      "text/plain": [
       "+----------+----------------------------------+\n",
       "| Magnitud | Referencia Geográfica            |\n",
       "+==========+==================================+\n",
       "| '2.5 Ml' | '27 km al NO de Mina Collahuasi' |\n",
       "+----------+----------------------------------+"
      ]
     },
     "execution_count": 47,
     "metadata": {},
     "output_type": "execute_result"
    }
   ],
   "source": [
    "sismos_collahuasi = etl.search(sismos, 'Referencia Geográfica', 'Collahuasi')\n",
    "sismos_collahuasi.cut('Magnitud', 'Referencia Geográfica').look()"
   ]
  },
  {
   "cell_type": "markdown",
   "metadata": {},
   "source": [
    "### Ordenamiento\n",
    "\n",
    "Por defecto, la función `.sort()` realiza sobre una tabla un ordenamiento léxico:"
   ]
  },
  {
   "cell_type": "code",
   "execution_count": 49,
   "metadata": {},
   "outputs": [
    {
     "data": {
      "text/html": [
       "<table class='petl'>\n",
       "<thead>\n",
       "<tr>\n",
       "<th>artista</th>\n",
       "<th>cia</th>\n",
       "<th>pais</th>\n",
       "</tr>\n",
       "</thead>\n",
       "<tbody>\n",
       "<tr>\n",
       "<td>Bob Dylan</td>\n",
       "<td>Columbia</td>\n",
       "<td>USA</td>\n",
       "</tr>\n",
       "<tr>\n",
       "<td>Bonnie Tyler</td>\n",
       "<td>CBS Records</td>\n",
       "<td>UK</td>\n",
       "</tr>\n",
       "<tr>\n",
       "<td>Dolly Parton</td>\n",
       "<td>RCA</td>\n",
       "<td>USA</td>\n",
       "</tr>\n",
       "<tr>\n",
       "<td>Gary Moore</td>\n",
       "<td>Virgin records</td>\n",
       "<td>UK</td>\n",
       "</tr>\n",
       "<tr>\n",
       "<td>Eros Ramazzotti</td>\n",
       "<td>BMG</td>\n",
       "<td>EU</td>\n",
       "</tr>\n",
       "</tbody>\n",
       "</table>\n",
       "<p><strong>...</strong></p>"
      ],
      "text/plain": [
       "+-------------------+------------------+-------+\n",
       "| artista           | cia              | pais  |\n",
       "+===================+==================+=======+\n",
       "| 'Bob Dylan'       | 'Columbia'       | 'USA' |\n",
       "+-------------------+------------------+-------+\n",
       "| 'Bonnie Tyler'    | 'CBS Records'    | 'UK'  |\n",
       "+-------------------+------------------+-------+\n",
       "| 'Dolly Parton'    | 'RCA'            | 'USA' |\n",
       "+-------------------+------------------+-------+\n",
       "| 'Gary Moore'      | 'Virgin records' | 'UK'  |\n",
       "+-------------------+------------------+-------+\n",
       "| 'Eros Ramazzotti' | 'BMG'            | 'EU'  |\n",
       "+-------------------+------------------+-------+\n",
       "..."
      ]
     },
     "execution_count": 49,
     "metadata": {},
     "output_type": "execute_result"
    }
   ],
   "source": [
    "catalogo = etl.fromxml('./dataset/cd_catalog.xml', 'CD', \n",
    "                       {'cia': 'COMPANY', 'artista': 'ARTIST', 'pais': 'COUNTRY'})\n",
    "catalogo"
   ]
  },
  {
   "cell_type": "code",
   "execution_count": 50,
   "metadata": {},
   "outputs": [
    {
     "data": {
      "text/plain": [
       "+---------------------+------------------+----------+\n",
       "| artista             | cia              | pais     |\n",
       "+=====================+==================+==========+\n",
       "| 'Andrea Bocelli'    | 'Polydor'        | 'EU'     |\n",
       "+---------------------+------------------+----------+\n",
       "| 'Bee Gees'          | 'Polydor'        | 'UK'     |\n",
       "+---------------------+------------------+----------+\n",
       "| 'Bob Dylan'         | 'Columbia'       | 'USA'    |\n",
       "+---------------------+------------------+----------+\n",
       "| 'Bonnie Tyler'      | 'CBS Records'    | 'UK'     |\n",
       "+---------------------+------------------+----------+\n",
       "| 'Cat Stevens'       | 'Island'         | 'UK'     |\n",
       "+---------------------+------------------+----------+\n",
       "| 'Dolly Parton'      | 'RCA'            | 'USA'    |\n",
       "+---------------------+------------------+----------+\n",
       "| 'Dr.Hook'           | 'CBS'            | 'UK'     |\n",
       "+---------------------+------------------+----------+\n",
       "| 'Eros Ramazzotti'   | 'BMG'            | 'EU'     |\n",
       "+---------------------+------------------+----------+\n",
       "| 'Gary Moore'        | 'Virgin records' | 'UK'     |\n",
       "+---------------------+------------------+----------+\n",
       "| 'Joe Cocker'        | 'EMI'            | 'USA'    |\n",
       "+---------------------+------------------+----------+\n",
       "| 'Jorn Hoel'         | 'WEA'            | 'Norway' |\n",
       "+---------------------+------------------+----------+\n",
       "| 'Kenny Rogers'      | 'Mucik Master'   | 'UK'     |\n",
       "+---------------------+------------------+----------+\n",
       "| 'Kim Larsen'        | 'Medley'         | 'EU'     |\n",
       "+---------------------+------------------+----------+\n",
       "| 'Luciano Pavarotti' | 'DECCA'          | 'UK'     |\n",
       "+---------------------+------------------+----------+\n",
       "| 'Many'              | 'Grammy'         | 'USA'    |\n",
       "+---------------------+------------------+----------+\n",
       "| 'Otis Redding'      | 'Atlantic'       | 'USA'    |\n",
       "+---------------------+------------------+----------+\n",
       "| 'Percy Sledge'      | 'Atlantic'       | 'USA'    |\n",
       "+---------------------+------------------+----------+\n",
       "| 'Rod Stewart'       | 'Pickwick'       | 'UK'     |\n",
       "+---------------------+------------------+----------+\n",
       "| 'Sam Brown'         | 'A and M'        | 'UK'     |\n",
       "+---------------------+------------------+----------+\n",
       "| 'Savage Rose'       | 'Mega'           | 'EU'     |\n",
       "+---------------------+------------------+----------+\n",
       "| 'Simply Red'        | 'Elektra'        | 'EU'     |\n",
       "+---------------------+------------------+----------+\n",
       "| \"T'Pau\"             | 'Siren'          | 'UK'     |\n",
       "+---------------------+------------------+----------+\n",
       "| 'The Communards'    | 'London'         | 'UK'     |\n",
       "+---------------------+------------------+----------+\n",
       "| 'Tina Turner'       | 'Capitol'        | 'UK'     |\n",
       "+---------------------+------------------+----------+\n",
       "| 'Van Morrison'      | 'Polydor'        | 'UK'     |\n",
       "+---------------------+------------------+----------+\n",
       "| 'Will Smith'        | 'Columbia'       | 'USA'    |\n",
       "+---------------------+------------------+----------+"
      ]
     },
     "execution_count": 50,
     "metadata": {},
     "output_type": "execute_result"
    }
   ],
   "source": [
    "catalogo_ordenado = etl.sort(catalogo)\n",
    "etl.lookall(catalogo_ordenado)"
   ]
  },
  {
   "cell_type": "markdown",
   "metadata": {},
   "source": [
    "Ingresando como argumento el nombre de __uno o más campos__:\n",
    "- El parámetro `reverse=True` permite ejecutar un ordenamiento en sentido contrario."
   ]
  },
  {
   "cell_type": "code",
   "execution_count": 52,
   "metadata": {
    "scrolled": true
   },
   "outputs": [
    {
     "data": {
      "text/plain": [
       "+----------+----------------------------+\n",
       "| Magnitud | Referencia Geográfica      |\n",
       "+==========+============================+\n",
       "| '4.1 Ml' | '80 km al N de Huasco'     |\n",
       "+----------+----------------------------+\n",
       "| '3.6 Ml' | '42 km al NE de Camiña'    |\n",
       "+----------+----------------------------+\n",
       "| '3.6 Ml' | '58 km al SO de Los Vilos' |\n",
       "+----------+----------------------------+\n",
       "| '3.5 Ml' | '69 km al NE de Calama'    |\n",
       "+----------+----------------------------+\n",
       "| '3.2 Ml' | '50 km al O de Taltal'     |\n",
       "+----------+----------------------------+\n",
       "..."
      ]
     },
     "execution_count": 52,
     "metadata": {},
     "output_type": "execute_result"
    }
   ],
   "source": [
    "sismos_ordenados = etl.sort(sismos, key=['Magnitud'], reverse=True)\n",
    "sismos_ordenados.cut('Magnitud', 'Referencia Geográfica').look()"
   ]
  },
  {
   "cell_type": "markdown",
   "metadata": {},
   "source": [
    "También es posible __comprobar el ordenamiento de una tabla__:"
   ]
  },
  {
   "cell_type": "code",
   "execution_count": 53,
   "metadata": {
    "scrolled": true
   },
   "outputs": [
    {
     "data": {
      "text/plain": [
       "False"
      ]
     },
     "execution_count": 53,
     "metadata": {},
     "output_type": "execute_result"
    }
   ],
   "source": [
    "etl.issorted(sismos_ordenados, key='Referencia Geográfica')"
   ]
  },
  {
   "cell_type": "markdown",
   "metadata": {},
   "source": [
    "Otras operaciones de transformación:\n",
    "- `mergesort()`\n",
    "- `join()`\n",
    "- `unjoin()` (split)\n",
    "- `duplicates()`\n",
    "- `unique()`\n",
    "- `aggregate()`\n",
    "- `reshape()`\n",
    "- `transpose()`\n",
    "- `pivot()`\n",
    "- `fill...()`\n"
   ]
  },
  {
   "cell_type": "markdown",
   "metadata": {},
   "source": [
    "## Extras\n",
    "\n",
    "Encontrar __mínimo y máximo__:"
   ]
  },
  {
   "cell_type": "code",
   "execution_count": 63,
   "metadata": {},
   "outputs": [
    {
     "name": "stdout",
     "output_type": "stream",
     "text": [
      "Máx: 4.2 Mw\n",
      "Mín: 3.0 Ml\n"
     ]
    }
   ],
   "source": [
    "mn, mx = etl.limits(sismos_collahuasi, 'Magnitud')\n",
    "print('Máx: {}\\nMín: {}'.format(mx, mn))"
   ]
  },
  {
   "cell_type": "markdown",
   "metadata": {},
   "source": [
    "Algunos __estadísticos básicos__:"
   ]
  },
  {
   "cell_type": "code",
   "execution_count": 54,
   "metadata": {},
   "outputs": [
    {
     "data": {
      "text/plain": [
       "stats(count=13, errors=2, sum=993.5399999999998, min=64.35, max=102.14, mean=76.42615384615385, pvariance=129.69419289940822, pstdev=11.388335826599434)"
      ]
     },
     "execution_count": 54,
     "metadata": {},
     "output_type": "execute_result"
    }
   ],
   "source": [
    "estadisticos_niveles = etl.stats(niveles, 'Nivel (m)')\n",
    "estadisticos_niveles"
   ]
  },
  {
   "cell_type": "markdown",
   "metadata": {},
   "source": [
    "__Contar valores__:"
   ]
  },
  {
   "cell_type": "code",
   "execution_count": 55,
   "metadata": {},
   "outputs": [
    {
     "data": {
      "text/plain": [
       "+------------------+-------+----------------------+\n",
       "| cia              | count | frequency            |\n",
       "+==================+=======+======================+\n",
       "| 'Polydor'        |     3 |  0.11538461538461539 |\n",
       "+------------------+-------+----------------------+\n",
       "| 'Columbia'       |     2 |  0.07692307692307693 |\n",
       "+------------------+-------+----------------------+\n",
       "| 'Atlantic'       |     2 |  0.07692307692307693 |\n",
       "+------------------+-------+----------------------+\n",
       "| 'CBS Records'    |     1 | 0.038461538461538464 |\n",
       "+------------------+-------+----------------------+\n",
       "| 'RCA'            |     1 | 0.038461538461538464 |\n",
       "+------------------+-------+----------------------+\n",
       "| 'Virgin records' |     1 | 0.038461538461538464 |\n",
       "+------------------+-------+----------------------+\n",
       "| 'BMG'            |     1 | 0.038461538461538464 |\n",
       "+------------------+-------+----------------------+\n",
       "| 'CBS'            |     1 | 0.038461538461538464 |\n",
       "+------------------+-------+----------------------+\n",
       "| 'Pickwick'       |     1 | 0.038461538461538464 |\n",
       "+------------------+-------+----------------------+\n",
       "| 'Mega'           |     1 | 0.038461538461538464 |\n",
       "+------------------+-------+----------------------+\n",
       "| 'Grammy'         |     1 | 0.038461538461538464 |\n",
       "+------------------+-------+----------------------+\n",
       "| 'Mucik Master'   |     1 | 0.038461538461538464 |\n",
       "+------------------+-------+----------------------+\n",
       "| 'WEA'            |     1 | 0.038461538461538464 |\n",
       "+------------------+-------+----------------------+\n",
       "| 'Island'         |     1 | 0.038461538461538464 |\n",
       "+------------------+-------+----------------------+\n",
       "| 'A and M'        |     1 | 0.038461538461538464 |\n",
       "+------------------+-------+----------------------+\n",
       "| 'Siren'          |     1 | 0.038461538461538464 |\n",
       "+------------------+-------+----------------------+\n",
       "| 'Capitol'        |     1 | 0.038461538461538464 |\n",
       "+------------------+-------+----------------------+\n",
       "| 'Medley'         |     1 | 0.038461538461538464 |\n",
       "+------------------+-------+----------------------+\n",
       "| 'DECCA'          |     1 | 0.038461538461538464 |\n",
       "+------------------+-------+----------------------+\n",
       "| 'Elektra'        |     1 | 0.038461538461538464 |\n",
       "+------------------+-------+----------------------+\n",
       "| 'London'         |     1 | 0.038461538461538464 |\n",
       "+------------------+-------+----------------------+\n",
       "| 'EMI'            |     1 | 0.038461538461538464 |\n",
       "+------------------+-------+----------------------+"
      ]
     },
     "execution_count": 55,
     "metadata": {},
     "output_type": "execute_result"
    }
   ],
   "source": [
    "etl.valuecounts(catalogo, 'cia').lookall()"
   ]
  }
 ],
 "metadata": {
  "kernelspec": {
   "display_name": "Python 3",
   "language": "python",
   "name": "python3"
  },
  "language_info": {
   "codemirror_mode": {
    "name": "ipython",
    "version": 3
   },
   "file_extension": ".py",
   "mimetype": "text/x-python",
   "name": "python",
   "nbconvert_exporter": "python",
   "pygments_lexer": "ipython3",
   "version": "3.7.11"
  }
 },
 "nbformat": 4,
 "nbformat_minor": 2
}
