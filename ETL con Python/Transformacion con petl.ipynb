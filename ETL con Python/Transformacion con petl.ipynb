{
 "cells": [
  {
   "cell_type": "markdown",
   "metadata": {},
   "source": [
    "# Transformación con petl"
   ]
  },
  {
   "cell_type": "markdown",
   "metadata": {},
   "source": [
    "![Actividades ETL](./img/etl_actividades.svg)"
   ]
  },
  {
   "cell_type": "markdown",
   "metadata": {},
   "source": [
    "## Librería petl\n",
    "\n",
    "- [petl](https://petl.readthedocs.io/en/stable/index.html) es un paquete de propósito general para la extracción, transformación y carga de tablas de datos.\n",
    "- Diseñado especialmente para trabajar __datos desconocidos, heterogéneos y/o de calidad mixta__.\n",
    "- __No tiene dependencias__ que no sean módulos propios del nucleo de Python.\n",
    "- Las _pipelines_ (transformaciones de flujo de datos en un proceso comprendido por varias fases secuenciales) hacen __uso mínimo de la memoria del sistema__ y pueden __escalar a millones de filas si la velocidad no es una prioridad__.\n",
    "- En general, __los flujos de trabajo no se ejecutan hasta que se soliciten los datos__.\n",
    "- Soporta programación funcional y orientada a objetos.\n",
    "-  [Otras alternativas para diseñar procesos ETL](https://petl.readthedocs.io/en/stable/related_work.html)\n",
    "\n",
    "[Instalación de la librería petl](https://petl.readthedocs.io/en/stable/intro.html#installation)"
   ]
  },
  {
   "cell_type": "markdown",
   "metadata": {},
   "source": [
    "## Conversión de valores\n",
    "\n",
    "La función `.convert()` permite __convertir valores invocando funciones__ y los campos afectos como un diccionario. \n",
    "\n",
    "Por ejemplo, valores de una columnas desde `str` a `float`:"
   ]
  },
  {
   "cell_type": "code",
   "execution_count": 1,
   "metadata": {},
   "outputs": [
    {
     "data": {
      "text/plain": [
       "+--------------+-----------+\n",
       "| Fecha        | Nivel (m) |\n",
       "+==============+===========+\n",
       "| '2012-01-23' |     64.59 |\n",
       "+--------------+-----------+\n",
       "| '2012-05-23' |     64.79 |\n",
       "+--------------+-----------+\n",
       "| '2012-07-30' |     64.35 |\n",
       "+--------------+-----------+\n",
       "| '2012-09-10' |     64.77 |\n",
       "+--------------+-----------+\n",
       "| '2012-11-15' |     68.05 |\n",
       "+--------------+-----------+\n",
       "..."
      ]
     },
     "execution_count": 1,
     "metadata": {},
     "output_type": "execute_result"
    }
   ],
   "source": [
    "import petl as etl\n",
    "\n",
    "niveles = etl.fromxlsx('./dataset/niveles.xlsx')\n",
    "niveles.look()"
   ]
  },
  {
   "cell_type": "code",
   "execution_count": 3,
   "metadata": {},
   "outputs": [
    {
     "data": {
      "text/plain": [
       "float"
      ]
     },
     "execution_count": 3,
     "metadata": {},
     "output_type": "execute_result"
    }
   ],
   "source": [
    "type(niveles[1][1])"
   ]
  },
  {
   "cell_type": "code",
   "execution_count": 5,
   "metadata": {},
   "outputs": [
    {
     "data": {
      "text/plain": [
       "+--------------+-----------+\n",
       "| Fecha        | Nivel (m) |\n",
       "+==============+===========+\n",
       "| '2012-01-23' |        64 |\n",
       "+--------------+-----------+\n",
       "| '2012-05-23' |        64 |\n",
       "+--------------+-----------+\n",
       "| '2012-07-30' |        64 |\n",
       "+--------------+-----------+\n",
       "| '2012-09-10' |        64 |\n",
       "+--------------+-----------+\n",
       "| '2012-11-15' |        68 |\n",
       "+--------------+-----------+\n",
       "..."
      ]
     },
     "execution_count": 5,
     "metadata": {},
     "output_type": "execute_result"
    }
   ],
   "source": [
    "n_niveles = etl.convert(niveles, {'Nivel (m)': int})\n",
    "n_niveles.look()"
   ]
  },
  {
   "cell_type": "code",
   "execution_count": 6,
   "metadata": {},
   "outputs": [
    {
     "data": {
      "text/plain": [
       "int"
      ]
     },
     "execution_count": 6,
     "metadata": {},
     "output_type": "execute_result"
    }
   ],
   "source": [
    "type(n_niveles[1][1])"
   ]
  },
  {
   "cell_type": "markdown",
   "metadata": {},
   "source": [
    "También se permite la __sustitución de valores__ invocando los valores como un diccionario cuyo conjunto `key:value` corresponde al origen y destino, respectivamente."
   ]
  },
  {
   "cell_type": "code",
   "execution_count": 7,
   "metadata": {},
   "outputs": [
    {
     "data": {
      "text/plain": [
       "+----------+----------------+------+-----------------+--------+-------------+\n",
       "| nombre   | segundo_nombre | edad | ciudad          | casado | telefono    |\n",
       "+==========+================+======+=================+========+=============+\n",
       "| 'Juan'   | None           |   30 | 'Metropolitana' | True   | '987654321' |\n",
       "+----------+----------------+------+-----------------+--------+-------------+\n",
       "| 'Sandra' | 'Ariel'        |   24 | 'Biobio'        | False  | '123456789' |\n",
       "+----------+----------------+------+-----------------+--------+-------------+"
      ]
     },
     "execution_count": 7,
     "metadata": {},
     "output_type": "execute_result"
    }
   ],
   "source": [
    "empleados = etl.fromjson('./dataset/empleados.json')\n",
    "empleados_1 = etl.convert(empleados, 'ciudad', {'Santiago': 'Metropolitana', 'Concepción': 'Biobio'})\n",
    "empleados_1.look()"
   ]
  },
  {
   "cell_type": "markdown",
   "metadata": {},
   "source": [
    "Otras [alternativas de conversión de valores](https://petl.readthedocs.io/en/stable/transform.html#converting-values):\n",
    "- Conversión pasando el método y sus parámetros.\n",
    "- Conversión condicional.\n",
    "- Conversión accediendo a datos de la misma fila.\n",
    "- Conversión de todo a número.\n",
    "- Conversión por interpolación.\n",
    "- ..."
   ]
  },
  {
   "cell_type": "markdown",
   "metadata": {},
   "source": [
    "## Filtros y búsqueda"
   ]
  },
  {
   "cell_type": "markdown",
   "metadata": {},
   "source": [
    "El segundo argumento de la función `.select()` puede ser una expresión con forma de condición, expresado como un literal de tipo `str`."
   ]
  },
  {
   "cell_type": "code",
   "execution_count": 8,
   "metadata": {
    "scrolled": false
   },
   "outputs": [
    {
     "data": {
      "text/plain": [
       "+--------------+-----------+\n",
       "| Fecha        | Nivel (m) |\n",
       "+==============+===========+\n",
       "| '2012-01-23' |     64.59 |\n",
       "+--------------+-----------+\n",
       "| '2012-05-23' |     64.79 |\n",
       "+--------------+-----------+\n",
       "| '2012-07-30' |     64.35 |\n",
       "+--------------+-----------+\n",
       "| '2012-09-10' |     64.77 |\n",
       "+--------------+-----------+\n",
       "| '2012-11-15' |     68.05 |\n",
       "+--------------+-----------+"
      ]
     },
     "execution_count": 8,
     "metadata": {},
     "output_type": "execute_result"
    }
   ],
   "source": [
    "niveles_2012 = etl.select(niveles, \"{Fecha}>'2012' and {Fecha}<'2013'\")\n",
    "niveles_2012.lookall()"
   ]
  },
  {
   "cell_type": "code",
   "execution_count": 9,
   "metadata": {},
   "outputs": [
    {
     "data": {
      "text/plain": [
       "+--------------+-----------+\n",
       "| Fecha        | Nivel (m) |\n",
       "+==============+===========+\n",
       "| '2012-01-23' |     64.59 |\n",
       "+--------------+-----------+\n",
       "| '2012-05-23' |     64.79 |\n",
       "+--------------+-----------+\n",
       "| '2012-07-30' |     64.35 |\n",
       "+--------------+-----------+\n",
       "| '2012-09-10' |     64.77 |\n",
       "+--------------+-----------+\n",
       "| '2012-11-15' |     68.05 |\n",
       "+--------------+-----------+\n",
       "| '2013-03-14' |     73.33 |\n",
       "+--------------+-----------+\n",
       "| '2013-05-16' |     75.19 |\n",
       "+--------------+-----------+\n",
       "| '2013-07-29' | None      |\n",
       "+--------------+-----------+\n",
       "| '2013-09-11' |     72.68 |\n",
       "+--------------+-----------+\n",
       "| '2014-03-27' |     85.12 |\n",
       "+--------------+-----------+\n",
       "| '2014-05-22' |     83.77 |\n",
       "+--------------+-----------+\n",
       "| '2014-07-25' |     86.19 |\n",
       "+--------------+-----------+\n",
       "| '2014-09-30' |     88.57 |\n",
       "+--------------+-----------+\n",
       "| '2014-11-25' | None      |\n",
       "+--------------+-----------+\n",
       "| '2015-05-22' |    102.14 |\n",
       "+--------------+-----------+"
      ]
     },
     "execution_count": 9,
     "metadata": {},
     "output_type": "execute_result"
    }
   ],
   "source": [
    "niveles.lookall()"
   ]
  },
  {
   "cell_type": "code",
   "execution_count": 10,
   "metadata": {},
   "outputs": [
    {
     "data": {
      "text/plain": [
       "+--------------+-----------+\n",
       "| Fecha        | Nivel (m) |\n",
       "+==============+===========+\n",
       "| '2012-01-23' |     64.59 |\n",
       "+--------------+-----------+\n",
       "| '2012-05-23' |     64.79 |\n",
       "+--------------+-----------+\n",
       "| '2012-07-30' |     64.35 |\n",
       "+--------------+-----------+\n",
       "| '2012-09-10' |     64.77 |\n",
       "+--------------+-----------+\n",
       "| '2012-11-15' |     68.05 |\n",
       "+--------------+-----------+\n",
       "| '2013-05-16' |     75.19 |\n",
       "+--------------+-----------+\n",
       "| '2013-07-29' | None      |\n",
       "+--------------+-----------+\n",
       "| '2013-09-11' |     72.68 |\n",
       "+--------------+-----------+\n",
       "| '2014-03-27' |     85.12 |\n",
       "+--------------+-----------+\n",
       "| '2014-05-22' |     83.77 |\n",
       "+--------------+-----------+\n",
       "| '2014-07-25' |     86.19 |\n",
       "+--------------+-----------+\n",
       "| '2014-09-30' |     88.57 |\n",
       "+--------------+-----------+\n",
       "| '2014-11-25' | None      |\n",
       "+--------------+-----------+\n",
       "| '2015-05-22' |    102.14 |\n",
       "+--------------+-----------+"
      ]
     },
     "execution_count": 10,
     "metadata": {},
     "output_type": "execute_result"
    }
   ],
   "source": [
    "filtro_73 = etl.select(niveles, \"{Nivel (m)} != 73.33\") # ! =\n",
    "filtro_73.lookall()"
   ]
  },
  {
   "cell_type": "markdown",
   "metadata": {},
   "source": [
    "Es posible __mapear campos de valores de una tabla en un diccionario__. La función `.facet()` recibe como segundo argumento la columna que será mapeada como claves del diccionario."
   ]
  },
  {
   "cell_type": "code",
   "execution_count": 11,
   "metadata": {},
   "outputs": [
    {
     "data": {
      "text/plain": [
       "+----------+----------------+------+--------------+--------+-------------+\n",
       "| nombre   | segundo_nombre | edad | ciudad       | casado | telefono    |\n",
       "+==========+================+======+==============+========+=============+\n",
       "| 'Juan'   | None           |   30 | 'Santiago'   | True   | '987654321' |\n",
       "+----------+----------------+------+--------------+--------+-------------+\n",
       "| 'Sandra' | 'Ariel'        |   24 | 'Concepción' | False  | '123456789' |\n",
       "+----------+----------------+------+--------------+--------+-------------+"
      ]
     },
     "execution_count": 11,
     "metadata": {},
     "output_type": "execute_result"
    }
   ],
   "source": [
    "empleados.look()"
   ]
  },
  {
   "cell_type": "code",
   "execution_count": 13,
   "metadata": {},
   "outputs": [
    {
     "data": {
      "text/plain": [
       "dict_keys(['Sandra', 'Juan'])"
      ]
     },
     "execution_count": 13,
     "metadata": {},
     "output_type": "execute_result"
    }
   ],
   "source": [
    "nombre = etl.facet(empleados, 'nombre')\n",
    "nombre.keys()"
   ]
  },
  {
   "cell_type": "code",
   "execution_count": 17,
   "metadata": {},
   "outputs": [
    {
     "data": {
      "text/plain": [
       "+--------+----------------+------+------------+--------+-------------+\n",
       "| nombre | segundo_nombre | edad | ciudad     | casado | telefono    |\n",
       "+========+================+======+============+========+=============+\n",
       "| 'Juan' | None           |   30 | 'Santiago' | True   | '987654321' |\n",
       "+--------+----------------+------+------------+--------+-------------+"
      ]
     },
     "execution_count": 17,
     "metadata": {},
     "output_type": "execute_result"
    }
   ],
   "source": [
    "nombre['Juan'].look()"
   ]
  },
  {
   "cell_type": "markdown",
   "metadata": {},
   "source": [
    "## Uso de expresiones regulares"
   ]
  },
  {
   "cell_type": "markdown",
   "metadata": {},
   "source": [
    "A partir de [expresiones regulares](https://docs.python.org/3/library/re.html#regular-expression-syntax) se realiza una busqueda de valores y __retorna las filas que coinciden con un patrón__."
   ]
  },
  {
   "cell_type": "code",
   "execution_count": 18,
   "metadata": {},
   "outputs": [
    {
     "data": {
      "text/plain": [
       "+--------------------------------------+\n",
       "| Referencia Geográfica                |\n",
       "+======================================+\n",
       "| '73 km al SE de Socaire'             |\n",
       "+--------------------------------------+\n",
       "| '60 km al O de San Pedro de Atacama' |\n",
       "+--------------------------------------+\n",
       "| '43 km al NE de Calama'              |\n",
       "+--------------------------------------+\n",
       "| '76 km al N de Huasco'               |\n",
       "+--------------------------------------+\n",
       "| '42 km al O de La Ligua'             |\n",
       "+--------------------------------------+\n",
       "..."
      ]
     },
     "execution_count": 18,
     "metadata": {},
     "output_type": "execute_result"
    }
   ],
   "source": [
    "import pandas as pd\n",
    "\n",
    "url = 'http://www.sismologia.cl/ultimos_sismos.html'\n",
    "tablas = pd.read_html(url)\n",
    "sismos_df = tablas[0]\n",
    "sismos = etl.fromdataframe(sismos_df)\n",
    "\n",
    "etl.cut(sismos, 'Referencia Geográfica').look()"
   ]
  },
  {
   "cell_type": "markdown",
   "metadata": {},
   "source": [
    "En __cualquier lugar de un registro__ (fila):"
   ]
  },
  {
   "cell_type": "code",
   "execution_count": 22,
   "metadata": {},
   "outputs": [
    {
     "data": {
      "text/plain": [
       "+-----------------------+-----------------------+---------+----------+------------------+----------+--------------------------------------+\n",
       "| Fecha Local           | Fecha UTC             | Latitud | Longitud | Profundidad [Km] | Magnitud | Referencia Geográfica                |\n",
       "+=======================+=======================+=========+==========+==================+==========+======================================+\n",
       "| '2021-10-21 07:57:27' | '2021-10-21 10:57:27' | -24.127 |  -67.484 |            221.3 | '3.9 Ml' | '73 km al SE de Socaire'             |\n",
       "+-----------------------+-----------------------+---------+----------+------------------+----------+--------------------------------------+\n",
       "| '2021-10-21 07:01:50' | '2021-10-21 10:01:50' | -23.133 |  -68.739 |            102.1 | '3.5 Ml' | '60 km al O de San Pedro de Atacama' |\n",
       "+-----------------------+-----------------------+---------+----------+------------------+----------+--------------------------------------+\n",
       "| '2021-10-21 04:31:17' | '2021-10-21 07:31:17' | -22.227 |  -68.607 |            121.6 | '3.1 Ml' | '43 km al NE de Calama'              |\n",
       "+-----------------------+-----------------------+---------+----------+------------------+----------+--------------------------------------+\n",
       "| '2021-10-21 03:40:57' | '2021-10-21 06:40:57' | -27.783 |  -71.147 |             15.1 | '2.9 Ml' | '76 km al N de Huasco'               |\n",
       "+-----------------------+-----------------------+---------+----------+------------------+----------+--------------------------------------+\n",
       "| '2021-10-21 02:58:54' | '2021-10-21 05:58:54' | -32.492 |  -71.676 |             36.4 | '3.3 Ml' | '42 km al O de La Ligua'             |\n",
       "+-----------------------+-----------------------+---------+----------+------------------+----------+--------------------------------------+\n",
       "| '2021-10-21 01:24:21' | '2021-10-21 04:24:21' | -31.675 |  -72.022 |             39.8 | '2.6 Ml' | '55 km al NO de Los Vilos'           |\n",
       "+-----------------------+-----------------------+---------+----------+------------------+----------+--------------------------------------+\n",
       "| '2021-10-20 23:42:47' | '2021-10-21 02:42:47' | -20.584 |   -69.15 |            107.9 | '3.1 Ml' | '21 km al SE de Pica'                |\n",
       "+-----------------------+-----------------------+---------+----------+------------------+----------+--------------------------------------+\n",
       "| '2021-10-20 19:52:03' | '2021-10-20 22:52:03' | -20.773 |  -69.316 |            110.6 | '2.6 Ml' | '31 km al S de Pica'                 |\n",
       "+-----------------------+-----------------------+---------+----------+------------------+----------+--------------------------------------+\n",
       "| '2021-10-20 17:56:08' | '2021-10-20 20:56:08' | -34.421 |   -73.75 |             25.3 | '2.7 Ml' | '159 km al NO de Constitución'       |\n",
       "+-----------------------+-----------------------+---------+----------+------------------+----------+--------------------------------------+\n",
       "| '2021-10-20 17:20:20' | '2021-10-20 20:20:20' | -21.989 |  -69.797 |             81.4 | '3.1 Ml' | '42 km al N de María Elena'          |\n",
       "+-----------------------+-----------------------+---------+----------+------------------+----------+--------------------------------------+\n",
       "| '2021-10-20 17:16:46' | '2021-10-20 20:16:46' | -29.776 |  -72.044 |             37.0 | '3.3 Ml' | '75 km al NO de Tongoy'              |\n",
       "+-----------------------+-----------------------+---------+----------+------------------+----------+--------------------------------------+\n",
       "| '2021-10-20 17:07:09' | '2021-10-20 20:07:09' | -20.594 |  -69.192 |            111.7 | '2.7 Ml' | '18 km al SE de Pica'                |\n",
       "+-----------------------+-----------------------+---------+----------+------------------+----------+--------------------------------------+\n",
       "| '2021-10-20 16:53:17' | '2021-10-20 19:53:17' | -29.778 |  -72.006 |             31.4 | '2.6 Ml' | '72 km al NO de Tongoy'              |\n",
       "+-----------------------+-----------------------+---------+----------+------------------+----------+--------------------------------------+\n",
       "| '2021-10-20 14:59:50' | '2021-10-20 17:59:50' | -22.112 |  -68.721 |            116.5 | '3.1 Ml' | '45 km al NE de Calama'              |\n",
       "+-----------------------+-----------------------+---------+----------+------------------+----------+--------------------------------------+\n",
       "| '2021-10-20 11:36:34' | '2021-10-20 14:36:34' | -31.111 |  -72.472 |             33.0 | '2.9 Ml' | '102 km al O de Canela Baja'         |\n",
       "+-----------------------+-----------------------+---------+----------+------------------+----------+--------------------------------------+"
      ]
     },
     "execution_count": 22,
     "metadata": {},
     "output_type": "execute_result"
    }
   ],
   "source": [
    "sismos.lookall()"
   ]
  },
  {
   "cell_type": "code",
   "execution_count": 21,
   "metadata": {
    "scrolled": true
   },
   "outputs": [
    {
     "data": {
      "text/html": [
       "<table class='petl'>\n",
       "<thead>\n",
       "<tr>\n",
       "<th>Fecha Local</th>\n",
       "<th>Fecha UTC</th>\n",
       "<th>Latitud</th>\n",
       "<th>Longitud</th>\n",
       "<th>Profundidad [Km]</th>\n",
       "<th>Magnitud</th>\n",
       "<th>Referencia Geográfica</th>\n",
       "</tr>\n",
       "</thead>\n",
       "<tbody>\n",
       "<tr>\n",
       "<td>2021-10-21 07:01:50</td>\n",
       "<td>2021-10-21 10:01:50</td>\n",
       "<td style='text-align: right'>-23.133</td>\n",
       "<td style='text-align: right'>-68.739</td>\n",
       "<td style='text-align: right'>102.1</td>\n",
       "<td>3.5 Ml</td>\n",
       "<td>60 km al O de San Pedro de Atacama</td>\n",
       "</tr>\n",
       "<tr>\n",
       "<td>2021-10-21 04:31:17</td>\n",
       "<td>2021-10-21 07:31:17</td>\n",
       "<td style='text-align: right'>-22.227</td>\n",
       "<td style='text-align: right'>-68.607</td>\n",
       "<td style='text-align: right'>121.6</td>\n",
       "<td>3.1 Ml</td>\n",
       "<td>43 km al NE de Calama</td>\n",
       "</tr>\n",
       "<tr>\n",
       "<td>2021-10-20 14:59:50</td>\n",
       "<td>2021-10-20 17:59:50</td>\n",
       "<td style='text-align: right'>-22.112</td>\n",
       "<td style='text-align: right'>-68.721</td>\n",
       "<td style='text-align: right'>116.5</td>\n",
       "<td>3.1 Ml</td>\n",
       "<td>45 km al NE de Calama</td>\n",
       "</tr>\n",
       "</tbody>\n",
       "</table>\n"
      ],
      "text/plain": [
       "+-----------------------+-----------------------+---------+----------+------------------+----------+--------------------------------------+\n",
       "| Fecha Local           | Fecha UTC             | Latitud | Longitud | Profundidad [Km] | Magnitud | Referencia Geográfica                |\n",
       "+=======================+=======================+=========+==========+==================+==========+======================================+\n",
       "| '2021-10-21 07:01:50' | '2021-10-21 10:01:50' | -23.133 |  -68.739 |            102.1 | '3.5 Ml' | '60 km al O de San Pedro de Atacama' |\n",
       "+-----------------------+-----------------------+---------+----------+------------------+----------+--------------------------------------+\n",
       "| '2021-10-21 04:31:17' | '2021-10-21 07:31:17' | -22.227 |  -68.607 |            121.6 | '3.1 Ml' | '43 km al NE de Calama'              |\n",
       "+-----------------------+-----------------------+---------+----------+------------------+----------+--------------------------------------+\n",
       "| '2021-10-20 14:59:50' | '2021-10-20 17:59:50' | -22.112 |  -68.721 |            116.5 | '3.1 Ml' | '45 km al NE de Calama'              |\n",
       "+-----------------------+-----------------------+---------+----------+------------------+----------+--------------------------------------+"
      ]
     },
     "execution_count": 21,
     "metadata": {},
     "output_type": "execute_result"
    }
   ],
   "source": [
    "sismos_68 = etl.search(sismos, '68')\n",
    "sismos_68"
   ]
  },
  {
   "cell_type": "markdown",
   "metadata": {},
   "source": [
    "Dentro de __un campo específico__:"
   ]
  },
  {
   "cell_type": "code",
   "execution_count": 32,
   "metadata": {
    "scrolled": false
   },
   "outputs": [
    {
     "data": {
      "text/plain": [
       "+----------+-------------------------+\n",
       "| Magnitud | Referencia Geográfica   |\n",
       "+==========+=========================+\n",
       "| '3.3 Ml' | '75 km al NO de Tongoy' |\n",
       "+----------+-------------------------+\n",
       "| '2.6 Ml' | '72 km al NO de Tongoy' |\n",
       "+----------+-------------------------+"
      ]
     },
     "execution_count": 32,
     "metadata": {},
     "output_type": "execute_result"
    }
   ],
   "source": [
    "sismos_tongoy = etl.search(sismos, 'Referencia Geográfica', 'Tongoy')\n",
    "sismos_tongoy.cut('Magnitud', 'Referencia Geográfica').look()"
   ]
  },
  {
   "cell_type": "markdown",
   "metadata": {},
   "source": [
    "### Ordenamiento\n",
    "\n",
    "Por defecto, la función `.sort()` realiza sobre una tabla un ordenamiento léxico:"
   ]
  },
  {
   "cell_type": "code",
   "execution_count": 25,
   "metadata": {},
   "outputs": [
    {
     "data": {
      "text/plain": [
       "+-------------------+------------------+-------+\n",
       "| artista           | cia              | pais  |\n",
       "+===================+==================+=======+\n",
       "| 'Bob Dylan'       | 'Columbia'       | 'USA' |\n",
       "+-------------------+------------------+-------+\n",
       "| 'Bonnie Tyler'    | 'CBS Records'    | 'UK'  |\n",
       "+-------------------+------------------+-------+\n",
       "| 'Dolly Parton'    | 'RCA'            | 'USA' |\n",
       "+-------------------+------------------+-------+\n",
       "| 'Gary Moore'      | 'Virgin records' | 'UK'  |\n",
       "+-------------------+------------------+-------+\n",
       "| 'Eros Ramazzotti' | 'BMG'            | 'EU'  |\n",
       "+-------------------+------------------+-------+\n",
       "..."
      ]
     },
     "execution_count": 25,
     "metadata": {},
     "output_type": "execute_result"
    }
   ],
   "source": [
    "catalogo = etl.fromxml('./dataset/cd_catalog.xml', 'CD', \n",
    "                       {'cia': 'COMPANY', 'artista': 'ARTIST', 'pais': 'COUNTRY'})\n",
    "catalogo.look()"
   ]
  },
  {
   "cell_type": "code",
   "execution_count": 27,
   "metadata": {},
   "outputs": [
    {
     "data": {
      "text/plain": [
       "+---------------------+------------------+----------+\n",
       "| artista             | cia              | pais     |\n",
       "+=====================+==================+==========+\n",
       "| 'Will Smith'        | 'Columbia'       | 'USA'    |\n",
       "+---------------------+------------------+----------+\n",
       "| 'Van Morrison'      | 'Polydor'        | 'UK'     |\n",
       "+---------------------+------------------+----------+\n",
       "| 'Tina Turner'       | 'Capitol'        | 'UK'     |\n",
       "+---------------------+------------------+----------+\n",
       "| 'The Communards'    | 'London'         | 'UK'     |\n",
       "+---------------------+------------------+----------+\n",
       "| \"T'Pau\"             | 'Siren'          | 'UK'     |\n",
       "+---------------------+------------------+----------+\n",
       "| 'Simply Red'        | 'Elektra'        | 'EU'     |\n",
       "+---------------------+------------------+----------+\n",
       "| 'Savage Rose'       | 'Mega'           | 'EU'     |\n",
       "+---------------------+------------------+----------+\n",
       "| 'Sam Brown'         | 'A and M'        | 'UK'     |\n",
       "+---------------------+------------------+----------+\n",
       "| 'Rod Stewart'       | 'Pickwick'       | 'UK'     |\n",
       "+---------------------+------------------+----------+\n",
       "| 'Percy Sledge'      | 'Atlantic'       | 'USA'    |\n",
       "+---------------------+------------------+----------+\n",
       "| 'Otis Redding'      | 'Atlantic'       | 'USA'    |\n",
       "+---------------------+------------------+----------+\n",
       "| 'Many'              | 'Grammy'         | 'USA'    |\n",
       "+---------------------+------------------+----------+\n",
       "| 'Luciano Pavarotti' | 'DECCA'          | 'UK'     |\n",
       "+---------------------+------------------+----------+\n",
       "| 'Kim Larsen'        | 'Medley'         | 'EU'     |\n",
       "+---------------------+------------------+----------+\n",
       "| 'Kenny Rogers'      | 'Mucik Master'   | 'UK'     |\n",
       "+---------------------+------------------+----------+\n",
       "| 'Jorn Hoel'         | 'WEA'            | 'Norway' |\n",
       "+---------------------+------------------+----------+\n",
       "| 'Joe Cocker'        | 'EMI'            | 'USA'    |\n",
       "+---------------------+------------------+----------+\n",
       "| 'Gary Moore'        | 'Virgin records' | 'UK'     |\n",
       "+---------------------+------------------+----------+\n",
       "| 'Eros Ramazzotti'   | 'BMG'            | 'EU'     |\n",
       "+---------------------+------------------+----------+\n",
       "| 'Dr.Hook'           | 'CBS'            | 'UK'     |\n",
       "+---------------------+------------------+----------+\n",
       "| 'Dolly Parton'      | 'RCA'            | 'USA'    |\n",
       "+---------------------+------------------+----------+\n",
       "| 'Cat Stevens'       | 'Island'         | 'UK'     |\n",
       "+---------------------+------------------+----------+\n",
       "| 'Bonnie Tyler'      | 'CBS Records'    | 'UK'     |\n",
       "+---------------------+------------------+----------+\n",
       "| 'Bob Dylan'         | 'Columbia'       | 'USA'    |\n",
       "+---------------------+------------------+----------+\n",
       "| 'Bee Gees'          | 'Polydor'        | 'UK'     |\n",
       "+---------------------+------------------+----------+\n",
       "| 'Andrea Bocelli'    | 'Polydor'        | 'EU'     |\n",
       "+---------------------+------------------+----------+"
      ]
     },
     "execution_count": 27,
     "metadata": {},
     "output_type": "execute_result"
    }
   ],
   "source": [
    "catalogo_ordenado = etl.sort(catalogo, reverse=True)\n",
    "etl.lookall(catalogo_ordenado)"
   ]
  },
  {
   "cell_type": "markdown",
   "metadata": {},
   "source": [
    "Ingresando como argumento el nombre de __uno o más campos__:\n",
    "- El parámetro `reverse=True` permite ejecutar un ordenamiento en sentido contrario."
   ]
  },
  {
   "cell_type": "code",
   "execution_count": 29,
   "metadata": {
    "scrolled": true
   },
   "outputs": [
    {
     "data": {
      "text/plain": [
       "+----------+--------------------------------+\n",
       "| Magnitud | Referencia Geográfica          |\n",
       "+==========+================================+\n",
       "| '2.6 Ml' | '55 km al NO de Los Vilos'     |\n",
       "+----------+--------------------------------+\n",
       "| '2.6 Ml' | '31 km al S de Pica'           |\n",
       "+----------+--------------------------------+\n",
       "| '2.6 Ml' | '72 km al NO de Tongoy'        |\n",
       "+----------+--------------------------------+\n",
       "| '2.7 Ml' | '159 km al NO de Constitución' |\n",
       "+----------+--------------------------------+\n",
       "| '2.7 Ml' | '18 km al SE de Pica'          |\n",
       "+----------+--------------------------------+\n",
       "..."
      ]
     },
     "execution_count": 29,
     "metadata": {},
     "output_type": "execute_result"
    }
   ],
   "source": [
    "sismos_ordenados = etl.sort(sismos, key=['Magnitud'], reverse=False)\n",
    "sismos_ordenados.cut('Magnitud', 'Referencia Geográfica').look()"
   ]
  },
  {
   "cell_type": "markdown",
   "metadata": {},
   "source": [
    "También es posible __comprobar el ordenamiento de una tabla__:"
   ]
  },
  {
   "cell_type": "code",
   "execution_count": 31,
   "metadata": {
    "scrolled": true
   },
   "outputs": [
    {
     "data": {
      "text/plain": [
       "True"
      ]
     },
     "execution_count": 31,
     "metadata": {},
     "output_type": "execute_result"
    }
   ],
   "source": [
    "etl.issorted(sismos_ordenados, key='Magnitud')"
   ]
  },
  {
   "cell_type": "markdown",
   "metadata": {},
   "source": [
    "Otras operaciones de transformación:\n",
    "- `mergesort()`\n",
    "- `join()`\n",
    "- `unjoin()` (split)\n",
    "- `duplicates()`\n",
    "- `unique()`\n",
    "- `aggregate()`\n",
    "- `reshape()`\n",
    "- `transpose()`\n",
    "- `pivot()`\n",
    "- `fill...()`\n"
   ]
  },
  {
   "cell_type": "markdown",
   "metadata": {},
   "source": [
    "## Extras\n",
    "\n",
    "Encontrar __mínimo y máximo__:"
   ]
  },
  {
   "cell_type": "code",
   "execution_count": 33,
   "metadata": {},
   "outputs": [
    {
     "name": "stdout",
     "output_type": "stream",
     "text": [
      "Máx: 3.9 Ml\n",
      "Mín: 2.6 Ml\n"
     ]
    }
   ],
   "source": [
    "mn, mx = etl.limits(sismos, 'Magnitud')\n",
    "print('Máx: {}\\nMín: {}'.format(mx, mn))"
   ]
  },
  {
   "cell_type": "markdown",
   "metadata": {},
   "source": [
    "Algunos __estadísticos básicos__:"
   ]
  },
  {
   "cell_type": "code",
   "execution_count": 34,
   "metadata": {},
   "outputs": [
    {
     "data": {
      "text/plain": [
       "stats(count=13, errors=2, sum=993.5399999999998, min=64.35, max=102.14, mean=76.42615384615385, pvariance=129.69419289940822, pstdev=11.388335826599434)"
      ]
     },
     "execution_count": 34,
     "metadata": {},
     "output_type": "execute_result"
    }
   ],
   "source": [
    "estadisticos_niveles = etl.stats(niveles, 'Nivel (m)')\n",
    "estadisticos_niveles"
   ]
  },
  {
   "cell_type": "code",
   "execution_count": 37,
   "metadata": {},
   "outputs": [
    {
     "name": "stdout",
     "output_type": "stream",
     "text": [
      "13\n",
      "2\n",
      "993.5399999999998\n",
      "64.35\n",
      "102.14\n",
      "76.42615384615385\n",
      "129.69419289940822\n",
      "11.388335826599434\n"
     ]
    }
   ],
   "source": [
    "for estadistico in estadisticos_niveles:\n",
    "    print(estadistico)"
   ]
  },
  {
   "cell_type": "markdown",
   "metadata": {},
   "source": [
    "__Contar valores__:"
   ]
  },
  {
   "cell_type": "code",
   "execution_count": 55,
   "metadata": {},
   "outputs": [
    {
     "data": {
      "text/plain": [
       "+------------------+-------+----------------------+\n",
       "| cia              | count | frequency            |\n",
       "+==================+=======+======================+\n",
       "| 'Polydor'        |     3 |  0.11538461538461539 |\n",
       "+------------------+-------+----------------------+\n",
       "| 'Columbia'       |     2 |  0.07692307692307693 |\n",
       "+------------------+-------+----------------------+\n",
       "| 'Atlantic'       |     2 |  0.07692307692307693 |\n",
       "+------------------+-------+----------------------+\n",
       "| 'CBS Records'    |     1 | 0.038461538461538464 |\n",
       "+------------------+-------+----------------------+\n",
       "| 'RCA'            |     1 | 0.038461538461538464 |\n",
       "+------------------+-------+----------------------+\n",
       "| 'Virgin records' |     1 | 0.038461538461538464 |\n",
       "+------------------+-------+----------------------+\n",
       "| 'BMG'            |     1 | 0.038461538461538464 |\n",
       "+------------------+-------+----------------------+\n",
       "| 'CBS'            |     1 | 0.038461538461538464 |\n",
       "+------------------+-------+----------------------+\n",
       "| 'Pickwick'       |     1 | 0.038461538461538464 |\n",
       "+------------------+-------+----------------------+\n",
       "| 'Mega'           |     1 | 0.038461538461538464 |\n",
       "+------------------+-------+----------------------+\n",
       "| 'Grammy'         |     1 | 0.038461538461538464 |\n",
       "+------------------+-------+----------------------+\n",
       "| 'Mucik Master'   |     1 | 0.038461538461538464 |\n",
       "+------------------+-------+----------------------+\n",
       "| 'WEA'            |     1 | 0.038461538461538464 |\n",
       "+------------------+-------+----------------------+\n",
       "| 'Island'         |     1 | 0.038461538461538464 |\n",
       "+------------------+-------+----------------------+\n",
       "| 'A and M'        |     1 | 0.038461538461538464 |\n",
       "+------------------+-------+----------------------+\n",
       "| 'Siren'          |     1 | 0.038461538461538464 |\n",
       "+------------------+-------+----------------------+\n",
       "| 'Capitol'        |     1 | 0.038461538461538464 |\n",
       "+------------------+-------+----------------------+\n",
       "| 'Medley'         |     1 | 0.038461538461538464 |\n",
       "+------------------+-------+----------------------+\n",
       "| 'DECCA'          |     1 | 0.038461538461538464 |\n",
       "+------------------+-------+----------------------+\n",
       "| 'Elektra'        |     1 | 0.038461538461538464 |\n",
       "+------------------+-------+----------------------+\n",
       "| 'London'         |     1 | 0.038461538461538464 |\n",
       "+------------------+-------+----------------------+\n",
       "| 'EMI'            |     1 | 0.038461538461538464 |\n",
       "+------------------+-------+----------------------+"
      ]
     },
     "execution_count": 55,
     "metadata": {},
     "output_type": "execute_result"
    }
   ],
   "source": [
    "etl.valuecounts(catalogo, 'cia').lookall()"
   ]
  }
 ],
 "metadata": {
  "kernelspec": {
   "display_name": "Python 3",
   "language": "python",
   "name": "python3"
  },
  "language_info": {
   "codemirror_mode": {
    "name": "ipython",
    "version": 3
   },
   "file_extension": ".py",
   "mimetype": "text/x-python",
   "name": "python",
   "nbconvert_exporter": "python",
   "pygments_lexer": "ipython3",
   "version": "3.7.11"
  }
 },
 "nbformat": 4,
 "nbformat_minor": 2
}
