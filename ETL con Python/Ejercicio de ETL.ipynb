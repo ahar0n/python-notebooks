{
 "cells": [
  {
   "cell_type": "markdown",
   "metadata": {},
   "source": [
    "# Ejercicio de ETL"
   ]
  },
  {
   "cell_type": "markdown",
   "metadata": {},
   "source": [
    "## Contexto \n",
    "\n",
    "\n",
    "Durante la operación normal de una empresa comercializadora de productos importados, se registran en una base de datos transaccional los pedidos realizados por sus clientes. \n",
    "\n",
    "Para efectos de registrar el historial de sus ventas de la empresa, cada cierto tiempo (no necesarimente a un intervalo regular), en cada sucursal se generan ficheros de datos XML que registran la información de los pedidos de las ventas que se realizaron en dicho periodo. Esto, se realiza para efectos limitar el acceso a información sensible de la empresa y sus clientes.\n",
    "\n",
    "Cada fichero XML almacena el siguiente contenido:\n",
    "\n",
    "- Información del fichero contenida en la etiqueta `<header></header>`\n",
    "- Datos de cada pedido contenidos en la etiqueta `<pedido></pedido>`\n",
    "- Detalles de cada pedidio contenidos en la etiqueta `<pedido><detalle></detalle></pedido>`"
   ]
  },
  {
   "cell_type": "markdown",
   "metadata": {},
   "source": [
    "## Requerimiento\n",
    "\n",
    "Se requiere diseñar e implementar un sistema de procesamiento de datos (ETL), cuyo flujo de trabajo incorpore las siguientes actividades y procesos,\n",
    "\n",
    "- Extraer los datos desde su fuente (fichero XML).\n",
    "- Formatear los datos.\n",
    "- Insertar los datos requeridos de los pedidos en la base de datos __ventas__.\n",
    "- Registrar los resultados del procesamiento en una base de datos denominada __control__, la cual contiene la tabla __proceso__, que mantienen un registro actializado de la ejecución de los procesos de extracción de datos. Esta tabla registrar a lo menos, la identificación de los ficheros procesados, la fecha del procesamiento y el estado del procesamiento, es decir, registrar si los datos se procesaron exitosamente o no."
   ]
  },
  {
   "cell_type": "markdown",
   "metadata": {},
   "source": [
    "<figure>\n",
    "<img src=\"./img/db_ventas.png\" width=\"700px\">\n",
    "<figcaption>Fig. 1 - ERD base de datos <strong>ventas</strong></figcaption>\n",
    "</figure>"
   ]
  },
  {
   "cell_type": "markdown",
   "metadata": {},
   "source": [
    "## Instrucciones\n",
    "\n",
    "1. Formar grupos de 2 estudiantes.\n",
    "1. Implementar en Python las tareas del flujo. Para esto debe usar un enfoque funcional de programación.\n",
    "1. Diseñar un diagrama de flujo sobre el cual puedan identificarse todas las tareas (funciones) del flujo del procesamiento ETL, desde la extracción hasta la carga.\n",
    "1. Preparar una exposición con resultados de la actividad."
   ]
  }
 ],
 "metadata": {
  "language_info": {
   "name": "python"
  },
  "orig_nbformat": 4
 },
 "nbformat": 4,
 "nbformat_minor": 2
}
