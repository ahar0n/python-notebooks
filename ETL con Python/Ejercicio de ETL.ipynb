{
 "cells": [
  {
   "cell_type": "markdown",
   "metadata": {},
   "source": [
    "# Ejercicio de ETL"
   ]
  },
  {
   "cell_type": "markdown",
   "metadata": {},
   "source": [
    "## Contexto \n",
    "\n",
    "\n",
    "Durante la operación normal de una empresa comercializadora de productos importados, se registran en una base de datos transaccional los pedidos realizados por sus clientes. \n",
    "\n",
    "Para efectos de registrar el historial de sus ventas de la empresa, cada cierto tiempo (no necesarimente a un intervalo regular), en cada sucursal se generan ficheros de datos XML que registran la información de los pedidos de las ventas que se realizaron en dicho periodo. Esto, se realiza para efectos limitar el acceso a información sensible de la empresa y sus clientes.\n",
    "\n",
    "Cada fichero XML almacena el siguiente contenido:\n",
    "\n",
    "- Información del fichero contenida en la etiqueta `<header></header>`\n",
    "- Datos de cada pedido contenidos en la etiqueta `<pedido></pedido>`\n",
    "- Detalles de cada pedidio contenidos en la etiqueta `<pedido><detalle></detalle></pedido>`"
   ]
  },
  {
   "cell_type": "markdown",
   "metadata": {},
   "source": [
    "## Requerimiento\n",
    "\n",
    "Se requiere diseñar e implementar un sistema de procesamiento de datos (ETL), cuyo flujo de trabajo incorpore las siguientes actividades y procesos,\n",
    "\n",
    "- Extraer los datos desde su fuente (fichero XML).\n",
    "- Formatear los datos.\n",
    "- Insertar los datos requeridos de los pedidos en la base de datos __ventas__.\n",
    "- Registrar los resultados del procesamiento en una base de datos denominada __control__, la cual contiene la tabla __proceso__, que mantienen un registro actializado de la ejecución de los procesos de extracción de datos. Esta tabla registrar a lo menos, la identificación de los ficheros procesados, la fecha del procesamiento y el estado del procesamiento, es decir, registrar si los datos se procesaron exitosamente o no."
   ]
  },
  {
   "cell_type": "markdown",
   "metadata": {},
   "source": [
    "<figure>\n",
    "<img src=\"./img/db_ventas.png\" width=\"700px\">\n",
    "<figcaption>Fig. 1 - ERD base de datos <strong>ventas</strong></figcaption>\n",
    "</figure>"
   ]
  },
  {
   "cell_type": "markdown",
   "metadata": {},
   "source": [
    "## Instrucciones\n",
    "\n",
    "1. Formar grupos de 2 estudiantes.\n",
    "1. Implementar en Python las tareas del flujo. Para esto debe usar un enfoque funcional de programación.\n",
    "1. Diseñar un diagrama de flujo sobre el cual puedan identificarse todas las tareas (funciones) del flujo del procesamiento ETL, desde la extracción hasta la carga.\n",
    "1. Preparar una exposición con resultados de la actividad."
   ]
  },
  {
   "cell_type": "markdown",
   "metadata": {},
   "source": [
    "# Solución"
   ]
  },
  {
   "cell_type": "markdown",
   "metadata": {},
   "source": [
    "### Extracción desde XML"
   ]
  },
  {
   "cell_type": "code",
   "execution_count": 93,
   "metadata": {},
   "outputs": [],
   "source": [
    "import xml.etree.ElementTree as ET\n",
    "\n",
    "tree = ET.parse('dataset/registro_pedidos/pedidos_20190101_20190131.xml')\n",
    "raiz = tree.getroot()"
   ]
  },
  {
   "cell_type": "code",
   "execution_count": 94,
   "metadata": {},
   "outputs": [
    {
     "name": "stdout",
     "output_type": "stream",
     "text": [
      "header {}\n",
      "pedido {'id': '23221'}\n",
      "pedido {'id': '23225'}\n"
     ]
    }
   ],
   "source": [
    "for rama in raiz:\n",
    "    print(rama.tag, rama.attrib)"
   ]
  },
  {
   "cell_type": "code",
   "execution_count": 98,
   "metadata": {},
   "outputs": [
    {
     "data": {
      "text/plain": [
       "'23221'"
      ]
     },
     "execution_count": 98,
     "metadata": {},
     "output_type": "execute_result"
    }
   ],
   "source": [
    "raiz[1].attrib['id']"
   ]
  },
  {
   "cell_type": "code",
   "execution_count": 99,
   "metadata": {},
   "outputs": [
    {
     "name": "stdout",
     "output_type": "stream",
     "text": [
      "cliente_id\n",
      "nombre\n",
      "apellido\n",
      "fecha\n",
      "descuento_porcentaje\n",
      "detalles\n"
     ]
    }
   ],
   "source": [
    "for ramita in rama:\n",
    "    print(ramita.tag)"
   ]
  }
 ],
 "metadata": {
  "interpreter": {
   "hash": "9300b50c603133500fc219947e62f5faf64613fb57ce37f4c381d472a37ae169"
  },
  "kernelspec": {
   "display_name": "Python 3.7.11 64-bit ('eda37': conda)",
   "language": "python",
   "name": "python3"
  },
  "language_info": {
   "codemirror_mode": {
    "name": "ipython",
    "version": 3
   },
   "file_extension": ".py",
   "mimetype": "text/x-python",
   "name": "python",
   "nbconvert_exporter": "python",
   "pygments_lexer": "ipython3",
   "version": "3.7.11"
  },
  "orig_nbformat": 4
 },
 "nbformat": 4,
 "nbformat_minor": 2
}
